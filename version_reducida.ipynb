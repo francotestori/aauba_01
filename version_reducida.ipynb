{
  "nbformat": 4,
  "nbformat_minor": 0,
  "metadata": {
    "colab": {
      "name": "version_reducida",
      "provenance": [],
      "collapsed_sections": [
        "-JOyg_GFnQyv"
      ],
      "toc_visible": true,
      "include_colab_link": true
    },
    "kernelspec": {
      "name": "python3",
      "display_name": "Python 3"
    }
  },
  "cells": [
    {
      "cell_type": "markdown",
      "metadata": {
        "id": "view-in-github",
        "colab_type": "text"
      },
      "source": [
        "<a href=\"https://colab.research.google.com/github/francotestori/aauba_01/blob/fede/version_reducida.ipynb\" target=\"_parent\"><img src=\"https://colab.research.google.com/assets/colab-badge.svg\" alt=\"Open In Colab\"/></a>"
      ]
    },
    {
      "cell_type": "markdown",
      "metadata": {
        "id": "RVZwUPgjLVof",
        "colab_type": "text"
      },
      "source": [
        "# Aprendizaje Automático\n",
        "\n",
        "El objetivo de este trabajo práctico es el desarrollo de una solución que permita predecir la cancelación de una reserva utilizando como dataset el archivo provisto por la catedra ***'hotel_bookins.csv'***."
      ]
    },
    {
      "cell_type": "code",
      "metadata": {
        "id": "pEJF2ExIS-lM",
        "colab_type": "code",
        "colab": {}
      },
      "source": [
        "# Cargar el archivo original de bookings\n",
        "!wget https://raw.githubusercontent.com/francotestori/aauba_01/master/resources/hotel_bookings.csv"
      ],
      "execution_count": 0,
      "outputs": []
    },
    {
      "cell_type": "code",
      "metadata": {
        "id": "3qChNrjOeLtU",
        "colab_type": "code",
        "colab": {}
      },
      "source": [
        "from info_gain import info_gain\n",
        "import seaborn as sns\n",
        "import matplotlib.pyplot as plt\n",
        "import pandas as pd\n",
        "from datetime import date, datetime\n",
        "from sklearn import tree\n",
        "from sklearn.tree import plot_tree\n",
        "from sklearn.metrics import accuracy_score, precision_score, recall_score, f1_score\n",
        "from sklearn.model_selection import train_test_split\n",
        "from sklearn.tree import DecisionTreeClassifier"
      ],
      "execution_count": 0,
      "outputs": []
    },
    {
      "cell_type": "code",
      "metadata": {
        "id": "oW-x3hPsJje1",
        "colab_type": "code",
        "colab": {}
      },
      "source": [
        "pd.set_option('display.max_columns', 35)\n",
        "pd.set_option('display.max_rows', 500)\n",
        "pd.set_option('display.width', 10000)\n",
        "\n",
        "bookings_df = pd.read_csv('hotel_bookings.csv')"
      ],
      "execution_count": 0,
      "outputs": []
    },
    {
      "cell_type": "markdown",
      "metadata": {
        "id": "BRK6Pu8Efatk",
        "colab_type": "text"
      },
      "source": [
        "## a. División en grupos y cuantificación de categorías\n",
        "\n",
        "---"
      ]
    },
    {
      "cell_type": "code",
      "metadata": {
        "id": "PGtUgzFiftB7",
        "colab_type": "code",
        "colab": {
          "base_uri": "https://localhost:8080/",
          "height": 105
        },
        "outputId": "34d6562a-8870-40c5-c29c-202c9c43bea5"
      },
      "source": [
        "columnas_categoricas = [\n",
        "  'hotel', \n",
        "  'is_canceled', \n",
        "  'meal', \n",
        "  'country', \n",
        "  'market_segment', \n",
        "  'distribution_channel', \n",
        "  'is_repeated_guest', \n",
        "  'deposit_type', \n",
        "  'agent', \n",
        "  'company', \n",
        "  'customer_type', \n",
        "  'reservation_status',\n",
        "  'arrival_date_month'\n",
        "]\n",
        "df_categoricas = bookings_df[columnas_categoricas]\n",
        "\n",
        "columnas_numericas = [\n",
        "    'lead_time',  \n",
        "    'arrival_date_week_number', \n",
        "    'stays_in_weekend_nights', \n",
        "    'stays_in_weekend_nights', \n",
        "    'adults', \n",
        "    'children', \n",
        "    'babies', \n",
        "    'previous_cancellations', \n",
        "    'previous_bookings_not_canceled', \n",
        "    'booking_changes', \n",
        "    'days_in_waiting_list', \n",
        "    'adr', \n",
        "    'required_car_parking_spaces', \n",
        "    'total_of_special_requests'                      \n",
        "]\n",
        "df_numericas = bookings_df[columnas_numericas]\n",
        "\n",
        "columnas_ordinales = [\n",
        "       'reserved_room_type', \n",
        "       'assigned_room_type'               \n",
        "]\n",
        "df_ordinales = bookings_df[columnas_ordinales]\n",
        "df_ordinales\n",
        "\n",
        "def get_month_number(month):\n",
        "  if month == \"January\":\n",
        "    return 1\n",
        "  elif month == \"February\":\n",
        "    return 2   \n",
        "  elif month == \"March\":\n",
        "    return 3   \n",
        "  elif month == \"April\":\n",
        "    return 4   \n",
        "  elif month == \"May\":\n",
        "    return 5   \n",
        "  elif month == \"June\":\n",
        "    return 6   \n",
        "  elif month == \"July\":\n",
        "    return 7   \n",
        "  elif month == \"August\":\n",
        "    return 8   \n",
        "  elif month == \"September\":\n",
        "    return 9   \n",
        "  elif month == \"October\":\n",
        "    return 10\n",
        "  elif month == \"November\":\n",
        "    return 11   \n",
        "  elif month == \"December\":\n",
        "    return 12\n",
        "  else:\n",
        "    return 0     \n",
        "\n",
        "def checkin(year, month_str, day):\n",
        "  month = get_month_number(month_str)\n",
        "  return date(year, month, day)\n",
        "\n",
        "columnas_fecha_hora = [\n",
        "  'arrival_date_month', \n",
        "  'arrival_date_year',\n",
        "  'arrival_date_day_of_month',   \n",
        "  'reservation_status_date'               \n",
        "]\n",
        "df_fecha_hora = bookings_df[columnas_fecha_hora]\n",
        "df_fecha_hora['checkin_date'] = df_fecha_hora.apply(\n",
        "    lambda x: checkin(x['arrival_date_year'], x['arrival_date_month'], x['arrival_date_day_of_month']),\n",
        "    axis=1\n",
        ")"
      ],
      "execution_count": 14,
      "outputs": [
        {
          "output_type": "stream",
          "text": [
            "/usr/local/lib/python3.6/dist-packages/ipykernel_launcher.py:84: SettingWithCopyWarning: \n",
            "A value is trying to be set on a copy of a slice from a DataFrame.\n",
            "Try using .loc[row_indexer,col_indexer] = value instead\n",
            "\n",
            "See the caveats in the documentation: https://pandas.pydata.org/pandas-docs/stable/user_guide/indexing.html#returning-a-view-versus-a-copy\n"
          ],
          "name": "stderr"
        }
      ]
    },
    {
      "cell_type": "markdown",
      "metadata": {
        "id": "045DUtyKjNGe",
        "colab_type": "text"
      },
      "source": [
        "## b. Valores faltantes"
      ]
    },
    {
      "cell_type": "code",
      "metadata": {
        "id": "Oa3XrqTXq2BR",
        "colab_type": "code",
        "colab": {}
      },
      "source": [
        "# Haciendo un análisis simple identificamos los valores nulos ya establecidos en el dataframe\n",
        "null_series = bookings_df.isnull().sum()\n",
        "\n",
        "# Haciendo un análisis inicial contamos con faltantes en los siguientes atributos:\n",
        "# * **children**: Son muy pocos casos, 4. \n",
        "# * **country**: Pocos casos sería posible con alguna medida de cercanía.\n",
        "# * **agent**: Relativamente grande número de faltantes, 15%.\n",
        "# * **company**: Número demasiado grande de faltantes, aprox 90%.\n",
        "\n",
        "# Sin embargo, conocemos que hay otros campos que podrian poseer valores que analogamente representan un valor nulo. Por lo que para esos imputaremos las modas\n",
        "\n",
        "# Relleno por el valor mas frecuente (moda)\n",
        "bookings_df['meal'].fillna(\"BB\", inplace = True)\n",
        "bookings_df['children'].fillna(0.0, inplace = True)\n",
        "bookings_df['market_segment'].fillna('Online TA', inplace = True)\n",
        "bookings_df['distribution_channel'].fillna('TA/TO', inplace = True)\n",
        "\n",
        "# Asigno un desconocido\n",
        "bookings_df['country'].fillna('XXX', inplace = True)\n",
        "\n",
        "# Utilizo un valor dummy (máscara) para la presencia de agent y company\n",
        "bookings_df['agent'] = bookings_df['agent'].isnull()\n",
        "bookings_df['company'] = bookings_df['company'].isnull()"
      ],
      "execution_count": 0,
      "outputs": []
    },
    {
      "cell_type": "markdown",
      "metadata": {
        "id": "U_jnzmswpWVQ",
        "colab_type": "text"
      },
      "source": [
        "## c. Análisis de duplicados"
      ]
    },
    {
      "cell_type": "markdown",
      "metadata": {
        "id": "BNSQh9drpafO",
        "colab_type": "text"
      },
      "source": [
        "Vamos a analizar si hay reservas duplicadas en nuestro dataframe"
      ]
    },
    {
      "cell_type": "code",
      "metadata": {
        "id": "HXRfFyrDphUZ",
        "colab_type": "code",
        "colab": {}
      },
      "source": [
        "duplicated = bookings_df[bookings_df.duplicated()]\n",
        "\n",
        "# Analizamos el porcentaje de duplicados en base a nuestra muestra\n",
        "duplicated_ratio = len(duplicated)/len(bookings_df)\n",
        "\n",
        "# Por elementos **duplicados** entendemos que todas las features de dos filas son identicos.\n",
        "\n",
        "# Entonces sospechabamos que podría haber casos de una misma reserva que se referenciaba 2 o mas veces en nuestro dataframe.\n",
        "\n",
        "# Sin embargo y evaluando el peso de los duplicados en nuestro dataframe (26%), entendemos simplemente que son reservas distintas pero con las mismas características."
      ],
      "execution_count": 0,
      "outputs": []
    },
    {
      "cell_type": "markdown",
      "metadata": {
        "id": "JDMRO3KUkNaB",
        "colab_type": "text"
      },
      "source": [
        "## c. Variables correlacionadas\n"
      ]
    },
    {
      "cell_type": "code",
      "metadata": {
        "id": "jJFobHFhlR11",
        "colab_type": "code",
        "outputId": "83cca27f-3e78-42f6-9c26-802b93133d8a",
        "colab": {
          "base_uri": "https://localhost:8080/",
          "height": 550
        }
      },
      "source": [
        "corr = bookings_df.corr()\n",
        "\n",
        "# Las cuatro variables más correlacionadas son:\n",
        "\n",
        "# * **lead_time**                      0.293123\n",
        "# * **total_of_special_requests**      0.234658\n",
        "# * **required_car_parking_spaces**    0.195498\n",
        "# * **booking_changes**                0.144381\n",
        "\n",
        "# PUNTO DE DUDA: CÓMO ELEGIMOS LAS CUATRO MÁS CORRELACIONADAS\n",
        "\n",
        "# Más allá de la forma, transformamos las variables para que quede un dataset con todas variables en números\n",
        "\n",
        "# FUNCIONES AUXILIARES\n",
        "def quantify_room_type(room_type):\n",
        "    if room_type == 'A':\n",
        "        return 1\n",
        "    elif room_type == 'B':\n",
        "        return 2\n",
        "    elif room_type == 'C':\n",
        "        return 3\n",
        "    elif room_type == 'D':\n",
        "        return 4\n",
        "    elif room_type == 'E':\n",
        "        return 5\n",
        "    elif room_type == 'F':\n",
        "        return 6\n",
        "    elif room_type == 'G':\n",
        "        return 7\n",
        "    elif room_type == 'H':\n",
        "        return 8\n",
        "    elif room_type == 'I':\n",
        "        return 9\n",
        "    elif room_type == 'K':\n",
        "        return 10\n",
        "    elif room_type == 'L':\n",
        "        return 11\n",
        "    elif room_type == 'P':\n",
        "        return 12\n",
        "    else:\n",
        "        return 0\n",
        "\n",
        "def room_matches(this_room, other_room):\n",
        "  match = this_room.lower().replace('s/+',\"\") == other_room.lower().replace('s/+',\"\")\n",
        "  if(match):\n",
        "    return 1\n",
        "  else:\n",
        "    return 0\n",
        "\n",
        "# CATEGÓRICAS\n",
        "columnas_categoricas = [\n",
        "  'hotel', \n",
        "  'is_canceled', \n",
        "  'meal', \n",
        "  'country', \n",
        "  'market_segment', \n",
        "  'distribution_channel', \n",
        "  'is_repeated_guest', \n",
        "  'deposit_type', \n",
        "  'agent', \n",
        "  'company', \n",
        "  'customer_type', \n",
        "  'reservation_status',\n",
        "  'arrival_date_month'\n",
        "]\n",
        "df_categoricas = bookings_df[columnas_categoricas]\n",
        "\n",
        "min_dummy = len(df_categoricas)*0.005  # Mínimo de frecuencia para incluir la columna: 0.5% del total\n",
        "df_categoricas['has_agent'] = bookings_df['agent'].isnull().astype(int)\n",
        "df_categoricas['has_company'] = bookings_df['company'].isnull().astype(int)\n",
        "dummies_cat = pd.get_dummies(\n",
        "    df_categoricas, \n",
        "    columns=[\n",
        "      'hotel',       \n",
        "      'market_segment', \n",
        "      'meal', \n",
        "      'is_repeated_guest', \n",
        "      'deposit_type', \n",
        "      'customer_type' \n",
        "    ], \n",
        "    drop_first=False\n",
        ")\n",
        "dummies_cat = dummies_cat.iloc[:, 8:]\n",
        "corr_cat = dummies_cat[dummies_cat.columns[dummies_cat.sum()>min_dummy]]\n",
        "\n",
        "# ORDINALES\n",
        "columnas_ordinales = [\n",
        "       'reserved_room_type', \n",
        "       'assigned_room_type'               \n",
        "]\n",
        "df_ordinales = bookings_df[columnas_ordinales]\n",
        "df_ordinales['assigned_room_vl'] = df_ordinales.apply(lambda x: quantify_room_type(x['assigned_room_type']), axis=1)\n",
        "df_ordinales['requested_room_vl'] = df_ordinales.apply(lambda x: quantify_room_type(x['reserved_room_type']), axis=1)\n",
        "df_ordinales['did_room_match'] = df_ordinales.apply(lambda x: room_matches(x['reserved_room_type'],x['assigned_room_type']), axis=1)\n",
        "df_ordinales['booker_room_gain'] = df_ordinales.apply(lambda x: x['assigned_room_vl'] - x['requested_room_vl'], axis=1)\n",
        "corr_ord = df_ordinales[['assigned_room_vl', 'requested_room_vl','did_room_match', 'booker_room_gain']]\n",
        "\n",
        "# NUMERICAS\n",
        "columnas_numericas = [\n",
        "    'lead_time',  \n",
        "    'arrival_date_week_number', \n",
        "    'stays_in_weekend_nights', \n",
        "    'stays_in_weekend_nights', \n",
        "    'adults', \n",
        "    'children', \n",
        "    'babies', \n",
        "    'previous_cancellations', \n",
        "    'previous_bookings_not_canceled', \n",
        "    'booking_changes', \n",
        "    'days_in_waiting_list', \n",
        "    'adr', \n",
        "    'required_car_parking_spaces', \n",
        "    'total_of_special_requests'                      \n",
        "]\n",
        "df_numericas = bookings_df[columnas_numericas]\n",
        "\n",
        "corr_num = df_numericas\n",
        "\n",
        "# UNION\n",
        "df_correlations = pd.concat([corr_num,corr_ord,corr_cat],axis=1) # EN CUALQUIER CASO HAY QUE TERMINAR CON ESTE DATASET DF_CORRELATIONS QUE UNA TODO CON TODO\n",
        "df_correlations.loc[:,'is_canceled'] = df_categoricas['is_canceled'] \n",
        "corr = df_correlations[df_correlations.columns].corr()['is_canceled'][:-1] \n",
        "\n",
        "# RESTARÍA DEFINIR CÓMO ELEGIMOS LAS CUATRO MÁS CORRELACIONADAS, QUE SERÁ EN FUNCIÓN DE LO QUE DEFINIMOS PARA LAS CORRELACIONES"
      ],
      "execution_count": 17,
      "outputs": [
        {
          "output_type": "stream",
          "text": [
            "/usr/local/lib/python3.6/dist-packages/ipykernel_launcher.py:69: SettingWithCopyWarning: \n",
            "A value is trying to be set on a copy of a slice from a DataFrame.\n",
            "Try using .loc[row_indexer,col_indexer] = value instead\n",
            "\n",
            "See the caveats in the documentation: https://pandas.pydata.org/pandas-docs/stable/user_guide/indexing.html#returning-a-view-versus-a-copy\n",
            "/usr/local/lib/python3.6/dist-packages/ipykernel_launcher.py:70: SettingWithCopyWarning: \n",
            "A value is trying to be set on a copy of a slice from a DataFrame.\n",
            "Try using .loc[row_indexer,col_indexer] = value instead\n",
            "\n",
            "See the caveats in the documentation: https://pandas.pydata.org/pandas-docs/stable/user_guide/indexing.html#returning-a-view-versus-a-copy\n",
            "/usr/local/lib/python3.6/dist-packages/ipykernel_launcher.py:92: SettingWithCopyWarning: \n",
            "A value is trying to be set on a copy of a slice from a DataFrame.\n",
            "Try using .loc[row_indexer,col_indexer] = value instead\n",
            "\n",
            "See the caveats in the documentation: https://pandas.pydata.org/pandas-docs/stable/user_guide/indexing.html#returning-a-view-versus-a-copy\n",
            "/usr/local/lib/python3.6/dist-packages/ipykernel_launcher.py:93: SettingWithCopyWarning: \n",
            "A value is trying to be set on a copy of a slice from a DataFrame.\n",
            "Try using .loc[row_indexer,col_indexer] = value instead\n",
            "\n",
            "See the caveats in the documentation: https://pandas.pydata.org/pandas-docs/stable/user_guide/indexing.html#returning-a-view-versus-a-copy\n",
            "/usr/local/lib/python3.6/dist-packages/ipykernel_launcher.py:94: SettingWithCopyWarning: \n",
            "A value is trying to be set on a copy of a slice from a DataFrame.\n",
            "Try using .loc[row_indexer,col_indexer] = value instead\n",
            "\n",
            "See the caveats in the documentation: https://pandas.pydata.org/pandas-docs/stable/user_guide/indexing.html#returning-a-view-versus-a-copy\n",
            "/usr/local/lib/python3.6/dist-packages/ipykernel_launcher.py:95: SettingWithCopyWarning: \n",
            "A value is trying to be set on a copy of a slice from a DataFrame.\n",
            "Try using .loc[row_indexer,col_indexer] = value instead\n",
            "\n",
            "See the caveats in the documentation: https://pandas.pydata.org/pandas-docs/stable/user_guide/indexing.html#returning-a-view-versus-a-copy\n"
          ],
          "name": "stderr"
        }
      ]
    },
    {
      "cell_type": "markdown",
      "metadata": {
        "id": "p1NdKHJCoF2s",
        "colab_type": "text"
      },
      "source": [
        "## e. Se encuentra balanceado el set"
      ]
    },
    {
      "cell_type": "code",
      "metadata": {
        "id": "v7Us_OjBV0xU",
        "colab_type": "code",
        "outputId": "297bb484-c7cc-4db3-9f0b-a81004b00002",
        "colab": {
          "base_uri": "https://localhost:8080/",
          "height": 70
        }
      },
      "source": [
        "# Buscamos conocer que tan balanceado está nuestro dataset\n",
        "bookings_df['is_canceled'].value_counts(normalize=True)"
      ],
      "execution_count": 18,
      "outputs": [
        {
          "output_type": "execute_result",
          "data": {
            "text/plain": [
              "0    0.629584\n",
              "1    0.370416\n",
              "Name: is_canceled, dtype: float64"
            ]
          },
          "metadata": {
            "tags": []
          },
          "execution_count": 18
        }
      ]
    },
    {
      "cell_type": "markdown",
      "metadata": {
        "id": "xNM8u6B4qWQg",
        "colab_type": "text"
      },
      "source": [
        "## g. Implementación Árbol de decisión"
      ]
    },
    {
      "cell_type": "code",
      "metadata": {
        "id": "tRwXoRN2WTTH",
        "colab_type": "code",
        "colab": {
          "base_uri": "https://localhost:8080/",
          "height": 513
        },
        "outputId": "bb1b81af-7cd6-4c0e-efdb-d5d5670eeee9"
      },
      "source": [
        "#Con sklearn podemos dividir nuestros datos en conjuntos de entrenamiento, validación y prueba.\n",
        "# Para el análisis deberiamos utilizar un DF con las variables dummies cargadas\n",
        "# Lo unico que tengo dudas es si en features no hay que dropear la columna 'is_canceled'\n",
        "features =  df_correlations.loc[:, df_correlations.columns != 'is_canceled'].columns\n",
        "target = 'is_canceled'\n",
        "\n",
        "# Armamos 2 sets de datos\n",
        "x_train, x_test, y_train, y_test = train_test_split(\n",
        "    df_correlations[features].values, \n",
        "    df_correlations[target].values, \n",
        "    test_size=0.2, \n",
        "    random_state=42\n",
        ")                           # DIVIDO ENTRE TRAIN (0.8) Y TEST (0.2)\n",
        "\n",
        "x_val, x_test, y_val, y_test = train_test_split(\n",
        "    x_test,\n",
        "    y_test,\n",
        "    test_size=0.2\n",
        ")                           # DIVIDO ENTRE TRAIN (0.8), TEST (0.04), Y VAL (0.16)\n",
        "\n",
        "n_seeds = 50\n",
        "accs = []\n",
        "precisions = []\n",
        "recalls = []\n",
        "f1s = []\n",
        "\n",
        "for seed in range(n_seeds):\n",
        "  # Arbol de decisión\n",
        "  arbol_sklearn = DecisionTreeClassifier(\n",
        "      criterion='entropy',\n",
        "      max_depth=5,\n",
        "      min_samples_leaf=10, \n",
        "      ccp_alpha=0.01\n",
        "  )\n",
        "  # División train-validation (requiere x_train y y_train previos)\n",
        "  x_train_, x_val_, y_train_, y_val_ = train_test_split(\n",
        "      x_train, \n",
        "      y_train, \n",
        "      test_size=0.2, \n",
        "      random_state=seed,\n",
        "      stratify=y_train\n",
        "  )                                           # DIVIDO ENTRE TRAIN-train_ (0.64), TRAIN-val_ (0.16), TEST (0.04), Y VAL (0.16)\n",
        "\n",
        "  # Entrenamos al arbol\n",
        "  arbol_sklearn.fit(x_train_,y_train_)\n",
        "\n",
        "  # Ejecutamos nuestra predicción\n",
        "  y_pred_val = arbol_sklearn.predict(x_val_)\n",
        "\n",
        "  # Medimos (accuracy, precision, recall y f1Score) de nuestra predicción\n",
        "  accs.append(accuracy_score(y_val_,y_pred_val))\n",
        "  precisions.append(precision_score(y_val_,y_pred_val))\n",
        "  recalls.append(recall_score(y_val_,y_pred_val))\n",
        "  f1s.append(f1_score(y_val_,y_pred_val))\n",
        "\n",
        "all_metrics = accs + precisions + recalls + f1s\n",
        "metric_labels = ['Accuracy']*len(accs) + ['Precision']*len(precisions) + ['Recall']*len(recalls) + ['F1 Score']*len(f1s)\n",
        "\n",
        "sns.set_context('talk')\n",
        "plt.figure(figsize=(15,8))\n",
        "sns.boxplot(metric_labels,all_metrics)"
      ],
      "execution_count": 19,
      "outputs": [
        {
          "output_type": "execute_result",
          "data": {
            "text/plain": [
              "<matplotlib.axes._subplots.AxesSubplot at 0x7f93c9481c18>"
            ]
          },
          "metadata": {
            "tags": []
          },
          "execution_count": 19
        },
        {
          "output_type": "display_data",
          "data": {
            "image/png": "[encoded data removed]",
            "text/plain": [
              "<Figure size 1080x576 with 1 Axes>"
            ]
          },
          "metadata": {
            "tags": [],
            "needs_background": "light"
          }
        }
      ]
    },
    {
      "cell_type": "code",
      "metadata": {
        "id": "4K7LvZ4g7q5N",
        "colab_type": "code",
        "colab": {}
      },
      "source": [
        "# GRÁFICA DEL ÁRBOL\n",
        "plt.figure(figsize=(20,10))\n",
        "plot_tree(arbol_sklearn,filled=True);"
      ],
      "execution_count": 0,
      "outputs": []
    }
  ]
}