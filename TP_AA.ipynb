{
  "nbformat": 4,
  "nbformat_minor": 0,
  "metadata": {
    "colab": {
      "name": "TP AA",
      "provenance": [],
      "authorship_tag": "ABX9TyNzBaucl8jcbrWZr1I22QaD",
      "include_colab_link": true
    },
    "kernelspec": {
      "name": "python3",
      "display_name": "Python 3"
    }
  },
  "cells": [
    {
      "cell_type": "markdown",
      "metadata": {
        "id": "view-in-github",
        "colab_type": "text"
      },
      "source": [
        "<a href=\"https://colab.research.google.com/github/francotestori/aauba_01/blob/fede/TP_AA.ipynb\" target=\"_parent\"><img src=\"https://colab.research.google.com/assets/colab-badge.svg\" alt=\"Open In Colab\"/></a>"
      ]
    },
    {
      "cell_type": "code",
      "metadata": {
        "id": "WT5TcdK56kic",
        "colab_type": "code",
        "outputId": "4031bd53-fb17-423a-f22c-1f72465e6998",
        "colab": {
          "base_uri": "https://localhost:8080/",
          "height": 204
        }
      },
      "source": [
        "!wget https://raw.githubusercontent.com/francotestori/aauba_01/master/resources/hotel_bookings.csv"
      ],
      "execution_count": 0,
      "outputs": [
        {
          "output_type": "stream",
          "text": [
            "--2020-05-25 13:05:16--  https://raw.githubusercontent.com/francotestori/aauba_01/master/resources/hotel_bookings.csv\n",
            "Resolving raw.githubusercontent.com (raw.githubusercontent.com)... 151.101.0.133, 151.101.64.133, 151.101.128.133, ...\n",
            "Connecting to raw.githubusercontent.com (raw.githubusercontent.com)|151.101.0.133|:443... connected.\n",
            "HTTP request sent, awaiting response... 200 OK\n",
            "Length: 16855599 (16M) [text/plain]\n",
            "Saving to: ‘hotel_bookings.csv’\n",
            "\n",
            "hotel_bookings.csv  100%[===================>]  16.07M  26.7MB/s    in 0.6s    \n",
            "\n",
            "2020-05-25 13:05:17 (26.7 MB/s) - ‘hotel_bookings.csv’ saved [16855599/16855599]\n",
            "\n"
          ],
          "name": "stdout"
        }
      ]
    },
    {
      "cell_type": "code",
      "metadata": {
        "id": "8sPt1WZFZphu",
        "colab_type": "code",
        "colab": {}
      },
      "source": [
        "import pandas as pd\n",
        "pd.set_option('display.max_columns', 35)\n",
        "pd.set_option('display.max_rows', 500)\n",
        "pd.set_option('display.width', 10000)\n",
        "df = pd.read_csv(\"hotel_bookings.csv\") "
      ],
      "execution_count": 0,
      "outputs": []
    },
    {
      "cell_type": "markdown",
      "metadata": {
        "id": "xq0wh2il9SYd",
        "colab_type": "text"
      },
      "source": [
        "## a. Descripción de los atributos"
      ]
    },
    {
      "cell_type": "markdown",
      "metadata": {
        "id": "SoSQSoXa9VbV",
        "colab_type": "text"
      },
      "source": [
        "### a.i. Campos categóricos"
      ]
    },
    {
      "cell_type": "markdown",
      "metadata": {
        "id": "_EX81L7W9bDq",
        "colab_type": "text"
      },
      "source": [
        "Pertenecen a este grupo los campos numéricos o no cuyos valores representen categorías en las que la reserva de hoteles se asignará, siempre y cuando estas categorías no puedan ordenarse en forma inmediata. Pertenecen a este grupo los campos que pueden tomar valores 0 y 1, entre otros. Se agregan también el campo AÑO y el campo MES, para que no tomen valores numéricos."
      ]
    },
    {
      "cell_type": "code",
      "metadata": {
        "id": "YxJ37XXP9sqf",
        "colab_type": "code",
        "outputId": "be8a2e61-bb3f-485e-e08d-3421036978fe",
        "colab": {
          "base_uri": "https://localhost:8080/",
          "height": 609
        }
      },
      "source": [
        "df_categoricas = df[['hotel', 'is_canceled', 'meal', 'country', 'market_segment', 'distribution_channel', 'is_repeated_guest', 'deposit_type', 'agent', 'company', 'customer_type', 'reservation_status', 'arrival_date_month', 'arrival_date_year']]\n",
        "df_categoricas"
      ],
      "execution_count": 0,
      "outputs": [
        {
          "output_type": "execute_result",
          "data": {
            "text/html": [
              "<div>\n",
              "<style scoped>\n",
              "    .dataframe tbody tr th:only-of-type {\n",
              "        vertical-align: middle;\n",
              "    }\n",
              "\n",
              "    .dataframe tbody tr th {\n",
              "        vertical-align: top;\n",
              "    }\n",
              "\n",
              "    .dataframe thead th {\n",
              "        text-align: right;\n",
              "    }\n",
              "</style>\n",
              "<table border=\"1\" class=\"dataframe\">\n",
              "  <thead>\n",
              "    <tr style=\"text-align: right;\">\n",
              "      <th></th>\n",
              "      <th>hotel</th>\n",
              "      <th>is_canceled</th>\n",
              "      <th>meal</th>\n",
              "      <th>country</th>\n",
              "      <th>market_segment</th>\n",
              "      <th>distribution_channel</th>\n",
              "      <th>is_repeated_guest</th>\n",
              "      <th>deposit_type</th>\n",
              "      <th>agent</th>\n",
              "      <th>company</th>\n",
              "      <th>customer_type</th>\n",
              "      <th>reservation_status</th>\n",
              "      <th>arrival_date_month</th>\n",
              "      <th>arrival_date_year</th>\n",
              "    </tr>\n",
              "  </thead>\n",
              "  <tbody>\n",
              "    <tr>\n",
              "      <th>0</th>\n",
              "      <td>Resort Hotel</td>\n",
              "      <td>0</td>\n",
              "      <td>BB</td>\n",
              "      <td>PRT</td>\n",
              "      <td>Direct</td>\n",
              "      <td>Direct</td>\n",
              "      <td>0</td>\n",
              "      <td>No Deposit</td>\n",
              "      <td>NaN</td>\n",
              "      <td>NaN</td>\n",
              "      <td>Transient</td>\n",
              "      <td>Check-Out</td>\n",
              "      <td>July</td>\n",
              "      <td>2015</td>\n",
              "    </tr>\n",
              "    <tr>\n",
              "      <th>1</th>\n",
              "      <td>Resort Hotel</td>\n",
              "      <td>0</td>\n",
              "      <td>BB</td>\n",
              "      <td>PRT</td>\n",
              "      <td>Direct</td>\n",
              "      <td>Direct</td>\n",
              "      <td>0</td>\n",
              "      <td>No Deposit</td>\n",
              "      <td>NaN</td>\n",
              "      <td>NaN</td>\n",
              "      <td>Transient</td>\n",
              "      <td>Check-Out</td>\n",
              "      <td>July</td>\n",
              "      <td>2015</td>\n",
              "    </tr>\n",
              "    <tr>\n",
              "      <th>2</th>\n",
              "      <td>Resort Hotel</td>\n",
              "      <td>0</td>\n",
              "      <td>BB</td>\n",
              "      <td>GBR</td>\n",
              "      <td>Direct</td>\n",
              "      <td>Direct</td>\n",
              "      <td>0</td>\n",
              "      <td>No Deposit</td>\n",
              "      <td>NaN</td>\n",
              "      <td>NaN</td>\n",
              "      <td>Transient</td>\n",
              "      <td>Check-Out</td>\n",
              "      <td>July</td>\n",
              "      <td>2015</td>\n",
              "    </tr>\n",
              "    <tr>\n",
              "      <th>3</th>\n",
              "      <td>Resort Hotel</td>\n",
              "      <td>0</td>\n",
              "      <td>BB</td>\n",
              "      <td>GBR</td>\n",
              "      <td>Corporate</td>\n",
              "      <td>Corporate</td>\n",
              "      <td>0</td>\n",
              "      <td>No Deposit</td>\n",
              "      <td>304.0</td>\n",
              "      <td>NaN</td>\n",
              "      <td>Transient</td>\n",
              "      <td>Check-Out</td>\n",
              "      <td>July</td>\n",
              "      <td>2015</td>\n",
              "    </tr>\n",
              "    <tr>\n",
              "      <th>4</th>\n",
              "      <td>Resort Hotel</td>\n",
              "      <td>0</td>\n",
              "      <td>BB</td>\n",
              "      <td>GBR</td>\n",
              "      <td>Online TA</td>\n",
              "      <td>TA/TO</td>\n",
              "      <td>0</td>\n",
              "      <td>No Deposit</td>\n",
              "      <td>240.0</td>\n",
              "      <td>NaN</td>\n",
              "      <td>Transient</td>\n",
              "      <td>Check-Out</td>\n",
              "      <td>July</td>\n",
              "      <td>2015</td>\n",
              "    </tr>\n",
              "    <tr>\n",
              "      <th>...</th>\n",
              "      <td>...</td>\n",
              "      <td>...</td>\n",
              "      <td>...</td>\n",
              "      <td>...</td>\n",
              "      <td>...</td>\n",
              "      <td>...</td>\n",
              "      <td>...</td>\n",
              "      <td>...</td>\n",
              "      <td>...</td>\n",
              "      <td>...</td>\n",
              "      <td>...</td>\n",
              "      <td>...</td>\n",
              "      <td>...</td>\n",
              "      <td>...</td>\n",
              "    </tr>\n",
              "    <tr>\n",
              "      <th>119385</th>\n",
              "      <td>City Hotel</td>\n",
              "      <td>0</td>\n",
              "      <td>BB</td>\n",
              "      <td>BEL</td>\n",
              "      <td>Offline TA/TO</td>\n",
              "      <td>TA/TO</td>\n",
              "      <td>0</td>\n",
              "      <td>No Deposit</td>\n",
              "      <td>394.0</td>\n",
              "      <td>NaN</td>\n",
              "      <td>Transient</td>\n",
              "      <td>Check-Out</td>\n",
              "      <td>August</td>\n",
              "      <td>2017</td>\n",
              "    </tr>\n",
              "    <tr>\n",
              "      <th>119386</th>\n",
              "      <td>City Hotel</td>\n",
              "      <td>0</td>\n",
              "      <td>BB</td>\n",
              "      <td>FRA</td>\n",
              "      <td>Online TA</td>\n",
              "      <td>TA/TO</td>\n",
              "      <td>0</td>\n",
              "      <td>No Deposit</td>\n",
              "      <td>9.0</td>\n",
              "      <td>NaN</td>\n",
              "      <td>Transient</td>\n",
              "      <td>Check-Out</td>\n",
              "      <td>August</td>\n",
              "      <td>2017</td>\n",
              "    </tr>\n",
              "    <tr>\n",
              "      <th>119387</th>\n",
              "      <td>City Hotel</td>\n",
              "      <td>0</td>\n",
              "      <td>BB</td>\n",
              "      <td>DEU</td>\n",
              "      <td>Online TA</td>\n",
              "      <td>TA/TO</td>\n",
              "      <td>0</td>\n",
              "      <td>No Deposit</td>\n",
              "      <td>9.0</td>\n",
              "      <td>NaN</td>\n",
              "      <td>Transient</td>\n",
              "      <td>Check-Out</td>\n",
              "      <td>August</td>\n",
              "      <td>2017</td>\n",
              "    </tr>\n",
              "    <tr>\n",
              "      <th>119388</th>\n",
              "      <td>City Hotel</td>\n",
              "      <td>0</td>\n",
              "      <td>BB</td>\n",
              "      <td>GBR</td>\n",
              "      <td>Online TA</td>\n",
              "      <td>TA/TO</td>\n",
              "      <td>0</td>\n",
              "      <td>No Deposit</td>\n",
              "      <td>89.0</td>\n",
              "      <td>NaN</td>\n",
              "      <td>Transient</td>\n",
              "      <td>Check-Out</td>\n",
              "      <td>August</td>\n",
              "      <td>2017</td>\n",
              "    </tr>\n",
              "    <tr>\n",
              "      <th>119389</th>\n",
              "      <td>City Hotel</td>\n",
              "      <td>0</td>\n",
              "      <td>HB</td>\n",
              "      <td>DEU</td>\n",
              "      <td>Online TA</td>\n",
              "      <td>TA/TO</td>\n",
              "      <td>0</td>\n",
              "      <td>No Deposit</td>\n",
              "      <td>9.0</td>\n",
              "      <td>NaN</td>\n",
              "      <td>Transient</td>\n",
              "      <td>Check-Out</td>\n",
              "      <td>August</td>\n",
              "      <td>2017</td>\n",
              "    </tr>\n",
              "  </tbody>\n",
              "</table>\n",
              "<p>119390 rows × 14 columns</p>\n",
              "</div>"
            ],
            "text/plain": [
              "               hotel  is_canceled meal country market_segment distribution_channel  is_repeated_guest deposit_type  agent  company customer_type reservation_status arrival_date_month  arrival_date_year\n",
              "0       Resort Hotel            0   BB     PRT         Direct               Direct                  0   No Deposit    NaN      NaN     Transient          Check-Out               July               2015\n",
              "1       Resort Hotel            0   BB     PRT         Direct               Direct                  0   No Deposit    NaN      NaN     Transient          Check-Out               July               2015\n",
              "2       Resort Hotel            0   BB     GBR         Direct               Direct                  0   No Deposit    NaN      NaN     Transient          Check-Out               July               2015\n",
              "3       Resort Hotel            0   BB     GBR      Corporate            Corporate                  0   No Deposit  304.0      NaN     Transient          Check-Out               July               2015\n",
              "4       Resort Hotel            0   BB     GBR      Online TA                TA/TO                  0   No Deposit  240.0      NaN     Transient          Check-Out               July               2015\n",
              "...              ...          ...  ...     ...            ...                  ...                ...          ...    ...      ...           ...                ...                ...                ...\n",
              "119385    City Hotel            0   BB     BEL  Offline TA/TO                TA/TO                  0   No Deposit  394.0      NaN     Transient          Check-Out             August               2017\n",
              "119386    City Hotel            0   BB     FRA      Online TA                TA/TO                  0   No Deposit    9.0      NaN     Transient          Check-Out             August               2017\n",
              "119387    City Hotel            0   BB     DEU      Online TA                TA/TO                  0   No Deposit    9.0      NaN     Transient          Check-Out             August               2017\n",
              "119388    City Hotel            0   BB     GBR      Online TA                TA/TO                  0   No Deposit   89.0      NaN     Transient          Check-Out             August               2017\n",
              "119389    City Hotel            0   HB     DEU      Online TA                TA/TO                  0   No Deposit    9.0      NaN     Transient          Check-Out             August               2017\n",
              "\n",
              "[119390 rows x 14 columns]"
            ]
          },
          "metadata": {
            "tags": []
          },
          "execution_count": 45
        }
      ]
    },
    {
      "cell_type": "markdown",
      "metadata": {
        "id": "wJc8_OV89ugy",
        "colab_type": "text"
      },
      "source": [
        "Campos:\n",
        "\n",
        "*   **hotel**: tipo de hotel (si es Resort o es City)\n",
        "*   **is_cancelled**: variable que toma 1 cuando la reserva fue cancelada\n",
        "*   **meal**: tipo de reserva elegida. FB (Full Board), HB (Half Board), SC (self-catering), BB (Bed & Breakfast). Esta variable toma valores indefinidos.\n",
        "*   **country**: siglas del país de origen de quienes reservan.\n",
        "*   **market_segment**: segmento de mercado.\n",
        "*   **distribution_channel**: canal de distribución.\n",
        "*   **is_repeated_guest**: variable que toma uno cuando se trata de una reserva repetida.\n",
        "*   **deposit_type**: tipo de depósito, según su condición de reembolsable o no.\n",
        "*   **agent**: código del agente responsable de la reserva.\n",
        "*   **company**: código de la empresa responsable de la reserva.\n",
        "*   **customer_type**: tipo de consumidor.\n",
        "*   **customer_type**: estado actual de la reserva.\n",
        "*   **arrival_date_year**: año de arribo al hotel.\n",
        "*   **arrival_date_month**: mes de arribo al hotel.\n"
      ]
    },
    {
      "cell_type": "code",
      "metadata": {
        "id": "7BR-055q9F0s",
        "colab_type": "code",
        "colab": {}
      },
      "source": [
        "pd.set_option('display.max_rows', 900)\n",
        "categoricas = df_categoricas.apply(lambda x: x.value_counts()).T.stack()"
      ],
      "execution_count": 0,
      "outputs": []
    },
    {
      "cell_type": "markdown",
      "metadata": {
        "id": "3unGtC2k_1zH",
        "colab_type": "text"
      },
      "source": [
        "### a.ii. Campos numéricos"
      ]
    },
    {
      "cell_type": "markdown",
      "metadata": {
        "id": "fJ_I_JzQ_9No",
        "colab_type": "text"
      },
      "source": [
        "Pertenecen a este grupo los campos numéricos continuos, cuyo valor represente una magnitud y no una categoría. En los casos "
      ]
    },
    {
      "cell_type": "code",
      "metadata": {
        "id": "l-Xt7KSg_6_D",
        "colab_type": "code",
        "colab": {}
      },
      "source": [
        "df_numericas = df[['lead_time', 'arrival_date_week_number', 'arrival_date_day_of_month', 'stays_in_weekend_nights', 'stays_in_weekend_nights', 'adults', 'children', 'babies', 'previous_cancellations', 'previous_bookings_not_canceled', 'booking_changes', 'days_in_waiting_list', 'adr', 'required_car_parking_spaces', 'total_of_special_requests']]\n",
        "print(df_numericas)"
      ],
      "execution_count": 0,
      "outputs": []
    },
    {
      "cell_type": "markdown",
      "metadata": {
        "id": "tgbOP_C7AWi5",
        "colab_type": "text"
      },
      "source": [
        "Campos:\n",
        "\n",
        "*   **lead_time**: tiempo de espera desde la emisión hasta la confirmación de la orden.\n",
        "*   **arrival_date_week_number**: semana del año en la que llegarán al hotel.\n",
        "*   **arrival_date_day_of_month**: día del mes en el que llegarán al hotel.\n",
        "*   **stays_in_weekend_nights**: número de noches de fin de semana que se pasarán en el hotel.\n",
        "*   **stays_in_week_nights**: número de noches de semana que se pasarán en el hotel.\n",
        "*   **adults**: número de adultos que conforman la reserva.\n",
        "*   **children**: número de niños que conforman la reserva.\n",
        "*   **babies**: número de bebés que conforman la reserva.\n",
        "*   **previous_cancellations**: número de reservas previas que fueron canceladas.\n",
        "*   **previous_bookings_not_canceled**: número de reservas previas que no fueron canceladas.\n",
        "*   **booking_changes**: número de cambios en la reserva.\n",
        "*   **days_in_waiting_list**: número de días en lista de espera.\n",
        "*   **adr**: tarifa media diaria.\n",
        "*   **required_car_parking_spaces**: número de espacios para estacionar requeridos.\n",
        "*   **total_of_special_requests**: total de pedidos especiales."
      ]
    },
    {
      "cell_type": "markdown",
      "metadata": {
        "id": "tZyty-7BBoSK",
        "colab_type": "text"
      },
      "source": [
        "### ai.iii. Campos ordinales"
      ]
    },
    {
      "cell_type": "markdown",
      "metadata": {
        "id": "3rWnNSAPBrlJ",
        "colab_type": "text"
      },
      "source": [
        "Pertenecen a este grupo las variables numéricas o no que son categorías (no pueden tomar cualquier valor) pero de las que es posible establecer un orden."
      ]
    },
    {
      "cell_type": "code",
      "metadata": {
        "id": "ATStFVkCB7CL",
        "colab_type": "code",
        "outputId": "6c73bbb4-a90b-4de0-a3c1-543491cb67bc",
        "colab": {
          "base_uri": "https://localhost:8080/",
          "height": 419
        }
      },
      "source": [
        "df_ordinales = df[['reserved_room_type', 'assigned_room_type']]\n",
        "df_ordinales"
      ],
      "execution_count": 0,
      "outputs": [
        {
          "output_type": "execute_result",
          "data": {
            "text/html": [
              "<div>\n",
              "<style scoped>\n",
              "    .dataframe tbody tr th:only-of-type {\n",
              "        vertical-align: middle;\n",
              "    }\n",
              "\n",
              "    .dataframe tbody tr th {\n",
              "        vertical-align: top;\n",
              "    }\n",
              "\n",
              "    .dataframe thead th {\n",
              "        text-align: right;\n",
              "    }\n",
              "</style>\n",
              "<table border=\"1\" class=\"dataframe\">\n",
              "  <thead>\n",
              "    <tr style=\"text-align: right;\">\n",
              "      <th></th>\n",
              "      <th>reserved_room_type</th>\n",
              "      <th>assigned_room_type</th>\n",
              "    </tr>\n",
              "  </thead>\n",
              "  <tbody>\n",
              "    <tr>\n",
              "      <th>0</th>\n",
              "      <td>C</td>\n",
              "      <td>C</td>\n",
              "    </tr>\n",
              "    <tr>\n",
              "      <th>1</th>\n",
              "      <td>C</td>\n",
              "      <td>C</td>\n",
              "    </tr>\n",
              "    <tr>\n",
              "      <th>2</th>\n",
              "      <td>A</td>\n",
              "      <td>C</td>\n",
              "    </tr>\n",
              "    <tr>\n",
              "      <th>3</th>\n",
              "      <td>A</td>\n",
              "      <td>A</td>\n",
              "    </tr>\n",
              "    <tr>\n",
              "      <th>4</th>\n",
              "      <td>A</td>\n",
              "      <td>A</td>\n",
              "    </tr>\n",
              "    <tr>\n",
              "      <th>...</th>\n",
              "      <td>...</td>\n",
              "      <td>...</td>\n",
              "    </tr>\n",
              "    <tr>\n",
              "      <th>119385</th>\n",
              "      <td>A</td>\n",
              "      <td>A</td>\n",
              "    </tr>\n",
              "    <tr>\n",
              "      <th>119386</th>\n",
              "      <td>E</td>\n",
              "      <td>E</td>\n",
              "    </tr>\n",
              "    <tr>\n",
              "      <th>119387</th>\n",
              "      <td>D</td>\n",
              "      <td>D</td>\n",
              "    </tr>\n",
              "    <tr>\n",
              "      <th>119388</th>\n",
              "      <td>A</td>\n",
              "      <td>A</td>\n",
              "    </tr>\n",
              "    <tr>\n",
              "      <th>119389</th>\n",
              "      <td>A</td>\n",
              "      <td>A</td>\n",
              "    </tr>\n",
              "  </tbody>\n",
              "</table>\n",
              "<p>119390 rows × 2 columns</p>\n",
              "</div>"
            ],
            "text/plain": [
              "       reserved_room_type assigned_room_type\n",
              "0                       C                  C\n",
              "1                       C                  C\n",
              "2                       A                  C\n",
              "3                       A                  A\n",
              "4                       A                  A\n",
              "...                   ...                ...\n",
              "119385                  A                  A\n",
              "119386                  E                  E\n",
              "119387                  D                  D\n",
              "119388                  A                  A\n",
              "119389                  A                  A\n",
              "\n",
              "[119390 rows x 2 columns]"
            ]
          },
          "metadata": {
            "tags": []
          },
          "execution_count": 54
        }
      ]
    },
    {
      "cell_type": "markdown",
      "metadata": {
        "id": "E6Obo09kCCQ4",
        "colab_type": "text"
      },
      "source": [
        "Campos:\n",
        "\n",
        "*   **reserved_room_type**: tipo de habitación reservada.\n",
        "*   **assigned_room_type**: tipo de habitación asignada."
      ]
    },
    {
      "cell_type": "code",
      "metadata": {
        "id": "ydOWd980B7Ta",
        "colab_type": "code",
        "outputId": "adf66133-3f8b-4677-92b5-f0a63528b839",
        "colab": {
          "base_uri": "https://localhost:8080/",
          "height": 408
        }
      },
      "source": [
        "ordinales = df_ordinales.apply(lambda x: x.value_counts()).T.stack()\n",
        "ordinales"
      ],
      "execution_count": 0,
      "outputs": [
        {
          "output_type": "execute_result",
          "data": {
            "text/plain": [
              "reserved_room_type  A    85994.0\n",
              "                    B     1118.0\n",
              "                    C      932.0\n",
              "                    D    19201.0\n",
              "                    E     6535.0\n",
              "                    F     2897.0\n",
              "                    G     2094.0\n",
              "                    H      601.0\n",
              "                    L        6.0\n",
              "                    P       12.0\n",
              "assigned_room_type  A    74053.0\n",
              "                    B     2163.0\n",
              "                    C     2375.0\n",
              "                    D    25322.0\n",
              "                    E     7806.0\n",
              "                    F     3751.0\n",
              "                    G     2553.0\n",
              "                    H      712.0\n",
              "                    I      363.0\n",
              "                    K      279.0\n",
              "                    L        1.0\n",
              "                    P       12.0\n",
              "dtype: float64"
            ]
          },
          "metadata": {
            "tags": []
          },
          "execution_count": 55
        }
      ]
    },
    {
      "cell_type": "markdown",
      "metadata": {
        "id": "bHrazP8tCVMj",
        "colab_type": "text"
      },
      "source": [
        "## b. Datos faltantes\n"
      ]
    },
    {
      "cell_type": "code",
      "metadata": {
        "id": "RQR1ORUEcb_3",
        "colab_type": "code",
        "colab": {}
      },
      "source": [
        "df.isnull().sum()"
      ],
      "execution_count": 0,
      "outputs": []
    },
    {
      "cell_type": "markdown",
      "metadata": {
        "id": "OLG9nhVKCY2v",
        "colab_type": "text"
      },
      "source": [
        "## c. Correlaciones con la cancelación de la reserva\n",
        "\n"
      ]
    },
    {
      "cell_type": "code",
      "metadata": {
        "id": "sUkf4cNqC5P9",
        "colab_type": "code",
        "colab": {}
      },
      "source": [
        "\n",
        "# 1. Para las categóricas, construyo variables 0 y 1\n",
        "  # Mínimo de frecuencia para incluir la columna: 0.5% del total\n",
        "min_dummy = len(df_categoricas)*0.005\n",
        "dummies_cat = pd.get_dummies(df_categoricas, columns=['market_segment', 'meal', 'agent', 'company', 'is_repeated_guest', 'deposit_type', 'customer_type', 'arrival_date_month'], drop_first=False)\n",
        "dummies_cat = dummies_cat.iloc[:, 6:]\n",
        "corr_cat = dummies_cat[dummies_cat.columns[dummies_cat.sum()>min_dummy]]\n",
        "\n",
        "# 2. Para las ordinales, puedo construir variables numéricas asociadas. Como una es el tipo de habitación pedido y otro es el tipo de habitación asignado, voy a construir únicamente la numérica asociada al tipo de habitación asignado, y luego voy a construir una columna dummy si el tipo de habitación pedida es el mismo o no que la asignada.\n",
        "def func(row):\n",
        "    if row['assigned_room_type'] == 'A':\n",
        "        return 1\n",
        "    elif row['assigned_room_type'] == 'B':\n",
        "        return 2\n",
        "    elif row['assigned_room_type'] == 'C':\n",
        "        return 3\n",
        "    elif row['assigned_room_type'] == 'D':\n",
        "        return 4\n",
        "    elif row['assigned_room_type'] == 'E':\n",
        "        return 5\n",
        "    elif row['assigned_room_type'] == 'F':\n",
        "        return 6\n",
        "    elif row['assigned_room_type'] == 'G':\n",
        "        return 7\n",
        "    elif row['assigned_room_type'] == 'H':\n",
        "        return 8\n",
        "    elif row['assigned_room_type'] == 'H':\n",
        "        return 9\n",
        "    elif row['assigned_room_type'] == 'I':\n",
        "        return 10\n",
        "    elif row['assigned_room_type'] == 'K':\n",
        "        return 11\n",
        "    else:\n",
        "        return 0\n",
        "df_ordinales['assigned_room_vl'] = df_ordinales.apply(func, axis=1)\n",
        "df_ordinales.loc[(df_ordinales['assigned_room_type'] == df_ordinales['reserved_room_type']), 'assignedWhichReserved'] = 1\n",
        "df_ordinales.loc[(df_ordinales['assigned_room_type'] != df_ordinales['reserved_room_type']), 'assignedWhichReserved'] = 0\n",
        "corr_ord = df_ordinales[['assigned_room_vl', 'assignedWhichReserved']]\n",
        "\n",
        "# 3. Para las numéricas traigo todas\n",
        "\n",
        "corr_num = df_numericas"
      ],
      "execution_count": 0,
      "outputs": []
    },
    {
      "cell_type": "code",
      "metadata": {
        "id": "OLgzxwHbPpzl",
        "colab_type": "code",
        "outputId": "46b7cd05-7f2a-4deb-c37d-a27beefc27e5",
        "colab": {
          "base_uri": "https://localhost:8080/",
          "height": 419
        }
      },
      "source": [
        "df_ordinales"
      ],
      "execution_count": 0,
      "outputs": [
        {
          "output_type": "execute_result",
          "data": {
            "text/html": [
              "<div>\n",
              "<style scoped>\n",
              "    .dataframe tbody tr th:only-of-type {\n",
              "        vertical-align: middle;\n",
              "    }\n",
              "\n",
              "    .dataframe tbody tr th {\n",
              "        vertical-align: top;\n",
              "    }\n",
              "\n",
              "    .dataframe thead th {\n",
              "        text-align: right;\n",
              "    }\n",
              "</style>\n",
              "<table border=\"1\" class=\"dataframe\">\n",
              "  <thead>\n",
              "    <tr style=\"text-align: right;\">\n",
              "      <th></th>\n",
              "      <th>reserved_room_type</th>\n",
              "      <th>assigned_room_type</th>\n",
              "      <th>assigned_room_vl</th>\n",
              "      <th>assignedWhichReserved</th>\n",
              "    </tr>\n",
              "  </thead>\n",
              "  <tbody>\n",
              "    <tr>\n",
              "      <th>0</th>\n",
              "      <td>C</td>\n",
              "      <td>C</td>\n",
              "      <td>3</td>\n",
              "      <td>1.0</td>\n",
              "    </tr>\n",
              "    <tr>\n",
              "      <th>1</th>\n",
              "      <td>C</td>\n",
              "      <td>C</td>\n",
              "      <td>3</td>\n",
              "      <td>1.0</td>\n",
              "    </tr>\n",
              "    <tr>\n",
              "      <th>2</th>\n",
              "      <td>A</td>\n",
              "      <td>C</td>\n",
              "      <td>3</td>\n",
              "      <td>0.0</td>\n",
              "    </tr>\n",
              "    <tr>\n",
              "      <th>3</th>\n",
              "      <td>A</td>\n",
              "      <td>A</td>\n",
              "      <td>1</td>\n",
              "      <td>1.0</td>\n",
              "    </tr>\n",
              "    <tr>\n",
              "      <th>4</th>\n",
              "      <td>A</td>\n",
              "      <td>A</td>\n",
              "      <td>1</td>\n",
              "      <td>1.0</td>\n",
              "    </tr>\n",
              "    <tr>\n",
              "      <th>...</th>\n",
              "      <td>...</td>\n",
              "      <td>...</td>\n",
              "      <td>...</td>\n",
              "      <td>...</td>\n",
              "    </tr>\n",
              "    <tr>\n",
              "      <th>119385</th>\n",
              "      <td>A</td>\n",
              "      <td>A</td>\n",
              "      <td>1</td>\n",
              "      <td>1.0</td>\n",
              "    </tr>\n",
              "    <tr>\n",
              "      <th>119386</th>\n",
              "      <td>E</td>\n",
              "      <td>E</td>\n",
              "      <td>5</td>\n",
              "      <td>1.0</td>\n",
              "    </tr>\n",
              "    <tr>\n",
              "      <th>119387</th>\n",
              "      <td>D</td>\n",
              "      <td>D</td>\n",
              "      <td>4</td>\n",
              "      <td>1.0</td>\n",
              "    </tr>\n",
              "    <tr>\n",
              "      <th>119388</th>\n",
              "      <td>A</td>\n",
              "      <td>A</td>\n",
              "      <td>1</td>\n",
              "      <td>1.0</td>\n",
              "    </tr>\n",
              "    <tr>\n",
              "      <th>119389</th>\n",
              "      <td>A</td>\n",
              "      <td>A</td>\n",
              "      <td>1</td>\n",
              "      <td>1.0</td>\n",
              "    </tr>\n",
              "  </tbody>\n",
              "</table>\n",
              "<p>119390 rows × 4 columns</p>\n",
              "</div>"
            ],
            "text/plain": [
              "       reserved_room_type assigned_room_type  assigned_room_vl  assignedWhichReserved\n",
              "0                       C                  C                 3                    1.0\n",
              "1                       C                  C                 3                    1.0\n",
              "2                       A                  C                 3                    0.0\n",
              "3                       A                  A                 1                    1.0\n",
              "4                       A                  A                 1                    1.0\n",
              "...                   ...                ...               ...                    ...\n",
              "119385                  A                  A                 1                    1.0\n",
              "119386                  E                  E                 5                    1.0\n",
              "119387                  D                  D                 4                    1.0\n",
              "119388                  A                  A                 1                    1.0\n",
              "119389                  A                  A                 1                    1.0\n",
              "\n",
              "[119390 rows x 4 columns]"
            ]
          },
          "metadata": {
            "tags": []
          },
          "execution_count": 90
        }
      ]
    },
    {
      "cell_type": "markdown",
      "metadata": {
        "id": "Vq3_Yv7eMcrI",
        "colab_type": "text"
      },
      "source": [
        "Ahora junto todo y calculo las correlaciones"
      ]
    },
    {
      "cell_type": "code",
      "metadata": {
        "id": "jNGu7yJXMdZs",
        "colab_type": "code",
        "outputId": "26c0a661-dada-41e9-d55a-547839d853a4",
        "colab": {
          "base_uri": "https://localhost:8080/",
          "height": 102
        }
      },
      "source": [
        "df_correlations = pd.concat([corr_num,corr_ord,corr_cat],axis=1)\n",
        "df_correlations\n",
        "df_correlations.loc[:,'is_canceled'] = df_categoricas['is_canceled'] \n",
        "corr = df_correlations[df_correlations.columns[1:]].corr()['is_canceled'][:-1]\n",
        "squaredCorrs = corr**2 # Elevo al cuadrado para quedarme con las primeras\n",
        "squaredCorrs.sort_values(ascending=False)[0:4]\n"
      ],
      "execution_count": 0,
      "outputs": [
        {
          "output_type": "execute_result",
          "data": {
            "text/plain": [
              "deposit_type_Non Refund      0.231801\n",
              "deposit_type_No Deposit      0.228399\n",
              "assignedWhichReserved        0.061390\n",
              "total_of_special_requests    0.055064\n",
              "Name: is_canceled, dtype: float64"
            ]
          },
          "metadata": {
            "tags": []
          },
          "execution_count": 82
        }
      ]
    },
    {
      "cell_type": "markdown",
      "metadata": {
        "id": "2pGSb_NUOZ6N",
        "colab_type": "text"
      },
      "source": [
        "Me quedo con las primeras cuatro"
      ]
    },
    {
      "cell_type": "code",
      "metadata": {
        "id": "wyYqUPRIObir",
        "colab_type": "code",
        "outputId": "d3f3e958-2b68-42cf-8e1f-b1415eb7051b",
        "colab": {
          "base_uri": "https://localhost:8080/",
          "height": 266
        }
      },
      "source": [
        "#import matplotlib.pyplot as plt\n",
        "#import numpy as np\n",
        "\n",
        "df_first4 = df_correlations[['deposit_type_Non Refund', 'deposit_type_No Deposit', 'assignedWhichReserved', 'total_of_special_requests', 'is_canceled']]\n",
        "\n",
        "matriz_nonRefund = pd.crosstab(df_correlations['deposit_type_Non Refund'], df['is_canceled'], rownames=['Tipo de depósito Non Refund'], colnames=['Cancelacion'])\n",
        "matriz_noDeposit = pd.crosstab(df_correlations['deposit_type_No Deposit'], df['is_canceled'], rownames=['Tipo de depósito No Deposit'], colnames=['Cancelacion'])\n",
        "matriz_assignedWhich = pd.crosstab(df_correlations['assignedWhichReserved'], df['is_canceled'], rownames=['Se les asignó lo que solicitaron'], colnames=['Cancelacion'])\n",
        "matriz_specialRequest = pd.crosstab(df_correlations['total_of_special_requests'], df['is_canceled'], rownames=['Pedidos especiales'], colnames=['Cancelacion'])\n",
        "matriz_specialRequest"
      ],
      "execution_count": 0,
      "outputs": [
        {
          "output_type": "execute_result",
          "data": {
            "text/html": [
              "<div>\n",
              "<style scoped>\n",
              "    .dataframe tbody tr th:only-of-type {\n",
              "        vertical-align: middle;\n",
              "    }\n",
              "\n",
              "    .dataframe tbody tr th {\n",
              "        vertical-align: top;\n",
              "    }\n",
              "\n",
              "    .dataframe thead th {\n",
              "        text-align: right;\n",
              "    }\n",
              "</style>\n",
              "<table border=\"1\" class=\"dataframe\">\n",
              "  <thead>\n",
              "    <tr style=\"text-align: right;\">\n",
              "      <th>Cancelacion</th>\n",
              "      <th>0</th>\n",
              "      <th>1</th>\n",
              "    </tr>\n",
              "    <tr>\n",
              "      <th>Pedidos especiales</th>\n",
              "      <th></th>\n",
              "      <th></th>\n",
              "    </tr>\n",
              "  </thead>\n",
              "  <tbody>\n",
              "    <tr>\n",
              "      <th>0</th>\n",
              "      <td>36762</td>\n",
              "      <td>33556</td>\n",
              "    </tr>\n",
              "    <tr>\n",
              "      <th>1</th>\n",
              "      <td>25908</td>\n",
              "      <td>7318</td>\n",
              "    </tr>\n",
              "    <tr>\n",
              "      <th>2</th>\n",
              "      <td>10103</td>\n",
              "      <td>2866</td>\n",
              "    </tr>\n",
              "    <tr>\n",
              "      <th>3</th>\n",
              "      <td>2051</td>\n",
              "      <td>446</td>\n",
              "    </tr>\n",
              "    <tr>\n",
              "      <th>4</th>\n",
              "      <td>304</td>\n",
              "      <td>36</td>\n",
              "    </tr>\n",
              "    <tr>\n",
              "      <th>5</th>\n",
              "      <td>38</td>\n",
              "      <td>2</td>\n",
              "    </tr>\n",
              "  </tbody>\n",
              "</table>\n",
              "</div>"
            ],
            "text/plain": [
              "Cancelacion             0      1\n",
              "Pedidos especiales              \n",
              "0                   36762  33556\n",
              "1                   25908   7318\n",
              "2                   10103   2866\n",
              "3                    2051    446\n",
              "4                     304     36\n",
              "5                      38      2"
            ]
          },
          "metadata": {
            "tags": []
          },
          "execution_count": 95
        }
      ]
    },
    {
      "cell_type": "markdown",
      "metadata": {
        "id": "PufcOoPRPTe-",
        "colab_type": "text"
      },
      "source": [
        ""
      ]
    }
  ]
}