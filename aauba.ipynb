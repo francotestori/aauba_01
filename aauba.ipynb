{
  "nbformat": 4,
  "nbformat_minor": 0,
  "metadata": {
    "colab": {
      "name": "aauba",
      "provenance": [],
      "collapsed_sections": [],
      "toc_visible": true,
      "include_colab_link": true
    },
    "kernelspec": {
      "name": "python3",
      "display_name": "Python 3"
    }
  },
  "cells": [
    {
      "cell_type": "markdown",
      "metadata": {
        "id": "view-in-github",
        "colab_type": "text"
      },
      "source": [
        "<a href=\"https://colab.research.google.com/github/francotestori/aauba_01/blob/master/aauba.ipynb\" target=\"_parent\"><img src=\"https://colab.research.google.com/assets/colab-badge.svg\" alt=\"Open In Colab\"/></a>"
      ]
    },
    {
      "cell_type": "markdown",
      "metadata": {
        "id": "RVZwUPgjLVof",
        "colab_type": "text"
      },
      "source": [
        "# Aprendizaje Automático\n",
        "\n",
        "El objetivo de este trabajo práctico es el desarrollo de una solución que permita predecir la cancelación de una reserva utilizando como dataset el archivo provisto por la catedra ***'hotel_bookins.csv'***."
      ]
    },
    {
      "cell_type": "code",
      "metadata": {
        "id": "pEJF2ExIS-lM",
        "colab_type": "code",
        "colab": {
          "base_uri": "https://localhost:8080/",
          "height": 221
        },
        "outputId": "fc5cd7e8-da68-4ff1-ee36-23aea37fbcfd"
      },
      "source": [
        "# Cargar el archivo original de bookings\n",
        "!wget https://raw.githubusercontent.com/francotestori/aauba_01/master/resources/hotel_bookings.csv\n",
        "\n",
        "# Instalamos e Importamos librerías\n",
        "!pip install info_gain\n",
        "from info_gain import info_gain\n",
        "import seaborn as sns\n",
        "import matplotlib.pyplot as plt\n",
        "import pandas as pd\n",
        "from datetime import date, datetime\n",
        "from sklearn import tree\n",
        "from sklearn.tree import plot_tree\n",
        "from sklearn.metrics import accuracy_score, precision_score, recall_score, f1_score\n",
        "from sklearn.model_selection import train_test_split\n",
        "from sklearn.tree import DecisionTreeClassifier\n",
        "\n",
        "# Inicializamos el dataframe\n",
        "pd.set_option('display.max_columns', 60)\n",
        "pd.set_option('display.max_rows', 500)\n",
        "pd.set_option('display.width', 10000)\n",
        "\n",
        "bookings_df = pd.read_csv('hotel_bookings.csv')"
      ],
      "execution_count": null,
      "outputs": [
        {
          "output_type": "stream",
          "text": [
            "--2020-06-17 23:06:24--  https://raw.githubusercontent.com/francotestori/aauba_01/master/resources/hotel_bookings.csv\n",
            "Resolving raw.githubusercontent.com (raw.githubusercontent.com)... 151.101.0.133, 151.101.64.133, 151.101.128.133, ...\n",
            "Connecting to raw.githubusercontent.com (raw.githubusercontent.com)|151.101.0.133|:443... connected.\n",
            "HTTP request sent, awaiting response... 200 OK\n",
            "Length: 16855599 (16M) [text/plain]\n",
            "Saving to: ‘hotel_bookings.csv.2’\n",
            "\n",
            "\rhotel_bookings.csv.   0%[                    ]       0  --.-KB/s               \rhotel_bookings.csv.  19%[==>                 ]   3.14M  15.7MB/s               \rhotel_bookings.csv.  66%[============>       ]  10.72M  26.8MB/s               \rhotel_bookings.csv. 100%[===================>]  16.07M  33.3MB/s    in 0.5s    \n",
            "\n",
            "2020-06-17 23:06:24 (33.3 MB/s) - ‘hotel_bookings.csv.2’ saved [16855599/16855599]\n",
            "\n",
            "Requirement already satisfied: info_gain in /usr/local/lib/python3.6/dist-packages (1.0.1)\n"
          ],
          "name": "stdout"
        }
      ]
    },
    {
      "cell_type": "markdown",
      "metadata": {
        "id": "BRK6Pu8Efatk",
        "colab_type": "text"
      },
      "source": [
        "## a. División en grupos y cuantificación de categorías\n",
        "\n",
        "---"
      ]
    },
    {
      "cell_type": "code",
      "metadata": {
        "id": "PGtUgzFiftB7",
        "colab_type": "code",
        "colab": {}
      },
      "source": [
        "columnas_categoricas = [\n",
        "  'hotel', \n",
        "  'is_canceled', \n",
        "  'meal', \n",
        "  'country', \n",
        "  'market_segment', \n",
        "  'distribution_channel', \n",
        "  'is_repeated_guest', \n",
        "  'deposit_type', \n",
        "  'agent', \n",
        "  'company', \n",
        "  'customer_type', \n",
        "  'reservation_status',\n",
        "  'arrival_date_month'\n",
        "]\n",
        "df_categoricas = bookings_df[columnas_categoricas]\n",
        "\n",
        "columnas_numericas = [\n",
        "    'lead_time',  \n",
        "    'stays_in_weekend_nights', \n",
        "    'stays_in_week_nights', \n",
        "    'adults', \n",
        "    'children', \n",
        "    'babies', \n",
        "    'previous_cancellations', \n",
        "    'previous_bookings_not_canceled', \n",
        "    'booking_changes', \n",
        "    'days_in_waiting_list', \n",
        "    'adr', \n",
        "    'required_car_parking_spaces', \n",
        "    'total_of_special_requests'                      \n",
        "]\n",
        "df_numericas = bookings_df[columnas_numericas]\n",
        "\n",
        "columnas_ordinales = [\n",
        "       'reserved_room_type', \n",
        "       'assigned_room_type'               \n",
        "]\n",
        "df_ordinales = bookings_df[columnas_ordinales]\n",
        "df_ordinales\n",
        "\n",
        "def get_month_number(month):\n",
        "  if month == \"January\":\n",
        "    return 1\n",
        "  elif month == \"February\":\n",
        "    return 2   \n",
        "  elif month == \"March\":\n",
        "    return 3   \n",
        "  elif month == \"April\":\n",
        "    return 4   \n",
        "  elif month == \"May\":\n",
        "    return 5   \n",
        "  elif month == \"June\":\n",
        "    return 6   \n",
        "  elif month == \"July\":\n",
        "    return 7   \n",
        "  elif month == \"August\":\n",
        "    return 8   \n",
        "  elif month == \"September\":\n",
        "    return 9   \n",
        "  elif month == \"October\":\n",
        "    return 10\n",
        "  elif month == \"November\":\n",
        "    return 11   \n",
        "  elif month == \"December\":\n",
        "    return 12\n",
        "  else:\n",
        "    return 0     \n",
        "\n",
        "def checkin(year, month_str, day):\n",
        "  month = get_month_number(month_str)\n",
        "  return date(year, month, day)\n",
        "\n",
        "columnas_fecha_hora = [\n",
        "  'arrival_date_month', \n",
        "  'arrival_date_year',\n",
        "  'arrival_date_day_of_month',   \n",
        "  'reservation_status_date'               \n",
        "]\n",
        "df_fecha_hora = bookings_df[columnas_fecha_hora]\n",
        "df_fecha_hora['checkin_date'] = df_fecha_hora.apply(\n",
        "    lambda x: checkin(x['arrival_date_year'], x['arrival_date_month'], x['arrival_date_day_of_month']),\n",
        "    axis=1\n",
        ")"
      ],
      "execution_count": null,
      "outputs": []
    },
    {
      "cell_type": "markdown",
      "metadata": {
        "id": "045DUtyKjNGe",
        "colab_type": "text"
      },
      "source": [
        "## b. Valores faltantes"
      ]
    },
    {
      "cell_type": "code",
      "metadata": {
        "id": "c1sCMM0cPgEw",
        "colab_type": "code",
        "colab": {
          "base_uri": "https://localhost:8080/",
          "height": 153
        },
        "outputId": "6e8aa19e-e69c-4f19-9ab2-cb098d315301"
      },
      "source": [
        "import numpy as np\n",
        "\n",
        "df=bookings_df\n",
        "\n",
        "for col in df.columns:\n",
        "    if df[col].dtype == 'object' and col != 'country':\n",
        "        df.loc[df[col].str.contains('NULL'), col] = np.nan\n",
        "        df.loc[df[col].str.contains('Undefined', na=False), col] = np.nan\n",
        "\n",
        "null_series = df.isnull().sum()\n",
        "\n",
        "print(null_series[null_series > 0])"
      ],
      "execution_count": null,
      "outputs": [
        {
          "output_type": "stream",
          "text": [
            "children                     4\n",
            "meal                      1169\n",
            "country                    488\n",
            "market_segment               2\n",
            "distribution_channel         5\n",
            "agent                    16340\n",
            "company                 112593\n",
            "dtype: int64\n"
          ],
          "name": "stdout"
        }
      ]
    },
    {
      "cell_type": "code",
      "metadata": {
        "id": "Oa3XrqTXq2BR",
        "colab_type": "code",
        "colab": {}
      },
      "source": [
        "\n",
        "# Haciendo un análisis inicial contamos con faltantes en los siguientes atributos:\n",
        "# * **children**: Son muy pocos casos, 4. \n",
        "# * **country**: Pocos casos sería posible con alguna medida de cercanía.\n",
        "# * **agent**: Relativamente grande número de faltantes, 15%.\n",
        "# * **company**: Número demasiado grande de faltantes, aprox 90%.\n",
        "\n",
        "# Sin embargo, conocemos que hay otros campos que podrian poseer valores que analogamente representan un valor nulo. \n",
        "# Por lo que para esos imputaremos las modas\n",
        "\n",
        "# Relleno por el valor mas frecuente (moda)\n",
        "bookings_df['meal'].fillna(\"BB\", inplace = True)\n",
        "bookings_df['children'].fillna(0.0, inplace = True)\n",
        "bookings_df['market_segment'].fillna('Online TA', inplace = True)\n",
        "bookings_df['distribution_channel'].fillna('TA/TO', inplace = True)\n",
        "\n",
        "# Asigno un desconocido\n",
        "bookings_df['country'].fillna('XXX', inplace = True)\n",
        "\n",
        "# Utilizo un valor dummy (máscara) para la presencia de agent y company\n",
        "bookings_df['agent'] = bookings_df['agent'].isnull()\n",
        "bookings_df['company'] = bookings_df['company'].isnull()"
      ],
      "execution_count": null,
      "outputs": []
    },
    {
      "cell_type": "code",
      "metadata": {
        "id": "nmdnSlQFQcDF",
        "colab_type": "code",
        "colab": {
          "base_uri": "https://localhost:8080/",
          "height": 578
        },
        "outputId": "69bde85c-6c73-4ead-bc79-ff0807e48a9d"
      },
      "source": [
        "# Validamos que rellenamos nuestros datos faltantes\n",
        "original_nulls = bookings_df.isnull().sum()\n",
        "\n",
        "print(original_nulls)"
      ],
      "execution_count": null,
      "outputs": [
        {
          "output_type": "stream",
          "text": [
            "hotel                             0\n",
            "is_canceled                       0\n",
            "lead_time                         0\n",
            "arrival_date_year                 0\n",
            "arrival_date_month                0\n",
            "arrival_date_week_number          0\n",
            "arrival_date_day_of_month         0\n",
            "stays_in_weekend_nights           0\n",
            "stays_in_week_nights              0\n",
            "adults                            0\n",
            "children                          0\n",
            "babies                            0\n",
            "meal                              0\n",
            "country                           0\n",
            "market_segment                    0\n",
            "distribution_channel              0\n",
            "is_repeated_guest                 0\n",
            "previous_cancellations            0\n",
            "previous_bookings_not_canceled    0\n",
            "reserved_room_type                0\n",
            "assigned_room_type                0\n",
            "booking_changes                   0\n",
            "deposit_type                      0\n",
            "agent                             0\n",
            "company                           0\n",
            "days_in_waiting_list              0\n",
            "customer_type                     0\n",
            "adr                               0\n",
            "required_car_parking_spaces       0\n",
            "total_of_special_requests         0\n",
            "reservation_status                0\n",
            "reservation_status_date           0\n",
            "dtype: int64\n"
          ],
          "name": "stdout"
        }
      ]
    },
    {
      "cell_type": "markdown",
      "metadata": {
        "id": "U_jnzmswpWVQ",
        "colab_type": "text"
      },
      "source": [
        "## c. Análisis de duplicados"
      ]
    },
    {
      "cell_type": "markdown",
      "metadata": {
        "id": "BNSQh9drpafO",
        "colab_type": "text"
      },
      "source": [
        "Vamos a analizar si hay reservas duplicadas en nuestro dataframe"
      ]
    },
    {
      "cell_type": "code",
      "metadata": {
        "id": "HXRfFyrDphUZ",
        "colab_type": "code",
        "colab": {
          "base_uri": "https://localhost:8080/",
          "height": 34
        },
        "outputId": "ffbe01c0-173d-4ee8-c21d-a6c8528ae6fe"
      },
      "source": [
        "duplicated = bookings_df[bookings_df.duplicated()]\n",
        "\n",
        "# Analizamos el porcentaje de duplicados en base a nuestra muestra\n",
        "duplicated_ratio = len(duplicated)/len(bookings_df)\n",
        "print(duplicated_ratio)\n",
        "\n",
        "# Por elementos **duplicados** entendemos que todas las features de dos filas son identicos.\n",
        "\n",
        "# Entonces sospechabamos que podría haber casos de una misma reserva que se referenciaba 2 o mas veces en nuestro dataframe.\n",
        "\n",
        "# Sin embargo y evaluando el peso de los duplicados en nuestro dataframe (26%), entendemos simplemente que son reservas distintas pero con las mismas características."
      ],
      "execution_count": null,
      "outputs": [
        {
          "output_type": "stream",
          "text": [
            "0.26812128318954687\n"
          ],
          "name": "stdout"
        }
      ]
    },
    {
      "cell_type": "markdown",
      "metadata": {
        "id": "JDMRO3KUkNaB",
        "colab_type": "text"
      },
      "source": [
        "## c. Variables correlacionadas\n"
      ]
    },
    {
      "cell_type": "code",
      "metadata": {
        "id": "pNilRaQYmTxs",
        "colab_type": "code",
        "colab": {
          "base_uri": "https://localhost:8080/",
          "height": 374
        },
        "outputId": "ef778645-0f50-49f9-96b0-63db6384dfb7"
      },
      "source": [
        "corr = bookings_df.corr()\n",
        "abs(corr.iloc[0,]).sort_values(ascending=False)\n",
        "\n",
        "# Las cuatro variables más correlacionadas son:\n",
        "\n",
        "# * **lead_time**                      0.293123\n",
        "# * **total_of_special_requests**      0.234658\n",
        "# * **required_car_parking_spaces**    0.195498\n",
        "# * **booking_changes**                0.144381"
      ],
      "execution_count": null,
      "outputs": [
        {
          "output_type": "execute_result",
          "data": {
            "text/plain": [
              "is_canceled                       1.000000\n",
              "lead_time                         0.293123\n",
              "total_of_special_requests         0.234658\n",
              "required_car_parking_spaces       0.195498\n",
              "booking_changes                   0.144381\n",
              "previous_cancellations            0.110133\n",
              "agent                             0.102068\n",
              "company                           0.099310\n",
              "is_repeated_guest                 0.084793\n",
              "adults                            0.060017\n",
              "previous_bookings_not_canceled    0.057358\n",
              "days_in_waiting_list              0.054186\n",
              "adr                               0.047557\n",
              "babies                            0.032491\n",
              "stays_in_week_nights              0.024765\n",
              "arrival_date_year                 0.016660\n",
              "arrival_date_week_number          0.008148\n",
              "arrival_date_day_of_month         0.006130\n",
              "children                          0.005036\n",
              "stays_in_weekend_nights           0.001791\n",
              "Name: is_canceled, dtype: float64"
            ]
          },
          "metadata": {
            "tags": []
          },
          "execution_count": 105
        }
      ]
    },
    {
      "cell_type": "code",
      "metadata": {
        "id": "jJFobHFhlR11",
        "colab_type": "code",
        "colab": {}
      },
      "source": [
        "# PUNTO DE DUDA: CÓMO ELEGIMOS LAS CUATRO MÁS CORRELACIONADAS\n",
        "\n",
        "# Más allá de la forma, transformamos las variables para que quede un dataset con todas variables en números\n",
        "\n",
        "# FUNCIONES AUXILIARES\n",
        "def quantify_room_type(room_type):\n",
        "    if room_type == 'A':\n",
        "        return 1\n",
        "    elif room_type == 'B':\n",
        "        return 2\n",
        "    elif room_type == 'C':\n",
        "        return 3\n",
        "    elif room_type == 'D':\n",
        "        return 4\n",
        "    elif room_type == 'E':\n",
        "        return 5\n",
        "    elif room_type == 'F':\n",
        "        return 6\n",
        "    elif room_type == 'G':\n",
        "        return 7\n",
        "    elif room_type == 'H':\n",
        "        return 8\n",
        "    elif room_type == 'I':\n",
        "        return 9\n",
        "    elif room_type == 'K':\n",
        "        return 10\n",
        "    elif room_type == 'L':\n",
        "        return 11\n",
        "    elif room_type == 'P':\n",
        "        return 12\n",
        "    else:\n",
        "        return 0\n",
        "\n",
        "def room_matches(this_room, other_room):\n",
        "  match = this_room.lower().replace('s/+',\"\") == other_room.lower().replace('s/+',\"\")\n",
        "  if(match):\n",
        "    return 1\n",
        "  else:\n",
        "    return 0\n",
        "\n",
        "# CATEGÓRICAS\n",
        "df_categoricas = bookings_df[columnas_categoricas]\n",
        "\n",
        "min_dummy = len(df_categoricas)*0.005  # Mínimo de frecuencia para incluir la columna: 0.5% del total\n",
        "df_categoricas['has_agent'] = bookings_df['agent'].astype(int)\n",
        "df_categoricas['has_company'] = bookings_df['company'].astype(int)\n",
        "dummies_cat = pd.get_dummies(\n",
        "    df_categoricas, \n",
        "    columns=[\n",
        "      'hotel',       \n",
        "      'market_segment', \n",
        "      'meal', \n",
        "      'is_repeated_guest', \n",
        "      'deposit_type', \n",
        "      'customer_type',\n",
        "      'country',\n",
        "      'arrival_date_month'\n",
        "    ], \n",
        "    drop_first=False\n",
        ")\n",
        "dummies_cat = dummies_cat.iloc[:, 8:]\n",
        "corr_cat = dummies_cat[dummies_cat.columns[dummies_cat.sum()>min_dummy]]\n",
        "\n",
        "# ORDINALES\n",
        "columnas_ordinales = [\n",
        "       'reserved_room_type', \n",
        "       'assigned_room_type'               \n",
        "]\n",
        "df_ordinales = bookings_df[columnas_ordinales]\n",
        "df_ordinales['assigned_room_vl'] = df_ordinales.apply(lambda x: quantify_room_type(x['assigned_room_type']), axis=1)\n",
        "df_ordinales['requested_room_vl'] = df_ordinales.apply(lambda x: quantify_room_type(x['reserved_room_type']), axis=1)\n",
        "corr_cat['did_room_match'] = df_ordinales.apply(lambda x: room_matches(x['reserved_room_type'],x['assigned_room_type']), axis=1)\n",
        "corr_cat['booker_room_gain'] = df_ordinales.apply(lambda x: x['assigned_room_vl'] - x['requested_room_vl'], axis=1)\n",
        "corr_ord = df_ordinales[['assigned_room_vl', 'requested_room_vl']]\n",
        "\n",
        "# NUMERICAS\n",
        "columnas_numericas = [\n",
        "    'lead_time',  \n",
        "    'stays_in_week_nights', \n",
        "    'stays_in_weekend_nights', \n",
        "    'adults', \n",
        "    'children', \n",
        "    'babies', \n",
        "    'previous_cancellations', \n",
        "    'previous_bookings_not_canceled',     \n",
        "    'days_in_waiting_list', \n",
        "    'adr', \n",
        "    'required_car_parking_spaces', \n",
        "    'total_of_special_requests'                      \n",
        "]\n",
        "df_numericas = bookings_df[columnas_numericas]\n",
        "\n",
        "corr_num = df_numericas"
      ],
      "execution_count": null,
      "outputs": []
    },
    {
      "cell_type": "code",
      "metadata": {
        "id": "ioO5X5rlqDqx",
        "colab_type": "code",
        "colab": {}
      },
      "source": [
        "# UNION\n",
        "df_correlations = pd.concat([corr_num,corr_ord,corr_cat],axis=1) \n",
        "df_correlations.loc[:,'is_canceled'] = df_categoricas['is_canceled'] \n",
        "\n",
        "# El dataset df_correlations restante luego de nuestras transformaciones (encodings)\n",
        "# termina teniendo todos sus atributos numéricos\n",
        "# DEBERIAMOS UTILIZARLO EN ADELANTE PARA EL ARMADO DEL ARBOL (?)"
      ],
      "execution_count": null,
      "outputs": []
    },
    {
      "cell_type": "code",
      "metadata": {
        "id": "-NXPPPhiqxBg",
        "colab_type": "code",
        "colab": {
          "base_uri": "https://localhost:8080/",
          "height": 1000
        },
        "outputId": "7a01bd54-7462-41c5-8b08-a5c377e3b8fe"
      },
      "source": [
        "corr = df_correlations[df_correlations.columns].corr()['is_canceled'][:-1] \n",
        "abs(corr).sort_values(ascending=False)\n",
        "# RESTARÍA DEFINIR CÓMO ELEGIMOS LAS CUATRO MÁS CORRELACIONADAS, \n",
        "# QUE SERÁ EN FUNCIÓN DE LO QUE DEFINIMOS PARA LAS CORRELACIONES"
      ],
      "execution_count": null,
      "outputs": [
        {
          "output_type": "execute_result",
          "data": {
            "text/plain": [
              "deposit_type_Non Refund           0.481457\n",
              "deposit_type_No Deposit           0.477911\n",
              "country_PRT                       0.336122\n",
              "lead_time                         0.293123\n",
              "did_room_match                    0.247770\n",
              "total_of_special_requests         0.234658\n",
              "market_segment_Groups             0.221859\n",
              "booker_room_gain                  0.205484\n",
              "required_car_parking_spaces       0.195498\n",
              "assigned_room_vl                  0.176028\n",
              "market_segment_Direct             0.154390\n",
              "hotel_Resort Hotel                0.136531\n",
              "customer_type_Transient           0.133084\n",
              "customer_type_Transient-Party     0.124135\n",
              "country_FRA                       0.118254\n",
              "country_GBR                       0.117106\n",
              "previous_cancellations            0.110133\n",
              "country_DEU                       0.107316\n",
              "is_repeated_guest_0               0.084793\n",
              "is_repeated_guest_1               0.084793\n",
              "market_segment_Corporate          0.081667\n",
              "country_ESP                       0.066981\n",
              "requested_room_vl                 0.061077\n",
              "adults                            0.060017\n",
              "previous_bookings_not_canceled    0.057358\n",
              "days_in_waiting_list              0.054186\n",
              "country_NLD                       0.051720\n",
              "country_BEL                       0.049217\n",
              "adr                               0.047557\n",
              "country_IRL                       0.043759\n",
              "country_AUT                       0.040321\n",
              "market_segment_Complementary      0.039306\n",
              "meal_FB                           0.038828\n",
              "country_CN                        0.037026\n",
              "country_USA                       0.036411\n",
              "babies                            0.032491\n",
              "arrival_date_month_January        0.031073\n",
              "country_CHE                       0.030889\n",
              "arrival_date_month_March          0.030266\n",
              "arrival_date_month_November       0.029544\n",
              "arrival_date_month_June           0.029039\n",
              "country_SWE                       0.028647\n",
              "market_segment_Offline TA/TO      0.028472\n",
              "country_POL                       0.024889\n",
              "arrival_date_month_April          0.024885\n",
              "stays_in_week_nights              0.024765\n",
              "customer_type_Contract            0.023670\n",
              "arrival_date_month_February       0.020212\n",
              "meal_HB                           0.019845\n",
              "country_ISR                       0.018312\n",
              "arrival_date_month_May            0.017989\n",
              "country_CHN                       0.017509\n",
              "arrival_date_month_September      0.013693\n",
              "country_NOR                       0.010692\n",
              "arrival_date_month_December       0.010524\n",
              "meal_BB                           0.007147\n",
              "arrival_date_month_October        0.006682\n",
              "market_segment_Online TA          0.006244\n",
              "country_ITA                       0.006151\n",
              "arrival_date_month_August         0.005343\n",
              "children                          0.005036\n",
              "arrival_date_month_July           0.002938\n",
              "stays_in_weekend_nights           0.001791\n",
              "meal_SC                           0.001282\n",
              "country_RUS                       0.001170\n",
              "country_BRA                       0.000795\n",
              "Name: is_canceled, dtype: float64"
            ]
          },
          "metadata": {
            "tags": []
          },
          "execution_count": 108
        }
      ]
    },
    {
      "cell_type": "code",
      "metadata": {
        "id": "ikZVjDmc6WEb",
        "colab_type": "code",
        "colab": {}
      },
      "source": [
        "import scipy.stats as ss\n",
        "escalada = pd.DataFrame(ss.zscore(corr_cat,axis=0))\n",
        "escalada.columns=corr_cat.columns\n",
        "cancel=pd.DataFrame(ss.zscore(df_categoricas['is_canceled'],axis=0))\n"
      ],
      "execution_count": null,
      "outputs": []
    },
    {
      "cell_type": "code",
      "metadata": {
        "id": "4W5ZNNlM6lkF",
        "colab_type": "code",
        "colab": {
          "base_uri": "https://localhost:8080/",
          "height": 1000
        },
        "outputId": "6c9cdb7f-c5bf-4383-a3d5-b8353d418e05"
      },
      "source": [
        "corr_cat_d_euclidea = pd.DataFrame(columns=['Atributo', 'Correlacion_distancia_euclidea'])\n",
        "\n",
        "for i in range(len(escalada.columns)):\n",
        "  feature= escalada.columns[i]\n",
        "  coefficient = 1 - (pow(np.linalg.norm(cancel[0]-escalada.iloc[:,i]),2)/(2*len(escalada)))\n",
        "  corr_cat_d_euclidea.loc[i] = [feature] + [coefficient]\n",
        "corr_cat_d_euclidea.sort_values('Correlacion_distancia_euclidea',ascending=False).head()\n",
        "corr_cat2=corr_cat_d_euclidea\n",
        "corr_cat2"
      ],
      "execution_count": null,
      "outputs": [
        {
          "output_type": "execute_result",
          "data": {
            "text/html": [
              "<div>\n",
              "<style scoped>\n",
              "    .dataframe tbody tr th:only-of-type {\n",
              "        vertical-align: middle;\n",
              "    }\n",
              "\n",
              "    .dataframe tbody tr th {\n",
              "        vertical-align: top;\n",
              "    }\n",
              "\n",
              "    .dataframe thead th {\n",
              "        text-align: right;\n",
              "    }\n",
              "</style>\n",
              "<table border=\"1\" class=\"dataframe\">\n",
              "  <thead>\n",
              "    <tr style=\"text-align: right;\">\n",
              "      <th></th>\n",
              "      <th>Atributo</th>\n",
              "      <th>Correlacion_distancia_euclidea</th>\n",
              "    </tr>\n",
              "  </thead>\n",
              "  <tbody>\n",
              "    <tr>\n",
              "      <th>0</th>\n",
              "      <td>hotel_Resort Hotel</td>\n",
              "      <td>-0.136531</td>\n",
              "    </tr>\n",
              "    <tr>\n",
              "      <th>1</th>\n",
              "      <td>market_segment_Complementary</td>\n",
              "      <td>-0.039306</td>\n",
              "    </tr>\n",
              "    <tr>\n",
              "      <th>2</th>\n",
              "      <td>market_segment_Corporate</td>\n",
              "      <td>-0.081667</td>\n",
              "    </tr>\n",
              "    <tr>\n",
              "      <th>3</th>\n",
              "      <td>market_segment_Direct</td>\n",
              "      <td>-0.154390</td>\n",
              "    </tr>\n",
              "    <tr>\n",
              "      <th>4</th>\n",
              "      <td>market_segment_Groups</td>\n",
              "      <td>0.221859</td>\n",
              "    </tr>\n",
              "    <tr>\n",
              "      <th>5</th>\n",
              "      <td>market_segment_Offline TA/TO</td>\n",
              "      <td>-0.028472</td>\n",
              "    </tr>\n",
              "    <tr>\n",
              "      <th>6</th>\n",
              "      <td>market_segment_Online TA</td>\n",
              "      <td>-0.006244</td>\n",
              "    </tr>\n",
              "    <tr>\n",
              "      <th>7</th>\n",
              "      <td>meal_BB</td>\n",
              "      <td>0.007147</td>\n",
              "    </tr>\n",
              "    <tr>\n",
              "      <th>8</th>\n",
              "      <td>meal_FB</td>\n",
              "      <td>0.038828</td>\n",
              "    </tr>\n",
              "    <tr>\n",
              "      <th>9</th>\n",
              "      <td>meal_HB</td>\n",
              "      <td>-0.019845</td>\n",
              "    </tr>\n",
              "    <tr>\n",
              "      <th>10</th>\n",
              "      <td>meal_SC</td>\n",
              "      <td>0.001282</td>\n",
              "    </tr>\n",
              "    <tr>\n",
              "      <th>11</th>\n",
              "      <td>is_repeated_guest_0</td>\n",
              "      <td>0.084793</td>\n",
              "    </tr>\n",
              "    <tr>\n",
              "      <th>12</th>\n",
              "      <td>is_repeated_guest_1</td>\n",
              "      <td>-0.084793</td>\n",
              "    </tr>\n",
              "    <tr>\n",
              "      <th>13</th>\n",
              "      <td>deposit_type_No Deposit</td>\n",
              "      <td>-0.477911</td>\n",
              "    </tr>\n",
              "    <tr>\n",
              "      <th>14</th>\n",
              "      <td>deposit_type_Non Refund</td>\n",
              "      <td>0.481457</td>\n",
              "    </tr>\n",
              "    <tr>\n",
              "      <th>15</th>\n",
              "      <td>customer_type_Contract</td>\n",
              "      <td>-0.023670</td>\n",
              "    </tr>\n",
              "    <tr>\n",
              "      <th>16</th>\n",
              "      <td>customer_type_Transient</td>\n",
              "      <td>0.133084</td>\n",
              "    </tr>\n",
              "    <tr>\n",
              "      <th>17</th>\n",
              "      <td>customer_type_Transient-Party</td>\n",
              "      <td>-0.124135</td>\n",
              "    </tr>\n",
              "    <tr>\n",
              "      <th>18</th>\n",
              "      <td>country_AUT</td>\n",
              "      <td>-0.040321</td>\n",
              "    </tr>\n",
              "    <tr>\n",
              "      <th>19</th>\n",
              "      <td>country_BEL</td>\n",
              "      <td>-0.049217</td>\n",
              "    </tr>\n",
              "    <tr>\n",
              "      <th>20</th>\n",
              "      <td>country_BRA</td>\n",
              "      <td>0.000795</td>\n",
              "    </tr>\n",
              "    <tr>\n",
              "      <th>21</th>\n",
              "      <td>country_CHE</td>\n",
              "      <td>-0.030889</td>\n",
              "    </tr>\n",
              "    <tr>\n",
              "      <th>22</th>\n",
              "      <td>country_CHN</td>\n",
              "      <td>0.017509</td>\n",
              "    </tr>\n",
              "    <tr>\n",
              "      <th>23</th>\n",
              "      <td>country_CN</td>\n",
              "      <td>-0.037026</td>\n",
              "    </tr>\n",
              "    <tr>\n",
              "      <th>24</th>\n",
              "      <td>country_DEU</td>\n",
              "      <td>-0.107316</td>\n",
              "    </tr>\n",
              "    <tr>\n",
              "      <th>25</th>\n",
              "      <td>country_ESP</td>\n",
              "      <td>-0.066981</td>\n",
              "    </tr>\n",
              "    <tr>\n",
              "      <th>26</th>\n",
              "      <td>country_FRA</td>\n",
              "      <td>-0.118254</td>\n",
              "    </tr>\n",
              "    <tr>\n",
              "      <th>27</th>\n",
              "      <td>country_GBR</td>\n",
              "      <td>-0.117106</td>\n",
              "    </tr>\n",
              "    <tr>\n",
              "      <th>28</th>\n",
              "      <td>country_IRL</td>\n",
              "      <td>-0.043759</td>\n",
              "    </tr>\n",
              "    <tr>\n",
              "      <th>29</th>\n",
              "      <td>country_ISR</td>\n",
              "      <td>-0.018312</td>\n",
              "    </tr>\n",
              "    <tr>\n",
              "      <th>30</th>\n",
              "      <td>country_ITA</td>\n",
              "      <td>-0.006151</td>\n",
              "    </tr>\n",
              "    <tr>\n",
              "      <th>31</th>\n",
              "      <td>country_NLD</td>\n",
              "      <td>-0.051720</td>\n",
              "    </tr>\n",
              "    <tr>\n",
              "      <th>32</th>\n",
              "      <td>country_NOR</td>\n",
              "      <td>-0.010692</td>\n",
              "    </tr>\n",
              "    <tr>\n",
              "      <th>33</th>\n",
              "      <td>country_POL</td>\n",
              "      <td>-0.024889</td>\n",
              "    </tr>\n",
              "    <tr>\n",
              "      <th>34</th>\n",
              "      <td>country_PRT</td>\n",
              "      <td>0.336122</td>\n",
              "    </tr>\n",
              "    <tr>\n",
              "      <th>35</th>\n",
              "      <td>country_RUS</td>\n",
              "      <td>0.001170</td>\n",
              "    </tr>\n",
              "    <tr>\n",
              "      <th>36</th>\n",
              "      <td>country_SWE</td>\n",
              "      <td>-0.028647</td>\n",
              "    </tr>\n",
              "    <tr>\n",
              "      <th>37</th>\n",
              "      <td>country_USA</td>\n",
              "      <td>-0.036411</td>\n",
              "    </tr>\n",
              "    <tr>\n",
              "      <th>38</th>\n",
              "      <td>arrival_date_month_April</td>\n",
              "      <td>0.024885</td>\n",
              "    </tr>\n",
              "    <tr>\n",
              "      <th>39</th>\n",
              "      <td>arrival_date_month_August</td>\n",
              "      <td>0.005343</td>\n",
              "    </tr>\n",
              "    <tr>\n",
              "      <th>40</th>\n",
              "      <td>arrival_date_month_December</td>\n",
              "      <td>-0.010524</td>\n",
              "    </tr>\n",
              "    <tr>\n",
              "      <th>41</th>\n",
              "      <td>arrival_date_month_February</td>\n",
              "      <td>-0.020212</td>\n",
              "    </tr>\n",
              "    <tr>\n",
              "      <th>42</th>\n",
              "      <td>arrival_date_month_January</td>\n",
              "      <td>-0.031073</td>\n",
              "    </tr>\n",
              "    <tr>\n",
              "      <th>43</th>\n",
              "      <td>arrival_date_month_July</td>\n",
              "      <td>0.002938</td>\n",
              "    </tr>\n",
              "    <tr>\n",
              "      <th>44</th>\n",
              "      <td>arrival_date_month_June</td>\n",
              "      <td>0.029039</td>\n",
              "    </tr>\n",
              "    <tr>\n",
              "      <th>45</th>\n",
              "      <td>arrival_date_month_March</td>\n",
              "      <td>-0.030266</td>\n",
              "    </tr>\n",
              "    <tr>\n",
              "      <th>46</th>\n",
              "      <td>arrival_date_month_May</td>\n",
              "      <td>0.017989</td>\n",
              "    </tr>\n",
              "    <tr>\n",
              "      <th>47</th>\n",
              "      <td>arrival_date_month_November</td>\n",
              "      <td>-0.029544</td>\n",
              "    </tr>\n",
              "    <tr>\n",
              "      <th>48</th>\n",
              "      <td>arrival_date_month_October</td>\n",
              "      <td>0.006682</td>\n",
              "    </tr>\n",
              "    <tr>\n",
              "      <th>49</th>\n",
              "      <td>arrival_date_month_September</td>\n",
              "      <td>0.013693</td>\n",
              "    </tr>\n",
              "    <tr>\n",
              "      <th>50</th>\n",
              "      <td>did_room_match</td>\n",
              "      <td>0.247770</td>\n",
              "    </tr>\n",
              "    <tr>\n",
              "      <th>51</th>\n",
              "      <td>booker_room_gain</td>\n",
              "      <td>-0.205484</td>\n",
              "    </tr>\n",
              "  </tbody>\n",
              "</table>\n",
              "</div>"
            ],
            "text/plain": [
              "                         Atributo  Correlacion_distancia_euclidea\n",
              "0              hotel_Resort Hotel                       -0.136531\n",
              "1    market_segment_Complementary                       -0.039306\n",
              "2        market_segment_Corporate                       -0.081667\n",
              "3           market_segment_Direct                       -0.154390\n",
              "4           market_segment_Groups                        0.221859\n",
              "5    market_segment_Offline TA/TO                       -0.028472\n",
              "6        market_segment_Online TA                       -0.006244\n",
              "7                         meal_BB                        0.007147\n",
              "8                         meal_FB                        0.038828\n",
              "9                         meal_HB                       -0.019845\n",
              "10                        meal_SC                        0.001282\n",
              "11            is_repeated_guest_0                        0.084793\n",
              "12            is_repeated_guest_1                       -0.084793\n",
              "13        deposit_type_No Deposit                       -0.477911\n",
              "14        deposit_type_Non Refund                        0.481457\n",
              "15         customer_type_Contract                       -0.023670\n",
              "16        customer_type_Transient                        0.133084\n",
              "17  customer_type_Transient-Party                       -0.124135\n",
              "18                    country_AUT                       -0.040321\n",
              "19                    country_BEL                       -0.049217\n",
              "20                    country_BRA                        0.000795\n",
              "21                    country_CHE                       -0.030889\n",
              "22                    country_CHN                        0.017509\n",
              "23                     country_CN                       -0.037026\n",
              "24                    country_DEU                       -0.107316\n",
              "25                    country_ESP                       -0.066981\n",
              "26                    country_FRA                       -0.118254\n",
              "27                    country_GBR                       -0.117106\n",
              "28                    country_IRL                       -0.043759\n",
              "29                    country_ISR                       -0.018312\n",
              "30                    country_ITA                       -0.006151\n",
              "31                    country_NLD                       -0.051720\n",
              "32                    country_NOR                       -0.010692\n",
              "33                    country_POL                       -0.024889\n",
              "34                    country_PRT                        0.336122\n",
              "35                    country_RUS                        0.001170\n",
              "36                    country_SWE                       -0.028647\n",
              "37                    country_USA                       -0.036411\n",
              "38       arrival_date_month_April                        0.024885\n",
              "39      arrival_date_month_August                        0.005343\n",
              "40    arrival_date_month_December                       -0.010524\n",
              "41    arrival_date_month_February                       -0.020212\n",
              "42     arrival_date_month_January                       -0.031073\n",
              "43        arrival_date_month_July                        0.002938\n",
              "44        arrival_date_month_June                        0.029039\n",
              "45       arrival_date_month_March                       -0.030266\n",
              "46         arrival_date_month_May                        0.017989\n",
              "47    arrival_date_month_November                       -0.029544\n",
              "48     arrival_date_month_October                        0.006682\n",
              "49   arrival_date_month_September                        0.013693\n",
              "50                 did_room_match                        0.247770\n",
              "51               booker_room_gain                       -0.205484"
            ]
          },
          "metadata": {
            "tags": []
          },
          "execution_count": 110
        }
      ]
    },
    {
      "cell_type": "code",
      "metadata": {
        "id": "CAZn0BMEdV0F",
        "colab_type": "code",
        "colab": {
          "base_uri": "https://localhost:8080/",
          "height": 421
        },
        "outputId": "3d0ab4d6-6518-4e94-923e-1b0851bcb197"
      },
      "source": [
        "#Point Biserial para las categóricas\n",
        "corr_num2 = pd.DataFrame(columns=['Atributo', 'Point_Biserial'])\n",
        "\n",
        "for i in range(len(df_numericas.columns)):\n",
        "  feature2= df_numericas.columns[i]\n",
        "  coefficient2 = ss.pointbiserialr(df_categoricas['is_canceled'],df_numericas.iloc[:,i])[0]\n",
        "  corr_num2.loc[i] = [feature2] + [coefficient2]\n",
        "\n",
        "corr_num2.sort_values('Point_Biserial',ascending=False)"
      ],
      "execution_count": null,
      "outputs": [
        {
          "output_type": "execute_result",
          "data": {
            "text/html": [
              "<div>\n",
              "<style scoped>\n",
              "    .dataframe tbody tr th:only-of-type {\n",
              "        vertical-align: middle;\n",
              "    }\n",
              "\n",
              "    .dataframe tbody tr th {\n",
              "        vertical-align: top;\n",
              "    }\n",
              "\n",
              "    .dataframe thead th {\n",
              "        text-align: right;\n",
              "    }\n",
              "</style>\n",
              "<table border=\"1\" class=\"dataframe\">\n",
              "  <thead>\n",
              "    <tr style=\"text-align: right;\">\n",
              "      <th></th>\n",
              "      <th>Atributo</th>\n",
              "      <th>Point_Biserial</th>\n",
              "    </tr>\n",
              "  </thead>\n",
              "  <tbody>\n",
              "    <tr>\n",
              "      <th>0</th>\n",
              "      <td>lead_time</td>\n",
              "      <td>0.293123</td>\n",
              "    </tr>\n",
              "    <tr>\n",
              "      <th>6</th>\n",
              "      <td>previous_cancellations</td>\n",
              "      <td>0.110133</td>\n",
              "    </tr>\n",
              "    <tr>\n",
              "      <th>3</th>\n",
              "      <td>adults</td>\n",
              "      <td>0.060017</td>\n",
              "    </tr>\n",
              "    <tr>\n",
              "      <th>8</th>\n",
              "      <td>days_in_waiting_list</td>\n",
              "      <td>0.054186</td>\n",
              "    </tr>\n",
              "    <tr>\n",
              "      <th>9</th>\n",
              "      <td>adr</td>\n",
              "      <td>0.047557</td>\n",
              "    </tr>\n",
              "    <tr>\n",
              "      <th>1</th>\n",
              "      <td>stays_in_week_nights</td>\n",
              "      <td>0.024765</td>\n",
              "    </tr>\n",
              "    <tr>\n",
              "      <th>4</th>\n",
              "      <td>children</td>\n",
              "      <td>0.005036</td>\n",
              "    </tr>\n",
              "    <tr>\n",
              "      <th>2</th>\n",
              "      <td>stays_in_weekend_nights</td>\n",
              "      <td>-0.001791</td>\n",
              "    </tr>\n",
              "    <tr>\n",
              "      <th>5</th>\n",
              "      <td>babies</td>\n",
              "      <td>-0.032491</td>\n",
              "    </tr>\n",
              "    <tr>\n",
              "      <th>7</th>\n",
              "      <td>previous_bookings_not_canceled</td>\n",
              "      <td>-0.057358</td>\n",
              "    </tr>\n",
              "    <tr>\n",
              "      <th>10</th>\n",
              "      <td>required_car_parking_spaces</td>\n",
              "      <td>-0.195498</td>\n",
              "    </tr>\n",
              "    <tr>\n",
              "      <th>11</th>\n",
              "      <td>total_of_special_requests</td>\n",
              "      <td>-0.234658</td>\n",
              "    </tr>\n",
              "  </tbody>\n",
              "</table>\n",
              "</div>"
            ],
            "text/plain": [
              "                          Atributo  Point_Biserial\n",
              "0                        lead_time        0.293123\n",
              "6           previous_cancellations        0.110133\n",
              "3                           adults        0.060017\n",
              "8             days_in_waiting_list        0.054186\n",
              "9                              adr        0.047557\n",
              "1             stays_in_week_nights        0.024765\n",
              "4                         children        0.005036\n",
              "2          stays_in_weekend_nights       -0.001791\n",
              "5                           babies       -0.032491\n",
              "7   previous_bookings_not_canceled       -0.057358\n",
              "10     required_car_parking_spaces       -0.195498\n",
              "11       total_of_special_requests       -0.234658"
            ]
          },
          "metadata": {
            "tags": []
          },
          "execution_count": 111
        }
      ]
    },
    {
      "cell_type": "code",
      "metadata": {
        "id": "z3_-rP67duyq",
        "colab_type": "code",
        "colab": {
          "base_uri": "https://localhost:8080/",
          "height": 111
        },
        "outputId": "17badb22-ddf5-45b3-bddf-fe54ac19c01b"
      },
      "source": [
        "#Correlaciones ordinales\n",
        "corr_ord2 = pd.DataFrame(columns=['Atributo', 'Spearman'])\n",
        "\n",
        "for i in range(len(corr_ord.columns)):\n",
        "  feature3 = corr_ord.columns[i]\n",
        "  coefficient3 = ss.spearmanr(df_categoricas['is_canceled'],corr_ord.iloc[:,i])[0]\n",
        "  corr_ord2.loc[i] = [feature3] + [coefficient3]\n",
        "\n",
        "corr_ord2.sort_values('Spearman',ascending=False)"
      ],
      "execution_count": null,
      "outputs": [
        {
          "output_type": "execute_result",
          "data": {
            "text/html": [
              "<div>\n",
              "<style scoped>\n",
              "    .dataframe tbody tr th:only-of-type {\n",
              "        vertical-align: middle;\n",
              "    }\n",
              "\n",
              "    .dataframe tbody tr th {\n",
              "        vertical-align: top;\n",
              "    }\n",
              "\n",
              "    .dataframe thead th {\n",
              "        text-align: right;\n",
              "    }\n",
              "</style>\n",
              "<table border=\"1\" class=\"dataframe\">\n",
              "  <thead>\n",
              "    <tr style=\"text-align: right;\">\n",
              "      <th></th>\n",
              "      <th>Atributo</th>\n",
              "      <th>Spearman</th>\n",
              "    </tr>\n",
              "  </thead>\n",
              "  <tbody>\n",
              "    <tr>\n",
              "      <th>1</th>\n",
              "      <td>requested_room_vl</td>\n",
              "      <td>-0.067462</td>\n",
              "    </tr>\n",
              "    <tr>\n",
              "      <th>0</th>\n",
              "      <td>assigned_room_vl</td>\n",
              "      <td>-0.188455</td>\n",
              "    </tr>\n",
              "  </tbody>\n",
              "</table>\n",
              "</div>"
            ],
            "text/plain": [
              "            Atributo  Spearman\n",
              "1  requested_room_vl -0.067462\n",
              "0   assigned_room_vl -0.188455"
            ]
          },
          "metadata": {
            "tags": []
          },
          "execution_count": 112
        }
      ]
    },
    {
      "cell_type": "code",
      "metadata": {
        "id": "b-3iOL-xe6Pw",
        "colab_type": "code",
        "colab": {
          "base_uri": "https://localhost:8080/",
          "height": 1000
        },
        "outputId": "9bdd7f7c-4e38-407e-dd7d-c7177a795ae0"
      },
      "source": [
        "#Unión de las correlaciones\n",
        "o1 = corr_ord2 \n",
        "o1.columns=['Atributo', 'Correlacion']\n",
        "n1 = corr_num2 \n",
        "n1.columns=['Atributo', 'Correlacion']\n",
        "c1 = corr_cat2 \n",
        "c1.columns=['Atributo', 'Correlacion']\n",
        "correlaciones= o1.append(n1.append(c1))\n",
        "correlaciones['Abs(Cor)']=abs(correlaciones['Correlacion'])\n",
        "correlaciones.sort_values('Abs(Cor)', ascending=False)"
      ],
      "execution_count": null,
      "outputs": [
        {
          "output_type": "execute_result",
          "data": {
            "text/html": [
              "<div>\n",
              "<style scoped>\n",
              "    .dataframe tbody tr th:only-of-type {\n",
              "        vertical-align: middle;\n",
              "    }\n",
              "\n",
              "    .dataframe tbody tr th {\n",
              "        vertical-align: top;\n",
              "    }\n",
              "\n",
              "    .dataframe thead th {\n",
              "        text-align: right;\n",
              "    }\n",
              "</style>\n",
              "<table border=\"1\" class=\"dataframe\">\n",
              "  <thead>\n",
              "    <tr style=\"text-align: right;\">\n",
              "      <th></th>\n",
              "      <th>Atributo</th>\n",
              "      <th>Correlacion</th>\n",
              "      <th>Abs(Cor)</th>\n",
              "    </tr>\n",
              "  </thead>\n",
              "  <tbody>\n",
              "    <tr>\n",
              "      <th>14</th>\n",
              "      <td>deposit_type_Non Refund</td>\n",
              "      <td>0.481457</td>\n",
              "      <td>0.481457</td>\n",
              "    </tr>\n",
              "    <tr>\n",
              "      <th>13</th>\n",
              "      <td>deposit_type_No Deposit</td>\n",
              "      <td>-0.477911</td>\n",
              "      <td>0.477911</td>\n",
              "    </tr>\n",
              "    <tr>\n",
              "      <th>34</th>\n",
              "      <td>country_PRT</td>\n",
              "      <td>0.336122</td>\n",
              "      <td>0.336122</td>\n",
              "    </tr>\n",
              "    <tr>\n",
              "      <th>0</th>\n",
              "      <td>lead_time</td>\n",
              "      <td>0.293123</td>\n",
              "      <td>0.293123</td>\n",
              "    </tr>\n",
              "    <tr>\n",
              "      <th>50</th>\n",
              "      <td>did_room_match</td>\n",
              "      <td>0.247770</td>\n",
              "      <td>0.247770</td>\n",
              "    </tr>\n",
              "    <tr>\n",
              "      <th>11</th>\n",
              "      <td>total_of_special_requests</td>\n",
              "      <td>-0.234658</td>\n",
              "      <td>0.234658</td>\n",
              "    </tr>\n",
              "    <tr>\n",
              "      <th>4</th>\n",
              "      <td>market_segment_Groups</td>\n",
              "      <td>0.221859</td>\n",
              "      <td>0.221859</td>\n",
              "    </tr>\n",
              "    <tr>\n",
              "      <th>51</th>\n",
              "      <td>booker_room_gain</td>\n",
              "      <td>-0.205484</td>\n",
              "      <td>0.205484</td>\n",
              "    </tr>\n",
              "    <tr>\n",
              "      <th>10</th>\n",
              "      <td>required_car_parking_spaces</td>\n",
              "      <td>-0.195498</td>\n",
              "      <td>0.195498</td>\n",
              "    </tr>\n",
              "    <tr>\n",
              "      <th>0</th>\n",
              "      <td>assigned_room_vl</td>\n",
              "      <td>-0.188455</td>\n",
              "      <td>0.188455</td>\n",
              "    </tr>\n",
              "    <tr>\n",
              "      <th>3</th>\n",
              "      <td>market_segment_Direct</td>\n",
              "      <td>-0.154390</td>\n",
              "      <td>0.154390</td>\n",
              "    </tr>\n",
              "    <tr>\n",
              "      <th>0</th>\n",
              "      <td>hotel_Resort Hotel</td>\n",
              "      <td>-0.136531</td>\n",
              "      <td>0.136531</td>\n",
              "    </tr>\n",
              "    <tr>\n",
              "      <th>16</th>\n",
              "      <td>customer_type_Transient</td>\n",
              "      <td>0.133084</td>\n",
              "      <td>0.133084</td>\n",
              "    </tr>\n",
              "    <tr>\n",
              "      <th>17</th>\n",
              "      <td>customer_type_Transient-Party</td>\n",
              "      <td>-0.124135</td>\n",
              "      <td>0.124135</td>\n",
              "    </tr>\n",
              "    <tr>\n",
              "      <th>26</th>\n",
              "      <td>country_FRA</td>\n",
              "      <td>-0.118254</td>\n",
              "      <td>0.118254</td>\n",
              "    </tr>\n",
              "    <tr>\n",
              "      <th>27</th>\n",
              "      <td>country_GBR</td>\n",
              "      <td>-0.117106</td>\n",
              "      <td>0.117106</td>\n",
              "    </tr>\n",
              "    <tr>\n",
              "      <th>6</th>\n",
              "      <td>previous_cancellations</td>\n",
              "      <td>0.110133</td>\n",
              "      <td>0.110133</td>\n",
              "    </tr>\n",
              "    <tr>\n",
              "      <th>24</th>\n",
              "      <td>country_DEU</td>\n",
              "      <td>-0.107316</td>\n",
              "      <td>0.107316</td>\n",
              "    </tr>\n",
              "    <tr>\n",
              "      <th>12</th>\n",
              "      <td>is_repeated_guest_1</td>\n",
              "      <td>-0.084793</td>\n",
              "      <td>0.084793</td>\n",
              "    </tr>\n",
              "    <tr>\n",
              "      <th>11</th>\n",
              "      <td>is_repeated_guest_0</td>\n",
              "      <td>0.084793</td>\n",
              "      <td>0.084793</td>\n",
              "    </tr>\n",
              "    <tr>\n",
              "      <th>2</th>\n",
              "      <td>market_segment_Corporate</td>\n",
              "      <td>-0.081667</td>\n",
              "      <td>0.081667</td>\n",
              "    </tr>\n",
              "    <tr>\n",
              "      <th>1</th>\n",
              "      <td>requested_room_vl</td>\n",
              "      <td>-0.067462</td>\n",
              "      <td>0.067462</td>\n",
              "    </tr>\n",
              "    <tr>\n",
              "      <th>25</th>\n",
              "      <td>country_ESP</td>\n",
              "      <td>-0.066981</td>\n",
              "      <td>0.066981</td>\n",
              "    </tr>\n",
              "    <tr>\n",
              "      <th>3</th>\n",
              "      <td>adults</td>\n",
              "      <td>0.060017</td>\n",
              "      <td>0.060017</td>\n",
              "    </tr>\n",
              "    <tr>\n",
              "      <th>7</th>\n",
              "      <td>previous_bookings_not_canceled</td>\n",
              "      <td>-0.057358</td>\n",
              "      <td>0.057358</td>\n",
              "    </tr>\n",
              "    <tr>\n",
              "      <th>8</th>\n",
              "      <td>days_in_waiting_list</td>\n",
              "      <td>0.054186</td>\n",
              "      <td>0.054186</td>\n",
              "    </tr>\n",
              "    <tr>\n",
              "      <th>31</th>\n",
              "      <td>country_NLD</td>\n",
              "      <td>-0.051720</td>\n",
              "      <td>0.051720</td>\n",
              "    </tr>\n",
              "    <tr>\n",
              "      <th>19</th>\n",
              "      <td>country_BEL</td>\n",
              "      <td>-0.049217</td>\n",
              "      <td>0.049217</td>\n",
              "    </tr>\n",
              "    <tr>\n",
              "      <th>9</th>\n",
              "      <td>adr</td>\n",
              "      <td>0.047557</td>\n",
              "      <td>0.047557</td>\n",
              "    </tr>\n",
              "    <tr>\n",
              "      <th>28</th>\n",
              "      <td>country_IRL</td>\n",
              "      <td>-0.043759</td>\n",
              "      <td>0.043759</td>\n",
              "    </tr>\n",
              "    <tr>\n",
              "      <th>18</th>\n",
              "      <td>country_AUT</td>\n",
              "      <td>-0.040321</td>\n",
              "      <td>0.040321</td>\n",
              "    </tr>\n",
              "    <tr>\n",
              "      <th>1</th>\n",
              "      <td>market_segment_Complementary</td>\n",
              "      <td>-0.039306</td>\n",
              "      <td>0.039306</td>\n",
              "    </tr>\n",
              "    <tr>\n",
              "      <th>8</th>\n",
              "      <td>meal_FB</td>\n",
              "      <td>0.038828</td>\n",
              "      <td>0.038828</td>\n",
              "    </tr>\n",
              "    <tr>\n",
              "      <th>23</th>\n",
              "      <td>country_CN</td>\n",
              "      <td>-0.037026</td>\n",
              "      <td>0.037026</td>\n",
              "    </tr>\n",
              "    <tr>\n",
              "      <th>37</th>\n",
              "      <td>country_USA</td>\n",
              "      <td>-0.036411</td>\n",
              "      <td>0.036411</td>\n",
              "    </tr>\n",
              "    <tr>\n",
              "      <th>5</th>\n",
              "      <td>babies</td>\n",
              "      <td>-0.032491</td>\n",
              "      <td>0.032491</td>\n",
              "    </tr>\n",
              "    <tr>\n",
              "      <th>42</th>\n",
              "      <td>arrival_date_month_January</td>\n",
              "      <td>-0.031073</td>\n",
              "      <td>0.031073</td>\n",
              "    </tr>\n",
              "    <tr>\n",
              "      <th>21</th>\n",
              "      <td>country_CHE</td>\n",
              "      <td>-0.030889</td>\n",
              "      <td>0.030889</td>\n",
              "    </tr>\n",
              "    <tr>\n",
              "      <th>45</th>\n",
              "      <td>arrival_date_month_March</td>\n",
              "      <td>-0.030266</td>\n",
              "      <td>0.030266</td>\n",
              "    </tr>\n",
              "    <tr>\n",
              "      <th>47</th>\n",
              "      <td>arrival_date_month_November</td>\n",
              "      <td>-0.029544</td>\n",
              "      <td>0.029544</td>\n",
              "    </tr>\n",
              "    <tr>\n",
              "      <th>44</th>\n",
              "      <td>arrival_date_month_June</td>\n",
              "      <td>0.029039</td>\n",
              "      <td>0.029039</td>\n",
              "    </tr>\n",
              "    <tr>\n",
              "      <th>36</th>\n",
              "      <td>country_SWE</td>\n",
              "      <td>-0.028647</td>\n",
              "      <td>0.028647</td>\n",
              "    </tr>\n",
              "    <tr>\n",
              "      <th>5</th>\n",
              "      <td>market_segment_Offline TA/TO</td>\n",
              "      <td>-0.028472</td>\n",
              "      <td>0.028472</td>\n",
              "    </tr>\n",
              "    <tr>\n",
              "      <th>33</th>\n",
              "      <td>country_POL</td>\n",
              "      <td>-0.024889</td>\n",
              "      <td>0.024889</td>\n",
              "    </tr>\n",
              "    <tr>\n",
              "      <th>38</th>\n",
              "      <td>arrival_date_month_April</td>\n",
              "      <td>0.024885</td>\n",
              "      <td>0.024885</td>\n",
              "    </tr>\n",
              "    <tr>\n",
              "      <th>1</th>\n",
              "      <td>stays_in_week_nights</td>\n",
              "      <td>0.024765</td>\n",
              "      <td>0.024765</td>\n",
              "    </tr>\n",
              "    <tr>\n",
              "      <th>15</th>\n",
              "      <td>customer_type_Contract</td>\n",
              "      <td>-0.023670</td>\n",
              "      <td>0.023670</td>\n",
              "    </tr>\n",
              "    <tr>\n",
              "      <th>41</th>\n",
              "      <td>arrival_date_month_February</td>\n",
              "      <td>-0.020212</td>\n",
              "      <td>0.020212</td>\n",
              "    </tr>\n",
              "    <tr>\n",
              "      <th>9</th>\n",
              "      <td>meal_HB</td>\n",
              "      <td>-0.019845</td>\n",
              "      <td>0.019845</td>\n",
              "    </tr>\n",
              "    <tr>\n",
              "      <th>29</th>\n",
              "      <td>country_ISR</td>\n",
              "      <td>-0.018312</td>\n",
              "      <td>0.018312</td>\n",
              "    </tr>\n",
              "    <tr>\n",
              "      <th>46</th>\n",
              "      <td>arrival_date_month_May</td>\n",
              "      <td>0.017989</td>\n",
              "      <td>0.017989</td>\n",
              "    </tr>\n",
              "    <tr>\n",
              "      <th>22</th>\n",
              "      <td>country_CHN</td>\n",
              "      <td>0.017509</td>\n",
              "      <td>0.017509</td>\n",
              "    </tr>\n",
              "    <tr>\n",
              "      <th>49</th>\n",
              "      <td>arrival_date_month_September</td>\n",
              "      <td>0.013693</td>\n",
              "      <td>0.013693</td>\n",
              "    </tr>\n",
              "    <tr>\n",
              "      <th>32</th>\n",
              "      <td>country_NOR</td>\n",
              "      <td>-0.010692</td>\n",
              "      <td>0.010692</td>\n",
              "    </tr>\n",
              "    <tr>\n",
              "      <th>40</th>\n",
              "      <td>arrival_date_month_December</td>\n",
              "      <td>-0.010524</td>\n",
              "      <td>0.010524</td>\n",
              "    </tr>\n",
              "    <tr>\n",
              "      <th>7</th>\n",
              "      <td>meal_BB</td>\n",
              "      <td>0.007147</td>\n",
              "      <td>0.007147</td>\n",
              "    </tr>\n",
              "    <tr>\n",
              "      <th>48</th>\n",
              "      <td>arrival_date_month_October</td>\n",
              "      <td>0.006682</td>\n",
              "      <td>0.006682</td>\n",
              "    </tr>\n",
              "    <tr>\n",
              "      <th>6</th>\n",
              "      <td>market_segment_Online TA</td>\n",
              "      <td>-0.006244</td>\n",
              "      <td>0.006244</td>\n",
              "    </tr>\n",
              "    <tr>\n",
              "      <th>30</th>\n",
              "      <td>country_ITA</td>\n",
              "      <td>-0.006151</td>\n",
              "      <td>0.006151</td>\n",
              "    </tr>\n",
              "    <tr>\n",
              "      <th>39</th>\n",
              "      <td>arrival_date_month_August</td>\n",
              "      <td>0.005343</td>\n",
              "      <td>0.005343</td>\n",
              "    </tr>\n",
              "    <tr>\n",
              "      <th>4</th>\n",
              "      <td>children</td>\n",
              "      <td>0.005036</td>\n",
              "      <td>0.005036</td>\n",
              "    </tr>\n",
              "    <tr>\n",
              "      <th>43</th>\n",
              "      <td>arrival_date_month_July</td>\n",
              "      <td>0.002938</td>\n",
              "      <td>0.002938</td>\n",
              "    </tr>\n",
              "    <tr>\n",
              "      <th>2</th>\n",
              "      <td>stays_in_weekend_nights</td>\n",
              "      <td>-0.001791</td>\n",
              "      <td>0.001791</td>\n",
              "    </tr>\n",
              "    <tr>\n",
              "      <th>10</th>\n",
              "      <td>meal_SC</td>\n",
              "      <td>0.001282</td>\n",
              "      <td>0.001282</td>\n",
              "    </tr>\n",
              "    <tr>\n",
              "      <th>35</th>\n",
              "      <td>country_RUS</td>\n",
              "      <td>0.001170</td>\n",
              "      <td>0.001170</td>\n",
              "    </tr>\n",
              "    <tr>\n",
              "      <th>20</th>\n",
              "      <td>country_BRA</td>\n",
              "      <td>0.000795</td>\n",
              "      <td>0.000795</td>\n",
              "    </tr>\n",
              "  </tbody>\n",
              "</table>\n",
              "</div>"
            ],
            "text/plain": [
              "                          Atributo  Correlacion  Abs(Cor)\n",
              "14         deposit_type_Non Refund     0.481457  0.481457\n",
              "13         deposit_type_No Deposit    -0.477911  0.477911\n",
              "34                     country_PRT     0.336122  0.336122\n",
              "0                        lead_time     0.293123  0.293123\n",
              "50                  did_room_match     0.247770  0.247770\n",
              "11       total_of_special_requests    -0.234658  0.234658\n",
              "4            market_segment_Groups     0.221859  0.221859\n",
              "51                booker_room_gain    -0.205484  0.205484\n",
              "10     required_car_parking_spaces    -0.195498  0.195498\n",
              "0                 assigned_room_vl    -0.188455  0.188455\n",
              "3            market_segment_Direct    -0.154390  0.154390\n",
              "0               hotel_Resort Hotel    -0.136531  0.136531\n",
              "16         customer_type_Transient     0.133084  0.133084\n",
              "17   customer_type_Transient-Party    -0.124135  0.124135\n",
              "26                     country_FRA    -0.118254  0.118254\n",
              "27                     country_GBR    -0.117106  0.117106\n",
              "6           previous_cancellations     0.110133  0.110133\n",
              "24                     country_DEU    -0.107316  0.107316\n",
              "12             is_repeated_guest_1    -0.084793  0.084793\n",
              "11             is_repeated_guest_0     0.084793  0.084793\n",
              "2         market_segment_Corporate    -0.081667  0.081667\n",
              "1                requested_room_vl    -0.067462  0.067462\n",
              "25                     country_ESP    -0.066981  0.066981\n",
              "3                           adults     0.060017  0.060017\n",
              "7   previous_bookings_not_canceled    -0.057358  0.057358\n",
              "8             days_in_waiting_list     0.054186  0.054186\n",
              "31                     country_NLD    -0.051720  0.051720\n",
              "19                     country_BEL    -0.049217  0.049217\n",
              "9                              adr     0.047557  0.047557\n",
              "28                     country_IRL    -0.043759  0.043759\n",
              "18                     country_AUT    -0.040321  0.040321\n",
              "1     market_segment_Complementary    -0.039306  0.039306\n",
              "8                          meal_FB     0.038828  0.038828\n",
              "23                      country_CN    -0.037026  0.037026\n",
              "37                     country_USA    -0.036411  0.036411\n",
              "5                           babies    -0.032491  0.032491\n",
              "42      arrival_date_month_January    -0.031073  0.031073\n",
              "21                     country_CHE    -0.030889  0.030889\n",
              "45        arrival_date_month_March    -0.030266  0.030266\n",
              "47     arrival_date_month_November    -0.029544  0.029544\n",
              "44         arrival_date_month_June     0.029039  0.029039\n",
              "36                     country_SWE    -0.028647  0.028647\n",
              "5     market_segment_Offline TA/TO    -0.028472  0.028472\n",
              "33                     country_POL    -0.024889  0.024889\n",
              "38        arrival_date_month_April     0.024885  0.024885\n",
              "1             stays_in_week_nights     0.024765  0.024765\n",
              "15          customer_type_Contract    -0.023670  0.023670\n",
              "41     arrival_date_month_February    -0.020212  0.020212\n",
              "9                          meal_HB    -0.019845  0.019845\n",
              "29                     country_ISR    -0.018312  0.018312\n",
              "46          arrival_date_month_May     0.017989  0.017989\n",
              "22                     country_CHN     0.017509  0.017509\n",
              "49    arrival_date_month_September     0.013693  0.013693\n",
              "32                     country_NOR    -0.010692  0.010692\n",
              "40     arrival_date_month_December    -0.010524  0.010524\n",
              "7                          meal_BB     0.007147  0.007147\n",
              "48      arrival_date_month_October     0.006682  0.006682\n",
              "6         market_segment_Online TA    -0.006244  0.006244\n",
              "30                     country_ITA    -0.006151  0.006151\n",
              "39       arrival_date_month_August     0.005343  0.005343\n",
              "4                         children     0.005036  0.005036\n",
              "43         arrival_date_month_July     0.002938  0.002938\n",
              "2          stays_in_weekend_nights    -0.001791  0.001791\n",
              "10                         meal_SC     0.001282  0.001282\n",
              "35                     country_RUS     0.001170  0.001170\n",
              "20                     country_BRA     0.000795  0.000795"
            ]
          },
          "metadata": {
            "tags": []
          },
          "execution_count": 113
        }
      ]
    },
    {
      "cell_type": "code",
      "metadata": {
        "id": "eebZAws2t7bj",
        "colab_type": "code",
        "colab": {
          "base_uri": "https://localhost:8080/",
          "height": 279
        },
        "outputId": "55adbfa8-cf51-40c4-ba28-735647f3eaa2"
      },
      "source": [
        "sortedCorr = correlaciones.sort_values('Abs(Cor)', ascending=True)[-10:]\n",
        "corr = sortedCorr.Atributo\n",
        "vals = sortedCorr.Correlacion\n",
        "y_pos = np.arange(len(vals))\n",
        "plt.rcParams[\"figure.figsize\"] = [4, 4]\n",
        "plt.rcParams[\"font.size\"] = \"40\"\n",
        "plt.barh(y_pos, vals)\n",
        "plt.yticks(y_pos, corr)\n",
        "plt.show()\n"
      ],
      "execution_count": null,
      "outputs": [
        {
          "output_type": "display_data",
          "data": {
            "image/png": "[encoded data removed]",
            "text/plain": [
              "<Figure size 288x288 with 1 Axes>"
            ]
          },
          "metadata": {
            "tags": [],
            "needs_background": "light"
          }
        }
      ]
    },
    {
      "cell_type": "markdown",
      "metadata": {
        "id": "p1NdKHJCoF2s",
        "colab_type": "text"
      },
      "source": [
        "## e. Se encuentra balanceado el set"
      ]
    },
    {
      "cell_type": "code",
      "metadata": {
        "id": "v7Us_OjBV0xU",
        "colab_type": "code",
        "colab": {
          "base_uri": "https://localhost:8080/",
          "height": 68
        },
        "outputId": "b15423bb-b6b1-4d8d-d3b0-76c7cf3d6e0b"
      },
      "source": [
        "# Buscamos conocer que tan balanceado está nuestro dataset\n",
        "bookings_df['is_canceled'].value_counts(normalize=True)"
      ],
      "execution_count": null,
      "outputs": [
        {
          "output_type": "execute_result",
          "data": {
            "text/plain": [
              "0    0.629584\n",
              "1    0.370416\n",
              "Name: is_canceled, dtype: float64"
            ]
          },
          "metadata": {
            "tags": []
          },
          "execution_count": 115
        }
      ]
    },
    {
      "cell_type": "code",
      "metadata": {
        "id": "LZmVYvTRrJ5H",
        "colab_type": "code",
        "colab": {
          "base_uri": "https://localhost:8080/",
          "height": 68
        },
        "outputId": "d884df97-99ed-4079-98b4-f3788529840e"
      },
      "source": [
        "df_correlations['is_canceled'].value_counts(normalize=True)"
      ],
      "execution_count": null,
      "outputs": [
        {
          "output_type": "execute_result",
          "data": {
            "text/plain": [
              "0    0.629584\n",
              "1    0.370416\n",
              "Name: is_canceled, dtype: float64"
            ]
          },
          "metadata": {
            "tags": []
          },
          "execution_count": 116
        }
      ]
    },
    {
      "cell_type": "markdown",
      "metadata": {
        "id": "xNM8u6B4qWQg",
        "colab_type": "text"
      },
      "source": [
        "## g. Implementación Árbol de Decisión"
      ]
    },
    {
      "cell_type": "markdown",
      "metadata": {
        "id": "esBjqJn0de8C",
        "colab_type": "text"
      },
      "source": [
        "### 0) Ajuste de cantidad de atributos seleccionados"
      ]
    },
    {
      "cell_type": "markdown",
      "metadata": {
        "id": "b0SQcnNgdtF6",
        "colab_type": "text"
      },
      "source": [
        "Para acelearar el procesamiento, **PODEMOS** reducir la cantidad de atributos, filtrando por un valor de correlación"
      ]
    },
    {
      "cell_type": "code",
      "metadata": {
        "id": "PrXa8xKud0ja",
        "colab_type": "code",
        "colab": {
          "base_uri": "https://localhost:8080/",
          "height": 34
        },
        "outputId": "a4e19dfc-0693-4af7-ffdc-e14bfe9ffecb"
      },
      "source": [
        "correlation_cut_value = 0.2\n",
        "\n",
        "strong_features = list(correlaciones.loc[correlaciones['Abs(Cor)'] > correlation_cut_value]['Atributo'])\n",
        "\n",
        "len(strong_features)"
      ],
      "execution_count": null,
      "outputs": [
        {
          "output_type": "execute_result",
          "data": {
            "text/plain": [
              "8"
            ]
          },
          "metadata": {
            "tags": []
          },
          "execution_count": 86
        }
      ]
    },
    {
      "cell_type": "code",
      "metadata": {
        "id": "CCajaWBCeWuf",
        "colab_type": "code",
        "colab": {
          "base_uri": "https://localhost:8080/",
          "height": 456
        },
        "outputId": "13c861e4-7c6b-4352-d430-eb02d1248600"
      },
      "source": [
        "df_correlations = df_correlations.loc[:,strong_features]\n",
        "df_correlations = pd.concat([df_correlations,df_categoricas['is_canceled']],axis=1)\n",
        "df_correlations"
      ],
      "execution_count": null,
      "outputs": [
        {
          "output_type": "execute_result",
          "data": {
            "text/html": [
              "<div>\n",
              "<style scoped>\n",
              "    .dataframe tbody tr th:only-of-type {\n",
              "        vertical-align: middle;\n",
              "    }\n",
              "\n",
              "    .dataframe tbody tr th {\n",
              "        vertical-align: top;\n",
              "    }\n",
              "\n",
              "    .dataframe thead th {\n",
              "        text-align: right;\n",
              "    }\n",
              "</style>\n",
              "<table border=\"1\" class=\"dataframe\">\n",
              "  <thead>\n",
              "    <tr style=\"text-align: right;\">\n",
              "      <th></th>\n",
              "      <th>lead_time</th>\n",
              "      <th>total_of_special_requests</th>\n",
              "      <th>market_segment_Groups</th>\n",
              "      <th>deposit_type_No Deposit</th>\n",
              "      <th>deposit_type_Non Refund</th>\n",
              "      <th>country_PRT</th>\n",
              "      <th>did_room_match</th>\n",
              "      <th>booker_room_gain</th>\n",
              "      <th>is_canceled</th>\n",
              "    </tr>\n",
              "  </thead>\n",
              "  <tbody>\n",
              "    <tr>\n",
              "      <th>0</th>\n",
              "      <td>342</td>\n",
              "      <td>0</td>\n",
              "      <td>0</td>\n",
              "      <td>1</td>\n",
              "      <td>0</td>\n",
              "      <td>1</td>\n",
              "      <td>1</td>\n",
              "      <td>0</td>\n",
              "      <td>0</td>\n",
              "    </tr>\n",
              "    <tr>\n",
              "      <th>1</th>\n",
              "      <td>737</td>\n",
              "      <td>0</td>\n",
              "      <td>0</td>\n",
              "      <td>1</td>\n",
              "      <td>0</td>\n",
              "      <td>1</td>\n",
              "      <td>1</td>\n",
              "      <td>0</td>\n",
              "      <td>0</td>\n",
              "    </tr>\n",
              "    <tr>\n",
              "      <th>2</th>\n",
              "      <td>7</td>\n",
              "      <td>0</td>\n",
              "      <td>0</td>\n",
              "      <td>1</td>\n",
              "      <td>0</td>\n",
              "      <td>0</td>\n",
              "      <td>0</td>\n",
              "      <td>2</td>\n",
              "      <td>0</td>\n",
              "    </tr>\n",
              "    <tr>\n",
              "      <th>3</th>\n",
              "      <td>13</td>\n",
              "      <td>0</td>\n",
              "      <td>0</td>\n",
              "      <td>1</td>\n",
              "      <td>0</td>\n",
              "      <td>0</td>\n",
              "      <td>1</td>\n",
              "      <td>0</td>\n",
              "      <td>0</td>\n",
              "    </tr>\n",
              "    <tr>\n",
              "      <th>4</th>\n",
              "      <td>14</td>\n",
              "      <td>1</td>\n",
              "      <td>0</td>\n",
              "      <td>1</td>\n",
              "      <td>0</td>\n",
              "      <td>0</td>\n",
              "      <td>1</td>\n",
              "      <td>0</td>\n",
              "      <td>0</td>\n",
              "    </tr>\n",
              "    <tr>\n",
              "      <th>...</th>\n",
              "      <td>...</td>\n",
              "      <td>...</td>\n",
              "      <td>...</td>\n",
              "      <td>...</td>\n",
              "      <td>...</td>\n",
              "      <td>...</td>\n",
              "      <td>...</td>\n",
              "      <td>...</td>\n",
              "      <td>...</td>\n",
              "    </tr>\n",
              "    <tr>\n",
              "      <th>119385</th>\n",
              "      <td>23</td>\n",
              "      <td>0</td>\n",
              "      <td>0</td>\n",
              "      <td>1</td>\n",
              "      <td>0</td>\n",
              "      <td>0</td>\n",
              "      <td>1</td>\n",
              "      <td>0</td>\n",
              "      <td>0</td>\n",
              "    </tr>\n",
              "    <tr>\n",
              "      <th>119386</th>\n",
              "      <td>102</td>\n",
              "      <td>2</td>\n",
              "      <td>0</td>\n",
              "      <td>1</td>\n",
              "      <td>0</td>\n",
              "      <td>0</td>\n",
              "      <td>1</td>\n",
              "      <td>0</td>\n",
              "      <td>0</td>\n",
              "    </tr>\n",
              "    <tr>\n",
              "      <th>119387</th>\n",
              "      <td>34</td>\n",
              "      <td>4</td>\n",
              "      <td>0</td>\n",
              "      <td>1</td>\n",
              "      <td>0</td>\n",
              "      <td>0</td>\n",
              "      <td>1</td>\n",
              "      <td>0</td>\n",
              "      <td>0</td>\n",
              "    </tr>\n",
              "    <tr>\n",
              "      <th>119388</th>\n",
              "      <td>109</td>\n",
              "      <td>0</td>\n",
              "      <td>0</td>\n",
              "      <td>1</td>\n",
              "      <td>0</td>\n",
              "      <td>0</td>\n",
              "      <td>1</td>\n",
              "      <td>0</td>\n",
              "      <td>0</td>\n",
              "    </tr>\n",
              "    <tr>\n",
              "      <th>119389</th>\n",
              "      <td>205</td>\n",
              "      <td>2</td>\n",
              "      <td>0</td>\n",
              "      <td>1</td>\n",
              "      <td>0</td>\n",
              "      <td>0</td>\n",
              "      <td>1</td>\n",
              "      <td>0</td>\n",
              "      <td>0</td>\n",
              "    </tr>\n",
              "  </tbody>\n",
              "</table>\n",
              "<p>119390 rows × 9 columns</p>\n",
              "</div>"
            ],
            "text/plain": [
              "        lead_time  total_of_special_requests  market_segment_Groups  deposit_type_No Deposit  deposit_type_Non Refund  country_PRT  did_room_match  booker_room_gain  is_canceled\n",
              "0             342                          0                      0                        1                        0            1               1                 0            0\n",
              "1             737                          0                      0                        1                        0            1               1                 0            0\n",
              "2               7                          0                      0                        1                        0            0               0                 2            0\n",
              "3              13                          0                      0                        1                        0            0               1                 0            0\n",
              "4              14                          1                      0                        1                        0            0               1                 0            0\n",
              "...           ...                        ...                    ...                      ...                      ...          ...             ...               ...          ...\n",
              "119385         23                          0                      0                        1                        0            0               1                 0            0\n",
              "119386        102                          2                      0                        1                        0            0               1                 0            0\n",
              "119387         34                          4                      0                        1                        0            0               1                 0            0\n",
              "119388        109                          0                      0                        1                        0            0               1                 0            0\n",
              "119389        205                          2                      0                        1                        0            0               1                 0            0\n",
              "\n",
              "[119390 rows x 9 columns]"
            ]
          },
          "metadata": {
            "tags": []
          },
          "execution_count": 87
        }
      ]
    },
    {
      "cell_type": "code",
      "metadata": {
        "id": "VnDj53egep3T",
        "colab_type": "code",
        "colab": {
          "base_uri": "https://localhost:8080/",
          "height": 34
        },
        "outputId": "e68e15e7-f421-4a9d-8973-2ee0822eeca5"
      },
      "source": [
        "len(df_correlations.columns)-1"
      ],
      "execution_count": null,
      "outputs": [
        {
          "output_type": "execute_result",
          "data": {
            "text/plain": [
              "8"
            ]
          },
          "metadata": {
            "tags": []
          },
          "execution_count": 88
        }
      ]
    },
    {
      "cell_type": "markdown",
      "metadata": {
        "id": "PjvE4Dw1fjMK",
        "colab_type": "text"
      },
      "source": [
        "### 1) Arbol de decisión"
      ]
    },
    {
      "cell_type": "code",
      "metadata": {
        "id": "tRwXoRN2WTTH",
        "colab_type": "code",
        "colab": {}
      },
      "source": [
        "from sklearn.metrics import fbeta_score\n",
        "\n",
        "# Con sklearn podemos dividir nuestros datos en conjuntos de entrenamiento, validación y prueba.\n",
        "# Para el análisis deberiamos utilizar un DF con las variables dummies cargadas\n",
        "features =  df_correlations.loc[:, df_correlations.columns != 'is_canceled'].columns\n",
        "target = 'is_canceled'\n",
        "\n",
        "# Armamos set de datos de dev (0.8) y test (0.2)\n",
        "x_dev, x_test, y_dev, y_test = train_test_split(\n",
        "    df_correlations[features].values, \n",
        "    df_correlations[target].values, \n",
        "    test_size=0.2, \n",
        "    random_state=42,\n",
        "    stratify=df_correlations[target].values\n",
        ")                           \n",
        "\n",
        "n_seeds = 50\n",
        "accs = []\n",
        "precisions = []\n",
        "recalls = []\n",
        "f1s = []\n",
        "f1s_two = []\n",
        "\n",
        "for seed in range(n_seeds):\n",
        "  # Tree Classifier\n",
        "  arbol_sklearn = DecisionTreeClassifier(max_depth=len(df_correlations.columns)-1, random_state=42)\n",
        "\n",
        "  # División train-validation\n",
        "  # x_dev y y_dev son el 80% de mi partición anterior\n",
        "  # x_train y y_train el 80% de esta partición (0.64)\n",
        "  # x_val_ y y_val el 20% de esta partición (0.16)\n",
        "  x_train, x_val, y_train, y_val = train_test_split(\n",
        "      x_dev, \n",
        "      y_dev, \n",
        "      test_size=0.2, \n",
        "      random_state=seed,\n",
        "      stratify=y_dev\n",
        "  ) \n",
        "\n",
        "  # Entrenamos al arbol\n",
        "  arbol_sklearn.fit(x_train,y_train)\n",
        "\n",
        "  # Ejecutamos nuestra predicción\n",
        "  y_pred_val = arbol_sklearn.predict(x_val)\n",
        "\n",
        "  # Medimos (accuracy, precision, recall y f-scores) de nuestra predicción\n",
        "  accs.append(\n",
        "      accuracy_score(y_val,y_pred_val)\n",
        "  )\n",
        "  precisions.append(\n",
        "      precision_score(y_val,y_pred_val)\n",
        "  )\n",
        "  recalls.append(\n",
        "      recall_score(y_val,y_pred_val)\n",
        "  )\n",
        "  f1s.append(\n",
        "      f1_score(y_val,y_pred_val)\n",
        "  )\n",
        "  f1s_two.append(\n",
        "      fbeta_score(y_val, y_pred_val, beta=2)\n",
        "  )\n",
        "\n",
        "metric_labels = ['Accuracy']*len(accs) + ['Precision']*len(precisions) + ['Recall']*len(recalls) + ['F1 Score']*len(f1s) + ['F2 Score']*len(f1s_two)\n",
        "all_metrics = accs + precisions + recalls + f1s + f1s_two\n",
        "\n",
        "wanted_metric_labels = ['Precision']*len(precisions) + ['Recall']*len(recalls) + ['F2 Score']*len(f1s_two)\n",
        "wanted_metrics = precisions + recalls + f1s_two\n"
      ],
      "execution_count": null,
      "outputs": []
    },
    {
      "cell_type": "code",
      "metadata": {
        "id": "Fr_25ygQc19s",
        "colab_type": "code",
        "colab": {
          "base_uri": "https://localhost:8080/",
          "height": 513
        },
        "outputId": "0c7d3b48-5b12-4fb8-dd8a-9f93e10d7e67"
      },
      "source": [
        "# Boxplots de Métricas\n",
        "sns.set_context('talk')\n",
        "plt.figure(figsize=(15,8))\n",
        "sns.boxplot(metric_labels,all_metrics)"
      ],
      "execution_count": null,
      "outputs": [
        {
          "output_type": "execute_result",
          "data": {
            "text/plain": [
              "<matplotlib.axes._subplots.AxesSubplot at 0x7fd1fb594c18>"
            ]
          },
          "metadata": {
            "tags": []
          },
          "execution_count": 118
        },
        {
          "output_type": "display_data",
          "data": {
            "image/png": "[encoded data removed]",
            "text/plain": [
              "<Figure size 1080x576 with 1 Axes>"
            ]
          },
          "metadata": {
            "tags": [],
            "needs_background": "light"
          }
        }
      ]
    },
    {
      "cell_type": "code",
      "metadata": {
        "id": "ZibWp_bgr5t5",
        "colab_type": "code",
        "colab": {
          "base_uri": "https://localhost:8080/",
          "height": 513
        },
        "outputId": "0bdea952-f1de-43f0-c157-837ba6488570"
      },
      "source": [
        "# Boxplots de Métricas Buscadas\n",
        "sns.set_context('talk')\n",
        "plt.figure(figsize=(15,8))\n",
        "sns.boxplot(wanted_metric_labels,wanted_metrics)"
      ],
      "execution_count": null,
      "outputs": [
        {
          "output_type": "execute_result",
          "data": {
            "text/plain": [
              "<matplotlib.axes._subplots.AxesSubplot at 0x7fd1fb5a1f98>"
            ]
          },
          "metadata": {
            "tags": []
          },
          "execution_count": 119
        },
        {
          "output_type": "display_data",
          "data": {
            "image/png": "[encoded data removed]",
            "text/plain": [
              "<Figure size 1080x576 with 1 Axes>"
            ]
          },
          "metadata": {
            "tags": [],
            "needs_background": "light"
          }
        }
      ]
    },
    {
      "cell_type": "markdown",
      "metadata": {
        "id": "jEaZ3gH-19El",
        "colab_type": "text"
      },
      "source": [
        "### 2) K-fold cross validation"
      ]
    },
    {
      "cell_type": "code",
      "metadata": {
        "id": "veCYk0R-aRMa",
        "colab_type": "code",
        "colab": {}
      },
      "source": [
        "from sklearn.model_selection import StratifiedKFold, KFold, GridSearchCV, RandomizedSearchCV\n",
        "from sklearn.metrics import make_scorer\n",
        "from sklearn.metrics import fbeta_score\n",
        "import numpy as np\n",
        "\n",
        "kfold_accs = []\n",
        "kfold_precisions = []\n",
        "kfold_recalls = []\n",
        "kfold_f1s = []\n",
        "kfold_f1s_two = []\n",
        "\n",
        "kfoldcv = StratifiedKFold(n_splits=50)\n",
        "\n",
        "for train_index, test_index in kfoldcv.split(x_dev, y_dev):\n",
        "  x_train, x_val = x_dev[train_index], x_dev[test_index]\n",
        "  y_train, y_val = y_dev[train_index], y_dev[test_index]\n",
        "\n",
        "  # Tree Classifier\n",
        "  kfold_tree = DecisionTreeClassifier(max_depth=len(df_correlations.columns)-1, random_state=42)\n",
        "\n",
        "  # Entrenamos al arbol\n",
        "  kfold_tree.fit(x_train,y_train)\n",
        "\n",
        "  # Ejecutamos nuestra predicción\n",
        "  y_pred_val = kfold_tree.predict(x_val)\n",
        "\n",
        "  # Medimos (accuracy, precision, recall y f-scores) de nuestra predicción\n",
        "  kfold_accs.append(\n",
        "      accuracy_score(y_val,y_pred_val)\n",
        "  )\n",
        "  kfold_precisions.append(\n",
        "      precision_score(y_val,y_pred_val)\n",
        "  )\n",
        "  kfold_recalls.append(\n",
        "      recall_score(y_val,y_pred_val)\n",
        "  )\n",
        "  kfold_f1s.append(\n",
        "      f1_score(y_val,y_pred_val)\n",
        "  )\n",
        "  kfold_f1s_two.append(\n",
        "      fbeta_score(y_val, y_pred_val, beta=2)\n",
        "  )\n",
        "\n",
        "kfold_metric_labels = ['Accuracy']*len(kfold_accs) + ['Precision']*len(kfold_precisions) + ['Recall']*len(kfold_recalls) + ['F1 Score']*len(kfold_f1s) + ['F2 Score']*len(kfold_f1s_two)\n",
        "kfold_all_metrics = kfold_accs + kfold_precisions + kfold_recalls + kfold_f1s + kfold_f1s_two\n",
        "\n",
        "kfold_wanted_metric_labels = ['Precision']*len(kfold_precisions) + ['Recall']*len(kfold_recalls) + ['F2 Score']*len(kfold_f1s_two)\n",
        "kfold_wanted_metrics = kfold_precisions + kfold_recalls + kfold_f1s_two\n"
      ],
      "execution_count": null,
      "outputs": []
    },
    {
      "cell_type": "code",
      "metadata": {
        "id": "AQGKuYUic-k9",
        "colab_type": "code",
        "colab": {
          "base_uri": "https://localhost:8080/",
          "height": 513
        },
        "outputId": "aeed27a6-1862-490b-a737-e7c59fb067da"
      },
      "source": [
        "# Boxplots de Métricas\n",
        "sns.set_context('talk')\n",
        "plt.figure(figsize=(15,8))\n",
        "sns.boxplot(kfold_metric_labels,kfold_all_metrics)"
      ],
      "execution_count": null,
      "outputs": [
        {
          "output_type": "execute_result",
          "data": {
            "text/plain": [
              "<matplotlib.axes._subplots.AxesSubplot at 0x7fd1f92b0390>"
            ]
          },
          "metadata": {
            "tags": []
          },
          "execution_count": 121
        },
        {
          "output_type": "display_data",
          "data": {
            "image/png": "[encoded data removed]",
            "text/plain": [
              "<Figure size 1080x576 with 1 Axes>"
            ]
          },
          "metadata": {
            "tags": [],
            "needs_background": "light"
          }
        }
      ]
    },
    {
      "cell_type": "code",
      "metadata": {
        "id": "V_h43EwZdHSs",
        "colab_type": "code",
        "colab": {
          "base_uri": "https://localhost:8080/",
          "height": 513
        },
        "outputId": "2cd2777e-7e46-49b8-f39f-1099a8222204"
      },
      "source": [
        "# Boxplots de Métricas Buscadas\n",
        "sns.set_context('talk')\n",
        "plt.figure(figsize=(15,8))\n",
        "sns.boxplot(kfold_wanted_metric_labels,kfold_wanted_metrics)"
      ],
      "execution_count": null,
      "outputs": [
        {
          "output_type": "execute_result",
          "data": {
            "text/plain": [
              "<matplotlib.axes._subplots.AxesSubplot at 0x7fd1fb5abf98>"
            ]
          },
          "metadata": {
            "tags": []
          },
          "execution_count": 122
        },
        {
          "output_type": "display_data",
          "data": {
            "image/png": "[encoded data removed]",
            "text/plain": [
              "<Figure size 1080x576 with 1 Axes>"
            ]
          },
          "metadata": {
            "tags": [],
            "needs_background": "light"
          }
        }
      ]
    },
    {
      "cell_type": "markdown",
      "metadata": {
        "id": "5HLHJ2x5fgMM",
        "colab_type": "text"
      },
      "source": [
        "## h. Graficar Best Tree\n"
      ]
    },
    {
      "cell_type": "code",
      "metadata": {
        "id": "1vb_4OpAfhJh",
        "colab_type": "code",
        "colab": {}
      },
      "source": [
        "best_tree = None\n",
        "best_score = None\n",
        "\n",
        "for train_index, test_index in kfoldcv.split(x_dev, y_dev):\n",
        "  x_train, x_val = x_dev[train_index], x_dev[test_index]\n",
        "  y_train, y_val = y_dev[train_index], y_dev[test_index]\n",
        "\n",
        "  # Tree Classifier\n",
        "  kfold_tree = DecisionTreeClassifier(max_depth=len(df_correlations.columns)-1,random_state=42)\n",
        "\n",
        "  # Entrenamos al arbol\n",
        "  kfold_tree.fit(x_train,y_train)\n",
        "\n",
        "  # Ejecutamos nuestra predicción\n",
        "  y_pred_val = kfold_tree.predict(x_val)\n",
        "\n",
        "  f2score = fbeta_score(y_val, y_pred_val, beta=2)\n",
        "\n",
        "  if best_score is None or best_score < f2score:\n",
        "    best_score = f2score\n",
        "    best_tree = kfold_tree\n",
        "\n"
      ],
      "execution_count": null,
      "outputs": []
    },
    {
      "cell_type": "code",
      "metadata": {
        "id": "LxHOdRhGht0Z",
        "colab_type": "code",
        "colab": {}
      },
      "source": [
        "from sklearn.externals.six import StringIO  \n",
        "from IPython.display import Image  \n",
        "from sklearn.tree import export_graphviz\n",
        "import pydotplus\n",
        "import matplotlib.pyplot as plt\n",
        "\n",
        "dot_data = StringIO()\n",
        "export_graphviz(\n",
        "    best_tree, \n",
        "    out_file=dot_data,  \n",
        "    filled=True, \n",
        "    rounded=True,\n",
        "    special_characters=True\n",
        ")\n",
        "graph = pydotplus.graph_from_dot_data(dot_data.getvalue())  \n",
        "Image(graph.create_png())"
      ],
      "execution_count": null,
      "outputs": []
    },
    {
      "cell_type": "code",
      "metadata": {
        "id": "K0TZB4CYilUs",
        "colab_type": "code",
        "colab": {
          "base_uri": "https://localhost:8080/",
          "height": 255
        },
        "outputId": "de46b100-fb6f-47fa-ef6a-68b503c9b482"
      },
      "source": [
        "# Podemos pedir el árbol correspondiente ya entrenado y ver cuán importante es cada atributo\n",
        "feat_imps = best_tree.feature_importances_\n",
        "feat_imps"
      ],
      "execution_count": null,
      "outputs": [
        {
          "output_type": "execute_result",
          "data": {
            "text/plain": [
              "array([0.14070891, 0.03794861, 0.02469958, 0.01259287, 0.00557274,\n",
              "       0.00124167, 0.01721945, 0.00459703, 0.00120347, 0.11067528,\n",
              "       0.0259861 , 0.05336906, 0.01052948, 0.0099955 , 0.00984524,\n",
              "       0.00033839, 0.00162517, 0.00501136, 0.00243795, 0.00264247,\n",
              "       0.0605341 , 0.00494502, 0.00040309, 0.00466592, 0.00365662,\n",
              "       0.00035398, 0.00089107, 0.00029723, 0.23534848, 0.00078711,\n",
              "       0.01161656, 0.00689262, 0.0009964 , 0.00244571, 0.00266711,\n",
              "       0.00251215, 0.00220649, 0.00132545, 0.00616297, 0.00360689,\n",
              "       0.00539021, 0.00542071, 0.00238628, 0.00082445, 0.00333863,\n",
              "       0.00243646, 0.00088816, 0.00094534, 0.04153391, 0.00128425,\n",
              "       0.00133843, 0.00172218, 0.00619564, 0.00714375, 0.00354576,\n",
              "       0.00511298, 0.00391248, 0.00689574, 0.00610956, 0.0051916 ,\n",
              "       0.00678496, 0.00371601, 0.0057066 , 0.00598377, 0.03425381,\n",
              "       0.00138303])"
            ]
          },
          "metadata": {
            "tags": []
          },
          "execution_count": 124
        }
      ]
    },
    {
      "cell_type": "code",
      "metadata": {
        "id": "DKnsSvQxip9L",
        "colab_type": "code",
        "colab": {
          "base_uri": "https://localhost:8080/",
          "height": 1000
        },
        "outputId": "67ca0b71-79a9-4204-a8c2-55cdc24f4838"
      },
      "source": [
        "# Vemos a que variables corresponden los atributos mas importantes\n",
        "for feat_imp,feat in sorted(zip(feat_imps,features)):\n",
        "  if feat_imp>0:\n",
        "    print('{}: {}'.format(feat,feat_imp))"
      ],
      "execution_count": null,
      "outputs": [
        {
          "output_type": "stream",
          "text": [
            "deposit_type_No Deposit: 0.00029723201058713813\n",
            "market_segment_Complementary: 0.00033839127802388224\n",
            "is_repeated_guest_0: 0.0003539834687768283\n",
            "meal_FB: 0.0004030851115800369\n",
            "customer_type_Contract: 0.0007871094217159932\n",
            "country_ISR: 0.000824452162512652\n",
            "country_NOR: 0.0008881567467721592\n",
            "is_repeated_guest_1: 0.0008910666473213221\n",
            "country_POL: 0.0009453407931955077\n",
            "country_AUT: 0.000996396223667517\n",
            "days_in_waiting_list: 0.0012034747171133717\n",
            "babies: 0.0012416709019807857\n",
            "country_RUS: 0.0012842494147627434\n",
            "country_CN: 0.0013254548821251904\n",
            "country_SWE: 0.001338430929335133\n",
            "booker_room_gain: 0.0013830319225119612\n",
            "market_segment_Corporate: 0.0016251680583384282\n",
            "country_USA: 0.0017221845020193624\n",
            "country_CHN: 0.0022064949699160613\n",
            "country_IRL: 0.002386276207185202\n",
            "country_NLD: 0.0024364599030094972\n",
            "market_segment_Groups: 0.002437951127591703\n",
            "country_BEL: 0.002445710649157219\n",
            "country_CHE: 0.0025121473904879776\n",
            "market_segment_Offline TA/TO: 0.0026424677456165033\n",
            "country_BRA: 0.002667114937264298\n",
            "country_ITA: 0.0033386250491440395\n",
            "arrival_date_month_December: 0.0035457639733560463\n",
            "country_ESP: 0.0036068883670024687\n",
            "meal_SC: 0.0036566152367491374\n",
            "arrival_date_month_November: 0.003716005542053325\n",
            "arrival_date_month_January: 0.003912481144439007\n",
            "previous_bookings_not_canceled: 0.004597032038559868\n",
            "meal_HB: 0.00466592398687792\n",
            "meal_BB: 0.004945018164374667\n",
            "market_segment_Direct: 0.005011357291270712\n",
            "arrival_date_month_February: 0.005112983303563878\n",
            "arrival_date_month_March: 0.005191595813807626\n",
            "country_FRA: 0.005390212275659233\n",
            "country_GBR: 0.005420713804649962\n",
            "children: 0.005572744378017407\n",
            "arrival_date_month_October: 0.005706602124134928\n",
            "arrival_date_month_September: 0.005983766455815234\n",
            "arrival_date_month_June: 0.0061095596087631454\n",
            "country_DEU: 0.006162969695515775\n",
            "arrival_date_month_April: 0.006195643159362656\n",
            "arrival_date_month_May: 0.006784960656363351\n",
            "customer_type_Transient-Party: 0.006892619161857827\n",
            "arrival_date_month_July: 0.00689573864297678\n",
            "arrival_date_month_August: 0.007143749955814629\n",
            "hotel_Resort Hotel: 0.009845239927232916\n",
            "requested_room_vl: 0.00999549871493214\n",
            "assigned_room_vl: 0.01052947555770354\n",
            "customer_type_Transient: 0.011616559122809287\n",
            "adults: 0.012592866711754448\n",
            "previous_cancellations: 0.017219451361925476\n",
            "stays_in_weekend_nights: 0.02469957982909563\n",
            "required_car_parking_spaces: 0.025986104608651438\n",
            "did_room_match: 0.03425380933324247\n",
            "stays_in_week_nights: 0.03794860838144833\n",
            "country_PRT: 0.04153391219743084\n",
            "total_of_special_requests: 0.053369055057156535\n",
            "market_segment_Online TA: 0.0605340963939026\n",
            "adr: 0.11067528053587763\n",
            "lead_time: 0.14070891384769255\n",
            "deposit_type_Non Refund: 0.23534847646644613\n"
          ],
          "name": "stdout"
        }
      ]
    },
    {
      "cell_type": "markdown",
      "metadata": {
        "id": "EZLU-yHWnbWL",
        "colab_type": "text"
      },
      "source": [
        "## i. K-fold y α de poda"
      ]
    },
    {
      "cell_type": "code",
      "metadata": {
        "id": "T7D-DtdF5JZa",
        "colab_type": "code",
        "colab": {}
      },
      "source": [
        "from sklearn.model_selection import StratifiedKFold, KFold, GridSearchCV, RandomizedSearchCV\n",
        "from sklearn.metrics import make_scorer\n",
        "from sklearn.metrics import fbeta_score, f1_score\n",
        "import numpy as np\n",
        "\n",
        "x_train, x_val, y_train, y_val = train_test_split(\n",
        "      x_dev, \n",
        "      y_dev, \n",
        "      test_size=0.2, \n",
        "      random_state=seed,\n",
        "      stratify=y_dev\n",
        "  ) \n",
        "\n",
        "# Armo un TreeClassifier para identificar los alphas efectivos de poda y las impurezas que eliminamos de sus hojas\n",
        "path = DecisionTreeClassifier(random_state=42).cost_complexity_pruning_path(x_train,y_train)\n",
        "ccp_alphas, impurities = path.ccp_alphas, path.impurities"
      ],
      "execution_count": null,
      "outputs": []
    },
    {
      "cell_type": "code",
      "metadata": {
        "id": "rMsmUZ_rMLhJ",
        "colab_type": "code",
        "colab": {
          "base_uri": "https://localhost:8080/",
          "height": 427
        },
        "outputId": "96d71e4d-9d14-4b44-fb96-4f6d9684a6fa"
      },
      "source": [
        "# Graficamos para cada alpha el total de impureza eliminado\n",
        "plt.figure(figsize=(10, 6))\n",
        "plt.plot(ccp_alphas, impurities, marker='o')\n",
        "plt.xlabel(\"effective alpha\")\n",
        "plt.ylabel(\"total impurity of leaves\")"
      ],
      "execution_count": null,
      "outputs": [
        {
          "output_type": "execute_result",
          "data": {
            "text/plain": [
              "Text(0, 0.5, 'total impurity of leaves')"
            ]
          },
          "metadata": {
            "tags": []
          },
          "execution_count": 130
        },
        {
          "output_type": "display_data",
          "data": {
            "image/png": "[encoded data removed]",
            "text/plain": [
              "<Figure size 720x432 with 1 Axes>"
            ]
          },
          "metadata": {
            "tags": [],
            "needs_background": "light"
          }
        }
      ]
    },
    {
      "cell_type": "code",
      "metadata": {
        "id": "GSHL6sCe5AWS",
        "colab_type": "code",
        "colab": {
          "base_uri": "https://localhost:8080/",
          "height": 51
        },
        "outputId": "270263be-fea8-412d-f0ab-1dcac288da24"
      },
      "source": [
        "# Agarro algunos valores que queremos de alfa\n",
        "kfold_alphas = []\n",
        "inflection_point = 0.21\n",
        "for ccp_alpha, impurity in zip(ccp_alphas, impurities):\n",
        "  if impurity > inflection_point:\n",
        "    kfold_alphas.append(ccp_alpha)\n",
        "\n",
        "print(inflection_point)\n",
        "print(len(kfold_alphas))"
      ],
      "execution_count": null,
      "outputs": [
        {
          "output_type": "stream",
          "text": [
            "0.21\n",
            "74\n"
          ],
          "name": "stdout"
        }
      ]
    },
    {
      "cell_type": "code",
      "metadata": {
        "id": "S01FLodmSkzQ",
        "colab_type": "code",
        "colab": {
          "base_uri": "https://localhost:8080/",
          "height": 51
        },
        "outputId": "625a52fa-1f1c-4bf0-84b1-6914ee8e3144"
      },
      "source": [
        "# Entrenamos ahora los arboles usando un Stratified K-fold de 10\n",
        "kfoldcv = StratifiedKFold(n_splits=10)\n",
        "\n",
        "trained_trees = []\n",
        "trained_alphas = []\n",
        "\n",
        "for ccp_alpha in kfold_alphas:\n",
        "  for train_index, test_index in kfoldcv.split(x_dev, y_dev):\n",
        "    x_train, x_val = x_dev[train_index], x_dev[test_index]\n",
        "    y_train, y_val = y_dev[train_index], y_dev[test_index]\n",
        "    \n",
        "    ccp_tree = DecisionTreeClassifier(\n",
        "        ccp_alpha = ccp_alpha\n",
        "    )\n",
        "\n",
        "    ccp_tree.fit(x_train,y_train)\n",
        "    \n",
        "    trained_trees.append(ccp_tree)\n",
        "    trained_alphas.append(ccp_alpha)\n",
        "  \n",
        "print(len(trained_trees)) \n",
        "print(len(trained_alphas)) "
      ],
      "execution_count": null,
      "outputs": [
        {
          "output_type": "stream",
          "text": [
            "740\n",
            "740\n"
          ],
          "name": "stdout"
        }
      ]
    },
    {
      "cell_type": "code",
      "metadata": {
        "id": "0RUuspsjWh1d",
        "colab_type": "code",
        "colab": {}
      },
      "source": [
        "tree_nodes = []\n",
        "tree_depth = []\n",
        "for tree in trained_trees:\n",
        "  tree_nodes.append(tree.tree_.node_count)\n",
        "  tree_depth.append(tree.tree_.max_depth)\n",
        "\n",
        "tree_metrics_results = pd.DataFrame(\n",
        "    {\n",
        "     'alpha':trained_alphas,\n",
        "     'nodes': tree_nodes,\n",
        "     'depth': tree_depth\n",
        "    }\n",
        ")"
      ],
      "execution_count": null,
      "outputs": []
    },
    {
      "cell_type": "code",
      "metadata": {
        "id": "766OQCXvajVD",
        "colab_type": "code",
        "colab": {
          "base_uri": "https://localhost:8080/",
          "height": 419
        },
        "outputId": "c9b70576-4d3a-4c2c-f0e8-30d916999f86"
      },
      "source": [
        "tree_metrics_results.loc[tree_metrics_results['nodes'] > 1]\n"
      ],
      "execution_count": null,
      "outputs": [
        {
          "output_type": "execute_result",
          "data": {
            "text/html": [
              "<div>\n",
              "<style scoped>\n",
              "    .dataframe tbody tr th:only-of-type {\n",
              "        vertical-align: middle;\n",
              "    }\n",
              "\n",
              "    .dataframe tbody tr th {\n",
              "        vertical-align: top;\n",
              "    }\n",
              "\n",
              "    .dataframe thead th {\n",
              "        text-align: right;\n",
              "    }\n",
              "</style>\n",
              "<table border=\"1\" class=\"dataframe\">\n",
              "  <thead>\n",
              "    <tr style=\"text-align: right;\">\n",
              "      <th></th>\n",
              "      <th>alpha</th>\n",
              "      <th>nodes</th>\n",
              "      <th>depth</th>\n",
              "    </tr>\n",
              "  </thead>\n",
              "  <tbody>\n",
              "    <tr>\n",
              "      <th>0</th>\n",
              "      <td>0.000162</td>\n",
              "      <td>187</td>\n",
              "      <td>18</td>\n",
              "    </tr>\n",
              "    <tr>\n",
              "      <th>1</th>\n",
              "      <td>0.000162</td>\n",
              "      <td>193</td>\n",
              "      <td>18</td>\n",
              "    </tr>\n",
              "    <tr>\n",
              "      <th>2</th>\n",
              "      <td>0.000162</td>\n",
              "      <td>189</td>\n",
              "      <td>15</td>\n",
              "    </tr>\n",
              "    <tr>\n",
              "      <th>3</th>\n",
              "      <td>0.000162</td>\n",
              "      <td>197</td>\n",
              "      <td>17</td>\n",
              "    </tr>\n",
              "    <tr>\n",
              "      <th>4</th>\n",
              "      <td>0.000162</td>\n",
              "      <td>217</td>\n",
              "      <td>18</td>\n",
              "    </tr>\n",
              "    <tr>\n",
              "      <th>...</th>\n",
              "      <td>...</td>\n",
              "      <td>...</td>\n",
              "      <td>...</td>\n",
              "    </tr>\n",
              "    <tr>\n",
              "      <th>725</th>\n",
              "      <td>0.018257</td>\n",
              "      <td>3</td>\n",
              "      <td>1</td>\n",
              "    </tr>\n",
              "    <tr>\n",
              "      <th>726</th>\n",
              "      <td>0.018257</td>\n",
              "      <td>11</td>\n",
              "      <td>5</td>\n",
              "    </tr>\n",
              "    <tr>\n",
              "      <th>727</th>\n",
              "      <td>0.018257</td>\n",
              "      <td>11</td>\n",
              "      <td>5</td>\n",
              "    </tr>\n",
              "    <tr>\n",
              "      <th>728</th>\n",
              "      <td>0.018257</td>\n",
              "      <td>11</td>\n",
              "      <td>5</td>\n",
              "    </tr>\n",
              "    <tr>\n",
              "      <th>729</th>\n",
              "      <td>0.018257</td>\n",
              "      <td>3</td>\n",
              "      <td>1</td>\n",
              "    </tr>\n",
              "  </tbody>\n",
              "</table>\n",
              "<p>730 rows × 3 columns</p>\n",
              "</div>"
            ],
            "text/plain": [
              "        alpha  nodes  depth\n",
              "0    0.000162    187     18\n",
              "1    0.000162    193     18\n",
              "2    0.000162    189     15\n",
              "3    0.000162    197     17\n",
              "4    0.000162    217     18\n",
              "..        ...    ...    ...\n",
              "725  0.018257      3      1\n",
              "726  0.018257     11      5\n",
              "727  0.018257     11      5\n",
              "728  0.018257     11      5\n",
              "729  0.018257      3      1\n",
              "\n",
              "[730 rows x 3 columns]"
            ]
          },
          "metadata": {
            "tags": []
          },
          "execution_count": 137
        }
      ]
    },
    {
      "cell_type": "code",
      "metadata": {
        "id": "Z3p1X7yfZ6aP",
        "colab_type": "code",
        "colab": {
          "base_uri": "https://localhost:8080/",
          "height": 301
        },
        "outputId": "663e7cb9-b09a-42e4-945e-798eb5e589d4"
      },
      "source": [
        "fig, ax = plt.subplots()\n",
        "ax.plot(tree_metrics_results['alpha'], tree_metrics_results['nodes'], marker='o', drawstyle=\"steps-post\")\n",
        "ax.set_xlabel(\"alpha\")\n",
        "ax.set_ylabel(\"nodes\")\n",
        "fig.show()"
      ],
      "execution_count": null,
      "outputs": [
        {
          "output_type": "display_data",
          "data": {
            "image/png": "[encoded data removed]",
            "text/plain": [
              "<Figure size 288x288 with 1 Axes>"
            ]
          },
          "metadata": {
            "tags": [],
            "needs_background": "light"
          }
        }
      ]
    },
    {
      "cell_type": "code",
      "metadata": {
        "id": "Mp6yBS-GbbNT",
        "colab_type": "code",
        "colab": {
          "base_uri": "https://localhost:8080/",
          "height": 301
        },
        "outputId": "ad2f7e10-1b0d-48bf-9ba2-ff9a1392554e"
      },
      "source": [
        "fig, ax = plt.subplots()\n",
        "ax.plot(tree_metrics_results['alpha'], tree_metrics_results['depth'], marker='o', drawstyle=\"steps-post\")\n",
        "ax.set_xlabel(\"alpha\")\n",
        "ax.set_ylabel(\"depth\")\n",
        "fig.show()"
      ],
      "execution_count": null,
      "outputs": [
        {
          "output_type": "display_data",
          "data": {
            "image/png": "[encoded data removed]",
            "text/plain": [
              "<Figure size 288x288 with 1 Axes>"
            ]
          },
          "metadata": {
            "tags": [],
            "needs_background": "light"
          }
        }
      ]
    },
    {
      "cell_type": "code",
      "metadata": {
        "id": "zU2N5d8-F2BJ",
        "colab_type": "code",
        "colab": {}
      },
      "source": [
        "# Train & Validation Metrics for alphas\n",
        "# Lo medimos en F-2 Score\n",
        "metrics = []\n",
        "alphas = []\n",
        "vals = []\n",
        "\n",
        "best_alpha = None\n",
        "best_score = None\n",
        "\n",
        "for train_index, test_index in kfoldcv.split(x_dev, y_dev):\n",
        "  x_train, x_val = x_dev[train_index], x_dev[test_index]\n",
        "  y_train, y_val = y_dev[train_index], y_dev[test_index]\n",
        "\n",
        "  for ccp_tree in trained_trees:\n",
        "  \n",
        "    # Ejecutamos nuestra predicción\n",
        "    y_train_val = ccp_tree.predict(x_train)\n",
        "    y_pred_val = ccp_tree.predict(x_val)\n",
        "    \n",
        "    f2_train_score = fbeta_score(y_train,y_train_val, beta=2)\n",
        "    f2_val_score = fbeta_score(y_val,y_pred_val, beta=2)\n",
        "\n",
        "    if best_score is None or best_score < f2_val_score:\n",
        "      best_score = f2_val_score\n",
        "      best_alpha = ccp_tree.ccp_alpha\n",
        "\n",
        "    metrics.extend(['F2 Train Score','F2 Val Score',])\n",
        "    vals.extend([f2_train_score, f2_val_score])\n",
        "    alphas.extend([ccp_tree.ccp_alpha]*2)\n",
        "\n",
        "metric_results = pd.DataFrame({'metric':metrics,'alphas':alphas,'value':vals})"
      ],
      "execution_count": null,
      "outputs": []
    },
    {
      "cell_type": "code",
      "metadata": {
        "id": "00fIrDfzApp7",
        "colab_type": "code",
        "colab": {
          "base_uri": "https://localhost:8080/",
          "height": 85
        },
        "outputId": "636f9011-7dd3-465e-cd0b-598315db6e50"
      },
      "source": [
        "print('Best score:')\n",
        "print(best_score)\n",
        "print('Best alpha:')\n",
        "print(best_alpha)"
      ],
      "execution_count": null,
      "outputs": [
        {
          "output_type": "stream",
          "text": [
            "Best score:\n",
            "0.7845700300367114\n",
            "Best alpha:\n",
            "0.0022323810826994986\n"
          ],
          "name": "stdout"
        }
      ]
    },
    {
      "cell_type": "code",
      "metadata": {
        "id": "m7fVw04iKIRz",
        "colab_type": "code",
        "colab": {}
      },
      "source": [
        "# Graficar scores en entrenamiento y en validation para nuestro 10-fold\n",
        "score_train_metric = metric_results.loc[metric_results['metric'] == 'F2 Train Score']\n",
        "score_val_metric = metric_results.loc[metric_results['metric'] == 'F2 Val Score']\n",
        "\n",
        "# Agrupamos nuestros folds y sacamos el promedio de sus scores\n",
        "mean_train_score = score_train_metric.groupby(['alphas']).mean().reset_index()\n",
        "mean_val_score = score_val_metric.groupby(['alphas']).mean().reset_index()"
      ],
      "execution_count": null,
      "outputs": []
    },
    {
      "cell_type": "code",
      "metadata": {
        "id": "q669PGnwdPvE",
        "colab_type": "code",
        "colab": {
          "base_uri": "https://localhost:8080/",
          "height": 305
        },
        "outputId": "72d35ba5-01f8-4695-f6c9-34d461c0e1a2"
      },
      "source": [
        "fig, ax = plt.subplots()\n",
        "ax.set_xlabel(\"alphas\")\n",
        "ax.set_ylabel(\"f2 score\")\n",
        "plt.rcParams[\"figure.figsize\"] = [4, 4]\n",
        "\n",
        "ax.plot(\n",
        "    mean_train_score['alphas'], \n",
        "    mean_train_score['value'], \n",
        "    #marker='o', \n",
        "    label=\"train\",\n",
        "    drawstyle=\"steps-post\"\n",
        ")\n",
        "\n",
        "ax.legend()\n",
        "plt.show()"
      ],
      "execution_count": null,
      "outputs": [
        {
          "output_type": "display_data",
          "data": {
            "image/png": "[encoded data removed]",
            "text/plain": [
              "<Figure size 288x288 with 1 Axes>"
            ]
          },
          "metadata": {
            "tags": [],
            "needs_background": "light"
          }
        }
      ]
    },
    {
      "cell_type": "code",
      "metadata": {
        "id": "ImaGVa47Buts",
        "colab_type": "code",
        "colab": {
          "base_uri": "https://localhost:8080/",
          "height": 305
        },
        "outputId": "daa80fa8-b8cc-4eac-e748-f9db8b3ac186"
      },
      "source": [
        "fig, ax = plt.subplots()\n",
        "ax.set_xlabel(\"alphas\")\n",
        "ax.set_ylabel(\"f2 score\")\n",
        "plt.rcParams[\"figure.figsize\"] = [4, 4]\n",
        "\n",
        "ax.plot(\n",
        "    mean_val_score['alphas'], \n",
        "    mean_val_score['value'], \n",
        "    #marker='o', \n",
        "    label=\"val\",\n",
        "    drawstyle=\"steps-post\"\n",
        ")\n",
        "\n",
        "ax.legend()\n",
        "plt.show()"
      ],
      "execution_count": null,
      "outputs": [
        {
          "output_type": "display_data",
          "data": {
            "image/png": "[encoded data removed]",
            "text/plain": [
              "<Figure size 288x288 with 1 Axes>"
            ]
          },
          "metadata": {
            "tags": [],
            "needs_background": "light"
          }
        }
      ]
    },
    {
      "cell_type": "markdown",
      "metadata": {
        "id": "dbKL73flKjbk",
        "colab_type": "text"
      },
      "source": [
        "## j. Arbol con poda vs Arbol sin poda"
      ]
    },
    {
      "cell_type": "code",
      "metadata": {
        "id": "Avtw1VuNKpG4",
        "colab_type": "code",
        "colab": {}
      },
      "source": [
        "import pandas as pd\n",
        "\n",
        "ccp_alpha_tree = DecisionTreeClassifier(\n",
        "    ccp_alpha = best_alpha,\n",
        "    random_state = 42\n",
        ")\n",
        "\n",
        "no_prune_tree = DecisionTreeClassifier(\n",
        "    ccp_alpha = 0,\n",
        "    random_state = 42\n",
        ")\n",
        "\n",
        "ccp_alpha_tree.fit(x_dev, y_dev)\n",
        "no_prune_tree.fit(x_dev, y_dev)\n",
        "\n",
        "y_ccp_predict = ccp_alpha_tree.predict(x_test)\n",
        "y_no_prune_predict = no_prune_tree.predict(x_test)\n",
        "\n",
        "ccp_score = fbeta_score(y_test,y_ccp_predict, beta=2)\n",
        "no_prune_score = fbeta_score(y_test,y_no_prune_predict, beta=2)\n",
        "\n",
        "tree_comparison = pd.DataFrame(\n",
        "    {\n",
        "     'tree': ['ccp_alpha','no_prune'],\n",
        "     'alpha': [best_alpha, 0],   \n",
        "     'f2score': [ccp_score,no_prune_score],\n",
        "     'nodes': [ccp_alpha_tree.tree_.node_count, no_prune_tree.tree_.node_count],\n",
        "     'depth': [ccp_alpha_tree.tree_.max_depth, no_prune_tree.tree_.max_depth]\n",
        "    }\n",
        ")\n"
      ],
      "execution_count": null,
      "outputs": []
    },
    {
      "cell_type": "code",
      "metadata": {
        "id": "g0EixuaZpP8h",
        "colab_type": "code",
        "colab": {
          "base_uri": "https://localhost:8080/",
          "height": 111
        },
        "outputId": "e0d8c07c-ea56-41cb-a1db-efe3d782ac6b"
      },
      "source": [
        "tree_comparison"
      ],
      "execution_count": null,
      "outputs": [
        {
          "output_type": "execute_result",
          "data": {
            "text/html": [
              "<div>\n",
              "<style scoped>\n",
              "    .dataframe tbody tr th:only-of-type {\n",
              "        vertical-align: middle;\n",
              "    }\n",
              "\n",
              "    .dataframe tbody tr th {\n",
              "        vertical-align: top;\n",
              "    }\n",
              "\n",
              "    .dataframe thead th {\n",
              "        text-align: right;\n",
              "    }\n",
              "</style>\n",
              "<table border=\"1\" class=\"dataframe\">\n",
              "  <thead>\n",
              "    <tr style=\"text-align: right;\">\n",
              "      <th></th>\n",
              "      <th>tree</th>\n",
              "      <th>alpha</th>\n",
              "      <th>f2score</th>\n",
              "      <th>nodes</th>\n",
              "      <th>depth</th>\n",
              "    </tr>\n",
              "  </thead>\n",
              "  <tbody>\n",
              "    <tr>\n",
              "      <th>0</th>\n",
              "      <td>ccp_alpha</td>\n",
              "      <td>0.002232</td>\n",
              "      <td>0.772367</td>\n",
              "      <td>19</td>\n",
              "      <td>7</td>\n",
              "    </tr>\n",
              "    <tr>\n",
              "      <th>1</th>\n",
              "      <td>no_prune</td>\n",
              "      <td>0.000000</td>\n",
              "      <td>0.801343</td>\n",
              "      <td>24099</td>\n",
              "      <td>52</td>\n",
              "    </tr>\n",
              "  </tbody>\n",
              "</table>\n",
              "</div>"
            ],
            "text/plain": [
              "        tree     alpha   f2score  nodes  depth\n",
              "0  ccp_alpha  0.002232  0.772367     19      7\n",
              "1   no_prune  0.000000  0.801343  24099     52"
            ]
          },
          "metadata": {
            "tags": []
          },
          "execution_count": 148
        }
      ]
    },
    {
      "cell_type": "markdown",
      "metadata": {
        "id": "ETPsUDz3YINh",
        "colab_type": "text"
      },
      "source": [
        "## k. Eliminación Recursiva"
      ]
    },
    {
      "cell_type": "code",
      "metadata": {
        "id": "qaAsvYpVG3FV",
        "colab_type": "code",
        "colab": {}
      },
      "source": [
        "%matplotlib inline\n",
        "\n",
        "import numpy as np\n",
        "import pandas as pd\n",
        "import matplotlib.pyplot as plt\n",
        "\n",
        "import warnings\n",
        "warnings.filterwarnings('ignore')\n",
        "pd.options.display.max_columns = None\n",
        "\n",
        "from sklearn.ensemble import RandomForestClassifier\n",
        "from sklearn.model_selection import StratifiedKFold\n",
        "from sklearn.feature_selection import RFECV"
      ],
      "execution_count": null,
      "outputs": []
    },
    {
      "cell_type": "code",
      "metadata": {
        "id": "78GG_Q42iYYx",
        "colab_type": "code",
        "colab": {}
      },
      "source": [
        "recursive_features_cut = 0.1\n",
        "recursive_features = list(correlaciones.loc[correlaciones['Abs(Cor)']>recursive_features_cut]['Atributo'])\n",
        "\n",
        "df_correlations2 = df_correlations.loc[:, recursive_features]\n",
        "df_correlations2 = pd.concat([df_correlations2, df_categoricas['is_canceled']],axis=1)\n",
        "\n",
        "recursive_features =  df_correlations2.loc[:, df_correlations2.columns != 'is_canceled'].columns\n",
        "target = 'is_canceled'\n",
        "\n",
        "x_dev2, x_test2, y_dev2, y_test2 = train_test_split(\n",
        "    df_correlations2[recursive_features].values, \n",
        "    df_correlations2[target].values, \n",
        "    test_size=0.2, \n",
        "    random_state=42,\n",
        "    stratify=df_correlations2[target].values\n",
        ")                    "
      ],
      "execution_count": null,
      "outputs": []
    },
    {
      "cell_type": "code",
      "metadata": {
        "id": "sfvXhcX6HIvo",
        "colab_type": "code",
        "colab": {
          "base_uri": "https://localhost:8080/",
          "height": 255
        },
        "outputId": "c0632293-6100-4ac7-f58e-259a9c1a6c56"
      },
      "source": [
        "X = x_dev2\n",
        "target = y_dev2\n",
        "scorer_fn = make_scorer(fbeta_score, beta=2)\n",
        "rfc = RandomForestClassifier(random_state=42,max_depth=8)\n",
        "rfecv = RFECV(\n",
        "    estimator=rfc, \n",
        "    step=1, \n",
        "    cv=StratifiedKFold(3), \n",
        "    scoring=scorer_fn\n",
        ")\n",
        "rfecv.fit(X, target)\n"
      ],
      "execution_count": null,
      "outputs": [
        {
          "output_type": "execute_result",
          "data": {
            "text/plain": [
              "RFECV(cv=StratifiedKFold(n_splits=3, random_state=None, shuffle=False),\n",
              "      estimator=RandomForestClassifier(bootstrap=True, ccp_alpha=0.0,\n",
              "                                       class_weight=None, criterion='gini',\n",
              "                                       max_depth=8, max_features='auto',\n",
              "                                       max_leaf_nodes=None, max_samples=None,\n",
              "                                       min_impurity_decrease=0.0,\n",
              "                                       min_impurity_split=None,\n",
              "                                       min_samples_leaf=1, min_samples_split=2,\n",
              "                                       min_weight_fraction_leaf=0.0,\n",
              "                                       n_estimators=100, n_jobs=None,\n",
              "                                       oob_score=False, random_state=42,\n",
              "                                       verbose=0, warm_start=False),\n",
              "      min_features_to_select=1, n_jobs=None,\n",
              "      scoring=make_scorer(fbeta_score, beta=2), step=1, verbose=0)"
            ]
          },
          "metadata": {
            "tags": []
          },
          "execution_count": 154
        }
      ]
    },
    {
      "cell_type": "code",
      "metadata": {
        "id": "j3DGWWSxie-S",
        "colab_type": "code",
        "colab": {
          "base_uri": "https://localhost:8080/",
          "height": 34
        },
        "outputId": "84cd46aa-7ae1-48a1-ed19-e9c98e2f958a"
      },
      "source": [
        "print('Optimal number of features: {}'.format(rfecv.n_features_))"
      ],
      "execution_count": null,
      "outputs": [
        {
          "output_type": "stream",
          "text": [
            "Optimal number of features: 11\n"
          ],
          "name": "stdout"
        }
      ]
    },
    {
      "cell_type": "code",
      "metadata": {
        "id": "P4kxJoUaHS2f",
        "colab_type": "code",
        "colab": {}
      },
      "source": [
        "X = pd.DataFrame(x_dev2)\n",
        "X.columns=df_correlations2.columns[:-1]\n",
        "target = pd.DataFrame(y_dev2)\n",
        "target.columns=[df_correlations2.columns[len(df_correlations2.columns)-1]]\n"
      ],
      "execution_count": null,
      "outputs": []
    },
    {
      "cell_type": "code",
      "metadata": {
        "id": "lL-7M8tWHUJB",
        "colab_type": "code",
        "colab": {
          "base_uri": "https://localhost:8080/",
          "height": 619
        },
        "outputId": "6c491c71-df23-4a8d-8b57-eae92932cf24"
      },
      "source": [
        "plt.figure(figsize=(16, 9))\n",
        "plt.title('Recursive Feature Elimination with Cross-Validation', fontsize=18, fontweight='bold', pad=20)\n",
        "plt.xlabel('Number of features selected', fontsize=14, labelpad=20)\n",
        "plt.ylabel('% F2-Score', fontsize=14, labelpad=20)\n",
        "plt.plot(range(1, len(rfecv.grid_scores_) + 1), rfecv.grid_scores_, color='#303F9F', linewidth=3)\n",
        "\n",
        "plt.show()\n"
      ],
      "execution_count": null,
      "outputs": [
        {
          "output_type": "display_data",
          "data": {
            "image/png": "[encoded data removed]",
            "text/plain": [
              "<Figure size 1152x648 with 1 Axes>"
            ]
          },
          "metadata": {
            "tags": [],
            "needs_background": "light"
          }
        }
      ]
    },
    {
      "cell_type": "code",
      "metadata": {
        "id": "gaV54UhkHX9v",
        "colab_type": "code",
        "colab": {
          "base_uri": "https://localhost:8080/",
          "height": 34
        },
        "outputId": "7bdfa7ea-daaf-4450-a9d9-516b56db65bd"
      },
      "source": [
        "print(np.where(rfecv.support_ == False)[0])\n",
        "\n",
        "X.drop(X.columns[np.where(rfecv.support_ == False)[0]], axis=1, inplace=True)\n"
      ],
      "execution_count": null,
      "outputs": [
        {
          "output_type": "stream",
          "text": [
            "[ 0  5  6  7 12 13 14]\n"
          ],
          "name": "stdout"
        }
      ]
    },
    {
      "cell_type": "code",
      "metadata": {
        "id": "Xhfvpeb6ttLa",
        "colab_type": "code",
        "colab": {
          "base_uri": "https://localhost:8080/",
          "height": 343
        },
        "outputId": "060e5049-5ccc-49f3-8531-687004757121"
      },
      "source": [
        "dset = pd.DataFrame()\n",
        "dset['attr'] = X.columns\n",
        "dset['importance'] = rfecv.estimator_.feature_importances_\n",
        "\n",
        "dset = dset.sort_values(by='importance', ascending=True)\n",
        "\n",
        "plt.figure(figsize=(4, 4))\n",
        "plt.barh( y=dset['attr'],  width=dset['importance'], color='#1976D2')\n",
        "plt.tick_params(labelsize = 12)\n",
        "plt.title('RFECV - Feature Importances', fontsize=20, fontweight='bold', pad=20)\n",
        "plt.xlabel('Importance', fontsize=14, labelpad=20)\n",
        "plt.show()"
      ],
      "execution_count": null,
      "outputs": [
        {
          "output_type": "display_data",
          "data": {
            "image/png": "[encoded data removed]",
            "text/plain": [
              "<Figure size 288x288 with 1 Axes>"
            ]
          },
          "metadata": {
            "tags": [],
            "needs_background": "light"
          }
        }
      ]
    },
    {
      "cell_type": "code",
      "metadata": {
        "id": "EgW3u-o4Ha8U",
        "colab_type": "code",
        "colab": {
          "base_uri": "https://localhost:8080/",
          "height": 136
        },
        "outputId": "d08c3d87-ba1f-415a-d947-1dd22c7a7c89"
      },
      "source": [
        "x_dev"
      ],
      "execution_count": null,
      "outputs": [
        {
          "output_type": "execute_result",
          "data": {
            "text/plain": [
              "array([[ 20.,   2.,   0., ...,   0.,   1.,   0.],\n",
              "       [  8.,   3.,   0., ...,   0.,   1.,   0.],\n",
              "       [ 93.,   3.,   0., ...,   0.,   1.,   0.],\n",
              "       ...,\n",
              "       [135.,   3.,   0., ...,   0.,   1.,   0.],\n",
              "       [172.,   5.,   2., ...,   0.,   1.,   0.],\n",
              "       [223.,   5.,   1., ...,   0.,   1.,   0.]])"
            ]
          },
          "metadata": {
            "tags": []
          },
          "execution_count": 162
        }
      ]
    },
    {
      "cell_type": "code",
      "metadata": {
        "id": "-6D54FlXHcbq",
        "colab_type": "code",
        "colab": {
          "base_uri": "https://localhost:8080/",
          "height": 419
        },
        "outputId": "2897189b-f02d-4e3e-f196-fa2e0ce12bfb"
      },
      "source": [
        "filtro=list(dset.sort_values(by='importance', ascending=False).head(4)['attr'])\n",
        "df_correlations2 = df_correlations2.loc[:,filtro]\n",
        "df_correlations2 = pd.concat([df_correlations2,df_categoricas['is_canceled']],axis=1)\n",
        "\n",
        "#Le saco deposit type no deposit, por estar muy correlacionada con deposit type non refund\n",
        "df_correlations2 = df_correlations2.drop(['deposit_type_No Deposit'], axis=1)\n",
        "df_correlations2\n"
      ],
      "execution_count": null,
      "outputs": [
        {
          "output_type": "execute_result",
          "data": {
            "text/html": [
              "<div>\n",
              "<style scoped>\n",
              "    .dataframe tbody tr th:only-of-type {\n",
              "        vertical-align: middle;\n",
              "    }\n",
              "\n",
              "    .dataframe tbody tr th {\n",
              "        vertical-align: top;\n",
              "    }\n",
              "\n",
              "    .dataframe thead th {\n",
              "        text-align: right;\n",
              "    }\n",
              "</style>\n",
              "<table border=\"1\" class=\"dataframe\">\n",
              "  <thead>\n",
              "    <tr style=\"text-align: right;\">\n",
              "      <th></th>\n",
              "      <th>deposit_type_Non Refund</th>\n",
              "      <th>lead_time</th>\n",
              "      <th>country_PRT</th>\n",
              "      <th>is_canceled</th>\n",
              "    </tr>\n",
              "  </thead>\n",
              "  <tbody>\n",
              "    <tr>\n",
              "      <th>0</th>\n",
              "      <td>0</td>\n",
              "      <td>342</td>\n",
              "      <td>1</td>\n",
              "      <td>0</td>\n",
              "    </tr>\n",
              "    <tr>\n",
              "      <th>1</th>\n",
              "      <td>0</td>\n",
              "      <td>737</td>\n",
              "      <td>1</td>\n",
              "      <td>0</td>\n",
              "    </tr>\n",
              "    <tr>\n",
              "      <th>2</th>\n",
              "      <td>0</td>\n",
              "      <td>7</td>\n",
              "      <td>0</td>\n",
              "      <td>0</td>\n",
              "    </tr>\n",
              "    <tr>\n",
              "      <th>3</th>\n",
              "      <td>0</td>\n",
              "      <td>13</td>\n",
              "      <td>0</td>\n",
              "      <td>0</td>\n",
              "    </tr>\n",
              "    <tr>\n",
              "      <th>4</th>\n",
              "      <td>0</td>\n",
              "      <td>14</td>\n",
              "      <td>0</td>\n",
              "      <td>0</td>\n",
              "    </tr>\n",
              "    <tr>\n",
              "      <th>...</th>\n",
              "      <td>...</td>\n",
              "      <td>...</td>\n",
              "      <td>...</td>\n",
              "      <td>...</td>\n",
              "    </tr>\n",
              "    <tr>\n",
              "      <th>119385</th>\n",
              "      <td>0</td>\n",
              "      <td>23</td>\n",
              "      <td>0</td>\n",
              "      <td>0</td>\n",
              "    </tr>\n",
              "    <tr>\n",
              "      <th>119386</th>\n",
              "      <td>0</td>\n",
              "      <td>102</td>\n",
              "      <td>0</td>\n",
              "      <td>0</td>\n",
              "    </tr>\n",
              "    <tr>\n",
              "      <th>119387</th>\n",
              "      <td>0</td>\n",
              "      <td>34</td>\n",
              "      <td>0</td>\n",
              "      <td>0</td>\n",
              "    </tr>\n",
              "    <tr>\n",
              "      <th>119388</th>\n",
              "      <td>0</td>\n",
              "      <td>109</td>\n",
              "      <td>0</td>\n",
              "      <td>0</td>\n",
              "    </tr>\n",
              "    <tr>\n",
              "      <th>119389</th>\n",
              "      <td>0</td>\n",
              "      <td>205</td>\n",
              "      <td>0</td>\n",
              "      <td>0</td>\n",
              "    </tr>\n",
              "  </tbody>\n",
              "</table>\n",
              "<p>119390 rows × 4 columns</p>\n",
              "</div>"
            ],
            "text/plain": [
              "        deposit_type_Non Refund  lead_time  country_PRT  is_canceled\n",
              "0                             0        342            1            0\n",
              "1                             0        737            1            0\n",
              "2                             0          7            0            0\n",
              "3                             0         13            0            0\n",
              "4                             0         14            0            0\n",
              "...                         ...        ...          ...          ...\n",
              "119385                        0         23            0            0\n",
              "119386                        0        102            0            0\n",
              "119387                        0         34            0            0\n",
              "119388                        0        109            0            0\n",
              "119389                        0        205            0            0\n",
              "\n",
              "[119390 rows x 4 columns]"
            ]
          },
          "metadata": {
            "tags": []
          },
          "execution_count": 163
        }
      ]
    },
    {
      "cell_type": "code",
      "metadata": {
        "id": "LdPtFeQLHeXP",
        "colab_type": "code",
        "colab": {}
      },
      "source": [
        "features =  df_correlations2.loc[:, df_correlations2.columns != 'is_canceled'].columns\n",
        "target = 'is_canceled'\n",
        "\n",
        "x_dev2, x_test2, y_dev2, y_test2 = train_test_split(\n",
        "    df_correlations2[features].values, \n",
        "    df_correlations2[target].values, \n",
        "    test_size=0.2, \n",
        "    random_state=42,\n",
        "    stratify=df_correlations2[target].values\n",
        ")                    \n"
      ],
      "execution_count": null,
      "outputs": []
    },
    {
      "cell_type": "code",
      "metadata": {
        "id": "fSa9ByQWphoT",
        "colab_type": "code",
        "colab": {
          "base_uri": "https://localhost:8080/",
          "height": 136
        },
        "outputId": "5b3a3320-8d9f-493a-cb18-51c954cebf8b"
      },
      "source": [
        "x_dev2"
      ],
      "execution_count": null,
      "outputs": [
        {
          "output_type": "execute_result",
          "data": {
            "text/plain": [
              "array([[  0,  20,   0],\n",
              "       [  0,   8,   0],\n",
              "       [  1,  93,   1],\n",
              "       ...,\n",
              "       [  0, 135,   0],\n",
              "       [  0, 172,   0],\n",
              "       [  0, 223,   0]])"
            ]
          },
          "metadata": {
            "tags": []
          },
          "execution_count": 165
        }
      ]
    },
    {
      "cell_type": "code",
      "metadata": {
        "id": "rKsWFtFMiwwk",
        "colab_type": "code",
        "colab": {
          "base_uri": "https://localhost:8080/",
          "height": 34
        },
        "outputId": "fcb54eb9-8fb8-4b1b-e7a0-4d319d49097f"
      },
      "source": [
        "features =  df_correlations2.loc[:, df_correlations2.columns != 'is_canceled'].columns\n",
        "target = 'is_canceled'\n",
        "\n",
        "arbol_corto= DecisionTreeClassifier(max_depth=3,random_state=42)\n",
        "arbol_corto.fit(x_dev2,y_dev2)\n",
        "\n",
        "y_pred_test2 = arbol_corto.predict(x_test2)\n",
        "\n",
        "f2score = fbeta_score(y_test2, y_pred_test2, beta=2)\n",
        "acc=accuracy_score(y_test2,y_pred_test2)\n",
        "prec=precision_score(y_test2,y_pred_test2)\n",
        "rec=recall_score(y_test2,y_pred_test2)\n",
        "f1=f1_score(y_test2,y_pred_test2)\n",
        "\n",
        "print(f2score,acc,prec,rec,f1)\n"
      ],
      "execution_count": null,
      "outputs": [
        {
          "output_type": "stream",
          "text": [
            "0.6077289942488427 0.755381522740598 0.7031376791993508 0.5877897117015263 0.6403103639386662\n"
          ],
          "name": "stdout"
        }
      ]
    },
    {
      "cell_type": "code",
      "metadata": {
        "id": "6R8MgENyi3Nv",
        "colab_type": "code",
        "colab": {
          "base_uri": "https://localhost:8080/",
          "height": 34
        },
        "outputId": "e20873c3-67b7-4058-e045-f1b04ed06933"
      },
      "source": [
        "best_tree = None\n",
        "best_score = None\n",
        "\n",
        "for train_index, test_index in kfoldcv.split(x_dev2, y_dev2):\n",
        "  x_train2, x_val2 = x_dev2[train_index], x_dev2[test_index]\n",
        "  y_train2, y_val2 = y_dev2[train_index], y_dev2[test_index]\n",
        "\n",
        "  # Tree Classifier\n",
        "  kfold_tree = DecisionTreeClassifier(max_depth=3)\n",
        "\n",
        "  # Entrenamos al arbol\n",
        "  kfold_tree.fit(x_train2,y_train2)\n",
        "\n",
        "  # Ejecutamos nuestra predicción\n",
        "  y_pred_val2 = kfold_tree.predict(x_val2)\n",
        "\n",
        "  f2score = fbeta_score(y_val2, y_pred_val2, beta=2)\n",
        "\n",
        "  if best_score is None or best_score < f2score:\n",
        "    best_score = f2score\n",
        "    best_tree = kfold_tree\n",
        "    \n",
        "y_pred_test2 = best_tree.predict(x_test2)\n",
        "f2score = fbeta_score(y_test2, y_pred_test2, beta=2)\n",
        "acc=accuracy_score(y_test2,y_pred_test2)\n",
        "prec=precision_score(y_test2,y_pred_test2)\n",
        "rec=recall_score(y_test2,y_pred_test2)\n",
        "f1=f1_score(y_test2,y_pred_test2)\n",
        "\n",
        "print(f2score,acc,prec,rec,f1)"
      ],
      "execution_count": null,
      "outputs": [
        {
          "output_type": "stream",
          "text": [
            "0.6077289942488427 0.755381522740598 0.7031376791993508 0.5877897117015263 0.6403103639386662\n"
          ],
          "name": "stdout"
        }
      ]
    },
    {
      "cell_type": "code",
      "metadata": {
        "id": "P7QW_kjfHjzE",
        "colab_type": "code",
        "colab": {
          "base_uri": "https://localhost:8080/",
          "height": 314
        },
        "outputId": "0c6119f9-d85f-4b54-c223-32a26511de6b"
      },
      "source": [
        "from sklearn.externals.six import StringIO  \n",
        "from IPython.display import Image  \n",
        "from sklearn.tree import export_graphviz\n",
        "import pydotplus\n",
        "import matplotlib.pyplot as plt\n",
        "\n",
        "dot_data = StringIO()\n",
        "export_graphviz(\n",
        "    arbol_corto, \n",
        "    out_file=dot_data,  \n",
        "    filled=True, \n",
        "    rounded=True,\n",
        "    special_characters=True\n",
        ")\n",
        "graph = pydotplus.graph_from_dot_data(dot_data.getvalue())  \n",
        "Image(graph.create_png())\n",
        "\n"
      ],
      "execution_count": null,
      "outputs": [
        {
          "output_type": "execute_result",
          "data": {
            "image/png": "[encoded data removed]",
            "text/plain": [
              "<IPython.core.display.Image object>"
            ]
          },
          "metadata": {
            "tags": []
          },
          "execution_count": 168
        }
      ]
    },
    {
      "cell_type": "code",
      "metadata": {
        "id": "mv5PFgFNp1sA",
        "colab_type": "code",
        "colab": {}
      },
      "source": [
        ""
      ],
      "execution_count": null,
      "outputs": []
    },
    {
      "cell_type": "code",
      "metadata": {
        "id": "Zn2KVAYZux91",
        "colab_type": "code",
        "colab": {
          "base_uri": "https://localhost:8080/",
          "height": 142
        },
        "outputId": "1a0af091-5828-4030-8609-06e0e2e7c43a"
      },
      "source": [
        "result_comparison = tree_comparison[['tree', 'f2score','nodes', 'depth']]\n",
        "result_comparison.loc[2] = ['rfe3', f2score, arbol_corto.tree_.node_count,arbol_corto.tree_.max_depth]\n",
        "result_comparison"
      ],
      "execution_count": null,
      "outputs": [
        {
          "output_type": "execute_result",
          "data": {
            "text/html": [
              "<div>\n",
              "<style scoped>\n",
              "    .dataframe tbody tr th:only-of-type {\n",
              "        vertical-align: middle;\n",
              "    }\n",
              "\n",
              "    .dataframe tbody tr th {\n",
              "        vertical-align: top;\n",
              "    }\n",
              "\n",
              "    .dataframe thead th {\n",
              "        text-align: right;\n",
              "    }\n",
              "</style>\n",
              "<table border=\"1\" class=\"dataframe\">\n",
              "  <thead>\n",
              "    <tr style=\"text-align: right;\">\n",
              "      <th></th>\n",
              "      <th>tree</th>\n",
              "      <th>f2score</th>\n",
              "      <th>nodes</th>\n",
              "      <th>depth</th>\n",
              "    </tr>\n",
              "  </thead>\n",
              "  <tbody>\n",
              "    <tr>\n",
              "      <th>0</th>\n",
              "      <td>ccp_alpha</td>\n",
              "      <td>0.772367</td>\n",
              "      <td>19</td>\n",
              "      <td>7</td>\n",
              "    </tr>\n",
              "    <tr>\n",
              "      <th>1</th>\n",
              "      <td>no_prune</td>\n",
              "      <td>0.800099</td>\n",
              "      <td>24069</td>\n",
              "      <td>53</td>\n",
              "    </tr>\n",
              "    <tr>\n",
              "      <th>2</th>\n",
              "      <td>rfe3</td>\n",
              "      <td>0.607729</td>\n",
              "      <td>15</td>\n",
              "      <td>3</td>\n",
              "    </tr>\n",
              "  </tbody>\n",
              "</table>\n",
              "</div>"
            ],
            "text/plain": [
              "        tree   f2score  nodes  depth\n",
              "0  ccp_alpha  0.772367     19      7\n",
              "1   no_prune  0.800099  24069     53\n",
              "2       rfe3  0.607729     15      3"
            ]
          },
          "metadata": {
            "tags": []
          },
          "execution_count": 178
        }
      ]
    },
    {
      "cell_type": "markdown",
      "metadata": {
        "id": "JVwlhcMYiLsW",
        "colab_type": "text"
      },
      "source": [
        "# Anexos\n"
      ]
    },
    {
      "cell_type": "markdown",
      "metadata": {
        "id": "9yEnabBi8oMz",
        "colab_type": "text"
      },
      "source": [
        "## Correlaciones Cramer"
      ]
    },
    {
      "cell_type": "code",
      "metadata": {
        "id": "WaINdINd80Pe",
        "colab_type": "code",
        "colab": {}
      },
      "source": [
        "#Esto no lo ejecutamos, se podría agregar como alternativa o anexo\n",
        "#Defino función cramer's corrected, para categóricas\n",
        "import scipy.stats as ss\n",
        "import numpy as np\n",
        "\n",
        "def cramers_corrected_stat(confusion_matrix):\n",
        "    calculate Cramers V statistic for categorial-categorial association.uses correction from Bergsma and Wicher, Journal of the Korean Statistical Society 42 (2013): 323-328\n",
        "    chi2 = ss.chi2_contingency(confusion_matrix)[0]\n",
        "    n = confusion_matrix.sum().sum()\n",
        "    phi2 = chi2/n\n",
        "    r,k = confusion_matrix.shape\n",
        "    phi2corr = max(0, phi2 - ((k-1)*(r-1))/(n-1))    \n",
        "    rcorr = r - ((r-1)**2)/(n-1)\n",
        "    kcorr = k - ((k-1)**2)/(n-1)\n",
        "    return np.sqrt(phi2corr / min( (kcorr-1), (rcorr-1)))"
      ],
      "execution_count": null,
      "outputs": []
    },
    {
      "cell_type": "code",
      "metadata": {
        "id": "VkO8Fnxw9Ew1",
        "colab_type": "code",
        "colab": {}
      },
      "source": [
        "#Calculo las correlaciones para las categóricas\n",
        "corr_cat2 = pd.DataFrame(columns=['Atributo', 'Cramers_V_corrected'])\n",
        "\n",
        "for i in range(len(corr_cat.columns)):\n",
        "  feature= corr_cat.columns[i]\n",
        "  confusion_matrix = pd.crosstab(df_categoricas['is_canceled'],corr_cat.iloc[:,i])\n",
        "  coefficient = cramers_corrected_stat(confusion_matrix)\n",
        "  corr_cat2.loc[i] = [feature] + [coefficient]\n",
        "\n",
        "corr_cat2.sort_values('Cramers_V_corrected',ascending=False)"
      ],
      "execution_count": null,
      "outputs": []
    },
    {
      "cell_type": "markdown",
      "metadata": {
        "id": "HYdQcs5Cc_mC",
        "colab_type": "text"
      },
      "source": [
        "## Tunning de hiperparámetros"
      ]
    },
    {
      "cell_type": "code",
      "metadata": {
        "id": "8koHciTT1477",
        "colab_type": "code",
        "colab": {}
      },
      "source": [
        "from sklearn.model_selection import StratifiedKFold, KFold, GridSearchCV, RandomizedSearchCV\n",
        "from sklearn.metrics import make_scorer\n",
        "from sklearn.metrics import fbeta_score\n",
        "import numpy as np\n",
        "\n",
        "\n",
        "# Parameter tuning extracted from\n",
        "# https://towardsdatascience.com/how-to-tune-a-decision-tree-f03721801680\n",
        "top_range = len(df_correlations.columns)\n",
        "\n",
        "params_grid = {'criterion':['gini','entropy'],\n",
        "               'splitter': ['best', 'random'],\n",
        "               'min_samples_leaf': list(range(1,20)),\n",
        "               'max_features': ['sqrt','log2'],\n",
        "               'max_depth':list(range(1,top_range)),\n",
        "              }\n",
        "\n",
        "# Nuestra función de scoring es f2 score porque queremos que nuestro algoritmo \n",
        "# contemple tanto la precisión como el recall (dandole mas peso a este ultimo)\n",
        "scorer_fn = make_scorer(fbeta_score, beta=2)\n",
        "\n",
        "kfoldcv = StratifiedKFold(n_splits=50)\n",
        "\n",
        "base_tree = DecisionTreeClassifier()\n",
        "randomcv = RandomizedSearchCV(\n",
        "    estimator=base_tree,\n",
        "    param_distributions = params_grid,\n",
        "    scoring=scorer_fn,\n",
        "    cv=kfoldcv,\n",
        "    n_iter = 50,\n",
        "    random_state = 50\n",
        ")\n",
        "randomcv.fit(x_dev,y_dev);"
      ],
      "execution_count": null,
      "outputs": []
    },
    {
      "cell_type": "code",
      "metadata": {
        "id": "yDZbQG2Qptiz",
        "colab_type": "code",
        "colab": {
          "base_uri": "https://localhost:8080/",
          "height": 394
        },
        "outputId": "0ff1cdbe-3e91-465d-a695-559f3b04893f"
      },
      "source": [
        "# Guardamos los resultados de K-Fold \n",
        "kfold_results = pd.DataFrame(randomcv.cv_results_)\n",
        "\n",
        "kfold_results.head()"
      ],
      "execution_count": null,
      "outputs": [
        {
          "output_type": "execute_result",
          "data": {
            "text/html": [
              "<div>\n",
              "<style scoped>\n",
              "    .dataframe tbody tr th:only-of-type {\n",
              "        vertical-align: middle;\n",
              "    }\n",
              "\n",
              "    .dataframe tbody tr th {\n",
              "        vertical-align: top;\n",
              "    }\n",
              "\n",
              "    .dataframe thead th {\n",
              "        text-align: right;\n",
              "    }\n",
              "</style>\n",
              "<table border=\"1\" class=\"dataframe\">\n",
              "  <thead>\n",
              "    <tr style=\"text-align: right;\">\n",
              "      <th></th>\n",
              "      <th>mean_fit_time</th>\n",
              "      <th>std_fit_time</th>\n",
              "      <th>mean_score_time</th>\n",
              "      <th>std_score_time</th>\n",
              "      <th>param_splitter</th>\n",
              "      <th>param_min_samples_leaf</th>\n",
              "      <th>param_max_features</th>\n",
              "      <th>param_max_depth</th>\n",
              "      <th>param_criterion</th>\n",
              "      <th>params</th>\n",
              "      <th>split0_test_score</th>\n",
              "      <th>split1_test_score</th>\n",
              "      <th>split2_test_score</th>\n",
              "      <th>split3_test_score</th>\n",
              "      <th>split4_test_score</th>\n",
              "      <th>mean_test_score</th>\n",
              "      <th>std_test_score</th>\n",
              "      <th>rank_test_score</th>\n",
              "    </tr>\n",
              "  </thead>\n",
              "  <tbody>\n",
              "    <tr>\n",
              "      <th>0</th>\n",
              "      <td>0.110819</td>\n",
              "      <td>0.008285</td>\n",
              "      <td>0.013118</td>\n",
              "      <td>0.000201</td>\n",
              "      <td>best</td>\n",
              "      <td>8</td>\n",
              "      <td>log2</td>\n",
              "      <td>8</td>\n",
              "      <td>entropy</td>\n",
              "      <td>{'splitter': 'best', 'min_samples_leaf': 8, 'm...</td>\n",
              "      <td>0.443156</td>\n",
              "      <td>0.656521</td>\n",
              "      <td>0.565921</td>\n",
              "      <td>0.493297</td>\n",
              "      <td>0.650815</td>\n",
              "      <td>0.561942</td>\n",
              "      <td>0.084477</td>\n",
              "      <td>44</td>\n",
              "    </tr>\n",
              "    <tr>\n",
              "      <th>1</th>\n",
              "      <td>0.133810</td>\n",
              "      <td>0.011917</td>\n",
              "      <td>0.014475</td>\n",
              "      <td>0.000154</td>\n",
              "      <td>random</td>\n",
              "      <td>11</td>\n",
              "      <td>sqrt</td>\n",
              "      <td>17</td>\n",
              "      <td>entropy</td>\n",
              "      <td>{'splitter': 'random', 'min_samples_leaf': 11,...</td>\n",
              "      <td>0.625074</td>\n",
              "      <td>0.652889</td>\n",
              "      <td>0.654883</td>\n",
              "      <td>0.657363</td>\n",
              "      <td>0.656368</td>\n",
              "      <td>0.649315</td>\n",
              "      <td>0.012214</td>\n",
              "      <td>39</td>\n",
              "    </tr>\n",
              "    <tr>\n",
              "      <th>2</th>\n",
              "      <td>0.193676</td>\n",
              "      <td>0.015484</td>\n",
              "      <td>0.016584</td>\n",
              "      <td>0.000145</td>\n",
              "      <td>best</td>\n",
              "      <td>2</td>\n",
              "      <td>log2</td>\n",
              "      <td>44</td>\n",
              "      <td>entropy</td>\n",
              "      <td>{'splitter': 'best', 'min_samples_leaf': 2, 'm...</td>\n",
              "      <td>0.732724</td>\n",
              "      <td>0.750481</td>\n",
              "      <td>0.746664</td>\n",
              "      <td>0.750922</td>\n",
              "      <td>0.732980</td>\n",
              "      <td>0.742754</td>\n",
              "      <td>0.008220</td>\n",
              "      <td>7</td>\n",
              "    </tr>\n",
              "    <tr>\n",
              "      <th>3</th>\n",
              "      <td>0.145112</td>\n",
              "      <td>0.008198</td>\n",
              "      <td>0.014758</td>\n",
              "      <td>0.000412</td>\n",
              "      <td>best</td>\n",
              "      <td>11</td>\n",
              "      <td>log2</td>\n",
              "      <td>16</td>\n",
              "      <td>entropy</td>\n",
              "      <td>{'splitter': 'best', 'min_samples_leaf': 11, '...</td>\n",
              "      <td>0.702465</td>\n",
              "      <td>0.718470</td>\n",
              "      <td>0.695505</td>\n",
              "      <td>0.694440</td>\n",
              "      <td>0.656010</td>\n",
              "      <td>0.693378</td>\n",
              "      <td>0.020563</td>\n",
              "      <td>28</td>\n",
              "    </tr>\n",
              "    <tr>\n",
              "      <th>4</th>\n",
              "      <td>0.160607</td>\n",
              "      <td>0.005946</td>\n",
              "      <td>0.015656</td>\n",
              "      <td>0.000296</td>\n",
              "      <td>best</td>\n",
              "      <td>9</td>\n",
              "      <td>log2</td>\n",
              "      <td>43</td>\n",
              "      <td>entropy</td>\n",
              "      <td>{'splitter': 'best', 'min_samples_leaf': 9, 'm...</td>\n",
              "      <td>0.737698</td>\n",
              "      <td>0.717535</td>\n",
              "      <td>0.733270</td>\n",
              "      <td>0.723755</td>\n",
              "      <td>0.712401</td>\n",
              "      <td>0.724932</td>\n",
              "      <td>0.009441</td>\n",
              "      <td>16</td>\n",
              "    </tr>\n",
              "  </tbody>\n",
              "</table>\n",
              "</div>"
            ],
            "text/plain": [
              "   mean_fit_time  std_fit_time  mean_score_time  std_score_time param_splitter param_min_samples_leaf param_max_features param_max_depth param_criterion                                             params  split0_test_score  split1_test_score  split2_test_score  split3_test_score  split4_test_score  mean_test_score  std_test_score  rank_test_score\n",
              "0       0.110819      0.008285         0.013118        0.000201           best                      8               log2               8         entropy  {'splitter': 'best', 'min_samples_leaf': 8, 'm...           0.443156           0.656521           0.565921           0.493297           0.650815         0.561942        0.084477               44\n",
              "1       0.133810      0.011917         0.014475        0.000154         random                     11               sqrt              17         entropy  {'splitter': 'random', 'min_samples_leaf': 11,...           0.625074           0.652889           0.654883           0.657363           0.656368         0.649315        0.012214               39\n",
              "2       0.193676      0.015484         0.016584        0.000145           best                      2               log2              44         entropy  {'splitter': 'best', 'min_samples_leaf': 2, 'm...           0.732724           0.750481           0.746664           0.750922           0.732980         0.742754        0.008220                7\n",
              "3       0.145112      0.008198         0.014758        0.000412           best                     11               log2              16         entropy  {'splitter': 'best', 'min_samples_leaf': 11, '...           0.702465           0.718470           0.695505           0.694440           0.656010         0.693378        0.020563               28\n",
              "4       0.160607      0.005946         0.015656        0.000296           best                      9               log2              43         entropy  {'splitter': 'best', 'min_samples_leaf': 9, 'm...           0.737698           0.717535           0.733270           0.723755           0.712401         0.724932        0.009441               16"
            ]
          },
          "metadata": {
            "tags": []
          },
          "execution_count": 61
        }
      ]
    },
    {
      "cell_type": "code",
      "metadata": {
        "id": "aifRa353pVBa",
        "colab_type": "code",
        "colab": {
          "base_uri": "https://localhost:8080/",
          "height": 513
        },
        "outputId": "c39a3216-4c0f-42e8-c2a9-a018fdb2a47a"
      },
      "source": [
        "# Boxplots de f2 score en 50-fold cross validation\n",
        "f2score_metric = kfold_results['mean_test_score']\n",
        "f2score_label = ['F2 Score']*len(f2score_metric)\n",
        "\n",
        "sns.set_context('talk')\n",
        "plt.figure(figsize=(15,8))\n",
        "sns.boxplot(f2score_label,f2score_metric)"
      ],
      "execution_count": null,
      "outputs": [
        {
          "output_type": "execute_result",
          "data": {
            "text/plain": [
              "<matplotlib.axes._subplots.AxesSubplot at 0x7f242cec1208>"
            ]
          },
          "metadata": {
            "tags": []
          },
          "execution_count": 63
        },
        {
          "output_type": "display_data",
          "data": {
            "image/png": "[encoded data removed]",
            "text/plain": [
              "<Figure size 1080x576 with 1 Axes>"
            ]
          },
          "metadata": {
            "tags": [],
            "needs_background": "light"
          }
        }
      ]
    },
    {
      "cell_type": "code",
      "metadata": {
        "id": "NvDp2kWw5TY3",
        "colab_type": "code",
        "colab": {
          "base_uri": "https://localhost:8080/",
          "height": 102
        },
        "outputId": "dd442b6f-e28b-4097-e425-84e879dba95a"
      },
      "source": [
        "randomcv.best_params_"
      ],
      "execution_count": null,
      "outputs": [
        {
          "output_type": "execute_result",
          "data": {
            "text/plain": [
              "{'criterion': 'entropy',\n",
              " 'max_depth': 65,\n",
              " 'max_features': 'sqrt',\n",
              " 'min_samples_leaf': 2,\n",
              " 'splitter': 'best'}"
            ]
          },
          "metadata": {
            "tags": []
          },
          "execution_count": 62
        }
      ]
    },
    {
      "cell_type": "markdown",
      "metadata": {
        "id": "CpSh-EHKlctY",
        "colab_type": "text"
      },
      "source": [
        "Corrimos nuestro análisis de K-Fold, para optimizar hiperparámetros utilizando dos criterios de scoring y obteniendo los siguientes resultados:\n",
        "\n",
        "*   fbeta2 scorer:\n",
        "```\n",
        "{\n",
        " 'criterion': 'entropy',\n",
        " 'max_depth': 65,\n",
        " 'max_features': 'sqrt',\n",
        " 'min_samples_leaf': 2,\n",
        " 'splitter': 'best'\n",
        "}\n",
        "```\n",
        "\n"
      ]
    },
    {
      "cell_type": "markdown",
      "metadata": {
        "id": "EbHENcOOLtWY",
        "colab_type": "text"
      },
      "source": [
        "##  K-fold y α con RandomizeSearchCv"
      ]
    },
    {
      "cell_type": "code",
      "metadata": {
        "id": "rphHIeGH-EUN",
        "colab_type": "code",
        "colab": {}
      },
      "source": [
        "from sklearn.model_selection import StratifiedKFold, KFold, GridSearchCV, RandomizedSearchCV\n",
        "from sklearn.metrics import make_scorer\n",
        "from sklearn.metrics import fbeta_score\n",
        "import numpy as np\n",
        "\n",
        "params_grid = {'ccp_alpha': ccp_alphas}\n",
        "\n",
        "scorer_fn = make_scorer(fbeta_score, beta=2)\n",
        "ccp_tree = DecisionTreeClassifier()\n",
        "\n",
        "kfoldcv = StratifiedKFold(n_splits=10)\n",
        "\n",
        "randomcv = RandomizedSearchCV(\n",
        "    estimator=ccp_tree,\n",
        "    param_distributions = params_grid,\n",
        "    scoring=scorer_fn,\n",
        "    cv=kfoldcv,\n",
        "    n_iter = len(ccp_alphas)\n",
        ")\n",
        "\n",
        "randomcv.fit(x_dev,y_dev);"
      ],
      "execution_count": null,
      "outputs": []
    },
    {
      "cell_type": "code",
      "metadata": {
        "id": "q0u8m3DR_1Mn",
        "colab_type": "code",
        "colab": {}
      },
      "source": [
        "# Guardamos los resultados de K-Fold \n",
        "prune_kfold = pd.DataFrame(randomcv.cv_results_)\n",
        "print(len(prune_kfold))\n",
        "prune_kfold"
      ],
      "execution_count": null,
      "outputs": []
    },
    {
      "cell_type": "markdown",
      "metadata": {
        "id": "TrjMAHLhrnz5",
        "colab_type": "text"
      },
      "source": [
        "## Analizamos metricas K-Fold\n"
      ]
    },
    {
      "cell_type": "code",
      "metadata": {
        "id": "njpTGWU7rm6X",
        "colab_type": "code",
        "colab": {
          "base_uri": "https://localhost:8080/",
          "height": 176
        },
        "outputId": "a1ad3d4a-632a-4740-8cb0-5261dfc84080"
      },
      "source": [
        "from sklearn.metrics import confusion_matrix, classification_report\n",
        "\n",
        "best_model = randomcv.best_estimator_\n",
        "y_pred = best_model.predict(x_test)\n",
        "\n",
        "print(\n",
        "    classification_report(y_test,y_pred)\n",
        ")"
      ],
      "execution_count": null,
      "outputs": [
        {
          "output_type": "stream",
          "text": [
            "              precision    recall  f1-score   support\n",
            "\n",
            "           0       0.88      0.88      0.88     15033\n",
            "           1       0.79      0.80      0.80      8845\n",
            "\n",
            "    accuracy                           0.85     23878\n",
            "   macro avg       0.84      0.84      0.84     23878\n",
            "weighted avg       0.85      0.85      0.85     23878\n",
            "\n"
          ],
          "name": "stdout"
        }
      ]
    },
    {
      "cell_type": "code",
      "metadata": {
        "id": "5jFvOn6_sM58",
        "colab_type": "code",
        "colab": {
          "base_uri": "https://localhost:8080/",
          "height": 318
        },
        "outputId": "6fcdd71e-5018-4154-96e3-35d5e4127b50"
      },
      "source": [
        "cm = confusion_matrix(y_test,y_pred)\n",
        "sns.heatmap(cm, cmap='Blues',annot=True,fmt='g')\n",
        "plt.xlabel('Predicted')\n",
        "plt.ylabel('True')"
      ],
      "execution_count": null,
      "outputs": [
        {
          "output_type": "execute_result",
          "data": {
            "text/plain": [
              "Text(19.5, 0.5, 'True')"
            ]
          },
          "metadata": {
            "tags": []
          },
          "execution_count": 34
        },
        {
          "output_type": "display_data",
          "data": {
            "image/png": "[encoded data removed]",
            "text/plain": [
              "<Figure size 432x288 with 2 Axes>"
            ]
          },
          "metadata": {
            "tags": [],
            "needs_background": "light"
          }
        }
      ]
    },
    {
      "cell_type": "code",
      "metadata": {
        "id": "KiyrhsuTtBCG",
        "colab_type": "code",
        "colab": {
          "base_uri": "https://localhost:8080/",
          "height": 551
        },
        "outputId": "e13b2b21-295b-44ba-eea4-19fed35ab249"
      },
      "source": [
        "y_scores = best_model.predict_proba(x_test)\n",
        "out_probs = y_scores[:,1]\n",
        "\n",
        "plt.figure(figsize=(15,7))\n",
        "sns.kdeplot(out_probs[y_test==0],shade=True,c='r')\n",
        "sns.kdeplot(out_probs[y_test==1],shade=True,c='b')"
      ],
      "execution_count": null,
      "outputs": [
        {
          "output_type": "stream",
          "text": [
            "/usr/local/lib/python3.6/dist-packages/seaborn/distributions.py:330: MatplotlibDeprecationWarning: Saw kwargs ['c', 'color'] which are all aliases for 'color'.  Kept value from 'color'.  Passing multiple aliases for the same property will raise a TypeError in 3.3.\n",
            "  ax.plot(x, y, color=color, label=label, **kwargs)\n",
            "/usr/local/lib/python3.6/dist-packages/seaborn/distributions.py:330: MatplotlibDeprecationWarning: Saw kwargs ['c', 'color'] which are all aliases for 'color'.  Kept value from 'color'.  Passing multiple aliases for the same property will raise a TypeError in 3.3.\n",
            "  ax.plot(x, y, color=color, label=label, **kwargs)\n"
          ],
          "name": "stderr"
        },
        {
          "output_type": "execute_result",
          "data": {
            "text/plain": [
              "<matplotlib.axes._subplots.AxesSubplot at 0x7f9fbcd57eb8>"
            ]
          },
          "metadata": {
            "tags": []
          },
          "execution_count": 35
        },
        {
          "output_type": "display_data",
          "data": {
            "image/png": "[encoded data removed]",
            "text/plain": [
              "<Figure size 1080x504 with 1 Axes>"
            ]
          },
          "metadata": {
            "tags": [],
            "needs_background": "light"
          }
        }
      ]
    }
  ]
}