{
  "nbformat": 4,
  "nbformat_minor": 0,
  "metadata": {
    "colab": {
      "name": "Solution_Developement.ipynb",
      "provenance": [],
      "collapsed_sections": [],
      "toc_visible": true,
      "include_colab_link": true
    },
    "kernelspec": {
      "name": "python3",
      "display_name": "Python 3"
    }
  },
  "cells": [
    {
      "cell_type": "markdown",
      "metadata": {
        "id": "view-in-github",
        "colab_type": "text"
      },
      "source": [
        "<a href=\"https://colab.research.google.com/github/francotestori/aauba_01/blob/master/Solution_Developement.ipynb\" target=\"_parent\"><img src=\"https://colab.research.google.com/assets/colab-badge.svg\" alt=\"Open In Colab\"/></a>"
      ]
    },
    {
      "cell_type": "markdown",
      "metadata": {
        "id": "pg_kc69cksY4",
        "colab_type": "text"
      },
      "source": [
        "# Armado del DataFrame"
      ]
    },
    {
      "cell_type": "code",
      "metadata": {
        "id": "BUgUxbQ-OmGF",
        "colab_type": "code",
        "colab": {
          "base_uri": "https://localhost:8080/",
          "height": 34
        },
        "outputId": "eca32684-416d-4393-b018-b226bca84334"
      },
      "source": [
        "#Importing Libraries\n",
        "import numpy as np\n",
        "import pandas as pd\n",
        "from sklearn.externals import joblib\n",
        "import matplotlib.pyplot as plt\n",
        "\n",
        "# Encoders & Split\n",
        "from sklearn.preprocessing import LabelEncoder\n",
        "from sklearn.model_selection import train_test_split\n",
        "from sklearn.preprocessing import StandardScaler\n",
        "\n",
        "# Classifiers\n",
        "from sklearn.naive_bayes import GaussianNB\n",
        "from sklearn.ensemble import RandomForestClassifier\n",
        "from sklearn.ensemble import GradientBoostingClassifier\n",
        "\n",
        "# Parameter Tuning\n",
        "from sklearn.model_selection import GridSearchCV\n",
        "from sklearn.model_selection import PredefinedSplit\n",
        "from sklearn.model_selection import RandomizedSearchCV\n",
        "\n",
        "#Confusion Matrix\n",
        "from sklearn.metrics import confusion_matrix\n",
        "from sklearn.metrics import plot_confusion_matrix\n",
        "\n",
        "# Scoring & Reporting\n",
        "from sklearn.metrics import accuracy_score\n",
        "from sklearn.metrics import jaccard_similarity_score\n",
        "from sklearn.metrics import confusion_matrix\n",
        "from sklearn.metrics import roc_auc_score\n",
        "from sklearn.metrics import roc_curve\n",
        "from sklearn.metrics import classification_report\n",
        "\n",
        "print('Libraries Imported')"
      ],
      "execution_count": 17,
      "outputs": [
        {
          "output_type": "stream",
          "text": [
            "Libraries Imported\n"
          ],
          "name": "stdout"
        }
      ]
    },
    {
      "cell_type": "code",
      "metadata": {
        "id": "jwKRzIBMOnNx",
        "colab_type": "code",
        "colab": {
          "base_uri": "https://localhost:8080/",
          "height": 224
        },
        "outputId": "d98aafd6-cb40-413c-a0ca-d9fd8fd02a04"
      },
      "source": [
        "df = pd.read_csv(\n",
        "    'https://raw.githubusercontent.com/francotestori/aauba_02/master/resources/audio_digits.csv',\n",
        "    index_col=0\n",
        ")\n",
        "\n",
        "df.head()"
      ],
      "execution_count": 18,
      "outputs": [
        {
          "output_type": "execute_result",
          "data": {
            "text/html": [
              "<div>\n",
              "<style scoped>\n",
              "    .dataframe tbody tr th:only-of-type {\n",
              "        vertical-align: middle;\n",
              "    }\n",
              "\n",
              "    .dataframe tbody tr th {\n",
              "        vertical-align: top;\n",
              "    }\n",
              "\n",
              "    .dataframe thead th {\n",
              "        text-align: right;\n",
              "    }\n",
              "</style>\n",
              "<table border=\"1\" class=\"dataframe\">\n",
              "  <thead>\n",
              "    <tr style=\"text-align: right;\">\n",
              "      <th></th>\n",
              "      <th>ddenergy_mean</th>\n",
              "      <th>ddenergy_std</th>\n",
              "      <th>ddmfcc_0_mean</th>\n",
              "      <th>ddmfcc_0_std</th>\n",
              "      <th>ddmfcc_10_mean</th>\n",
              "      <th>ddmfcc_10_std</th>\n",
              "      <th>ddmfcc_11_mean</th>\n",
              "      <th>ddmfcc_11_std</th>\n",
              "      <th>ddmfcc_1_mean</th>\n",
              "      <th>ddmfcc_1_std</th>\n",
              "      <th>ddmfcc_2_mean</th>\n",
              "      <th>ddmfcc_2_std</th>\n",
              "      <th>ddmfcc_3_mean</th>\n",
              "      <th>ddmfcc_3_std</th>\n",
              "      <th>ddmfcc_4_mean</th>\n",
              "      <th>ddmfcc_4_std</th>\n",
              "      <th>ddmfcc_5_mean</th>\n",
              "      <th>ddmfcc_5_std</th>\n",
              "      <th>ddmfcc_6_mean</th>\n",
              "      <th>ddmfcc_6_std</th>\n",
              "      <th>ddmfcc_7_mean</th>\n",
              "      <th>ddmfcc_7_std</th>\n",
              "      <th>ddmfcc_8_mean</th>\n",
              "      <th>ddmfcc_8_std</th>\n",
              "      <th>ddmfcc_9_mean</th>\n",
              "      <th>ddmfcc_9_std</th>\n",
              "      <th>denergy_mean</th>\n",
              "      <th>denergy_std</th>\n",
              "      <th>digit</th>\n",
              "      <th>dmfcc_0_mean</th>\n",
              "      <th>dmfcc_0_std</th>\n",
              "      <th>dmfcc_10_mean</th>\n",
              "      <th>dmfcc_10_std</th>\n",
              "      <th>dmfcc_11_mean</th>\n",
              "      <th>dmfcc_11_std</th>\n",
              "      <th>dmfcc_1_mean</th>\n",
              "      <th>dmfcc_1_std</th>\n",
              "      <th>dmfcc_2_mean</th>\n",
              "      <th>dmfcc_2_std</th>\n",
              "      <th>dmfcc_3_mean</th>\n",
              "      <th>dmfcc_3_std</th>\n",
              "      <th>dmfcc_4_mean</th>\n",
              "      <th>dmfcc_4_std</th>\n",
              "      <th>dmfcc_5_mean</th>\n",
              "      <th>dmfcc_5_std</th>\n",
              "      <th>dmfcc_6_mean</th>\n",
              "      <th>dmfcc_6_std</th>\n",
              "      <th>dmfcc_7_mean</th>\n",
              "      <th>dmfcc_7_std</th>\n",
              "      <th>dmfcc_8_mean</th>\n",
              "      <th>dmfcc_8_std</th>\n",
              "      <th>dmfcc_9_mean</th>\n",
              "      <th>dmfcc_9_std</th>\n",
              "      <th>energy_mean</th>\n",
              "      <th>energy_std</th>\n",
              "      <th>filename</th>\n",
              "      <th>mfcc_0_mean</th>\n",
              "      <th>mfcc_0_std</th>\n",
              "      <th>mfcc_10_mean</th>\n",
              "      <th>mfcc_10_std</th>\n",
              "      <th>mfcc_11_mean</th>\n",
              "      <th>mfcc_11_std</th>\n",
              "      <th>mfcc_1_mean</th>\n",
              "      <th>mfcc_1_std</th>\n",
              "      <th>mfcc_2_mean</th>\n",
              "      <th>mfcc_2_std</th>\n",
              "      <th>mfcc_3_mean</th>\n",
              "      <th>mfcc_3_std</th>\n",
              "      <th>mfcc_4_mean</th>\n",
              "      <th>mfcc_4_std</th>\n",
              "      <th>mfcc_5_mean</th>\n",
              "      <th>mfcc_5_std</th>\n",
              "      <th>mfcc_6_mean</th>\n",
              "      <th>mfcc_6_std</th>\n",
              "      <th>mfcc_7_mean</th>\n",
              "      <th>mfcc_7_std</th>\n",
              "      <th>mfcc_8_mean</th>\n",
              "      <th>mfcc_8_std</th>\n",
              "      <th>mfcc_9_mean</th>\n",
              "      <th>mfcc_9_std</th>\n",
              "    </tr>\n",
              "  </thead>\n",
              "  <tbody>\n",
              "    <tr>\n",
              "      <th>0</th>\n",
              "      <td>-0.000040</td>\n",
              "      <td>0.004047</td>\n",
              "      <td>-0.087577</td>\n",
              "      <td>14.439054</td>\n",
              "      <td>0.289443</td>\n",
              "      <td>8.461383</td>\n",
              "      <td>0.001000</td>\n",
              "      <td>4.527796</td>\n",
              "      <td>-0.276688</td>\n",
              "      <td>10.856913</td>\n",
              "      <td>-0.018697</td>\n",
              "      <td>12.444738</td>\n",
              "      <td>0.172892</td>\n",
              "      <td>11.896126</td>\n",
              "      <td>0.166432</td>\n",
              "      <td>5.956282</td>\n",
              "      <td>0.098696</td>\n",
              "      <td>7.476521</td>\n",
              "      <td>0.007125</td>\n",
              "      <td>7.080504</td>\n",
              "      <td>0.158096</td>\n",
              "      <td>6.999523</td>\n",
              "      <td>0.118771</td>\n",
              "      <td>7.826736</td>\n",
              "      <td>0.112117</td>\n",
              "      <td>7.799444</td>\n",
              "      <td>0.000005</td>\n",
              "      <td>0.007348</td>\n",
              "      <td>zero</td>\n",
              "      <td>0.387241</td>\n",
              "      <td>26.726141</td>\n",
              "      <td>-0.325877</td>\n",
              "      <td>8.762013</td>\n",
              "      <td>-0.017884</td>\n",
              "      <td>4.282867</td>\n",
              "      <td>0.139810</td>\n",
              "      <td>16.173223</td>\n",
              "      <td>0.345507</td>\n",
              "      <td>16.423527</td>\n",
              "      <td>0.282263</td>\n",
              "      <td>14.687464</td>\n",
              "      <td>-0.023132</td>\n",
              "      <td>8.464055</td>\n",
              "      <td>-0.226542</td>\n",
              "      <td>6.998120</td>\n",
              "      <td>-0.206619</td>\n",
              "      <td>6.600952</td>\n",
              "      <td>-0.088103</td>\n",
              "      <td>6.912228</td>\n",
              "      <td>-0.126719</td>\n",
              "      <td>9.370098</td>\n",
              "      <td>-0.140965</td>\n",
              "      <td>7.608357</td>\n",
              "      <td>0.031405</td>\n",
              "      <td>0.030842</td>\n",
              "      <td>speechcommands/zero/8dd788d8_nohash_1.wav</td>\n",
              "      <td>-310.373780</td>\n",
              "      <td>108.335783</td>\n",
              "      <td>-12.138142</td>\n",
              "      <td>19.095641</td>\n",
              "      <td>6.300064</td>\n",
              "      <td>8.229837</td>\n",
              "      <td>108.100260</td>\n",
              "      <td>39.959982</td>\n",
              "      <td>-35.916181</td>\n",
              "      <td>37.495254</td>\n",
              "      <td>33.898475</td>\n",
              "      <td>25.414830</td>\n",
              "      <td>-30.267377</td>\n",
              "      <td>24.366416</td>\n",
              "      <td>21.804664</td>\n",
              "      <td>9.490059</td>\n",
              "      <td>-8.092194</td>\n",
              "      <td>13.301543</td>\n",
              "      <td>3.688589</td>\n",
              "      <td>18.480796</td>\n",
              "      <td>-27.701459</td>\n",
              "      <td>21.117286</td>\n",
              "      <td>14.652777</td>\n",
              "      <td>10.857483</td>\n",
              "    </tr>\n",
              "    <tr>\n",
              "      <th>1</th>\n",
              "      <td>-0.000224</td>\n",
              "      <td>0.008262</td>\n",
              "      <td>-0.182528</td>\n",
              "      <td>21.594038</td>\n",
              "      <td>0.008355</td>\n",
              "      <td>5.840726</td>\n",
              "      <td>0.087771</td>\n",
              "      <td>6.301972</td>\n",
              "      <td>-0.118388</td>\n",
              "      <td>10.820153</td>\n",
              "      <td>0.116756</td>\n",
              "      <td>14.593893</td>\n",
              "      <td>0.024313</td>\n",
              "      <td>10.843247</td>\n",
              "      <td>-0.117824</td>\n",
              "      <td>11.666164</td>\n",
              "      <td>-0.197453</td>\n",
              "      <td>7.340812</td>\n",
              "      <td>-0.373940</td>\n",
              "      <td>6.868907</td>\n",
              "      <td>-0.158919</td>\n",
              "      <td>6.697412</td>\n",
              "      <td>-0.172334</td>\n",
              "      <td>8.373859</td>\n",
              "      <td>-0.085276</td>\n",
              "      <td>6.904384</td>\n",
              "      <td>0.000675</td>\n",
              "      <td>0.011127</td>\n",
              "      <td>zero</td>\n",
              "      <td>0.263953</td>\n",
              "      <td>28.657321</td>\n",
              "      <td>0.018793</td>\n",
              "      <td>4.308382</td>\n",
              "      <td>0.322682</td>\n",
              "      <td>6.000490</td>\n",
              "      <td>0.023330</td>\n",
              "      <td>11.932052</td>\n",
              "      <td>-0.045622</td>\n",
              "      <td>17.403189</td>\n",
              "      <td>0.146212</td>\n",
              "      <td>11.297503</td>\n",
              "      <td>0.428317</td>\n",
              "      <td>10.951434</td>\n",
              "      <td>0.323952</td>\n",
              "      <td>7.076900</td>\n",
              "      <td>0.058051</td>\n",
              "      <td>8.351322</td>\n",
              "      <td>0.008589</td>\n",
              "      <td>7.236734</td>\n",
              "      <td>0.045069</td>\n",
              "      <td>7.127188</td>\n",
              "      <td>0.114088</td>\n",
              "      <td>5.511203</td>\n",
              "      <td>0.076727</td>\n",
              "      <td>0.040160</td>\n",
              "      <td>speechcommands/zero/6021f08b_nohash_0.wav</td>\n",
              "      <td>-268.940979</td>\n",
              "      <td>96.166463</td>\n",
              "      <td>0.485951</td>\n",
              "      <td>5.873054</td>\n",
              "      <td>6.682188</td>\n",
              "      <td>7.696213</td>\n",
              "      <td>109.094888</td>\n",
              "      <td>30.126237</td>\n",
              "      <td>18.249464</td>\n",
              "      <td>43.767123</td>\n",
              "      <td>39.821188</td>\n",
              "      <td>17.850829</td>\n",
              "      <td>27.161642</td>\n",
              "      <td>16.963540</td>\n",
              "      <td>26.775130</td>\n",
              "      <td>16.508826</td>\n",
              "      <td>-2.063644</td>\n",
              "      <td>21.946652</td>\n",
              "      <td>13.449217</td>\n",
              "      <td>16.439935</td>\n",
              "      <td>-2.512277</td>\n",
              "      <td>9.671001</td>\n",
              "      <td>17.021364</td>\n",
              "      <td>9.597063</td>\n",
              "    </tr>\n",
              "    <tr>\n",
              "      <th>2</th>\n",
              "      <td>0.000331</td>\n",
              "      <td>0.039083</td>\n",
              "      <td>-1.393533</td>\n",
              "      <td>33.512079</td>\n",
              "      <td>0.523177</td>\n",
              "      <td>8.641218</td>\n",
              "      <td>-0.197498</td>\n",
              "      <td>7.290841</td>\n",
              "      <td>0.644651</td>\n",
              "      <td>17.501375</td>\n",
              "      <td>0.133704</td>\n",
              "      <td>10.075938</td>\n",
              "      <td>0.790281</td>\n",
              "      <td>13.438439</td>\n",
              "      <td>-0.305298</td>\n",
              "      <td>11.651066</td>\n",
              "      <td>0.161379</td>\n",
              "      <td>10.441262</td>\n",
              "      <td>-0.072442</td>\n",
              "      <td>8.470837</td>\n",
              "      <td>-0.124640</td>\n",
              "      <td>8.645921</td>\n",
              "      <td>-0.305004</td>\n",
              "      <td>7.428344</td>\n",
              "      <td>-0.251130</td>\n",
              "      <td>9.858792</td>\n",
              "      <td>-0.005057</td>\n",
              "      <td>0.055144</td>\n",
              "      <td>zero</td>\n",
              "      <td>-3.657910</td>\n",
              "      <td>42.929844</td>\n",
              "      <td>0.547587</td>\n",
              "      <td>8.974828</td>\n",
              "      <td>0.520600</td>\n",
              "      <td>5.924756</td>\n",
              "      <td>-3.630059</td>\n",
              "      <td>20.239011</td>\n",
              "      <td>-2.661199</td>\n",
              "      <td>14.608974</td>\n",
              "      <td>-0.664190</td>\n",
              "      <td>14.109088</td>\n",
              "      <td>-0.388859</td>\n",
              "      <td>12.218891</td>\n",
              "      <td>1.116912</td>\n",
              "      <td>9.438793</td>\n",
              "      <td>1.269988</td>\n",
              "      <td>6.818314</td>\n",
              "      <td>0.650308</td>\n",
              "      <td>6.981177</td>\n",
              "      <td>0.046947</td>\n",
              "      <td>7.233902</td>\n",
              "      <td>-0.135616</td>\n",
              "      <td>8.432754</td>\n",
              "      <td>0.284765</td>\n",
              "      <td>0.198115</td>\n",
              "      <td>speechcommands/zero/5aac2efa_nohash_0.wav</td>\n",
              "      <td>-162.838334</td>\n",
              "      <td>152.889283</td>\n",
              "      <td>-5.995101</td>\n",
              "      <td>20.488937</td>\n",
              "      <td>-3.803240</td>\n",
              "      <td>10.556037</td>\n",
              "      <td>89.749041</td>\n",
              "      <td>50.146729</td>\n",
              "      <td>-11.773584</td>\n",
              "      <td>51.632548</td>\n",
              "      <td>-5.650079</td>\n",
              "      <td>30.596622</td>\n",
              "      <td>-21.146136</td>\n",
              "      <td>27.040773</td>\n",
              "      <td>-21.872953</td>\n",
              "      <td>18.821318</td>\n",
              "      <td>-24.375052</td>\n",
              "      <td>14.214723</td>\n",
              "      <td>-16.363518</td>\n",
              "      <td>8.142725</td>\n",
              "      <td>-14.993416</td>\n",
              "      <td>13.274695</td>\n",
              "      <td>-7.609461</td>\n",
              "      <td>10.120220</td>\n",
              "    </tr>\n",
              "    <tr>\n",
              "      <th>3</th>\n",
              "      <td>-0.000022</td>\n",
              "      <td>0.010173</td>\n",
              "      <td>-0.647873</td>\n",
              "      <td>21.422757</td>\n",
              "      <td>0.120790</td>\n",
              "      <td>5.620986</td>\n",
              "      <td>0.082528</td>\n",
              "      <td>4.805060</td>\n",
              "      <td>-0.454970</td>\n",
              "      <td>13.847316</td>\n",
              "      <td>0.123681</td>\n",
              "      <td>13.428330</td>\n",
              "      <td>0.245653</td>\n",
              "      <td>12.344635</td>\n",
              "      <td>0.213345</td>\n",
              "      <td>10.397040</td>\n",
              "      <td>0.293587</td>\n",
              "      <td>9.086914</td>\n",
              "      <td>0.509202</td>\n",
              "      <td>10.586381</td>\n",
              "      <td>0.272438</td>\n",
              "      <td>7.377933</td>\n",
              "      <td>0.150039</td>\n",
              "      <td>8.711009</td>\n",
              "      <td>-0.052710</td>\n",
              "      <td>4.734111</td>\n",
              "      <td>0.000012</td>\n",
              "      <td>0.020158</td>\n",
              "      <td>zero</td>\n",
              "      <td>0.175276</td>\n",
              "      <td>36.334235</td>\n",
              "      <td>-0.401118</td>\n",
              "      <td>5.677760</td>\n",
              "      <td>-0.505302</td>\n",
              "      <td>3.918342</td>\n",
              "      <td>1.331990</td>\n",
              "      <td>19.071729</td>\n",
              "      <td>0.421617</td>\n",
              "      <td>19.291494</td>\n",
              "      <td>-1.422872</td>\n",
              "      <td>16.455475</td>\n",
              "      <td>-0.300709</td>\n",
              "      <td>11.134505</td>\n",
              "      <td>0.026611</td>\n",
              "      <td>7.565342</td>\n",
              "      <td>-0.378856</td>\n",
              "      <td>11.856558</td>\n",
              "      <td>-0.196623</td>\n",
              "      <td>7.215757</td>\n",
              "      <td>0.042180</td>\n",
              "      <td>8.890276</td>\n",
              "      <td>0.073596</td>\n",
              "      <td>5.559824</td>\n",
              "      <td>0.072842</td>\n",
              "      <td>0.081364</td>\n",
              "      <td>speechcommands/zero/5236848b_nohash_3.wav</td>\n",
              "      <td>-311.809058</td>\n",
              "      <td>148.300601</td>\n",
              "      <td>-3.725588</td>\n",
              "      <td>10.908234</td>\n",
              "      <td>2.602168</td>\n",
              "      <td>6.403918</td>\n",
              "      <td>77.403861</td>\n",
              "      <td>55.231457</td>\n",
              "      <td>-39.393476</td>\n",
              "      <td>59.282381</td>\n",
              "      <td>7.104459</td>\n",
              "      <td>41.064272</td>\n",
              "      <td>-11.155193</td>\n",
              "      <td>25.052952</td>\n",
              "      <td>2.627961</td>\n",
              "      <td>13.858085</td>\n",
              "      <td>-22.229770</td>\n",
              "      <td>34.307361</td>\n",
              "      <td>-17.583034</td>\n",
              "      <td>23.183467</td>\n",
              "      <td>-1.142070</td>\n",
              "      <td>15.329263</td>\n",
              "      <td>-4.427150</td>\n",
              "      <td>15.736575</td>\n",
              "    </tr>\n",
              "    <tr>\n",
              "      <th>4</th>\n",
              "      <td>0.000018</td>\n",
              "      <td>0.006413</td>\n",
              "      <td>-1.692699</td>\n",
              "      <td>32.384986</td>\n",
              "      <td>0.245513</td>\n",
              "      <td>7.514093</td>\n",
              "      <td>-0.288584</td>\n",
              "      <td>8.608589</td>\n",
              "      <td>0.924984</td>\n",
              "      <td>20.501827</td>\n",
              "      <td>-1.137884</td>\n",
              "      <td>14.799777</td>\n",
              "      <td>1.058543</td>\n",
              "      <td>19.254523</td>\n",
              "      <td>-0.381943</td>\n",
              "      <td>15.992294</td>\n",
              "      <td>0.522771</td>\n",
              "      <td>17.469219</td>\n",
              "      <td>-0.039162</td>\n",
              "      <td>8.120950</td>\n",
              "      <td>-0.195600</td>\n",
              "      <td>8.868016</td>\n",
              "      <td>0.202938</td>\n",
              "      <td>8.901982</td>\n",
              "      <td>-0.242765</td>\n",
              "      <td>9.514696</td>\n",
              "      <td>-0.000504</td>\n",
              "      <td>0.009387</td>\n",
              "      <td>zero</td>\n",
              "      <td>-3.979818</td>\n",
              "      <td>45.220099</td>\n",
              "      <td>0.690888</td>\n",
              "      <td>7.081722</td>\n",
              "      <td>-0.084041</td>\n",
              "      <td>7.558391</td>\n",
              "      <td>-3.602311</td>\n",
              "      <td>24.140624</td>\n",
              "      <td>-3.164172</td>\n",
              "      <td>27.211607</td>\n",
              "      <td>-1.517718</td>\n",
              "      <td>19.718280</td>\n",
              "      <td>-0.365183</td>\n",
              "      <td>14.988400</td>\n",
              "      <td>1.105055</td>\n",
              "      <td>12.180850</td>\n",
              "      <td>1.067176</td>\n",
              "      <td>7.460431</td>\n",
              "      <td>1.067015</td>\n",
              "      <td>8.206372</td>\n",
              "      <td>1.263468</td>\n",
              "      <td>8.144511</td>\n",
              "      <td>0.193232</td>\n",
              "      <td>8.174734</td>\n",
              "      <td>0.038358</td>\n",
              "      <td>0.037518</td>\n",
              "      <td>speechcommands/zero/90b0b91a_nohash_1.wav</td>\n",
              "      <td>-441.658706</td>\n",
              "      <td>196.571589</td>\n",
              "      <td>-21.428044</td>\n",
              "      <td>15.728746</td>\n",
              "      <td>-17.133335</td>\n",
              "      <td>16.071462</td>\n",
              "      <td>82.740887</td>\n",
              "      <td>66.848065</td>\n",
              "      <td>-16.495500</td>\n",
              "      <td>87.437274</td>\n",
              "      <td>8.089898</td>\n",
              "      <td>35.118191</td>\n",
              "      <td>-25.552193</td>\n",
              "      <td>33.694765</td>\n",
              "      <td>-17.319364</td>\n",
              "      <td>23.893936</td>\n",
              "      <td>-22.009776</td>\n",
              "      <td>26.446429</td>\n",
              "      <td>-19.578614</td>\n",
              "      <td>19.518883</td>\n",
              "      <td>-17.590691</td>\n",
              "      <td>20.786852</td>\n",
              "      <td>-7.017059</td>\n",
              "      <td>11.838037</td>\n",
              "    </tr>\n",
              "  </tbody>\n",
              "</table>\n",
              "</div>"
            ],
            "text/plain": [
              "   ddenergy_mean  ddenergy_std  ...  mfcc_9_mean  mfcc_9_std\n",
              "0      -0.000040      0.004047  ...    14.652777   10.857483\n",
              "1      -0.000224      0.008262  ...    17.021364    9.597063\n",
              "2       0.000331      0.039083  ...    -7.609461   10.120220\n",
              "3      -0.000022      0.010173  ...    -4.427150   15.736575\n",
              "4       0.000018      0.006413  ...    -7.017059   11.838037\n",
              "\n",
              "[5 rows x 80 columns]"
            ]
          },
          "metadata": {
            "tags": []
          },
          "execution_count": 18
        }
      ]
    },
    {
      "cell_type": "markdown",
      "metadata": {
        "id": "LROVKZunk6VK",
        "colab_type": "text"
      },
      "source": [
        "# Split Train-Test"
      ]
    },
    {
      "cell_type": "markdown",
      "metadata": {
        "id": "-Ui4sQe03NGy",
        "colab_type": "text"
      },
      "source": [
        "Para poder splitear nuestros dataframe en tres sets distintos (train, validation y testing) debemos utilizar los archivos provistos en el datasource de speechcommands."
      ]
    },
    {
      "cell_type": "code",
      "metadata": {
        "id": "Idap72V81u0j",
        "colab_type": "code",
        "colab": {}
      },
      "source": [
        "# Armamos nuestras listas de items que deberán formar nuestra partición de validación\n",
        "validation_list = pd.read_csv(\n",
        "    'https://raw.githubusercontent.com/francotestori/aauba_02/master/resources/audio_digits_validation.csv',\n",
        "    index_col=0\n",
        ")\n",
        "\n",
        "# Armamos nuestras listas de items que deberán formar nuestra partición de testing\n",
        "testing_list = pd.read_csv(\n",
        "    'https://raw.githubusercontent.com/francotestori/aauba_02/master/resources/audio_digits_testing.csv',\n",
        "    index_col=0\n",
        ")"
      ],
      "execution_count": 19,
      "outputs": []
    },
    {
      "cell_type": "code",
      "metadata": {
        "id": "EAt72OFa3A5q",
        "colab_type": "code",
        "colab": {}
      },
      "source": [
        "# Evaluamos los valores de las columnas del dataframe\n",
        "df.columns\n",
        "\n",
        "# Generamos una nueva columna 'audio_name' que normaliza el nombre del audio referenciado\n",
        "df['audio_name'] = df['filename'].str.slice(start=15)"
      ],
      "execution_count": 20,
      "outputs": []
    },
    {
      "cell_type": "code",
      "metadata": {
        "id": "vFrfiYR84JAE",
        "colab_type": "code",
        "colab": {
          "base_uri": "https://localhost:8080/",
          "height": 85
        },
        "outputId": "ea423c17-aa4c-4ec9-9e8a-d9aefc9c0931"
      },
      "source": [
        "# Evaluamos ahora a que split pertenece cada audio y lo marcamos en el dataframe\n",
        "tipo_split = []\n",
        "\n",
        "for i in df['audio_name'] :\n",
        "  if i in testing_list.index.to_list():\n",
        "    tipo_split.append('test')\n",
        "  elif i in validation_list.index.to_list():\n",
        "    tipo_split.append('validation') \n",
        "  else:\n",
        "    tipo_split.append('training')\n",
        "\n",
        "df['split'] = tipo_split\n",
        "\n",
        "df['split'].value_counts()"
      ],
      "execution_count": 21,
      "outputs": [
        {
          "output_type": "execute_result",
          "data": {
            "text/plain": [
              "training      18620\n",
              "test           2552\n",
              "validation     2494\n",
              "Name: split, dtype: int64"
            ]
          },
          "metadata": {
            "tags": []
          },
          "execution_count": 21
        }
      ]
    },
    {
      "cell_type": "code",
      "metadata": {
        "id": "MrVWTKEz4ch8",
        "colab_type": "code",
        "colab": {
          "base_uri": "https://localhost:8080/",
          "height": 68
        },
        "outputId": "2a937d25-15aa-414b-b854-7ae2addf1136"
      },
      "source": [
        "# Finalmente armamos nuestros conjuntos\n",
        "\n",
        "df_test = df[df['split']=='test']\n",
        "df_val = df[df['split']=='validation']\n",
        "df_train = df[df['split']=='training']\n",
        "\n",
        "# Target\n",
        "y_train = df_train['digit']\n",
        "y_val = df_val['digit']\n",
        "y_test = df_test['digit']\n",
        "\n",
        "# Features\n",
        "x_train = df_train.drop(['digit','filename','audio_name','split'],axis=1)\n",
        "x_val = df_val.drop(['digit','filename','audio_name','split'],axis=1)\n",
        "x_test = df_test.drop(['digit','filename','audio_name','split'],axis=1)\n",
        "\n",
        "print(f'Entrenamiento: {len(x_train)}')\n",
        "print('Validacion: {}'.format(len(x_val)))\n",
        "print(f'Held-out: {len(x_test)}')"
      ],
      "execution_count": 32,
      "outputs": [
        {
          "output_type": "stream",
          "text": [
            "Entrenamiento: 18620\n",
            "Validacion: 2494\n",
            "Held-out: 2552\n"
          ],
          "name": "stdout"
        }
      ]
    },
    {
      "cell_type": "code",
      "metadata": {
        "id": "VZRDwJlUPdUE",
        "colab_type": "code",
        "colab": {}
      },
      "source": [
        "# Estandarizamos nuestros datos\n",
        "scaler = StandardScaler()\n",
        "\n",
        "x_train_scaled = pd.DataFrame(scaler.fit_transform(x_train))\n",
        "x_val_scaled = pd.DataFrame(scaler.fit_transform(x_val))\n",
        "x_test_scaled = pd.DataFrame(scaler.transform(x_test))"
      ],
      "execution_count": 33,
      "outputs": []
    },
    {
      "cell_type": "code",
      "metadata": {
        "id": "gnw6AQPyPfmd",
        "colab_type": "code",
        "colab": {
          "base_uri": "https://localhost:8080/",
          "height": 51
        },
        "outputId": "23be1d7c-ce41-491b-e97f-b8e6ce99fa90"
      },
      "source": [
        "# Chequeamos la consistencia de nuestros targets de entrenamiento\n",
        "pd.Series(y_train).unique()"
      ],
      "execution_count": 34,
      "outputs": [
        {
          "output_type": "execute_result",
          "data": {
            "text/plain": [
              "array(['zero', 'one', 'two', 'three', 'four', 'five', 'six', 'seven',\n",
              "       'eight', 'nine'], dtype=object)"
            ]
          },
          "metadata": {
            "tags": []
          },
          "execution_count": 34
        }
      ]
    },
    {
      "cell_type": "code",
      "metadata": {
        "id": "ivXnrk5nPhcu",
        "colab_type": "code",
        "colab": {
          "base_uri": "https://localhost:8080/",
          "height": 187
        },
        "outputId": "d200c9d1-43b7-4578-a37d-4e070cde9bbe"
      },
      "source": [
        "for k,title in enumerate(pd.Series(y_train).unique()):\n",
        "    print(f'Y >  {title}', end='\\t')\n",
        "    perc_train = pd.Series(y_train).value_counts(normalize=True)\n",
        "    perc_val = pd.Series(y_val).value_counts(normalize=True)\n",
        "    perc_test = pd.Series(y_test).value_counts(normalize=True)\n",
        "    print(f'Entrenamiento:{perc_train[k]:.5}', end='\\t')\n",
        "    print(f'Validación:{perc_val[k]:.5}', end='\\t')\n",
        "    print(f'Held-out:{perc_train[k]:.5}')"
      ],
      "execution_count": 68,
      "outputs": [
        {
          "output_type": "stream",
          "text": [
            "Y >  zero\tEntrenamiento:0.10161\tValidación:0.11227\tHeld-out:0.10161\n",
            "Y >  one\tEntrenamiento:0.1007\tValidación:0.10545\tHeld-out:0.1007\n",
            "Y >  two\tEntrenamiento:0.1007\tValidación:0.10505\tHeld-out:0.1007\n",
            "Y >  three\tEntrenamiento:0.10059\tValidación:0.10425\tHeld-out:0.10059\n",
            "Y >  four\tEntrenamiento:0.10021\tValidación:0.099439\tHeld-out:0.10021\n",
            "Y >  five\tEntrenamiento:0.10005\tValidación:0.097434\tHeld-out:0.10005\n",
            "Y >  six\tEntrenamiento:0.099463\tValidación:0.097033\tHeld-out:0.099463\n",
            "Y >  seven\tEntrenamiento:0.099033\tValidación:0.094627\tHeld-out:0.099033\n",
            "Y >  eight\tEntrenamiento:0.098872\tValidación:0.092221\tHeld-out:0.098872\n",
            "Y >  nine\tEntrenamiento:0.098765\tValidación:0.092221\tHeld-out:0.098765\n"
          ],
          "name": "stdout"
        }
      ]
    },
    {
      "cell_type": "markdown",
      "metadata": {
        "id": "C92fIX3Hm5Z5",
        "colab_type": "text"
      },
      "source": [
        "# Naive Bayes"
      ]
    },
    {
      "cell_type": "markdown",
      "metadata": {
        "id": "PVZJDAnsIFyY",
        "colab_type": "text"
      },
      "source": [
        "## Preprocessing"
      ]
    },
    {
      "cell_type": "code",
      "metadata": {
        "id": "5zy04hU5GqQX",
        "colab_type": "code",
        "colab": {}
      },
      "source": [
        "# Como no hay validación, se juntan train y val para entrenar al modelo.\n",
        "\n",
        "## Versión estandarizada\n",
        "x_train_nb_scaled = x_train_scaled.append(x_val_scaled, ignore_index=True)\n",
        "\n",
        "## Versión sin estandarizado\n",
        "x_train_nb = x_train.append(x_val, ignore_index=True)\n",
        "\n",
        "## Target\n",
        "y_train_nb = y_train.append(y_val, ignore_index=True)"
      ],
      "execution_count": 35,
      "outputs": []
    },
    {
      "cell_type": "markdown",
      "metadata": {
        "id": "AOZrppPjHOuW",
        "colab_type": "text"
      },
      "source": [
        "## No Scale"
      ]
    },
    {
      "cell_type": "code",
      "metadata": {
        "id": "r6jhvo5PHVj9",
        "colab_type": "code",
        "colab": {}
      },
      "source": [
        "gnb = GaussianNB()\n",
        "gnb.fit(x_train_nb, y_train_nb)\n",
        "gnb_y_pred = gnb.predict(x_test)"
      ],
      "execution_count": 36,
      "outputs": []
    },
    {
      "cell_type": "code",
      "metadata": {
        "id": "-FcHog24HrcS",
        "colab_type": "code",
        "colab": {
          "base_uri": "https://localhost:8080/",
          "height": 34
        },
        "outputId": "a6b54b04-8dfa-4a73-a97e-9be2d4765c95"
      },
      "source": [
        "print(gnb.classes_)"
      ],
      "execution_count": 37,
      "outputs": [
        {
          "output_type": "stream",
          "text": [
            "['eight' 'five' 'four' 'nine' 'one' 'seven' 'six' 'three' 'two' 'zero']\n"
          ],
          "name": "stdout"
        }
      ]
    },
    {
      "cell_type": "code",
      "metadata": {
        "id": "AYgZJD0cInUy",
        "colab_type": "code",
        "colab": {
          "base_uri": "https://localhost:8080/",
          "height": 34
        },
        "outputId": "7f945f03-26e7-427b-a730-4f52ccaeb4ac"
      },
      "source": [
        "print(gnb.get_params())"
      ],
      "execution_count": 38,
      "outputs": [
        {
          "output_type": "stream",
          "text": [
            "{'priors': None, 'var_smoothing': 1e-09}\n"
          ],
          "name": "stdout"
        }
      ]
    },
    {
      "cell_type": "code",
      "metadata": {
        "id": "578xHsrkIpD9",
        "colab_type": "code",
        "colab": {
          "base_uri": "https://localhost:8080/",
          "height": 1000
        },
        "outputId": "c19664f4-413d-4809-d6d6-6a4cdb528127"
      },
      "source": [
        "# Mean of each feature per class\n",
        "print(gnb.theta_)"
      ],
      "execution_count": 39,
      "outputs": [
        {
          "output_type": "stream",
          "text": [
            "[[-7.76228410e-05  1.14391781e-02 -7.46891000e-01  4.79960354e+01\n",
            "   7.16143483e-02  6.83009198e+00  7.56383434e-03  6.63948329e+00\n",
            "  -5.54225440e-03  1.88569460e+01  6.81772433e-02  1.35360253e+01\n",
            "  -5.97787214e-02  1.52722893e+01  1.35632178e-01  1.17546839e+01\n",
            "   5.80263193e-02  1.14478122e+01  9.88184439e-02  8.98325046e+00\n",
            "   1.76031244e-02  8.21137438e+00  8.23942634e-02  7.93113924e+00\n",
            "   3.53900405e-02  7.21363974e+00 -7.73929720e-05  1.52437302e-02\n",
            "   1.54647593e-01  5.21250809e+01 -2.49194678e-02  5.55154039e+00\n",
            "   1.26728202e-02  5.43934467e+00  1.24677431e-01  1.74715022e+01\n",
            "   7.64209856e-02  1.21709705e+01  3.05385297e-02  1.43604338e+01\n",
            "   5.58303378e-02  1.03616090e+01  7.22021325e-02  9.49212684e+00\n",
            "  -4.73243135e-02  7.57349743e+00  7.85490038e-02  6.97957243e+00\n",
            "   1.83104799e-02  6.63035025e+00 -1.19469579e-02  5.80744073e+00\n",
            "   3.12504193e-02  3.97052280e-02 -4.18671800e+02  1.22774422e+02\n",
            "  -7.38781344e+00  9.26826814e+00  1.23043164e+00  8.72968697e+00\n",
            "   6.05108081e+01  3.19530885e+01  3.94387460e+00  2.13960273e+01\n",
            "   3.43160642e+01  3.21857858e+01 -8.77453021e+00  2.02710539e+01\n",
            "  -1.03288958e+00  1.77372781e+01 -7.19177536e+00  1.26128808e+01\n",
            "   1.30635947e+00  1.30019446e+01 -9.35713274e+00  1.27069200e+01\n",
            "  -4.34336286e-01  9.59400711e+00]\n",
            " [-7.86998374e-05  1.24150079e-02 -8.29174566e-01  3.41309444e+01\n",
            "   7.22964021e-02  6.30133735e+00  2.33689262e-02  6.38977462e+00\n",
            "  -9.19079244e-02  2.48540817e+01  1.68988064e-01  1.45001616e+01\n",
            "   1.79626544e-02  1.16719023e+01  9.91567715e-02  1.04447460e+01\n",
            "   5.81611942e-02  8.57517238e+00  1.05092368e-01  7.93427391e+00\n",
            "   2.46317198e-02  7.33320320e+00  5.87856470e-02  7.05787319e+00\n",
            "   2.75388345e-03  6.64600544e+00  4.24963156e-05  1.66922699e-02\n",
            "   6.79870468e-01  4.24253097e+01 -2.42315735e-02  5.27533509e+00\n",
            "  -2.12890951e-02  5.29080143e+00  3.31614555e-01  2.30276078e+01\n",
            "  -8.85690062e-02  1.46179924e+01  1.28724261e-01  1.06961710e+01\n",
            "   7.32080049e-02  9.97466515e+00 -1.07642581e-02  7.89940898e+00\n",
            "  -6.42644339e-02  7.04065569e+00  1.82115657e-02  6.18129815e+00\n",
            "   2.64314364e-02  6.00434795e+00  2.17530083e-02  5.63602532e+00\n",
            "   4.47508488e-02  5.14508539e-02 -3.74990714e+02  1.40153145e+02\n",
            "  -6.58427599e+00  8.75189774e+00  2.93376787e-01  8.46997426e+00\n",
            "   8.40148628e+01  4.44180900e+01 -2.03921599e+01  3.51790150e+01\n",
            "   1.11809334e+01  2.09779364e+01 -9.86986520e+00  2.14359511e+01\n",
            "   2.30874106e+00  1.44253471e+01 -7.86872545e+00  1.32100729e+01\n",
            "   2.33111166e+00  1.03589434e+01 -5.08725287e+00  1.00464162e+01\n",
            "   4.22519510e+00  9.11862936e+00]\n",
            " [-9.80233925e-05  1.19307463e-02 -6.88325653e-01  2.85788876e+01\n",
            "   5.79378428e-02  6.73091235e+00  1.60321336e-02  6.42380513e+00\n",
            "  -2.65918441e-01  2.15842148e+01  1.43638028e-01  1.39956991e+01\n",
            "   1.04450763e-01  1.01798369e+01  7.26987913e-02  1.07136551e+01\n",
            "   3.42215099e-02  9.17154061e+00  1.01377769e-01  8.52602156e+00\n",
            "   5.09655308e-02  7.71518390e+00  4.50648745e-02  7.11468085e+00\n",
            "   2.54847836e-02  6.93963645e+00  6.29881858e-05  1.65545611e-02\n",
            "   3.43114262e-01  3.44268813e+01  6.76040074e-03  5.72252210e+00\n",
            "  -1.68921708e-02  5.32754922e+00  6.82014411e-01  2.25166419e+01\n",
            "  -7.08069819e-02  1.33230241e+01 -5.16916012e-02  9.91585922e+00\n",
            "   1.24364045e-01  1.13778077e+01  3.41491630e-02  8.69909803e+00\n",
            "  -5.57667720e-02  7.49211074e+00 -3.50432177e-03  6.79563251e+00\n",
            "   8.01006538e-02  6.13020378e+00 -1.09482161e-02  5.95307383e+00\n",
            "   4.47905746e-02  5.21022276e-02 -4.08408121e+02  1.07804771e+02\n",
            "  -6.83920999e+00  9.30701978e+00  1.33700567e+00  7.86613414e+00\n",
            "   9.93250119e+01  5.84508278e+01 -2.17976838e-01  2.56464057e+01\n",
            "   3.80786242e+00  1.99863951e+01 -1.13285753e+01  2.69009022e+01\n",
            "  -4.85681032e-01  1.77946838e+01 -7.69528660e+00  1.36493467e+01\n",
            "  -1.16657212e+00  1.17071196e+01 -4.19298938e+00  1.02932544e+01\n",
            "   2.49317464e-01  9.51015088e+00]\n",
            " [-1.04956737e-04  6.90142571e-03 -7.70548235e-01  2.98422656e+01\n",
            "   9.22461344e-02  6.78267594e+00  5.02951363e-02  6.84703726e+00\n",
            "  -2.81808335e-01  1.62683086e+01  9.70327564e-02  1.59773675e+01\n",
            "  -8.23810171e-02  1.19229000e+01  6.32494714e-02  1.07664402e+01\n",
            "   6.95496341e-02  9.09578757e+00  9.53752761e-02  8.49940647e+00\n",
            "   4.40042282e-02  8.08657238e+00  5.98833340e-02  8.43672185e+00\n",
            "   5.96851459e-02  7.41290448e+00  1.50610053e-05  1.18033040e-02\n",
            "   4.27964198e-01  4.04049370e+01 -1.55018719e-02  5.68901647e+00\n",
            "  -5.40588710e-03  5.71725000e+00  3.50734423e-01  1.61427205e+01\n",
            "  -4.77367752e-02  1.67966231e+01  1.00575157e-01  1.16856359e+01\n",
            "   8.08597803e-02  9.87124231e+00  3.66598339e-02  8.40375821e+00\n",
            "   2.40685446e-02  7.34231778e+00  5.37275035e-02  6.82132790e+00\n",
            "   8.49039946e-02  7.20681087e+00  2.18316215e-02  6.44062140e+00\n",
            "   4.33377203e-02  4.23890002e-02 -3.91483025e+02  1.37370623e+02\n",
            "  -1.01721125e+01  9.84027964e+00 -1.65826427e+00  8.93759697e+00\n",
            "   9.45545110e+01  3.65426769e+01 -1.47539864e+01  3.82285634e+01\n",
            "   2.51139656e+01  2.15274655e+01 -4.68972515e+00  1.85868641e+01\n",
            "   2.51255167e+00  1.46661480e+01 -6.72539207e+00  1.22226205e+01\n",
            "  -3.79200540e-02  1.16638909e+01 -4.05794172e+00  1.13354850e+01\n",
            "   4.91454149e-01  1.05876304e+01]\n",
            " [-9.94413355e-05  8.57188166e-03 -5.80479341e-01  2.50054111e+01\n",
            "   8.02285524e-02  6.74149758e+00  3.94407844e-02  6.58363749e+00\n",
            "  -2.66223589e-01  1.69789072e+01  7.27608694e-02  1.47560508e+01\n",
            "  -4.72152878e-03  1.07632720e+01  9.21735355e-02  1.08049222e+01\n",
            "   5.10240050e-02  9.52017704e+00  7.91703471e-02  8.82870568e+00\n",
            "   5.30187773e-02  8.04721149e+00  6.28836632e-02  7.53933096e+00\n",
            "   3.62751864e-02  7.07058661e+00  5.76320122e-05  1.38653693e-02\n",
            "   3.13172513e-01  3.62450685e+01 -1.44888283e-02  5.57737265e+00\n",
            "  -2.75373033e-02  5.53753105e+00  4.21832664e-01  1.78342277e+01\n",
            "  -3.15353269e-02  1.59802653e+01  1.25944365e-01  1.04831011e+01\n",
            "   1.31485962e-01  1.14543343e+01  5.30030400e-02  8.78603808e+00\n",
            "   2.24265628e-02  7.66186823e+00  4.02030314e-02  6.80454958e+00\n",
            "   5.61226011e-02  6.39314086e+00  1.26741912e-02  5.91195570e+00\n",
            "   3.91450605e-02  4.42133019e-02 -4.23079518e+02  1.18154343e+02\n",
            "  -8.27113870e+00  9.18728051e+00 -4.15948321e-01  8.44606452e+00\n",
            "   9.96501594e+01  4.53757964e+01 -4.56115202e-02  3.07425655e+01\n",
            "   1.57194534e+01  1.82859617e+01 -8.16133712e+00  2.47779726e+01\n",
            "   4.65658580e+00  1.44848562e+01 -4.70009170e+00  1.18958318e+01\n",
            "  -7.34654475e-01  1.14856892e+01 -4.45573588e+00  1.01133075e+01\n",
            "   1.19453127e-01  9.19008875e+00]\n",
            " [-9.13420359e-05  1.23140833e-02 -6.97138513e-01  3.57401559e+01\n",
            "   8.35331491e-02  6.72261672e+00  4.01476395e-02  6.54164785e+00\n",
            "  -6.39599799e-02  2.35496395e+01  3.50304483e-02  1.71825999e+01\n",
            "   2.96013062e-03  1.03504593e+01  7.15847094e-02  9.92623594e+00\n",
            "   3.84802638e-02  9.42354156e+00  1.06564215e-01  9.58304542e+00\n",
            "   2.68782918e-02  8.54660828e+00  8.19812427e-02  7.61926774e+00\n",
            "   2.83979438e-02  6.89539371e+00  7.50538207e-05  1.52300464e-02\n",
            "   2.10500133e-01  4.19427052e+01  1.14800195e-02  5.40490550e+00\n",
            "  -8.33138764e-02  5.29533495e+00  8.45269799e-01  2.44255670e+01\n",
            "   2.77669024e-02  1.67996569e+01  2.78598307e-01  9.04741206e+00\n",
            "   1.67911733e-01  8.97308343e+00  1.39246481e-02  8.06383398e+00\n",
            "   6.28914037e-02  7.99836843e+00 -3.01798702e-02  7.14631010e+00\n",
            "   3.42480344e-03  6.19368180e+00 -4.41648066e-02  5.58891528e+00\n",
            "   4.01084893e-02  4.36615904e-02 -3.85485325e+02  1.34918467e+02\n",
            "  -8.30390761e+00  8.94212660e+00  2.51400911e-01  8.47298540e+00\n",
            "   7.26926648e+01  5.60573624e+01  8.13227571e-02  3.23759150e+01\n",
            "   1.73701041e+01  1.82191417e+01 -3.06128015e+00  1.71592404e+01\n",
            "   1.79086180e+00  1.47530126e+01 -1.43645470e+01  1.65824638e+01\n",
            "   7.69192196e-01  1.26900778e+01 -6.09909586e+00  1.00334691e+01\n",
            "   3.22073951e+00  9.30802640e+00]\n",
            " [-7.64129006e-05  1.28333181e-02 -9.52056327e-01  4.26653776e+01\n",
            "   7.68737694e-02  7.32289858e+00 -6.28804236e-03  6.94981851e+00\n",
            "   3.00533111e-01  2.37221862e+01 -5.92718339e-02  1.75606437e+01\n",
            "   9.58913795e-02  1.44608269e+01  8.51258570e-02  1.06714326e+01\n",
            "   1.93282755e-03  1.09248428e+01  1.32626843e-01  1.03856439e+01\n",
            "  -2.19982692e-02  8.71705193e+00  7.79373663e-02  8.16439628e+00\n",
            "   4.48378014e-03  7.67703284e+00  5.25219117e-05  1.48776357e-02\n",
            "   7.89207091e-01  4.65815451e+01 -1.01926967e-02  5.91177919e+00\n",
            "  -1.61119268e-02  5.51246813e+00 -3.80048519e-03  2.68419626e+01\n",
            "   8.15149490e-02  1.60423208e+01  1.20196417e-02  1.35004380e+01\n",
            "   3.92572845e-02  9.57416481e+00  9.36511299e-02  9.68724742e+00\n",
            "  -6.55456811e-02  8.64269773e+00  5.10387147e-02  7.16076520e+00\n",
            "  -4.39694231e-03  6.49779598e+00  3.18976170e-02  6.27652455e+00\n",
            "   3.15490501e-02  3.44242921e-02 -3.87706175e+02  1.20370242e+02\n",
            "  -8.49768155e+00  9.05764112e+00  4.19040451e+00  7.81510484e+00\n",
            "   3.35867562e+01  5.29737427e+01  1.01323526e+01  2.74518054e+01\n",
            "   1.47771406e+01  2.30843228e+01 -9.20405313e-01  1.62146925e+01\n",
            "   3.56734730e+00  1.82594224e+01 -1.69385067e+01  1.66201208e+01\n",
            "   6.99273022e+00  1.12411422e+01 -8.79463508e+00  1.06975143e+01\n",
            "   3.00529897e+00  9.75853695e+00]\n",
            " [-8.88081392e-05  9.34570655e-03 -6.48800028e-01  3.36980574e+01\n",
            "   7.23471703e-02  6.88317354e+00  3.28946272e-02  6.57085039e+00\n",
            "  -1.12282578e-01  1.90712006e+01  7.67674759e-02  1.42613716e+01\n",
            "  -9.59636603e-02  1.27674962e+01  9.49130262e-02  1.03125724e+01\n",
            "   6.68384921e-02  9.45670545e+00  7.69263276e-02  9.20501196e+00\n",
            "   5.02228891e-02  8.31246353e+00  9.02827667e-02  8.00281157e+00\n",
            "   4.54682230e-02  7.04984807e+00  1.34735733e-04  1.35986871e-02\n",
            "   3.24368932e-01  3.89248648e+01 -1.63942912e-02  5.76133286e+00\n",
            "  -6.10573158e-02  5.34416346e+00  4.65156162e-01  1.94795553e+01\n",
            "   8.40495075e-02  1.43403652e+01  3.30536490e-01  1.34377743e+01\n",
            "   5.85177336e-02  9.51999712e+00 -3.23202830e-02  8.52910766e+00\n",
            "   7.92241225e-02  8.23450816e+00  1.93985200e-02  7.33148454e+00\n",
            "  -2.21128821e-02  6.93521856e+00 -3.53808402e-02  6.03176373e+00\n",
            "   3.70118642e-02  4.27282215e-02 -4.10377046e+02  1.17746279e+02\n",
            "  -8.88520968e+00  9.83283388e+00 -2.83071935e-01  8.43431229e+00\n",
            "   7.61593003e+01  3.86827861e+01 -2.84277848e+00  2.84559234e+01\n",
            "   3.21302343e+01  3.16273377e+01 -3.00897848e-02  1.66124333e+01\n",
            "   7.50734844e-01  1.56501891e+01 -8.35139382e+00  1.58983840e+01\n",
            "  -1.36912550e+00  1.32583316e+01 -8.49261644e+00  1.18026012e+01\n",
            "  -2.14907069e+00  1.07824536e+01]\n",
            " [-8.59138136e-05  1.12130917e-02 -5.61653518e-01  3.68397893e+01\n",
            "   7.26116368e-02  6.79617554e+00  2.41371643e-02  6.50874840e+00\n",
            "  -1.41252526e-01  2.02928261e+01  5.32955641e-02  1.41487993e+01\n",
            "   3.45949326e-03  1.10338267e+01  9.62611785e-02  1.06625566e+01\n",
            "   3.31976780e-02  8.89258630e+00  7.95126162e-02  8.54663305e+00\n",
            "   5.51913346e-02  7.68073710e+00  7.68238902e-02  7.37689094e+00\n",
            "   4.41856907e-02  6.91630058e+00  9.01939423e-05  1.50174949e-02\n",
            "   2.77360432e-02  4.18454336e+01 -7.26791528e-03  5.65563608e+00\n",
            "  -5.37193376e-02  5.24853169e+00  7.12834456e-01  2.11161161e+01\n",
            "   1.12416747e-01  1.30036415e+01  5.53360434e-02  1.05009690e+01\n",
            "   9.61890808e-02  9.33594806e+00  2.73698762e-02  7.76357297e+00\n",
            "   5.22133747e-02  7.45999251e+00 -1.99662322e-02  6.76054344e+00\n",
            "  -3.90530825e-02  6.25570031e+00 -6.37423169e-02  5.84581287e+00\n",
            "   3.72202906e-02  4.46852208e-02 -4.16560812e+02  1.21485268e+02\n",
            "  -8.44498956e+00  1.00665291e+01 -4.47156385e-02  8.17340641e+00\n",
            "   7.48876867e+01  4.84127855e+01  3.13202801e+00  2.33565900e+01\n",
            "   2.19554057e+01  2.05897665e+01 -2.22641915e+00  1.61989098e+01\n",
            "   3.16734852e+00  1.35826835e+01 -7.77616402e+00  1.44471872e+01\n",
            "  -8.23068672e-01  1.23191997e+01 -8.06035304e+00  1.13292696e+01\n",
            "  -3.16288074e+00  1.06086797e+01]\n",
            " [-1.11282520e-04  8.80861909e-03 -7.82335422e-01  2.49754985e+01\n",
            "   7.67669394e-02  6.86779128e+00  2.94623931e-02  6.62151087e+00\n",
            "  -2.45789556e-01  1.80795019e+01  5.01434305e-03  1.52659505e+01\n",
            "   5.75265924e-02  1.29728044e+01  1.13496804e-01  9.97087031e+00\n",
            "   4.08999721e-02  9.45566102e+00  9.76928795e-02  8.84704600e+00\n",
            "   4.59598467e-02  7.99091095e+00  9.80444938e-02  7.92598756e+00\n",
            "   4.48569802e-02  7.30512098e+00  1.43801963e-04  1.32702685e-02\n",
            "   6.32027710e-01  3.39388029e+01  5.49990448e-02  5.93410614e+00\n",
            "   9.31421344e-03  5.55799869e+00  8.66654183e-01  2.10487618e+01\n",
            "  -1.18288956e-01  1.73055906e+01 -1.30546413e-01  1.38034078e+01\n",
            "  -1.18399250e-01  9.48665418e+00 -4.00443352e-02  8.57861146e+00\n",
            "   9.14150313e-02  8.17576688e+00  9.89078753e-03  7.33710115e+00\n",
            "   3.04987794e-02  6.95529175e+00  9.03119492e-03  6.13830954e+00\n",
            "   4.99146489e-02  4.75661775e-02 -3.77929520e+02  1.21779873e+02\n",
            "  -8.24693578e+00  1.08606560e+01  1.11484355e+00  8.85517340e+00\n",
            "   9.09189115e+01  5.64183986e+01 -6.51610425e-01  4.01528836e+01\n",
            "   1.73053539e+01  2.69199346e+01 -1.42590367e+00  1.74185937e+01\n",
            "   1.47223210e+00  1.54938540e+01 -1.25715237e+01  1.73320601e+01\n",
            "  -1.45811420e+00  1.39645258e+01 -8.60650848e+00  1.21804372e+01\n",
            "  -1.98320375e+00  1.00463173e+01]]\n"
          ],
          "name": "stdout"
        }
      ]
    },
    {
      "cell_type": "code",
      "metadata": {
        "id": "_2AyLEZvHx5G",
        "colab_type": "code",
        "colab": {
          "base_uri": "https://localhost:8080/",
          "height": 300
        },
        "outputId": "229b7693-b4ca-4e5a-aa81-6b2a9e75d3de"
      },
      "source": [
        "# Confusion Matrix\n",
        "plot_confusion_matrix(gnb, x_test, y_test)"
      ],
      "execution_count": 40,
      "outputs": [
        {
          "output_type": "execute_result",
          "data": {
            "text/plain": [
              "<sklearn.metrics._plot.confusion_matrix.ConfusionMatrixDisplay at 0x7fdf85702780>"
            ]
          },
          "metadata": {
            "tags": []
          },
          "execution_count": 40
        },
        {
          "output_type": "display_data",
          "data": {
            "image/png": "[encoded data removed]",
            "text/plain": [
              "<Figure size 432x288 with 2 Axes>"
            ]
          },
          "metadata": {
            "tags": [],
            "needs_background": "light"
          }
        }
      ]
    },
    {
      "cell_type": "code",
      "metadata": {
        "id": "RKIw9GReH-DF",
        "colab_type": "code",
        "colab": {
          "base_uri": "https://localhost:8080/",
          "height": 306
        },
        "outputId": "f48ee204-d661-4783-86db-138ccab5d5b9"
      },
      "source": [
        "# Classification Report\n",
        "gnb_report = classification_report(y_test,gnb_y_pred)\n",
        "print(gnb_report)"
      ],
      "execution_count": 41,
      "outputs": [
        {
          "output_type": "stream",
          "text": [
            "              precision    recall  f1-score   support\n",
            "\n",
            "       eight       0.62      0.61      0.61       257\n",
            "        five       0.57      0.59      0.58       271\n",
            "        four       0.71      0.57      0.63       253\n",
            "        nine       0.59      0.45      0.51       259\n",
            "         one       0.41      0.49      0.45       248\n",
            "       seven       0.56      0.46      0.51       239\n",
            "         six       0.48      0.65      0.55       244\n",
            "       three       0.54      0.48      0.51       267\n",
            "         two       0.41      0.50      0.45       264\n",
            "        zero       0.55      0.50      0.52       250\n",
            "\n",
            "    accuracy                           0.53      2552\n",
            "   macro avg       0.54      0.53      0.53      2552\n",
            "weighted avg       0.54      0.53      0.53      2552\n",
            "\n"
          ],
          "name": "stdout"
        }
      ]
    },
    {
      "cell_type": "markdown",
      "metadata": {
        "id": "9pNqBRGGHTOO",
        "colab_type": "text"
      },
      "source": [
        "## Scaled"
      ]
    },
    {
      "cell_type": "code",
      "metadata": {
        "id": "L7M9cZ6QHWHx",
        "colab_type": "code",
        "colab": {}
      },
      "source": [
        "gnb_scaled = GaussianNB()\n",
        "gnb_scaled.fit(x_train_nb_scaled, y_train_nb)\n",
        "gnb_y_pred_scaled = gnb_scaled.predict(x_test_scaled)"
      ],
      "execution_count": 42,
      "outputs": []
    },
    {
      "cell_type": "code",
      "metadata": {
        "id": "563TM2wIHuGw",
        "colab_type": "code",
        "colab": {
          "base_uri": "https://localhost:8080/",
          "height": 34
        },
        "outputId": "6e5d7669-0b2b-44f7-c292-c9a2632623f0"
      },
      "source": [
        "print(gnb_scaled.classes_)"
      ],
      "execution_count": 43,
      "outputs": [
        {
          "output_type": "stream",
          "text": [
            "['eight' 'five' 'four' 'nine' 'one' 'seven' 'six' 'three' 'two' 'zero']\n"
          ],
          "name": "stdout"
        }
      ]
    },
    {
      "cell_type": "code",
      "metadata": {
        "id": "uZP_xnWPIx2n",
        "colab_type": "code",
        "colab": {
          "base_uri": "https://localhost:8080/",
          "height": 34
        },
        "outputId": "e68c6d6c-58e0-45f4-a759-a60cdab4ada1"
      },
      "source": [
        "print(gnb_scaled.get_params())"
      ],
      "execution_count": 44,
      "outputs": [
        {
          "output_type": "stream",
          "text": [
            "{'priors': None, 'var_smoothing': 1e-09}\n"
          ],
          "name": "stdout"
        }
      ]
    },
    {
      "cell_type": "code",
      "metadata": {
        "id": "ad-E5U7BIzgv",
        "colab_type": "code",
        "colab": {
          "base_uri": "https://localhost:8080/",
          "height": 1000
        },
        "outputId": "91f1f84e-888d-4089-eb09-bf6ba0cbefba"
      },
      "source": [
        "# Mean of each feature per class\n",
        "print(gnb_scaled.theta_)"
      ],
      "execution_count": 45,
      "outputs": [
        {
          "output_type": "stream",
          "text": [
            "[[ 3.87669718e-02  9.02138732e-02 -1.85262262e-02  9.04831233e-01\n",
            "  -1.84857999e-02  1.71289990e-02 -8.60486498e-02  1.81550890e-02\n",
            "   1.66178348e-01 -1.87983320e-01  4.52194209e-03 -2.96376895e-01\n",
            "  -1.73048819e-01  7.02437438e-01  1.30619048e-01  3.19857842e-01\n",
            "   4.42037744e-02  5.87525604e-01  4.62675517e-03  1.65527343e-02\n",
            "  -6.74232523e-02  6.17591232e-02  3.71976630e-02  9.52062746e-02\n",
            "   1.19593078e-02  5.16903590e-02 -1.33390712e-01  5.13895669e-02\n",
            "  -7.65134589e-02  7.44929007e-01 -5.71203953e-02 -6.59901436e-02\n",
            "   1.13864735e-01  8.65614848e-03 -2.35791337e-01 -4.58269037e-01\n",
            "   7.79602759e-02 -5.95589516e-01 -7.65510371e-02  6.57351874e-01\n",
            "  -2.45871162e-02  1.13050307e-01  8.77870805e-02  3.58310634e-01\n",
            "  -1.08719730e-01 -8.49921727e-02  1.25548525e-01  2.42619139e-02\n",
            "  -1.24408722e-02  6.05490701e-02 -1.30729463e-02 -9.76031435e-02\n",
            "  -2.28995278e-01 -1.21250055e-01 -1.74916930e-01 -3.16144633e-02\n",
            "   1.01822177e-01 -6.86007449e-02  8.07180116e-02  1.02151653e-01\n",
            "  -5.10790550e-01 -7.21402012e-01  2.80508839e-01 -7.05822900e-01\n",
            "   8.99479221e-01  9.05933963e-01 -2.73004254e-01  8.29782182e-02\n",
            "  -2.31459283e-01  3.50810190e-01  2.03556078e-01 -3.18882720e-01\n",
            "   7.15042387e-02  1.78478184e-01 -3.13255396e-01  3.95296083e-01\n",
            "  -8.70512740e-02 -7.08754675e-02]\n",
            " [ 3.73792929e-02  1.93229031e-01 -9.03375975e-02  1.27543639e-02\n",
            "  -1.54371118e-02 -2.70879267e-01 -1.10015045e-02 -1.24882679e-01\n",
            "   3.81730045e-02  5.78046336e-01  2.16382422e-01 -1.17153283e-01\n",
            "   3.71395915e-02 -1.03787019e-01  2.04346138e-02 -4.33236061e-02\n",
            "   4.49478727e-02 -3.24417318e-01  2.81267890e-02 -3.59025410e-01\n",
            "  -3.98733612e-02 -3.09783673e-01 -6.06469607e-02 -2.92588855e-01\n",
            "  -1.32532114e-01 -2.40550823e-01 -1.52592648e-02  1.70374252e-01\n",
            "   9.43073523e-02  1.02911161e-01 -5.53279347e-02 -2.53164450e-01\n",
            "   1.48210554e-02 -9.64748598e-02 -9.87089477e-02  2.63338241e-01\n",
            "  -9.58609519e-02 -8.89058348e-02  5.44847133e-02 -2.61203839e-01\n",
            "   3.43623388e-03 -5.37035114e-03 -6.60072761e-02 -2.75027266e-01\n",
            "  -1.41527552e-01 -3.19926165e-01 -7.32198989e-03 -3.90191497e-01\n",
            "   7.43811325e-03 -2.82359700e-01  7.47486649e-02 -2.05930427e-01\n",
            "   1.28443200e-01  1.89298403e-01  2.21672568e-01  3.42113526e-01\n",
            "   2.06827000e-01 -2.14096163e-01 -4.08565720e-02  1.69095262e-02\n",
            "   1.52134439e-01 -1.22367151e-01 -8.47248430e-01  3.85898274e-01\n",
            "  -4.89924732e-01 -2.38625123e-01 -3.53220267e-01  2.18852978e-01\n",
            "   3.45798198e-02 -2.15487229e-01  1.41365312e-01 -2.14879872e-01\n",
            "   1.71607976e-01 -3.87260029e-01  1.94234322e-01 -2.39862694e-01\n",
            "   4.22161071e-01 -2.03548233e-01]\n",
            " [-2.17966374e-02  1.43182863e-01  3.20911166e-02 -3.44368833e-01\n",
            "  -8.24365510e-02 -3.73629367e-02 -4.58930017e-02 -1.05714027e-01\n",
            "  -2.21704576e-01  1.60625326e-01  1.62473191e-01 -2.10149375e-01\n",
            "   2.70956772e-01 -4.38210499e-01 -5.94095936e-02  3.10464901e-02\n",
            "  -3.72039977e-02 -1.34839239e-01  1.47517995e-02 -1.48021573e-01\n",
            "   6.48986386e-02 -1.48337068e-01 -1.17035946e-01 -2.68038982e-01\n",
            "  -3.19962033e-02 -8.97763887e-02  1.46793192e-03  1.60041046e-01\n",
            "  -1.59358224e-02 -4.27100556e-01  2.89996137e-02  4.92574475e-02\n",
            "   2.79518035e-02 -7.10058841e-02  1.33579669e-01  1.96219614e-01\n",
            "  -7.72399622e-02 -3.56677005e-01 -1.85970162e-01 -4.57589792e-01\n",
            "   8.69949901e-02  4.24638835e-01  1.73307207e-02  4.35945770e-02\n",
            "  -1.24040671e-01 -1.21179101e-01 -5.60846236e-02 -7.15398957e-02\n",
            "   1.34266148e-01 -2.13909013e-01 -1.07779101e-02 -6.90122541e-03\n",
            "   1.29962124e-01  2.07528398e-01 -8.04546527e-02 -3.53619276e-01\n",
            "   1.73914931e-01 -5.85490433e-02  9.66925848e-02 -1.82868736e-01\n",
            "   5.84826764e-01  5.48927493e-01  8.83677674e-02 -3.69438986e-01\n",
            "  -9.32211054e-01 -3.41998945e-01 -4.61626404e-01  8.54194616e-01\n",
            "  -1.88047629e-01  3.60564426e-01  1.55851091e-01 -1.40321483e-01\n",
            "  -1.72216724e-01 -1.00512563e-01  2.99204933e-01 -1.81371373e-01\n",
            "  -1.15841574e-02 -9.49280666e-02]\n",
            " [-3.94745965e-02 -3.87595648e-01 -3.87620682e-02 -2.63606238e-01\n",
            "   7.69971154e-02 -8.29505116e-03  1.16592188e-01  1.36507471e-01\n",
            "  -2.43855447e-01 -5.18427937e-01  6.55500270e-02  1.58692344e-01\n",
            "  -2.34050869e-01 -4.75001677e-02 -8.82277961e-02  4.60127525e-02\n",
            "   8.43621006e-02 -1.59209161e-01 -6.80639120e-03 -1.56146763e-01\n",
            "   3.71034022e-02  9.03088917e-03 -5.61595288e-02  3.19941238e-01\n",
            "   1.19547053e-01  1.54492016e-01 -4.41273325e-02 -2.31054782e-01\n",
            "   1.25359060e-02 -3.09291388e-02 -3.17816988e-02  2.81947135e-02\n",
            "   6.07486545e-02  2.04702084e-01 -8.61994093e-02 -6.30563722e-01\n",
            "  -5.28547601e-02  3.62535280e-01  1.67666245e-02 -1.28543075e-02\n",
            "   1.58479615e-02 -3.67506778e-02  2.17433644e-02 -7.48695501e-02\n",
            "   2.64236489e-02 -1.86094021e-01  7.12473700e-02 -5.77969802e-02\n",
            "   1.45717422e-01  3.76751371e-01  7.52591588e-02  3.00428367e-01\n",
            "   8.90869633e-02 -5.06855498e-02  7.13032788e-02  2.82479339e-01\n",
            "  -2.63320367e-01  9.30257470e-02 -2.94566062e-01  1.71118114e-01\n",
            "   4.48496419e-01 -5.00660653e-01 -5.84994892e-01  6.27349943e-01\n",
            "   3.47373135e-01 -1.82564718e-01  2.66585354e-02 -1.12401700e-01\n",
            "   5.08659358e-02 -1.74245023e-01  2.45764002e-01 -3.85396251e-01\n",
            "  -6.09028852e-02 -1.07778976e-01  3.16397905e-01  6.81395383e-02\n",
            "   1.38805890e-02  2.06063739e-01]\n",
            " [-2.44346665e-02 -2.12002685e-01  1.27448853e-01 -5.74822963e-01\n",
            "   2.11926150e-02 -3.07378278e-02  6.55033034e-02 -1.36302748e-02\n",
            "  -2.20811750e-01 -4.27541193e-01  1.47245198e-02 -6.90827510e-02\n",
            "  -2.42739114e-02 -3.07157931e-01 -7.80509200e-04  5.65737763e-02\n",
            "   2.02718649e-02 -2.42228635e-02 -6.59116290e-02 -3.79688019e-02\n",
            "   7.32492695e-02 -7.68644295e-03 -4.41154450e-02 -7.83556875e-02\n",
            "   1.59221112e-02 -2.17769864e-02 -7.36313595e-04 -6.21874580e-02\n",
            "  -2.45872231e-02 -3.06335405e-01 -2.89696192e-02 -4.79629037e-02\n",
            "  -3.77686207e-03  7.83287907e-02 -3.90440672e-02 -4.10861431e-01\n",
            "  -3.57631066e-02  1.93483773e-01  5.11575937e-02 -3.14267790e-01\n",
            "   9.84623802e-02  4.48524990e-01  5.20220997e-02  7.75998038e-02\n",
            "   2.26035973e-02 -4.42032404e-02  4.10958478e-02 -6.64890735e-02\n",
            "   7.73507340e-02 -6.90534356e-02  5.11345319e-02 -3.18271856e-02\n",
            "  -2.09890326e-02 -2.79844479e-03 -2.15909290e-01 -1.30639438e-01\n",
            "  -1.42192127e-02 -9.11836176e-02 -1.33553761e-01  9.36905001e-03\n",
            "   5.91961745e-01 -7.62179389e-02  9.68312908e-02  3.44674693e-02\n",
            "  -2.17141864e-01 -5.14001102e-01 -2.27381585e-01  6.07962105e-01\n",
            "   2.21573022e-01 -2.05420380e-01  4.28893579e-01 -4.41555166e-01\n",
            "  -1.29488017e-01 -1.45857740e-01  2.69452394e-01 -2.23734043e-01\n",
            "  -2.67883497e-02 -1.83196871e-01]\n",
            " [-7.08178584e-04  1.83784134e-01  2.47855234e-02  1.17148287e-01\n",
            "   3.62141401e-02 -4.15797995e-02  6.80876028e-02 -3.78081548e-02\n",
            "   7.90276063e-02  4.12041206e-01 -6.47106775e-02  3.84342613e-01\n",
            "  -3.38657630e-03 -3.99849227e-01 -6.25886288e-02 -1.87280483e-01\n",
            "  -2.27489020e-02 -5.48139289e-02  3.39569006e-02  2.31487339e-01\n",
            "  -3.05913394e-02  2.03359743e-01  3.53967540e-02 -4.37847282e-02\n",
            "  -1.90397825e-02 -1.11865736e-01  1.35140167e-02  5.14240153e-02\n",
            "  -5.88097402e-02  7.11854760e-02  4.18932651e-02 -1.65551588e-01\n",
            "  -1.65972479e-01 -9.33059144e-02  2.41584516e-01  4.44516631e-01\n",
            "   2.66367303e-02  3.63705672e-01  2.55984910e-01 -6.74856167e-01\n",
            "   1.56757281e-01 -3.12919823e-01 -2.02798583e-02 -2.09147715e-01\n",
            "   1.00554069e-01  1.03381825e-01 -1.14326415e-01  1.10616657e-01\n",
            "  -4.76942952e-02 -1.79012681e-01 -9.70911748e-02 -2.35244730e-01\n",
            "   8.56783244e-03 -1.53172927e-02  1.28205248e-01  2.29632760e-01\n",
            "  -1.82428955e-02 -1.60665737e-01 -4.54756510e-02  1.73227461e-02\n",
            "  -1.67386924e-01  4.35012008e-01  1.02919990e-01  1.64284654e-01\n",
            "  -1.18327314e-01 -5.21323320e-01  1.44535606e-01 -2.79277251e-01\n",
            "  -6.69400477e-03 -1.59549287e-01 -4.46235064e-01  3.67390845e-01\n",
            "   1.80895694e-02  1.10493069e-01  7.27576254e-02 -2.43354560e-01\n",
            "   3.12775719e-01 -1.50878458e-01]\n",
            " [ 4.71127661e-02  2.37520616e-01 -1.98033357e-01  5.62322460e-01\n",
            "   5.40767356e-03  2.85412944e-01 -1.51585193e-01  1.95755083e-01\n",
            "   6.21543363e-01  4.33687037e-01 -2.62084060e-01  4.54929584e-01\n",
            "   2.47518055e-01  5.20588403e-01 -2.18138159e-02  1.94086998e-02\n",
            "  -1.49244486e-01  4.21479708e-01  1.28107003e-01  5.19075965e-01\n",
            "  -2.25278956e-01  2.75722008e-01  1.91465811e-02  1.98123973e-01\n",
            "  -1.24889056e-01  2.89693117e-01 -7.64970668e-03  2.16533420e-02\n",
            "   1.29664017e-01  3.78012683e-01 -1.73399620e-02  1.77842967e-01\n",
            "   3.01328535e-02  5.99915829e-02 -3.20926123e-01  7.58351005e-01\n",
            "   8.34335896e-02  2.06745578e-01 -1.02434008e-01  4.41414313e-01\n",
            "  -5.13411575e-02 -1.28513963e-01  1.27722037e-01  4.35835361e-01\n",
            "  -1.43485001e-01  3.88902340e-01  6.45331222e-02  1.18187773e-01\n",
            "  -6.59432830e-02 -1.23407182e-02  1.01181400e-01  1.96595195e-01\n",
            "  -2.22550530e-01 -2.60590779e-01  1.06894507e-01 -8.33194709e-02\n",
            "  -4.33697156e-02 -1.28645493e-01  4.65386853e-01 -1.99118340e-01\n",
            "  -1.27117248e+00  2.87401122e-01  5.68977438e-01 -2.26069844e-01\n",
            "  -2.74452378e-01 -2.48592264e-02  3.01219082e-01 -3.89355293e-01\n",
            "   1.34714329e-01  4.40139702e-01 -6.78914879e-01  3.74235383e-01\n",
            "   6.30632610e-01 -1.99202890e-01 -2.46927110e-01 -8.47686419e-02\n",
            "   2.89128636e-01 -2.56472401e-02]\n",
            " [ 6.60383584e-03 -1.29951987e-01  6.72869438e-02 -1.50504431e-02\n",
            "  -1.54172897e-02  4.60751640e-02  3.38272167e-02 -2.12841357e-02\n",
            "   7.65988045e-03 -1.60656496e-01  2.30017199e-02 -1.61275270e-01\n",
            "  -2.70979135e-01  1.41525565e-01  7.78862275e-03 -8.00833518e-02\n",
            "   7.49338706e-02 -4.45682854e-02 -7.44960851e-02  9.63023056e-02\n",
            "   6.20023884e-02  1.04758939e-01  6.96438026e-02  1.26821331e-01\n",
            "   5.65334482e-02 -3.26933422e-02  7.45050841e-02 -8.35259604e-02\n",
            "  -2.16003894e-02 -1.29015982e-01 -3.36644428e-02  7.66696578e-02\n",
            "  -1.00867901e-01 -5.87370701e-02 -1.02914572e-02 -1.97574798e-01\n",
            "   8.58147823e-02 -1.46192754e-01  3.24277788e-01  4.25944323e-01\n",
            "  -2.06064094e-02 -1.45111018e-01 -1.05832693e-01 -2.45561997e-02\n",
            "   1.31576598e-01  2.08451023e-01 -5.11016505e-03  2.07056879e-01\n",
            "  -1.07857731e-01  2.27554337e-01 -7.43422179e-02  4.30734353e-02\n",
            "  -7.72296481e-02 -4.15410394e-02 -9.93477835e-02 -1.39604024e-01\n",
            "  -9.44725261e-02  9.09304944e-02 -1.14896299e-01  4.87076897e-03\n",
            "  -6.94565813e-02 -3.97690266e-01 -3.27889842e-02 -1.46709729e-01\n",
            "   7.67783034e-01  8.48918156e-01  3.66839753e-01 -3.42927362e-01\n",
            "  -8.94778723e-02 -6.06631685e-03  9.78829468e-02  2.50106452e-01\n",
            "  -1.91191318e-01  2.33051487e-01 -2.10153183e-01  1.79438902e-01\n",
            "  -2.74144945e-01  2.60007531e-01]\n",
            " [ 1.58522284e-02  6.62640491e-02  1.43710319e-01  1.87128373e-01\n",
            "  -1.36453156e-02 -1.12694302e-03 -7.19925122e-03 -5.64814910e-02\n",
            "  -3.56486644e-02 -4.39730548e-03 -2.61193711e-02 -1.82764885e-01\n",
            "  -1.81622535e-03 -2.46635820e-01  1.16787855e-02  1.71427053e-02\n",
            "  -4.14383132e-02 -2.23457907e-01 -6.50874784e-02 -1.39322121e-01\n",
            "   8.19146098e-02 -1.63090615e-01  1.37348138e-02 -1.50545203e-01\n",
            "   5.08756759e-02 -1.00859036e-01  2.87510551e-02  3.24511172e-02\n",
            "  -1.17834157e-01  6.42751563e-02 -9.33319898e-03  4.67320569e-03\n",
            "  -7.99266572e-02 -1.25737099e-01  1.53695987e-01  1.52438465e-02\n",
            "   1.16070098e-01 -4.23270158e-01 -4.27510366e-02 -3.09949484e-01\n",
            "   4.14046691e-02 -2.01019586e-01  4.72003088e-03 -3.28766711e-01\n",
            "   7.94709779e-02 -1.34252758e-01 -9.15632566e-02 -8.94536544e-02\n",
            "  -1.48316946e-01 -1.44360284e-01 -1.48361516e-01 -7.33846979e-02\n",
            "  -7.24779049e-02  9.74731518e-03 -1.55919086e-01 -5.93394035e-02\n",
            "  -3.68926387e-02  1.56868580e-01 -8.48105528e-02 -8.05492802e-02\n",
            "  -1.04695416e-01  6.97786930e-02  2.44231953e-01 -5.50437632e-01\n",
            "   1.58117128e-01 -2.78181078e-01  2.06733140e-01 -3.90359178e-01\n",
            "   1.02993166e-01 -3.59678333e-01  1.50072579e-01  1.29059950e-04\n",
            "  -1.38496250e-01  3.24962316e-02 -1.58706198e-01  6.66742456e-02\n",
            "  -3.85167813e-01  2.11806173e-01]\n",
            " [-5.82722735e-02 -1.86106651e-01 -4.95836170e-02 -5.76884124e-01\n",
            "   5.00024065e-03  3.74169922e-02  1.74549248e-02  7.75630459e-03\n",
            "  -1.91280060e-01 -2.87608261e-01 -1.27959037e-01  2.68341440e-02\n",
            "   1.44056196e-01  1.87381774e-01  6.40917335e-02 -1.75033257e-01\n",
            "  -1.48136340e-02 -4.51304769e-02  1.23796411e-03 -3.20489397e-02\n",
            "   4.47840459e-02 -3.15736019e-02  1.02347619e-01  9.25779160e-02\n",
            "   5.38452753e-02  9.84563143e-02  8.17073734e-02 -1.09956857e-01\n",
            "   7.85320840e-02 -4.59377575e-01  1.59592419e-01  1.93045886e-01\n",
            "   1.04205354e-01  9.23560802e-02  2.55856066e-01  6.04766143e-03\n",
            "  -1.27396705e-01  4.68693885e-01 -2.91598263e-01  5.17407906e-01\n",
            "  -3.06970957e-01 -1.55529354e-01 -1.20427221e-01 -5.04356796e-03\n",
            "   1.55081417e-01  1.82486996e-01 -2.58745254e-02  2.09748238e-01\n",
            "   1.66413178e-02  2.38449178e-01  4.14573286e-02  1.09964766e-01\n",
            "   2.64451555e-01  8.68988810e-02  1.96476357e-01 -5.29730688e-02\n",
            "  -1.05823812e-02  3.80125305e-01  6.67249919e-02  1.42957173e-01\n",
            "   3.47267289e-01  4.52432511e-01  6.71082608e-02  7.80504330e-01\n",
            "  -1.21678668e-01  3.67005725e-01  2.64298745e-01 -2.49189817e-01\n",
            "  -3.21042368e-02 -3.28012875e-02 -2.83757172e-01  4.97837592e-01\n",
            "  -2.00920402e-01  3.83337943e-01 -2.24754416e-01  2.69438241e-01\n",
            "  -2.55967844e-01  5.47702064e-02]]\n"
          ],
          "name": "stdout"
        }
      ]
    },
    {
      "cell_type": "code",
      "metadata": {
        "id": "QLU3xbyRHztl",
        "colab_type": "code",
        "colab": {
          "base_uri": "https://localhost:8080/",
          "height": 296
        },
        "outputId": "effb60c2-0bdf-4d08-8c64-6e39ff5ba6e3"
      },
      "source": [
        "# Confusion Matrix\n",
        "plot_confusion_matrix(gnb_scaled, x_test, y_test)"
      ],
      "execution_count": 46,
      "outputs": [
        {
          "output_type": "execute_result",
          "data": {
            "text/plain": [
              "<sklearn.metrics._plot.confusion_matrix.ConfusionMatrixDisplay at 0x7fdf84bd83c8>"
            ]
          },
          "metadata": {
            "tags": []
          },
          "execution_count": 46
        },
        {
          "output_type": "display_data",
          "data": {
            "image/png": "[encoded data removed]",
            "text/plain": [
              "<Figure size 432x288 with 2 Axes>"
            ]
          },
          "metadata": {
            "tags": [],
            "needs_background": "light"
          }
        }
      ]
    },
    {
      "cell_type": "code",
      "metadata": {
        "id": "ioBlUMvKHinM",
        "colab_type": "code",
        "colab": {
          "base_uri": "https://localhost:8080/",
          "height": 306
        },
        "outputId": "2058aead-4dbb-4d83-fd45-843c2e4b9a98"
      },
      "source": [
        "# Classification Report\n",
        "gnb_report_scaled = classification_report(y_test,gnb_y_pred_scaled)\n",
        "print(gnb_report_scaled)"
      ],
      "execution_count": 47,
      "outputs": [
        {
          "output_type": "stream",
          "text": [
            "              precision    recall  f1-score   support\n",
            "\n",
            "       eight       0.63      0.62      0.63       257\n",
            "        five       0.53      0.62      0.57       271\n",
            "        four       0.66      0.57      0.61       253\n",
            "        nine       0.60      0.48      0.54       259\n",
            "         one       0.44      0.47      0.45       248\n",
            "       seven       0.54      0.49      0.52       239\n",
            "         six       0.48      0.66      0.56       244\n",
            "       three       0.60      0.45      0.51       267\n",
            "         two       0.41      0.50      0.45       264\n",
            "        zero       0.57      0.50      0.53       250\n",
            "\n",
            "    accuracy                           0.54      2552\n",
            "   macro avg       0.55      0.54      0.54      2552\n",
            "weighted avg       0.55      0.54      0.54      2552\n",
            "\n"
          ],
          "name": "stdout"
        }
      ]
    },
    {
      "cell_type": "markdown",
      "metadata": {
        "id": "OHwoNOBEvApY",
        "colab_type": "text"
      },
      "source": [
        "# RandomForestClassifier"
      ]
    },
    {
      "cell_type": "code",
      "metadata": {
        "id": "3QfxxsUwvJ3b",
        "colab_type": "code",
        "colab": {
          "base_uri": "https://localhost:8080/",
          "height": 51
        },
        "outputId": "dad5ac22-5d33-4209-ac7f-1b909c6712b9"
      },
      "source": [
        "# Entrenamos nuestro RFC con los datos estandarizados\n",
        "rf = RandomForestClassifier(\n",
        "    random_state=4589\n",
        ")\n",
        "rf.fit(x_train_scaled, y_train)\n",
        "print(\"Accuracy training : {:.3f}\".format(rf.score(x_train_scaled, y_train)))\n",
        "print(\"Accuracy test: {:.3f}\".format(rf.score(x_val_scaled, y_val)))"
      ],
      "execution_count": 82,
      "outputs": [
        {
          "output_type": "stream",
          "text": [
            "Accuracy training : 1.000\n",
            "Accuracy test: 0.686\n"
          ],
          "name": "stdout"
        }
      ]
    },
    {
      "cell_type": "markdown",
      "metadata": {
        "id": "M1USIsTKSM4I",
        "colab_type": "text"
      },
      "source": [
        "## Parameter Tunning"
      ]
    },
    {
      "cell_type": "code",
      "metadata": {
        "id": "BiwBRm7VS9Tz",
        "colab_type": "code",
        "colab": {}
      },
      "source": [
        "# Tenemos que armar un folding específico para poder optimizar \n",
        "# correctamente los parametros utilizando nuestros sets de validación\n",
        "\n",
        "x_train_fold = x_train\n",
        "x_train_fold['fold'] = -1\n",
        "\n",
        "x_val_fold = x_val\n",
        "x_val_fold['fold'] = 0\n",
        "\n",
        "x_combined_fold = x_train_fold.append(\n",
        "    x_val_fold, \n",
        "    ignore_index=True\n",
        ")\n",
        "\n",
        "split_index = x_combined_fold['fold']\n",
        "\n",
        "ps = PredefinedSplit(split_index)"
      ],
      "execution_count": 83,
      "outputs": []
    },
    {
      "cell_type": "code",
      "metadata": {
        "id": "FtRSIrVgT9mO",
        "colab_type": "code",
        "colab": {}
      },
      "source": [
        "# Armamos nuestros splits de optimización x_dev_rfc y y_dev_rfc\n",
        "x_dev_rfc = x_train.append(x_val, ignore_index=True)\n",
        "y_dev_rfc = y_train.append(y_val, ignore_index=True)"
      ],
      "execution_count": 84,
      "outputs": []
    },
    {
      "cell_type": "code",
      "metadata": {
        "id": "nv9nCE3HwDuc",
        "colab_type": "code",
        "colab": {
          "base_uri": "https://localhost:8080/",
          "height": 476
        },
        "outputId": "1144f79a-7dc3-4d21-9734-c4344c4d24ca"
      },
      "source": [
        "# Como columnas para consumir tenemos un total de 79\n",
        "parameters = {\n",
        "    'n_estimators':range(50, 200, 10), \n",
        "    'max_depth':range(1,32, 1),\n",
        "    'criterion': ['gini','entropy']\n",
        "}\n",
        "\n",
        "clf = RandomizedSearchCV(\n",
        "    RandomForestClassifier(\n",
        "      random_state=4589\n",
        "    ), \n",
        "    n_iter=15,\n",
        "    param_distributions= parameters,  \n",
        "    scoring='accuracy',\n",
        "    cv=ps,\n",
        "    refit = False,\n",
        "    random_state=4589\n",
        ")\n",
        "\n",
        "clf.fit(x_dev_rfc, y_dev_rfc)"
      ],
      "execution_count": 90,
      "outputs": [
        {
          "output_type": "execute_result",
          "data": {
            "text/plain": [
              "RandomizedSearchCV(cv=PredefinedSplit(test_fold=array([-1, -1, ...,  0,  0])),\n",
              "                   error_score=nan,\n",
              "                   estimator=RandomForestClassifier(bootstrap=True,\n",
              "                                                    ccp_alpha=0.0,\n",
              "                                                    class_weight=None,\n",
              "                                                    criterion='gini',\n",
              "                                                    max_depth=None,\n",
              "                                                    max_features='auto',\n",
              "                                                    max_leaf_nodes=None,\n",
              "                                                    max_samples=None,\n",
              "                                                    min_impurity_decrease=0.0,\n",
              "                                                    min_impurity_split=None,\n",
              "                                                    min_samples_leaf=1,\n",
              "                                                    min_samples_split=2,\n",
              "                                                    min_....0,\n",
              "                                                    n_estimators=100,\n",
              "                                                    n_jobs=None,\n",
              "                                                    oob_score=False,\n",
              "                                                    random_state=4589,\n",
              "                                                    verbose=0,\n",
              "                                                    warm_start=False),\n",
              "                   iid='deprecated', n_iter=15, n_jobs=None,\n",
              "                   param_distributions={'criterion': ['gini', 'entropy'],\n",
              "                                        'max_depth': range(1, 32),\n",
              "                                        'n_estimators': range(50, 200, 10)},\n",
              "                   pre_dispatch='2*n_jobs', random_state=4589, refit=False,\n",
              "                   return_train_score=False, scoring='accuracy', verbose=0)"
            ]
          },
          "metadata": {
            "tags": []
          },
          "execution_count": 90
        }
      ]
    },
    {
      "cell_type": "code",
      "metadata": {
        "id": "YVblEMQoUfvK",
        "colab_type": "code",
        "colab": {
          "base_uri": "https://localhost:8080/",
          "height": 34
        },
        "outputId": "69e8104b-a9ab-4ab9-8fd4-30a522889d35"
      },
      "source": [
        "print (clf.best_score_, clf.best_params_)\n"
      ],
      "execution_count": 91,
      "outputs": [
        {
          "output_type": "stream",
          "text": [
            "0.6908580593424218 {'n_estimators': 150, 'max_depth': 25, 'criterion': 'entropy'}\n"
          ],
          "name": "stdout"
        }
      ]
    },
    {
      "cell_type": "markdown",
      "metadata": {
        "id": "iV1n8e7gce1-",
        "colab_type": "text"
      },
      "source": [
        "## Best Estimator"
      ]
    },
    {
      "cell_type": "code",
      "metadata": {
        "id": "fKRKD550Hs4n",
        "colab_type": "code",
        "colab": {
          "base_uri": "https://localhost:8080/",
          "height": 51
        },
        "outputId": "117f6912-a973-4978-fd85-f5c7d5816d4e"
      },
      "source": [
        "best_rfc = RandomForestClassifier(\n",
        "  random_state=4589,\n",
        "  bootstrap = True,\n",
        "  max_depth = 25,\n",
        "  n_estimators = 150,\n",
        "  criterion = 'entropy'\n",
        ")\n",
        "\n",
        "best_rfc.fit(x_train,y_train)\n",
        "print(\"Accuracy training : {:.3f}\".format(best_rfc.score(x_train, y_train)))\n",
        "print(\"Accuracy validation: {:.3f}\".format(best_rfc.score(x_val, y_val)))"
      ],
      "execution_count": 55,
      "outputs": [
        {
          "output_type": "stream",
          "text": [
            "Accuracy training : 1.000\n",
            "Accuracy validation: 0.688\n"
          ],
          "name": "stdout"
        }
      ]
    },
    {
      "cell_type": "code",
      "metadata": {
        "id": "srrt3abGckF8",
        "colab_type": "code",
        "colab": {}
      },
      "source": [
        "rfc_y_pred_test = best_rfc.predict(x_test)"
      ],
      "execution_count": 105,
      "outputs": []
    },
    {
      "cell_type": "code",
      "metadata": {
        "id": "Z-2onuOLVjFN",
        "colab_type": "code",
        "colab": {
          "base_uri": "https://localhost:8080/",
          "height": 296
        },
        "outputId": "fbbb3c57-a54f-4de2-a78c-9e011e8d324e"
      },
      "source": [
        "# Matriz de confusión\n",
        "plot_confusion_matrix(best_rfc, x_test, y_test)"
      ],
      "execution_count": 106,
      "outputs": [
        {
          "output_type": "execute_result",
          "data": {
            "text/plain": [
              "<sklearn.metrics._plot.confusion_matrix.ConfusionMatrixDisplay at 0x7f9c0c478b38>"
            ]
          },
          "metadata": {
            "tags": []
          },
          "execution_count": 106
        },
        {
          "output_type": "display_data",
          "data": {
            "image/png": "[encoded data removed]",
            "text/plain": [
              "<Figure size 432x288 with 2 Axes>"
            ]
          },
          "metadata": {
            "tags": [],
            "needs_background": "light"
          }
        }
      ]
    },
    {
      "cell_type": "code",
      "metadata": {
        "id": "z_1o1exDU6R8",
        "colab_type": "code",
        "colab": {
          "base_uri": "https://localhost:8080/",
          "height": 306
        },
        "outputId": "bd844f0a-a355-4158-f547-2c114f80338c"
      },
      "source": [
        "print(classification_report(y_test,rfc_y_pred_test))"
      ],
      "execution_count": 107,
      "outputs": [
        {
          "output_type": "stream",
          "text": [
            "              precision    recall  f1-score   support\n",
            "\n",
            "       eight       0.72      0.85      0.78       257\n",
            "        five       0.72      0.69      0.70       271\n",
            "        four       0.76      0.77      0.76       253\n",
            "        nine       0.66      0.71      0.68       259\n",
            "         one       0.69      0.54      0.60       248\n",
            "       seven       0.65      0.69      0.67       239\n",
            "         six       0.73      0.77      0.75       244\n",
            "       three       0.60      0.62      0.61       267\n",
            "         two       0.63      0.52      0.57       264\n",
            "        zero       0.65      0.66      0.65       250\n",
            "\n",
            "    accuracy                           0.68      2552\n",
            "   macro avg       0.68      0.68      0.68      2552\n",
            "weighted avg       0.68      0.68      0.68      2552\n",
            "\n"
          ],
          "name": "stdout"
        }
      ]
    },
    {
      "cell_type": "markdown",
      "metadata": {
        "id": "pdgGSNhCvFPY",
        "colab_type": "text"
      },
      "source": [
        "# Gradient Boosting Machines"
      ]
    },
    {
      "cell_type": "code",
      "metadata": {
        "id": "6TEEQXnLvKmT",
        "colab_type": "code",
        "colab": {
          "base_uri": "https://localhost:8080/",
          "height": 51
        },
        "outputId": "805ce589-7d63-4fc0-bf8b-1e8fe04e02e6"
      },
      "source": [
        "gb = GradientBoostingClassifier(\n",
        "    random_state=4589\n",
        ")\n",
        "gb.fit(x_traing, y_train)\n",
        "print(\"Accuracy on training set: {:.3f}\".format(gb.score(X_train, y_train)))\n",
        "print(\"Accuracy on test set: {:.3f}\".format(gb.score(x_val, y_val)))"
      ],
      "execution_count": null,
      "outputs": [
        {
          "output_type": "stream",
          "text": [
            "Accuracy on training set: 0.836\n",
            "Accuracy on test set: 0.723\n"
          ],
          "name": "stdout"
        }
      ]
    },
    {
      "cell_type": "code",
      "metadata": {
        "id": "CavciQ7ufECe",
        "colab_type": "code",
        "colab": {
          "base_uri": "https://localhost:8080/",
          "height": 428
        },
        "outputId": "8090e271-cd8b-46f4-bb35-5f61f9473fee"
      },
      "source": [
        "parameters = {\n",
        "    'n_estimators':range(50, 200, 10),  \n",
        "    'max_depth':range(1,32, 1),\n",
        "    'learning_rate': np.linspace(0 ,0.1, 10),\n",
        "    'max_features': ['sqrt','log2']\n",
        "}\n",
        "\n",
        "clf = RandomizedSearchCV(\n",
        "    GradientBoostingClassifier(\n",
        "        random_state=4589\n",
        "    ), \n",
        "    param_distributions= parameters,  \n",
        "    scoring='accuracy',\n",
        "    cv=ps,\n",
        "    n_iter= 5,\n",
        "    n_jobs=10,\n",
        "    refit = False,\n",
        "    random_state=4589\n",
        ")\n",
        "\n",
        "clf.fit(x_dev_rfc, y_dev_rfc)"
      ],
      "execution_count": 108,
      "outputs": [
        {
          "output_type": "execute_result",
          "data": {
            "text/plain": [
              "RandomizedSearchCV(cv=PredefinedSplit(test_fold=array([-1, -1, ...,  0,  0])),\n",
              "                   error_score=nan,\n",
              "                   estimator=GradientBoostingClassifier(ccp_alpha=0.0,\n",
              "                                                        criterion='friedman_mse',\n",
              "                                                        init=None,\n",
              "                                                        learning_rate=0.1,\n",
              "                                                        loss='deviance',\n",
              "                                                        max_depth=3,\n",
              "                                                        max_features=None,\n",
              "                                                        max_leaf_nodes=None,\n",
              "                                                        min_impurity_decrease=0.0,\n",
              "                                                        min_impurity_split=None,\n",
              "                                                        min_samples_leaf=1,\n",
              "                                                        min_samples_split=2,\n",
              "                                                        min...\n",
              "                   iid='deprecated', n_iter=5, n_jobs=10,\n",
              "                   param_distributions={'learning_rate': array([0.        , 0.01111111, 0.02222222, 0.03333333, 0.04444444,\n",
              "       0.05555556, 0.06666667, 0.07777778, 0.08888889, 0.1       ]),\n",
              "                                        'max_depth': range(1, 32),\n",
              "                                        'max_features': ['sqrt', 'log2'],\n",
              "                                        'n_estimators': range(50, 200, 10)},\n",
              "                   pre_dispatch='2*n_jobs', random_state=4589, refit=False,\n",
              "                   return_train_score=False, scoring='accuracy', verbose=0)"
            ]
          },
          "metadata": {
            "tags": []
          },
          "execution_count": 108
        }
      ]
    },
    {
      "cell_type": "code",
      "metadata": {
        "id": "bwQF-aVEfbIr",
        "colab_type": "code",
        "colab": {
          "base_uri": "https://localhost:8080/",
          "height": 34
        },
        "outputId": "0142f098-cb7a-4a0c-ed86-9db8ece3921a"
      },
      "source": [
        "print (clf.best_score_, clf.best_params_)"
      ],
      "execution_count": 109,
      "outputs": [
        {
          "output_type": "stream",
          "text": [
            "0.7125100240577386 {'n_estimators': 180, 'max_features': 'log2', 'max_depth': 3, 'learning_rate': 0.1}\n"
          ],
          "name": "stdout"
        }
      ]
    },
    {
      "cell_type": "markdown",
      "metadata": {
        "id": "gzDN46zhfibr",
        "colab_type": "text"
      },
      "source": [
        "## Best Estimator"
      ]
    },
    {
      "cell_type": "code",
      "metadata": {
        "id": "o12b1jXw98tr",
        "colab_type": "code",
        "colab": {
          "base_uri": "https://localhost:8080/",
          "height": 51
        },
        "outputId": "495aefad-2e4f-471b-8f7c-f0e7f91dcfc9"
      },
      "source": [
        "best_gbm = GradientBoostingClassifier(\n",
        "    random_state = 4589,\n",
        "    max_depth = 3,\n",
        "    n_estimators = 180,\n",
        "    learning_rate = 0.1,\n",
        "    max_features = 'log2'\n",
        ")\n",
        "\n",
        "best_gbm.fit(x_train,y_train)\n",
        "print(\"Accuracy training : {:.3f}\".format(best_gbm.score(x_train, y_train)))\n",
        "print(\"Accuracy validation: {:.3f}\".format(best_gbm.score(x_val, y_val)))"
      ],
      "execution_count": 110,
      "outputs": [
        {
          "output_type": "stream",
          "text": [
            "Accuracy training : 0.863\n",
            "Accuracy validation: 0.717\n"
          ],
          "name": "stdout"
        }
      ]
    },
    {
      "cell_type": "code",
      "metadata": {
        "id": "dQnlfsn3foYe",
        "colab_type": "code",
        "colab": {}
      },
      "source": [
        "gbm_y_pred_test = best_gbm.predict(x_test)"
      ],
      "execution_count": 111,
      "outputs": []
    },
    {
      "cell_type": "code",
      "metadata": {
        "id": "jMVRAe8xfoqK",
        "colab_type": "code",
        "colab": {
          "base_uri": "https://localhost:8080/",
          "height": 296
        },
        "outputId": "2e5efda1-3bc7-4eb3-e4aa-07e55598ed8e"
      },
      "source": [
        "# Matriz de confusión\n",
        "plot_confusion_matrix(best_gbm, x_test, y_test)"
      ],
      "execution_count": 112,
      "outputs": [
        {
          "output_type": "execute_result",
          "data": {
            "text/plain": [
              "<sklearn.metrics._plot.confusion_matrix.ConfusionMatrixDisplay at 0x7f9c0c370550>"
            ]
          },
          "metadata": {
            "tags": []
          },
          "execution_count": 112
        },
        {
          "output_type": "display_data",
          "data": {
            "image/png": "[encoded data removed]",
            "text/plain": [
              "<Figure size 432x288 with 2 Axes>"
            ]
          },
          "metadata": {
            "tags": [],
            "needs_background": "light"
          }
        }
      ]
    },
    {
      "cell_type": "code",
      "metadata": {
        "id": "InAxvWHlfuUr",
        "colab_type": "code",
        "colab": {
          "base_uri": "https://localhost:8080/",
          "height": 306
        },
        "outputId": "339e1d47-1fb0-4f28-b1e6-fc74bfe9f7d9"
      },
      "source": [
        "print(classification_report(y_test,gbm_y_pred_test))"
      ],
      "execution_count": 113,
      "outputs": [
        {
          "output_type": "stream",
          "text": [
            "              precision    recall  f1-score   support\n",
            "\n",
            "       eight       0.73      0.79      0.76       257\n",
            "        five       0.71      0.76      0.74       271\n",
            "        four       0.76      0.73      0.75       253\n",
            "        nine       0.70      0.74      0.72       259\n",
            "         one       0.70      0.62      0.65       248\n",
            "       seven       0.69      0.74      0.71       239\n",
            "         six       0.79      0.77      0.78       244\n",
            "       three       0.60      0.63      0.62       267\n",
            "         two       0.69      0.62      0.65       264\n",
            "        zero       0.75      0.71      0.73       250\n",
            "\n",
            "    accuracy                           0.71      2552\n",
            "   macro avg       0.71      0.71      0.71      2552\n",
            "weighted avg       0.71      0.71      0.71      2552\n",
            "\n"
          ],
          "name": "stdout"
        }
      ]
    },
    {
      "cell_type": "markdown",
      "metadata": {
        "id": "1BXh9RqdEIBf",
        "colab_type": "text"
      },
      "source": [
        "# Análisis de Ruido"
      ]
    },
    {
      "cell_type": "markdown",
      "metadata": {
        "id": "MaMqtlppEK7w",
        "colab_type": "text"
      },
      "source": [
        "## Ruido Blanco Aditivo"
      ]
    },
    {
      "cell_type": "markdown",
      "metadata": {
        "id": "QYSlsYANLDMu",
        "colab_type": "text"
      },
      "source": [
        "Vamos a utilizar las particiones previamente armadas en la variable **tipo_split** para tener los splits consistentes."
      ]
    },
    {
      "cell_type": "markdown",
      "metadata": {
        "id": "Znvp-A6dFHvF",
        "colab_type": "text"
      },
      "source": [
        "### AWN20"
      ]
    },
    {
      "cell_type": "code",
      "metadata": {
        "id": "54rWQtoYFQ2f",
        "colab_type": "code",
        "colab": {
          "base_uri": "https://localhost:8080/",
          "height": 34
        },
        "outputId": "71af13e1-56ca-4e6f-c98a-6d7e10851837"
      },
      "source": [
        "df_awn20 = pd.read_csv(\n",
        "    'https://raw.githubusercontent.com/francotestori/aauba_02/master/resources/audio_digits_AWN20.csv',\n",
        "    index_col=0\n",
        ")\n",
        "\n",
        "df_awn20['split'] = tipo_split\n",
        "df_awn20_test = df_awn20[df_awn20['split'] == 'test']\n",
        "\n",
        "awn20_target = df_awn20_test['digit']\n",
        "awn20_features = df_awn20_test.drop(['digit','filename', 'split'],axis=1)\n",
        "\n",
        "# Estandarizamos nuestros datos\n",
        "scaler = StandardScaler()\n",
        "awn20_scaled_features = pd.DataFrame(scaler.fit_transform(awn20_features))\n",
        "\n",
        "print(f'Held-out: {len(awn20_features)}')"
      ],
      "execution_count": 25,
      "outputs": [
        {
          "output_type": "stream",
          "text": [
            "Held-out: 2552\n"
          ],
          "name": "stdout"
        }
      ]
    },
    {
      "cell_type": "markdown",
      "metadata": {
        "id": "jenO1m2QRIOV",
        "colab_type": "text"
      },
      "source": [
        "#### Naive Bayes"
      ]
    },
    {
      "cell_type": "code",
      "metadata": {
        "id": "50RqyRn9RHGw",
        "colab_type": "code",
        "colab": {
          "base_uri": "https://localhost:8080/",
          "height": 568
        },
        "outputId": "d2712857-e981-4527-d2a8-89360825dde9"
      },
      "source": [
        "awn20_pred = gnb.predict(awn20_features)\n",
        "\n",
        "# Confusion Matrix\n",
        "plot_confusion_matrix(gnb, awn20_features, awn20_target)\n",
        "\n",
        "# Classification Report\n",
        "awn20_report = classification_report(awn20_target,awn20_pred)\n",
        "print(awn20_report)"
      ],
      "execution_count": 48,
      "outputs": [
        {
          "output_type": "stream",
          "text": [
            "              precision    recall  f1-score   support\n",
            "\n",
            "       eight       0.71      0.17      0.28       257\n",
            "        five       0.59      0.59      0.59       271\n",
            "        four       0.54      0.64      0.58       253\n",
            "        nine       0.75      0.09      0.16       259\n",
            "         one       0.36      0.57      0.44       248\n",
            "       seven       0.62      0.33      0.43       239\n",
            "         six       0.88      0.22      0.35       244\n",
            "       three       0.41      0.15      0.22       267\n",
            "         two       0.20      0.89      0.33       264\n",
            "        zero       0.82      0.14      0.24       250\n",
            "\n",
            "    accuracy                           0.38      2552\n",
            "   macro avg       0.59      0.38      0.36      2552\n",
            "weighted avg       0.59      0.38      0.36      2552\n",
            "\n"
          ],
          "name": "stdout"
        },
        {
          "output_type": "display_data",
          "data": {
            "image/png": "[encoded data removed]",
            "text/plain": [
              "<Figure size 432x288 with 2 Axes>"
            ]
          },
          "metadata": {
            "tags": [],
            "needs_background": "light"
          }
        }
      ]
    },
    {
      "cell_type": "code",
      "metadata": {
        "id": "UhOnRW2TRpds",
        "colab_type": "code",
        "colab": {
          "base_uri": "https://localhost:8080/",
          "height": 568
        },
        "outputId": "183c7420-d355-4d49-f0b5-59a52d72257d"
      },
      "source": [
        "awn20_pred_scaled = gnb_scaled.predict(awn20_scaled_features)\n",
        "\n",
        "# Confusion Matrix\n",
        "plot_confusion_matrix(gnb, awn20_scaled_features, awn20_target)\n",
        "\n",
        "# Classification Report\n",
        "awn20_scaled_report = classification_report(awn20_target, awn20_pred_scaled)\n",
        "print(awn20_scaled_report)"
      ],
      "execution_count": 49,
      "outputs": [
        {
          "output_type": "stream",
          "text": [
            "              precision    recall  f1-score   support\n",
            "\n",
            "       eight       0.72      0.63      0.67       257\n",
            "        five       0.67      0.66      0.67       271\n",
            "        four       0.69      0.68      0.69       253\n",
            "        nine       0.64      0.52      0.57       259\n",
            "         one       0.47      0.60      0.53       248\n",
            "       seven       0.65      0.67      0.66       239\n",
            "         six       0.64      0.69      0.67       244\n",
            "       three       0.58      0.55      0.57       267\n",
            "         two       0.46      0.49      0.48       264\n",
            "        zero       0.63      0.60      0.62       250\n",
            "\n",
            "    accuracy                           0.61      2552\n",
            "   macro avg       0.62      0.61      0.61      2552\n",
            "weighted avg       0.61      0.61      0.61      2552\n",
            "\n"
          ],
          "name": "stdout"
        },
        {
          "output_type": "display_data",
          "data": {
            "image/png": "[encoded data removed]",
            "text/plain": [
              "<Figure size 432x288 with 2 Axes>"
            ]
          },
          "metadata": {
            "tags": [],
            "needs_background": "light"
          }
        }
      ]
    },
    {
      "cell_type": "markdown",
      "metadata": {
        "id": "nqwZLOhhTXbd",
        "colab_type": "text"
      },
      "source": [
        "#### RandomForest"
      ]
    },
    {
      "cell_type": "code",
      "metadata": {
        "id": "XG4d4Nw0Tb11",
        "colab_type": "code",
        "colab": {
          "base_uri": "https://localhost:8080/",
          "height": 568
        },
        "outputId": "23e2089e-071a-41d1-a1c5-08e5adf0b4e0"
      },
      "source": [
        "awn20_pred = best_rfc.predict(awn20_features)\n",
        "\n",
        "# Matriz de confusión\n",
        "plot_confusion_matrix(best_rfc, awn20_features, awn20_target)\n",
        "\n",
        "print(classification_report(awn20_target, awn20_pred))"
      ],
      "execution_count": 56,
      "outputs": [
        {
          "output_type": "stream",
          "text": [
            "              precision    recall  f1-score   support\n",
            "\n",
            "       eight       0.83      0.77      0.80       257\n",
            "        five       0.92      0.49      0.64       271\n",
            "        four       0.64      0.84      0.73       253\n",
            "        nine       0.81      0.53      0.64       259\n",
            "         one       0.59      0.62      0.61       248\n",
            "       seven       0.72      0.71      0.71       239\n",
            "         six       0.61      0.82      0.70       244\n",
            "       three       0.64      0.43      0.52       267\n",
            "         two       0.42      0.70      0.53       264\n",
            "        zero       0.70      0.64      0.67       250\n",
            "\n",
            "    accuracy                           0.65      2552\n",
            "   macro avg       0.69      0.65      0.65      2552\n",
            "weighted avg       0.69      0.65      0.65      2552\n",
            "\n"
          ],
          "name": "stdout"
        },
        {
          "output_type": "display_data",
          "data": {
            "image/png": "[encoded data removed]",
            "text/plain": [
              "<Figure size 432x288 with 2 Axes>"
            ]
          },
          "metadata": {
            "tags": [],
            "needs_background": "light"
          }
        }
      ]
    },
    {
      "cell_type": "markdown",
      "metadata": {
        "id": "BEGTqnygFLAI",
        "colab_type": "text"
      },
      "source": [
        "### AWN40"
      ]
    },
    {
      "cell_type": "code",
      "metadata": {
        "id": "-UCaAWpvFZdN",
        "colab_type": "code",
        "colab": {
          "base_uri": "https://localhost:8080/",
          "height": 34
        },
        "outputId": "d7a92e3d-97df-455f-df6c-b23b9342159f"
      },
      "source": [
        "df_awn40 = pd.read_csv(\n",
        "    'https://raw.githubusercontent.com/francotestori/aauba_02/master/resources/audio_digits_AWN40.csv',\n",
        "    index_col=0\n",
        ")\n",
        "\n",
        "df_awn40['split'] = tipo_split\n",
        "df_awn40_test = df_awn40[df_awn40['split'] == 'test']\n",
        "\n",
        "awn40_target = df_awn40_test['digit']\n",
        "awn40_features = df_awn40_test.drop(['digit','filename', 'split'],axis=1)\n",
        "\n",
        "# Estandarizamos nuestros datos\n",
        "scaler = StandardScaler()\n",
        "awn40_scaled_features = pd.DataFrame(scaler.fit_transform(awn40_features))\n",
        "\n",
        "print(f'Held-out: {len(awn40_features)}')"
      ],
      "execution_count": 26,
      "outputs": [
        {
          "output_type": "stream",
          "text": [
            "Held-out: 2552\n"
          ],
          "name": "stdout"
        }
      ]
    },
    {
      "cell_type": "markdown",
      "metadata": {
        "id": "FbSByqTeSakO",
        "colab_type": "text"
      },
      "source": [
        "#### Naive Bayes"
      ]
    },
    {
      "cell_type": "code",
      "metadata": {
        "id": "u4IBRWu6SewH",
        "colab_type": "code",
        "colab": {
          "base_uri": "https://localhost:8080/",
          "height": 568
        },
        "outputId": "aaa17de1-9caf-46b9-c32d-1215340b23c9"
      },
      "source": [
        "## No Scale\n",
        "awn40_pred = gnb.predict(awn40_features)\n",
        "\n",
        "# Confusion Matrix\n",
        "plot_confusion_matrix(gnb, awn40_features, awn40_target)\n",
        "\n",
        "# Classification Report\n",
        "awn40_report = classification_report(awn40_target,awn40_pred)\n",
        "print(awn40_report)"
      ],
      "execution_count": 51,
      "outputs": [
        {
          "output_type": "stream",
          "text": [
            "              precision    recall  f1-score   support\n",
            "\n",
            "       eight       0.78      0.30      0.43       257\n",
            "        five       0.61      0.62      0.61       271\n",
            "        four       0.56      0.70      0.62       253\n",
            "        nine       0.77      0.17      0.27       259\n",
            "         one       0.36      0.66      0.47       248\n",
            "       seven       0.69      0.49      0.57       239\n",
            "         six       0.87      0.40      0.55       244\n",
            "       three       0.55      0.35      0.43       267\n",
            "         two       0.27      0.80      0.41       264\n",
            "        zero       0.71      0.36      0.48       250\n",
            "\n",
            "    accuracy                           0.48      2552\n",
            "   macro avg       0.62      0.48      0.48      2552\n",
            "weighted avg       0.61      0.48      0.48      2552\n",
            "\n"
          ],
          "name": "stdout"
        },
        {
          "output_type": "display_data",
          "data": {
            "image/png": "[encoded data removed]",
            "text/plain": [
              "<Figure size 432x288 with 2 Axes>"
            ]
          },
          "metadata": {
            "tags": [],
            "needs_background": "light"
          }
        }
      ]
    },
    {
      "cell_type": "code",
      "metadata": {
        "id": "3elbrD88S3Pb",
        "colab_type": "code",
        "colab": {
          "base_uri": "https://localhost:8080/",
          "height": 568
        },
        "outputId": "f9188239-d3f1-49c7-fdff-e0f6ae08d754"
      },
      "source": [
        "\n",
        "## Scaled\n",
        "awn40_pred_scaled = gnb_scaled.predict(awn40_scaled_features)\n",
        "\n",
        "# Confusion Matrix\n",
        "plot_confusion_matrix(gnb, awn40_scaled_features, awn40_target)\n",
        "\n",
        "# Classification Report\n",
        "awn40_scaled_report = classification_report(awn40_target, awn40_pred_scaled)\n",
        "print(awn40_scaled_report)"
      ],
      "execution_count": 52,
      "outputs": [
        {
          "output_type": "stream",
          "text": [
            "              precision    recall  f1-score   support\n",
            "\n",
            "       eight       0.73      0.64      0.68       257\n",
            "        five       0.68      0.65      0.67       271\n",
            "        four       0.68      0.67      0.68       253\n",
            "        nine       0.63      0.49      0.56       259\n",
            "         one       0.44      0.58      0.51       248\n",
            "       seven       0.65      0.65      0.65       239\n",
            "         six       0.61      0.68      0.64       244\n",
            "       three       0.59      0.55      0.57       267\n",
            "         two       0.47      0.49      0.48       264\n",
            "        zero       0.61      0.62      0.61       250\n",
            "\n",
            "    accuracy                           0.60      2552\n",
            "   macro avg       0.61      0.60      0.60      2552\n",
            "weighted avg       0.61      0.60      0.60      2552\n",
            "\n"
          ],
          "name": "stdout"
        },
        {
          "output_type": "display_data",
          "data": {
            "image/png": "[encoded data removed]",
            "text/plain": [
              "<Figure size 432x288 with 2 Axes>"
            ]
          },
          "metadata": {
            "tags": [],
            "needs_background": "light"
          }
        }
      ]
    },
    {
      "cell_type": "markdown",
      "metadata": {
        "id": "ABM2mG1TUeZt",
        "colab_type": "text"
      },
      "source": [
        "#### RandomForest"
      ]
    },
    {
      "cell_type": "code",
      "metadata": {
        "id": "AmnORKdVUgLN",
        "colab_type": "code",
        "colab": {
          "base_uri": "https://localhost:8080/",
          "height": 568
        },
        "outputId": "494c3e54-8530-4af3-ed1c-857de65b848a"
      },
      "source": [
        "awn40_pred = best_rfc.predict(awn40_features)\n",
        "\n",
        "# Matriz de confusión\n",
        "plot_confusion_matrix(best_rfc, awn40_features, awn40_target)\n",
        "\n",
        "print(classification_report(awn40_target, awn40_pred))"
      ],
      "execution_count": 57,
      "outputs": [
        {
          "output_type": "stream",
          "text": [
            "              precision    recall  f1-score   support\n",
            "\n",
            "       eight       0.86      0.81      0.84       257\n",
            "        five       0.89      0.65      0.75       271\n",
            "        four       0.68      0.88      0.77       253\n",
            "        nine       0.86      0.59      0.70       259\n",
            "         one       0.69      0.62      0.65       248\n",
            "       seven       0.75      0.83      0.79       239\n",
            "         six       0.73      0.87      0.79       244\n",
            "       three       0.73      0.63      0.68       267\n",
            "         two       0.56      0.73      0.64       264\n",
            "        zero       0.74      0.75      0.74       250\n",
            "\n",
            "    accuracy                           0.73      2552\n",
            "   macro avg       0.75      0.74      0.74      2552\n",
            "weighted avg       0.75      0.73      0.73      2552\n",
            "\n"
          ],
          "name": "stdout"
        },
        {
          "output_type": "display_data",
          "data": {
            "image/png": "[encoded data removed]",
            "text/plain": [
              "<Figure size 432x288 with 2 Axes>"
            ]
          },
          "metadata": {
            "tags": [],
            "needs_background": "light"
          }
        }
      ]
    },
    {
      "cell_type": "markdown",
      "metadata": {
        "id": "hjR0pPfoFN3e",
        "colab_type": "text"
      },
      "source": [
        "### AWN100"
      ]
    },
    {
      "cell_type": "code",
      "metadata": {
        "id": "p-JBrkNPESel",
        "colab_type": "code",
        "colab": {
          "base_uri": "https://localhost:8080/",
          "height": 34
        },
        "outputId": "ffc1fb3f-4f28-4cc4-93cd-c74ffbabb6ca"
      },
      "source": [
        "df_awn100 = pd.read_csv(\n",
        "    'https://raw.githubusercontent.com/francotestori/aauba_02/master/resources/audio_digits_AWN100.csv',\n",
        "    index_col=0\n",
        ")\n",
        "\n",
        "df_awn100['split'] = tipo_split\n",
        "df_awn100_test = df_awn100[df_awn100['split'] == 'test']\n",
        "\n",
        "awn100_target = df_awn100_test['digit']\n",
        "awn100_features = df_awn100_test.drop(['digit','filename', 'split'],axis=1)\n",
        "\n",
        "# Estandarizamos nuestros datos\n",
        "scaler = StandardScaler()\n",
        "awn100_scaled_features = pd.DataFrame(scaler.fit_transform(awn100_features))\n",
        "\n",
        "print(f'Held-out: {len(awn100_features)}')"
      ],
      "execution_count": 27,
      "outputs": [
        {
          "output_type": "stream",
          "text": [
            "Held-out: 2552\n"
          ],
          "name": "stdout"
        }
      ]
    },
    {
      "cell_type": "code",
      "metadata": {
        "id": "T6R5l9bmS8Ng",
        "colab_type": "code",
        "colab": {
          "base_uri": "https://localhost:8080/",
          "height": 568
        },
        "outputId": "05d19524-4314-4713-9988-29de78cacf7f"
      },
      "source": [
        "## No Scale\n",
        "awn100_pred = gnb.predict(awn100_features)\n",
        "\n",
        "# Confusion Matrix\n",
        "plot_confusion_matrix(gnb, awn100_features, awn100_target)\n",
        "\n",
        "# Classification Report\n",
        "awn100_report = classification_report(awn100_target,awn100_pred)\n",
        "print(awn100_report)"
      ],
      "execution_count": 53,
      "outputs": [
        {
          "output_type": "stream",
          "text": [
            "              precision    recall  f1-score   support\n",
            "\n",
            "       eight       0.77      0.42      0.55       257\n",
            "        five       0.63      0.65      0.64       271\n",
            "        four       0.63      0.66      0.64       253\n",
            "        nine       0.69      0.27      0.39       259\n",
            "         one       0.39      0.68      0.49       248\n",
            "       seven       0.69      0.56      0.62       239\n",
            "         six       0.71      0.52      0.60       244\n",
            "       three       0.58      0.48      0.52       267\n",
            "         two       0.35      0.68      0.46       264\n",
            "        zero       0.61      0.54      0.57       250\n",
            "\n",
            "    accuracy                           0.55      2552\n",
            "   macro avg       0.61      0.55      0.55      2552\n",
            "weighted avg       0.60      0.55      0.55      2552\n",
            "\n"
          ],
          "name": "stdout"
        },
        {
          "output_type": "display_data",
          "data": {
            "image/png": "[encoded data removed]",
            "text/plain": [
              "<Figure size 432x288 with 2 Axes>"
            ]
          },
          "metadata": {
            "tags": [],
            "needs_background": "light"
          }
        }
      ]
    },
    {
      "cell_type": "code",
      "metadata": {
        "id": "t_tpZdQpS93K",
        "colab_type": "code",
        "colab": {
          "base_uri": "https://localhost:8080/",
          "height": 568
        },
        "outputId": "4c60db3f-af8d-426f-9fd9-9c2b06562ffc"
      },
      "source": [
        "## Scaled\n",
        "awn100_pred_scaled = gnb_scaled.predict(awn100_scaled_features)\n",
        "\n",
        "# Confusion Matrix\n",
        "plot_confusion_matrix(gnb, awn100_scaled_features, awn100_target)\n",
        "\n",
        "# Classification Report\n",
        "awn100_scaled_report = classification_report(awn100_target, awn100_pred_scaled)\n",
        "print(awn100_scaled_report)"
      ],
      "execution_count": 54,
      "outputs": [
        {
          "output_type": "stream",
          "text": [
            "              precision    recall  f1-score   support\n",
            "\n",
            "       eight       0.71      0.58      0.64       257\n",
            "        five       0.65      0.62      0.64       271\n",
            "        four       0.70      0.62      0.66       253\n",
            "        nine       0.62      0.46      0.53       259\n",
            "         one       0.44      0.61      0.51       248\n",
            "       seven       0.62      0.60      0.61       239\n",
            "         six       0.58      0.66      0.61       244\n",
            "       three       0.61      0.55      0.58       267\n",
            "         two       0.43      0.53      0.47       264\n",
            "        zero       0.64      0.62      0.63       250\n",
            "\n",
            "    accuracy                           0.58      2552\n",
            "   macro avg       0.60      0.59      0.59      2552\n",
            "weighted avg       0.60      0.58      0.59      2552\n",
            "\n"
          ],
          "name": "stdout"
        },
        {
          "output_type": "display_data",
          "data": {
            "image/png": "[encoded data removed]",
            "text/plain": [
              "<Figure size 432x288 with 2 Axes>"
            ]
          },
          "metadata": {
            "tags": [],
            "needs_background": "light"
          }
        }
      ]
    },
    {
      "cell_type": "markdown",
      "metadata": {
        "id": "HqZ5aIwwUobl",
        "colab_type": "text"
      },
      "source": [
        "#### RandomForest"
      ]
    },
    {
      "cell_type": "code",
      "metadata": {
        "id": "uhvF3I6TUp2K",
        "colab_type": "code",
        "colab": {
          "base_uri": "https://localhost:8080/",
          "height": 568
        },
        "outputId": "f01e6c62-c4ca-48b7-b6f2-d6f78692aafd"
      },
      "source": [
        "awn100_pred = best_rfc.predict(awn100_features)\n",
        "\n",
        "# Matriz de confusión\n",
        "plot_confusion_matrix(best_rfc, awn100_features, awn100_target)\n",
        "\n",
        "print(classification_report(awn100_target, awn100_pred))"
      ],
      "execution_count": 58,
      "outputs": [
        {
          "output_type": "stream",
          "text": [
            "              precision    recall  f1-score   support\n",
            "\n",
            "       eight       0.88      0.88      0.88       257\n",
            "        five       0.90      0.73      0.81       271\n",
            "        four       0.74      0.94      0.83       253\n",
            "        nine       0.87      0.71      0.78       259\n",
            "         one       0.78      0.71      0.74       248\n",
            "       seven       0.82      0.84      0.83       239\n",
            "         six       0.82      0.92      0.87       244\n",
            "       three       0.81      0.78      0.79       267\n",
            "         two       0.77      0.78      0.77       264\n",
            "        zero       0.80      0.87      0.84       250\n",
            "\n",
            "    accuracy                           0.82      2552\n",
            "   macro avg       0.82      0.82      0.81      2552\n",
            "weighted avg       0.82      0.82      0.81      2552\n",
            "\n"
          ],
          "name": "stdout"
        },
        {
          "output_type": "display_data",
          "data": {
            "image/png": "[encoded data removed]",
            "text/plain": [
              "<Figure size 432x288 with 2 Axes>"
            ]
          },
          "metadata": {
            "tags": [],
            "needs_background": "light"
          }
        }
      ]
    },
    {
      "cell_type": "markdown",
      "metadata": {
        "id": "eO3wcTmnEURe",
        "colab_type": "text"
      },
      "source": [
        "## Ruido Ambiente"
      ]
    },
    {
      "cell_type": "markdown",
      "metadata": {
        "id": "trhnFmt7FogK",
        "colab_type": "text"
      },
      "source": [
        "###  Cafe"
      ]
    },
    {
      "cell_type": "code",
      "metadata": {
        "id": "ovhMM5DmF1ZJ",
        "colab_type": "code",
        "colab": {
          "base_uri": "https://localhost:8080/",
          "height": 34
        },
        "outputId": "53ef170a-0ce8-4a29-94a3-08d5fbe85191"
      },
      "source": [
        "df_cafe = pd.read_csv(\n",
        "    'https://raw.githubusercontent.com/francotestori/aauba_02/master/resources/audio_digits_CAFE-CAFE-1_lvl_10.csv',\n",
        "    index_col=0\n",
        ")\n",
        "\n",
        "df_cafe['split'] = tipo_split\n",
        "df_cafe_test = df_cafe[df_cafe['split'] == 'test']\n",
        "\n",
        "cafe_target = df_cafe_test['digit']\n",
        "cafe_features = df_cafe_test.drop(['digit','filename', 'split'],axis=1)\n",
        "\n",
        "# Estandarizamos nuestros datos\n",
        "scaler = StandardScaler()\n",
        "cafe_scaled_features = pd.DataFrame(scaler.fit_transform(cafe_features))\n",
        "\n",
        "print(f'Held-out: {len(cafe_features)}')"
      ],
      "execution_count": 28,
      "outputs": [
        {
          "output_type": "stream",
          "text": [
            "Held-out: 2552\n"
          ],
          "name": "stdout"
        }
      ]
    },
    {
      "cell_type": "markdown",
      "metadata": {
        "id": "Sq4EcQGXFtG1",
        "colab_type": "text"
      },
      "source": [
        "### Cafe Foodcourt"
      ]
    },
    {
      "cell_type": "code",
      "metadata": {
        "id": "zdYj3K6pF55r",
        "colab_type": "code",
        "colab": {
          "base_uri": "https://localhost:8080/",
          "height": 34
        },
        "outputId": "33c51fcc-1490-4608-8107-91b06d8b30ea"
      },
      "source": [
        "df_foodcourt = pd.read_csv(\n",
        "    'https://raw.githubusercontent.com/francotestori/aauba_02/master/resources/audio_digits_CAFE-FOODCOURTB-1_lvl_10.csv',\n",
        "    index_col=0\n",
        ")\n",
        "\n",
        "df_foodcourt['split'] = tipo_split\n",
        "df_foodcourt_test = df_foodcourt[df_foodcourt['split'] == 'test']\n",
        "\n",
        "foodcourt_target = df_foodcourt_test['digit']\n",
        "foodcourt_features = df_foodcourt_test.drop(['digit','filename', 'split'],axis=1)\n",
        "\n",
        "# Estandarizamos nuestros datos\n",
        "scaler = StandardScaler()\n",
        "foodcourt_scaled_features = pd.DataFrame(scaler.fit_transform(foodcourt_features))\n",
        "\n",
        "print(f'Held-out: {len(foodcourt_features)}')"
      ],
      "execution_count": 29,
      "outputs": [
        {
          "output_type": "stream",
          "text": [
            "Held-out: 2552\n"
          ],
          "name": "stdout"
        }
      ]
    },
    {
      "cell_type": "markdown",
      "metadata": {
        "id": "JlWX6N72FwGO",
        "colab_type": "text"
      },
      "source": [
        "### Home Kitchen"
      ]
    },
    {
      "cell_type": "code",
      "metadata": {
        "id": "RY_C6UadF6u-",
        "colab_type": "code",
        "colab": {
          "base_uri": "https://localhost:8080/",
          "height": 34
        },
        "outputId": "1bdefac5-d5d3-4b7f-9d7b-0d8997922ab8"
      },
      "source": [
        "df_kitchen = pd.read_csv(\n",
        "    'https://raw.githubusercontent.com/francotestori/aauba_02/master/resources/audio_digits_HOME-KITCHEN-1_lvl_10.csv',\n",
        "    index_col=0\n",
        ")\n",
        "\n",
        "df_kitchen['split'] = tipo_split\n",
        "df_kitchen_test = df_kitchen[df_kitchen['split'] == 'test']\n",
        "\n",
        "kitchen_target = df_kitchen_test['digit']\n",
        "kitchen_features = df_kitchen_test.drop(['digit','filename', 'split'],axis=1)\n",
        "\n",
        "# Estandarizamos nuestros datos\n",
        "scaler = StandardScaler()\n",
        "kitchen_scaled_features = pd.DataFrame(scaler.fit_transform(kitchen_features))\n",
        "\n",
        "print(f'Held-out: {len(kitchen_features)}')"
      ],
      "execution_count": 30,
      "outputs": [
        {
          "output_type": "stream",
          "text": [
            "Held-out: 2552\n"
          ],
          "name": "stdout"
        }
      ]
    },
    {
      "cell_type": "markdown",
      "metadata": {
        "id": "AZDcUxpJFzFu",
        "colab_type": "text"
      },
      "source": [
        "### Street"
      ]
    },
    {
      "cell_type": "code",
      "metadata": {
        "id": "TDDJi088EYd2",
        "colab_type": "code",
        "colab": {
          "base_uri": "https://localhost:8080/",
          "height": 34
        },
        "outputId": "3feba065-9b95-4723-bbf2-d5abbead36f9"
      },
      "source": [
        "df_street = pd.read_csv(\n",
        "    'https://raw.githubusercontent.com/francotestori/aauba_02/master/resources/audio_digits_STREET-CITY-1_lvl_10.csv',\n",
        "    index_col=0\n",
        ")\n",
        "\n",
        "df_street['split'] = tipo_split\n",
        "df_street_test = df_street[df_street['split'] == 'test']\n",
        "\n",
        "street_target = df_street_test['digit']\n",
        "street_features = df_street_test.drop(['digit','filename', 'split'],axis=1)\n",
        "\n",
        "# Estandarizamos nuestros datos\n",
        "scaler = StandardScaler()\n",
        "street_scaled_features = pd.DataFrame(scaler.fit_transform(street_features))\n",
        "\n",
        "print(f'Held-out: {len(street_features)}')"
      ],
      "execution_count": 31,
      "outputs": [
        {
          "output_type": "stream",
          "text": [
            "Held-out: 2552\n"
          ],
          "name": "stdout"
        }
      ]
    },
    {
      "cell_type": "markdown",
      "metadata": {
        "id": "BuVyv5AoEZD3",
        "colab_type": "text"
      },
      "source": [
        "# Self recorded"
      ]
    },
    {
      "cell_type": "code",
      "metadata": {
        "id": "S1HQijGBGB3I",
        "colab_type": "code",
        "colab": {}
      },
      "source": [
        "df_self_recorded = pd.read_csv(\n",
        "    'https://raw.githubusercontent.com/francotestori/aauba_02/master/resources/self_recorded_digits.csv',\n",
        "    index_col=0\n",
        ")\n",
        "\n",
        "df_self_recorded.head()"
      ],
      "execution_count": null,
      "outputs": []
    }
  ]
}