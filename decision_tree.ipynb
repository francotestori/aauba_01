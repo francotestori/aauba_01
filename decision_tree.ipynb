{
  "nbformat": 4,
  "nbformat_minor": 0,
  "metadata": {
    "colab": {
      "name": "decision_tree.ipynb",
      "provenance": [],
      "collapsed_sections": [
        "-JOyg_GFnQyv"
      ],
      "toc_visible": true,
      "include_colab_link": true
    },
    "kernelspec": {
      "name": "python3",
      "display_name": "Python 3"
    }
  },
  "cells": [
    {
      "cell_type": "markdown",
      "metadata": {
        "id": "view-in-github",
        "colab_type": "text"
      },
      "source": [
        "<a href=\"https://colab.research.google.com/github/francotestori/aauba_01/blob/fede/decision_tree.ipynb\" target=\"_parent\"><img src=\"https://colab.research.google.com/assets/colab-badge.svg\" alt=\"Open In Colab\"/></a>"
      ]
    },
    {
      "cell_type": "markdown",
      "metadata": {
        "id": "RVZwUPgjLVof",
        "colab_type": "text"
      },
      "source": [
        "# Aprendizaje Automático\n",
        "## Trabajo Práctico 1\n",
        "\n",
        "El objetivo de este trabajo práctico es el desarrollo de una solución que permita predecir la cancelación de una reserva utilizando como dataset el archivo provisto por la catedra ***'hotel_bookins.csv'***."
      ]
    },
    {
      "cell_type": "code",
      "metadata": {
        "id": "pEJF2ExIS-lM",
        "colab_type": "code",
        "colab": {
          "base_uri": "https://localhost:8080/",
          "height": 212
        },
        "outputId": "de007440-815a-40b6-b604-d96bcc6cdfdb"
      },
      "source": [
        "# Cargar el archivo original de bookings\n",
        "!wget https://raw.githubusercontent.com/francotestori/aauba_01/master/resources/hotel_bookings.csv"
      ],
      "execution_count": 24,
      "outputs": [
        {
          "output_type": "stream",
          "text": [
            "--2020-06-12 19:21:52--  https://raw.githubusercontent.com/francotestori/aauba_01/master/resources/hotel_bookings.csv\n",
            "Resolving raw.githubusercontent.com (raw.githubusercontent.com)... 151.101.0.133, 151.101.64.133, 151.101.128.133, ...\n",
            "Connecting to raw.githubusercontent.com (raw.githubusercontent.com)|151.101.0.133|:443... connected.\n",
            "HTTP request sent, awaiting response... 200 OK\n",
            "Length: 16855599 (16M) [text/plain]\n",
            "Saving to: ‘hotel_bookings.csv.1’\n",
            "\n",
            "hotel_bookings.csv. 100%[===================>]  16.07M  26.4MB/s    in 0.6s    \n",
            "\n",
            "2020-06-12 19:21:53 (26.4 MB/s) - ‘hotel_bookings.csv.1’ saved [16855599/16855599]\n",
            "\n"
          ],
          "name": "stdout"
        }
      ]
    },
    {
      "cell_type": "code",
      "metadata": {
        "id": "oW-x3hPsJje1",
        "colab_type": "code",
        "colab": {
          "base_uri": "https://localhost:8080/",
          "height": 301
        },
        "outputId": "c97ced0d-611f-4055-d91c-834ee44d0ef3"
      },
      "source": [
        "# Utilizar pandas para hacer la carga del dataframe de bookings\n",
        "import pandas as pd\n",
        "\n",
        "pd.set_option('display.max_columns', 35)\n",
        "pd.set_option('display.max_rows', 500)\n",
        "pd.set_option('display.width', 10000)\n",
        "\n",
        "bookings_df = pd.read_csv('hotel_bookings.csv')\n",
        "bookings_df.head()"
      ],
      "execution_count": 25,
      "outputs": [
        {
          "output_type": "execute_result",
          "data": {
            "text/html": [
              "<div>\n",
              "<style scoped>\n",
              "    .dataframe tbody tr th:only-of-type {\n",
              "        vertical-align: middle;\n",
              "    }\n",
              "\n",
              "    .dataframe tbody tr th {\n",
              "        vertical-align: top;\n",
              "    }\n",
              "\n",
              "    .dataframe thead th {\n",
              "        text-align: right;\n",
              "    }\n",
              "</style>\n",
              "<table border=\"1\" class=\"dataframe\">\n",
              "  <thead>\n",
              "    <tr style=\"text-align: right;\">\n",
              "      <th></th>\n",
              "      <th>hotel</th>\n",
              "      <th>is_canceled</th>\n",
              "      <th>lead_time</th>\n",
              "      <th>arrival_date_year</th>\n",
              "      <th>arrival_date_month</th>\n",
              "      <th>arrival_date_week_number</th>\n",
              "      <th>arrival_date_day_of_month</th>\n",
              "      <th>stays_in_weekend_nights</th>\n",
              "      <th>stays_in_week_nights</th>\n",
              "      <th>adults</th>\n",
              "      <th>children</th>\n",
              "      <th>babies</th>\n",
              "      <th>meal</th>\n",
              "      <th>country</th>\n",
              "      <th>market_segment</th>\n",
              "      <th>distribution_channel</th>\n",
              "      <th>is_repeated_guest</th>\n",
              "      <th>previous_cancellations</th>\n",
              "      <th>previous_bookings_not_canceled</th>\n",
              "      <th>reserved_room_type</th>\n",
              "      <th>assigned_room_type</th>\n",
              "      <th>booking_changes</th>\n",
              "      <th>deposit_type</th>\n",
              "      <th>agent</th>\n",
              "      <th>company</th>\n",
              "      <th>days_in_waiting_list</th>\n",
              "      <th>customer_type</th>\n",
              "      <th>adr</th>\n",
              "      <th>required_car_parking_spaces</th>\n",
              "      <th>total_of_special_requests</th>\n",
              "      <th>reservation_status</th>\n",
              "      <th>reservation_status_date</th>\n",
              "    </tr>\n",
              "  </thead>\n",
              "  <tbody>\n",
              "    <tr>\n",
              "      <th>0</th>\n",
              "      <td>Resort Hotel</td>\n",
              "      <td>0</td>\n",
              "      <td>342</td>\n",
              "      <td>2015</td>\n",
              "      <td>July</td>\n",
              "      <td>27</td>\n",
              "      <td>1</td>\n",
              "      <td>0</td>\n",
              "      <td>0</td>\n",
              "      <td>2</td>\n",
              "      <td>0.0</td>\n",
              "      <td>0</td>\n",
              "      <td>BB</td>\n",
              "      <td>PRT</td>\n",
              "      <td>Direct</td>\n",
              "      <td>Direct</td>\n",
              "      <td>0</td>\n",
              "      <td>0</td>\n",
              "      <td>0</td>\n",
              "      <td>C</td>\n",
              "      <td>C</td>\n",
              "      <td>3</td>\n",
              "      <td>No Deposit</td>\n",
              "      <td>NaN</td>\n",
              "      <td>NaN</td>\n",
              "      <td>0</td>\n",
              "      <td>Transient</td>\n",
              "      <td>0.0</td>\n",
              "      <td>0</td>\n",
              "      <td>0</td>\n",
              "      <td>Check-Out</td>\n",
              "      <td>2015-07-01</td>\n",
              "    </tr>\n",
              "    <tr>\n",
              "      <th>1</th>\n",
              "      <td>Resort Hotel</td>\n",
              "      <td>0</td>\n",
              "      <td>737</td>\n",
              "      <td>2015</td>\n",
              "      <td>July</td>\n",
              "      <td>27</td>\n",
              "      <td>1</td>\n",
              "      <td>0</td>\n",
              "      <td>0</td>\n",
              "      <td>2</td>\n",
              "      <td>0.0</td>\n",
              "      <td>0</td>\n",
              "      <td>BB</td>\n",
              "      <td>PRT</td>\n",
              "      <td>Direct</td>\n",
              "      <td>Direct</td>\n",
              "      <td>0</td>\n",
              "      <td>0</td>\n",
              "      <td>0</td>\n",
              "      <td>C</td>\n",
              "      <td>C</td>\n",
              "      <td>4</td>\n",
              "      <td>No Deposit</td>\n",
              "      <td>NaN</td>\n",
              "      <td>NaN</td>\n",
              "      <td>0</td>\n",
              "      <td>Transient</td>\n",
              "      <td>0.0</td>\n",
              "      <td>0</td>\n",
              "      <td>0</td>\n",
              "      <td>Check-Out</td>\n",
              "      <td>2015-07-01</td>\n",
              "    </tr>\n",
              "    <tr>\n",
              "      <th>2</th>\n",
              "      <td>Resort Hotel</td>\n",
              "      <td>0</td>\n",
              "      <td>7</td>\n",
              "      <td>2015</td>\n",
              "      <td>July</td>\n",
              "      <td>27</td>\n",
              "      <td>1</td>\n",
              "      <td>0</td>\n",
              "      <td>1</td>\n",
              "      <td>1</td>\n",
              "      <td>0.0</td>\n",
              "      <td>0</td>\n",
              "      <td>BB</td>\n",
              "      <td>GBR</td>\n",
              "      <td>Direct</td>\n",
              "      <td>Direct</td>\n",
              "      <td>0</td>\n",
              "      <td>0</td>\n",
              "      <td>0</td>\n",
              "      <td>A</td>\n",
              "      <td>C</td>\n",
              "      <td>0</td>\n",
              "      <td>No Deposit</td>\n",
              "      <td>NaN</td>\n",
              "      <td>NaN</td>\n",
              "      <td>0</td>\n",
              "      <td>Transient</td>\n",
              "      <td>75.0</td>\n",
              "      <td>0</td>\n",
              "      <td>0</td>\n",
              "      <td>Check-Out</td>\n",
              "      <td>2015-07-02</td>\n",
              "    </tr>\n",
              "    <tr>\n",
              "      <th>3</th>\n",
              "      <td>Resort Hotel</td>\n",
              "      <td>0</td>\n",
              "      <td>13</td>\n",
              "      <td>2015</td>\n",
              "      <td>July</td>\n",
              "      <td>27</td>\n",
              "      <td>1</td>\n",
              "      <td>0</td>\n",
              "      <td>1</td>\n",
              "      <td>1</td>\n",
              "      <td>0.0</td>\n",
              "      <td>0</td>\n",
              "      <td>BB</td>\n",
              "      <td>GBR</td>\n",
              "      <td>Corporate</td>\n",
              "      <td>Corporate</td>\n",
              "      <td>0</td>\n",
              "      <td>0</td>\n",
              "      <td>0</td>\n",
              "      <td>A</td>\n",
              "      <td>A</td>\n",
              "      <td>0</td>\n",
              "      <td>No Deposit</td>\n",
              "      <td>304.0</td>\n",
              "      <td>NaN</td>\n",
              "      <td>0</td>\n",
              "      <td>Transient</td>\n",
              "      <td>75.0</td>\n",
              "      <td>0</td>\n",
              "      <td>0</td>\n",
              "      <td>Check-Out</td>\n",
              "      <td>2015-07-02</td>\n",
              "    </tr>\n",
              "    <tr>\n",
              "      <th>4</th>\n",
              "      <td>Resort Hotel</td>\n",
              "      <td>0</td>\n",
              "      <td>14</td>\n",
              "      <td>2015</td>\n",
              "      <td>July</td>\n",
              "      <td>27</td>\n",
              "      <td>1</td>\n",
              "      <td>0</td>\n",
              "      <td>2</td>\n",
              "      <td>2</td>\n",
              "      <td>0.0</td>\n",
              "      <td>0</td>\n",
              "      <td>BB</td>\n",
              "      <td>GBR</td>\n",
              "      <td>Online TA</td>\n",
              "      <td>TA/TO</td>\n",
              "      <td>0</td>\n",
              "      <td>0</td>\n",
              "      <td>0</td>\n",
              "      <td>A</td>\n",
              "      <td>A</td>\n",
              "      <td>0</td>\n",
              "      <td>No Deposit</td>\n",
              "      <td>240.0</td>\n",
              "      <td>NaN</td>\n",
              "      <td>0</td>\n",
              "      <td>Transient</td>\n",
              "      <td>98.0</td>\n",
              "      <td>0</td>\n",
              "      <td>1</td>\n",
              "      <td>Check-Out</td>\n",
              "      <td>2015-07-03</td>\n",
              "    </tr>\n",
              "  </tbody>\n",
              "</table>\n",
              "</div>"
            ],
            "text/plain": [
              "          hotel  is_canceled  lead_time  arrival_date_year arrival_date_month  arrival_date_week_number  arrival_date_day_of_month  stays_in_weekend_nights  stays_in_week_nights  adults  children  babies meal country market_segment distribution_channel  is_repeated_guest  previous_cancellations  previous_bookings_not_canceled reserved_room_type assigned_room_type  booking_changes deposit_type  agent  company  days_in_waiting_list customer_type   adr  required_car_parking_spaces  total_of_special_requests reservation_status reservation_status_date\n",
              "0  Resort Hotel            0        342               2015               July                        27                          1                        0                     0       2       0.0       0   BB     PRT         Direct               Direct                  0                       0                               0                  C                  C                3   No Deposit    NaN      NaN                     0     Transient   0.0                            0                          0          Check-Out              2015-07-01\n",
              "1  Resort Hotel            0        737               2015               July                        27                          1                        0                     0       2       0.0       0   BB     PRT         Direct               Direct                  0                       0                               0                  C                  C                4   No Deposit    NaN      NaN                     0     Transient   0.0                            0                          0          Check-Out              2015-07-01\n",
              "2  Resort Hotel            0          7               2015               July                        27                          1                        0                     1       1       0.0       0   BB     GBR         Direct               Direct                  0                       0                               0                  A                  C                0   No Deposit    NaN      NaN                     0     Transient  75.0                            0                          0          Check-Out              2015-07-02\n",
              "3  Resort Hotel            0         13               2015               July                        27                          1                        0                     1       1       0.0       0   BB     GBR      Corporate            Corporate                  0                       0                               0                  A                  A                0   No Deposit  304.0      NaN                     0     Transient  75.0                            0                          0          Check-Out              2015-07-02\n",
              "4  Resort Hotel            0         14               2015               July                        27                          1                        0                     2       2       0.0       0   BB     GBR      Online TA                TA/TO                  0                       0                               0                  A                  A                0   No Deposit  240.0      NaN                     0     Transient  98.0                            0                          1          Check-Out              2015-07-03"
            ]
          },
          "metadata": {
            "tags": []
          },
          "execution_count": 25
        }
      ]
    },
    {
      "cell_type": "markdown",
      "metadata": {
        "id": "BRK6Pu8Efatk",
        "colab_type": "text"
      },
      "source": [
        "## a. Descripción de los atributos\n",
        "\n",
        "---"
      ]
    },
    {
      "cell_type": "markdown",
      "metadata": {
        "id": "XhwYp9fQqbzh",
        "colab_type": "text"
      },
      "source": [
        "### a.i. Campos categóricos\n",
        "Pertenecen a este grupo los campos numéricos o no cuyos valores representen categorías en las que la reserva de hoteles se asignará, siempre y cuando estas categorías no puedan ordenarse en forma inmediata. Pertenecen a este grupo los campos que pueden tomar valores 0 y 1, entre otros. Se agregan también el campo AÑO y el campo MES, para que no tomen valores numéricos."
      ]
    },
    {
      "cell_type": "code",
      "metadata": {
        "id": "PGtUgzFiftB7",
        "colab_type": "code",
        "colab": {
          "base_uri": "https://localhost:8080/",
          "height": 593
        },
        "outputId": "ad7b782a-d167-4289-c64f-882c1d604cf6"
      },
      "source": [
        "columnas_categoricas = [\n",
        "  'hotel', \n",
        "  'is_canceled', \n",
        "  'meal', \n",
        "  'country', \n",
        "  'market_segment', \n",
        "  'distribution_channel', \n",
        "  'is_repeated_guest', \n",
        "  'deposit_type', \n",
        "  'agent', \n",
        "  'company', \n",
        "  'customer_type', \n",
        "  'reservation_status',\n",
        "  'arrival_date_month'\n",
        "]\n",
        "df_categoricas = bookings_df[columnas_categoricas]\n",
        "df_categoricas"
      ],
      "execution_count": 26,
      "outputs": [
        {
          "output_type": "execute_result",
          "data": {
            "text/html": [
              "<div>\n",
              "<style scoped>\n",
              "    .dataframe tbody tr th:only-of-type {\n",
              "        vertical-align: middle;\n",
              "    }\n",
              "\n",
              "    .dataframe tbody tr th {\n",
              "        vertical-align: top;\n",
              "    }\n",
              "\n",
              "    .dataframe thead th {\n",
              "        text-align: right;\n",
              "    }\n",
              "</style>\n",
              "<table border=\"1\" class=\"dataframe\">\n",
              "  <thead>\n",
              "    <tr style=\"text-align: right;\">\n",
              "      <th></th>\n",
              "      <th>hotel</th>\n",
              "      <th>is_canceled</th>\n",
              "      <th>meal</th>\n",
              "      <th>country</th>\n",
              "      <th>market_segment</th>\n",
              "      <th>distribution_channel</th>\n",
              "      <th>is_repeated_guest</th>\n",
              "      <th>deposit_type</th>\n",
              "      <th>agent</th>\n",
              "      <th>company</th>\n",
              "      <th>customer_type</th>\n",
              "      <th>reservation_status</th>\n",
              "      <th>arrival_date_month</th>\n",
              "    </tr>\n",
              "  </thead>\n",
              "  <tbody>\n",
              "    <tr>\n",
              "      <th>0</th>\n",
              "      <td>Resort Hotel</td>\n",
              "      <td>0</td>\n",
              "      <td>BB</td>\n",
              "      <td>PRT</td>\n",
              "      <td>Direct</td>\n",
              "      <td>Direct</td>\n",
              "      <td>0</td>\n",
              "      <td>No Deposit</td>\n",
              "      <td>NaN</td>\n",
              "      <td>NaN</td>\n",
              "      <td>Transient</td>\n",
              "      <td>Check-Out</td>\n",
              "      <td>July</td>\n",
              "    </tr>\n",
              "    <tr>\n",
              "      <th>1</th>\n",
              "      <td>Resort Hotel</td>\n",
              "      <td>0</td>\n",
              "      <td>BB</td>\n",
              "      <td>PRT</td>\n",
              "      <td>Direct</td>\n",
              "      <td>Direct</td>\n",
              "      <td>0</td>\n",
              "      <td>No Deposit</td>\n",
              "      <td>NaN</td>\n",
              "      <td>NaN</td>\n",
              "      <td>Transient</td>\n",
              "      <td>Check-Out</td>\n",
              "      <td>July</td>\n",
              "    </tr>\n",
              "    <tr>\n",
              "      <th>2</th>\n",
              "      <td>Resort Hotel</td>\n",
              "      <td>0</td>\n",
              "      <td>BB</td>\n",
              "      <td>GBR</td>\n",
              "      <td>Direct</td>\n",
              "      <td>Direct</td>\n",
              "      <td>0</td>\n",
              "      <td>No Deposit</td>\n",
              "      <td>NaN</td>\n",
              "      <td>NaN</td>\n",
              "      <td>Transient</td>\n",
              "      <td>Check-Out</td>\n",
              "      <td>July</td>\n",
              "    </tr>\n",
              "    <tr>\n",
              "      <th>3</th>\n",
              "      <td>Resort Hotel</td>\n",
              "      <td>0</td>\n",
              "      <td>BB</td>\n",
              "      <td>GBR</td>\n",
              "      <td>Corporate</td>\n",
              "      <td>Corporate</td>\n",
              "      <td>0</td>\n",
              "      <td>No Deposit</td>\n",
              "      <td>304.0</td>\n",
              "      <td>NaN</td>\n",
              "      <td>Transient</td>\n",
              "      <td>Check-Out</td>\n",
              "      <td>July</td>\n",
              "    </tr>\n",
              "    <tr>\n",
              "      <th>4</th>\n",
              "      <td>Resort Hotel</td>\n",
              "      <td>0</td>\n",
              "      <td>BB</td>\n",
              "      <td>GBR</td>\n",
              "      <td>Online TA</td>\n",
              "      <td>TA/TO</td>\n",
              "      <td>0</td>\n",
              "      <td>No Deposit</td>\n",
              "      <td>240.0</td>\n",
              "      <td>NaN</td>\n",
              "      <td>Transient</td>\n",
              "      <td>Check-Out</td>\n",
              "      <td>July</td>\n",
              "    </tr>\n",
              "    <tr>\n",
              "      <th>...</th>\n",
              "      <td>...</td>\n",
              "      <td>...</td>\n",
              "      <td>...</td>\n",
              "      <td>...</td>\n",
              "      <td>...</td>\n",
              "      <td>...</td>\n",
              "      <td>...</td>\n",
              "      <td>...</td>\n",
              "      <td>...</td>\n",
              "      <td>...</td>\n",
              "      <td>...</td>\n",
              "      <td>...</td>\n",
              "      <td>...</td>\n",
              "    </tr>\n",
              "    <tr>\n",
              "      <th>119385</th>\n",
              "      <td>City Hotel</td>\n",
              "      <td>0</td>\n",
              "      <td>BB</td>\n",
              "      <td>BEL</td>\n",
              "      <td>Offline TA/TO</td>\n",
              "      <td>TA/TO</td>\n",
              "      <td>0</td>\n",
              "      <td>No Deposit</td>\n",
              "      <td>394.0</td>\n",
              "      <td>NaN</td>\n",
              "      <td>Transient</td>\n",
              "      <td>Check-Out</td>\n",
              "      <td>August</td>\n",
              "    </tr>\n",
              "    <tr>\n",
              "      <th>119386</th>\n",
              "      <td>City Hotel</td>\n",
              "      <td>0</td>\n",
              "      <td>BB</td>\n",
              "      <td>FRA</td>\n",
              "      <td>Online TA</td>\n",
              "      <td>TA/TO</td>\n",
              "      <td>0</td>\n",
              "      <td>No Deposit</td>\n",
              "      <td>9.0</td>\n",
              "      <td>NaN</td>\n",
              "      <td>Transient</td>\n",
              "      <td>Check-Out</td>\n",
              "      <td>August</td>\n",
              "    </tr>\n",
              "    <tr>\n",
              "      <th>119387</th>\n",
              "      <td>City Hotel</td>\n",
              "      <td>0</td>\n",
              "      <td>BB</td>\n",
              "      <td>DEU</td>\n",
              "      <td>Online TA</td>\n",
              "      <td>TA/TO</td>\n",
              "      <td>0</td>\n",
              "      <td>No Deposit</td>\n",
              "      <td>9.0</td>\n",
              "      <td>NaN</td>\n",
              "      <td>Transient</td>\n",
              "      <td>Check-Out</td>\n",
              "      <td>August</td>\n",
              "    </tr>\n",
              "    <tr>\n",
              "      <th>119388</th>\n",
              "      <td>City Hotel</td>\n",
              "      <td>0</td>\n",
              "      <td>BB</td>\n",
              "      <td>GBR</td>\n",
              "      <td>Online TA</td>\n",
              "      <td>TA/TO</td>\n",
              "      <td>0</td>\n",
              "      <td>No Deposit</td>\n",
              "      <td>89.0</td>\n",
              "      <td>NaN</td>\n",
              "      <td>Transient</td>\n",
              "      <td>Check-Out</td>\n",
              "      <td>August</td>\n",
              "    </tr>\n",
              "    <tr>\n",
              "      <th>119389</th>\n",
              "      <td>City Hotel</td>\n",
              "      <td>0</td>\n",
              "      <td>HB</td>\n",
              "      <td>DEU</td>\n",
              "      <td>Online TA</td>\n",
              "      <td>TA/TO</td>\n",
              "      <td>0</td>\n",
              "      <td>No Deposit</td>\n",
              "      <td>9.0</td>\n",
              "      <td>NaN</td>\n",
              "      <td>Transient</td>\n",
              "      <td>Check-Out</td>\n",
              "      <td>August</td>\n",
              "    </tr>\n",
              "  </tbody>\n",
              "</table>\n",
              "<p>119390 rows × 13 columns</p>\n",
              "</div>"
            ],
            "text/plain": [
              "               hotel  is_canceled meal country market_segment distribution_channel  is_repeated_guest deposit_type  agent  company customer_type reservation_status arrival_date_month\n",
              "0       Resort Hotel            0   BB     PRT         Direct               Direct                  0   No Deposit    NaN      NaN     Transient          Check-Out               July\n",
              "1       Resort Hotel            0   BB     PRT         Direct               Direct                  0   No Deposit    NaN      NaN     Transient          Check-Out               July\n",
              "2       Resort Hotel            0   BB     GBR         Direct               Direct                  0   No Deposit    NaN      NaN     Transient          Check-Out               July\n",
              "3       Resort Hotel            0   BB     GBR      Corporate            Corporate                  0   No Deposit  304.0      NaN     Transient          Check-Out               July\n",
              "4       Resort Hotel            0   BB     GBR      Online TA                TA/TO                  0   No Deposit  240.0      NaN     Transient          Check-Out               July\n",
              "...              ...          ...  ...     ...            ...                  ...                ...          ...    ...      ...           ...                ...                ...\n",
              "119385    City Hotel            0   BB     BEL  Offline TA/TO                TA/TO                  0   No Deposit  394.0      NaN     Transient          Check-Out             August\n",
              "119386    City Hotel            0   BB     FRA      Online TA                TA/TO                  0   No Deposit    9.0      NaN     Transient          Check-Out             August\n",
              "119387    City Hotel            0   BB     DEU      Online TA                TA/TO                  0   No Deposit    9.0      NaN     Transient          Check-Out             August\n",
              "119388    City Hotel            0   BB     GBR      Online TA                TA/TO                  0   No Deposit   89.0      NaN     Transient          Check-Out             August\n",
              "119389    City Hotel            0   HB     DEU      Online TA                TA/TO                  0   No Deposit    9.0      NaN     Transient          Check-Out             August\n",
              "\n",
              "[119390 rows x 13 columns]"
            ]
          },
          "metadata": {
            "tags": []
          },
          "execution_count": 26
        }
      ]
    },
    {
      "cell_type": "markdown",
      "metadata": {
        "id": "t-DNINyvgFFY",
        "colab_type": "text"
      },
      "source": [
        "Campos:\n",
        "\n",
        "*   **hotel**: tipo de hotel (si es Resort o es City)\n",
        "*   **is_cancelled**: variable que toma 1 cuando la reserva fue cancelada\n",
        "*   **meal**: tipo de reserva elegida. FB (Full Board), HB (Half Board), SC (self-catering), BB (Bed & Breakfast). Esta variable toma valores indefinidos.\n",
        "*   **country**: siglas del país de origen de quienes reservan.\n",
        "*   **market_segment**: segmento de mercado.\n",
        "*   **distribution_channel**: canal de distribución.\n",
        "*   **is_repeated_guest**: variable que toma uno cuando se trata de una reserva repetida.\n",
        "*   **deposit_type**: tipo de depósito, según su condición de reembolsable o no.\n",
        "*   **agent**: código del agente responsable de la reserva.\n",
        "*   **company**: código de la empresa responsable de la reserva.\n",
        "*   **customer_type**: tipo de consumidor.\n",
        "*   **customer_type**: estado actual de la reserva.\n"
      ]
    },
    {
      "cell_type": "code",
      "metadata": {
        "id": "POHjM4pjgpfu",
        "colab_type": "code",
        "colab": {
          "base_uri": "https://localhost:8080/",
          "height": 263
        },
        "outputId": "402db381-adc9-4f83-afa5-9391ae48c9c7"
      },
      "source": [
        "pd.set_option('display.max_rows', 1000)\n",
        "\n",
        "for i in range(len(df_categoricas.columns)):\n",
        "  print(df_categoricas[df_categoricas.columns[i]].value_counts())"
      ],
      "execution_count": 55,
      "outputs": [
        {
          "output_type": "display_data",
          "data": {
            "image/png": "[encoded data removed]",
            "text/plain": [
              "<Figure size 432x288 with 1 Axes>"
            ]
          },
          "metadata": {
            "tags": [],
            "needs_background": "light"
          }
        }
      ]
    },
    {
      "cell_type": "code",
      "metadata": {
        "id": "TM9vEbd_DYhQ",
        "colab_type": "code",
        "colab": {
          "base_uri": "https://localhost:8080/",
          "height": 1000
        },
        "outputId": "69203d56-0c80-4d1c-859e-c899e0e46289"
      },
      "source": [
        "import matplotlib.pyplot as plt\n",
        "\n",
        "\n",
        "for i in range(len(df_categoricas.columns)): \n",
        "  a = df_categoricas[df_categoricas.columns[i]]\n",
        "  plt.figure()\n",
        "  pd.value_counts(a).plot(kind=\"bar\")\n",
        "  plt.show()"
      ],
      "execution_count": 58,
      "outputs": [
        {
          "output_type": "display_data",
          "data": {
            "image/png": "[encoded data removed]",
            "text/plain": [
              "<Figure size 432x288 with 1 Axes>"
            ]
          },
          "metadata": {
            "tags": [],
            "needs_background": "light"
          }
        },
        {
          "output_type": "display_data",
          "data": {
            "image/png": "[encoded data removed]",
            "text/plain": [
              "<Figure size 432x288 with 1 Axes>"
            ]
          },
          "metadata": {
            "tags": [],
            "needs_background": "light"
          }
        },
        {
          "output_type": "display_data",
          "data": {
            "image/png": "[encoded data removed]",
            "text/plain": [
              "<Figure size 432x288 with 1 Axes>"
            ]
          },
          "metadata": {
            "tags": [],
            "needs_background": "light"
          }
        },
        {
          "output_type": "display_data",
          "data": {
            "image/png": "[encoded data removed]",
            "text/plain": [
              "<Figure size 432x288 with 1 Axes>"
            ]
          },
          "metadata": {
            "tags": [],
            "needs_background": "light"
          }
        },
        {
          "output_type": "display_data",
          "data": {
            "image/png": "[encoded data removed]",
            "text/plain": [
              "<Figure size 432x288 with 1 Axes>"
            ]
          },
          "metadata": {
            "tags": [],
            "needs_background": "light"
          }
        },
        {
          "output_type": "display_data",
          "data": {
            "image/png": "[encoded data removed]",
            "text/plain": [
              "<Figure size 432x288 with 1 Axes>"
            ]
          },
          "metadata": {
            "tags": [],
            "needs_background": "light"
          }
        },
        {
          "output_type": "display_data",
          "data": {
            "image/png": "[encoded data removed]",
            "text/plain": [
              "<Figure size 432x288 with 1 Axes>"
            ]
          },
          "metadata": {
            "tags": [],
            "needs_background": "light"
          }
        },
        {
          "output_type": "display_data",
          "data": {
            "image/png": "[encoded data removed]",
            "text/plain": [
              "<Figure size 432x288 with 1 Axes>"
            ]
          },
          "metadata": {
            "tags": [],
            "needs_background": "light"
          }
        },
        {
          "output_type": "display_data",
          "data": {
            "image/png": "[encoded data removed]",
            "text/plain": [
              "<Figure size 432x288 with 1 Axes>"
            ]
          },
          "metadata": {
            "tags": [],
            "needs_background": "light"
          }
        },
        {
          "output_type": "display_data",
          "data": {
            "image/png": "[encoded data removed]",
            "text/plain": [
              "<Figure size 432x288 with 1 Axes>"
            ]
          },
          "metadata": {
            "tags": [],
            "needs_background": "light"
          }
        },
        {
          "output_type": "display_data",
          "data": {
            "image/png": "[encoded data removed]",
            "text/plain": [
              "<Figure size 432x288 with 1 Axes>"
            ]
          },
          "metadata": {
            "tags": [],
            "needs_background": "light"
          }
        },
        {
          "output_type": "display_data",
          "data": {
            "image/png": "[encoded data removed]",
            "text/plain": [
              "<Figure size 432x288 with 1 Axes>"
            ]
          },
          "metadata": {
            "tags": [],
            "needs_background": "light"
          }
        },
        {
          "output_type": "display_data",
          "data": {
            "image/png": "[encoded data removed]",
            "text/plain": [
              "<Figure size 432x288 with 1 Axes>"
            ]
          },
          "metadata": {
            "tags": [],
            "needs_background": "light"
          }
        },
        {
          "output_type": "display_data",
          "data": {
            "image/png": "[encoded data removed]",
            "text/plain": [
              "<Figure size 432x288 with 1 Axes>"
            ]
          },
          "metadata": {
            "tags": [],
            "needs_background": "light"
          }
        },
        {
          "output_type": "display_data",
          "data": {
            "image/png": "[encoded data removed]",
            "text/plain": [
              "<Figure size 432x288 with 1 Axes>"
            ]
          },
          "metadata": {
            "tags": [],
            "needs_background": "light"
          }
        }
      ]
    },
    {
      "cell_type": "markdown",
      "metadata": {
        "id": "BAYNV90EhfSC",
        "colab_type": "text"
      },
      "source": [
        "### a.ii. Campos numéricos\n",
        "Pertenecen a este grupo los campos numéricos continuos, cuyo valor represente una magnitud y no una categoría. En los casos "
      ]
    },
    {
      "cell_type": "code",
      "metadata": {
        "id": "4rG8kGX1hqPP",
        "colab_type": "code",
        "colab": {
          "base_uri": "https://localhost:8080/",
          "height": 426
        },
        "outputId": "4951187a-c6ec-4898-c45d-94bfd330b860"
      },
      "source": [
        "columnas_numericas = [\n",
        "    'lead_time',  \n",
        "    'arrival_date_week_number', \n",
        "    'stays_in_weekend_nights', \n",
        "    'stays_in_weekend_nights', \n",
        "    'adults', \n",
        "    'children', \n",
        "    'babies', \n",
        "    'previous_cancellations', \n",
        "    'previous_bookings_not_canceled', \n",
        "    'booking_changes', \n",
        "    'days_in_waiting_list', \n",
        "    'adr', \n",
        "    'required_car_parking_spaces', \n",
        "    'total_of_special_requests'                      \n",
        "]\n",
        "df_numericas = bookings_df[columnas_numericas]\n",
        "df_numericas"
      ],
      "execution_count": 28,
      "outputs": [
        {
          "output_type": "execute_result",
          "data": {
            "text/html": [
              "<div>\n",
              "<style scoped>\n",
              "    .dataframe tbody tr th:only-of-type {\n",
              "        vertical-align: middle;\n",
              "    }\n",
              "\n",
              "    .dataframe tbody tr th {\n",
              "        vertical-align: top;\n",
              "    }\n",
              "\n",
              "    .dataframe thead th {\n",
              "        text-align: right;\n",
              "    }\n",
              "</style>\n",
              "<table border=\"1\" class=\"dataframe\">\n",
              "  <thead>\n",
              "    <tr style=\"text-align: right;\">\n",
              "      <th></th>\n",
              "      <th>lead_time</th>\n",
              "      <th>arrival_date_week_number</th>\n",
              "      <th>stays_in_weekend_nights</th>\n",
              "      <th>stays_in_weekend_nights</th>\n",
              "      <th>adults</th>\n",
              "      <th>children</th>\n",
              "      <th>babies</th>\n",
              "      <th>previous_cancellations</th>\n",
              "      <th>previous_bookings_not_canceled</th>\n",
              "      <th>booking_changes</th>\n",
              "      <th>days_in_waiting_list</th>\n",
              "      <th>adr</th>\n",
              "      <th>required_car_parking_spaces</th>\n",
              "      <th>total_of_special_requests</th>\n",
              "    </tr>\n",
              "  </thead>\n",
              "  <tbody>\n",
              "    <tr>\n",
              "      <th>0</th>\n",
              "      <td>342</td>\n",
              "      <td>27</td>\n",
              "      <td>0</td>\n",
              "      <td>0</td>\n",
              "      <td>2</td>\n",
              "      <td>0.0</td>\n",
              "      <td>0</td>\n",
              "      <td>0</td>\n",
              "      <td>0</td>\n",
              "      <td>3</td>\n",
              "      <td>0</td>\n",
              "      <td>0.00</td>\n",
              "      <td>0</td>\n",
              "      <td>0</td>\n",
              "    </tr>\n",
              "    <tr>\n",
              "      <th>1</th>\n",
              "      <td>737</td>\n",
              "      <td>27</td>\n",
              "      <td>0</td>\n",
              "      <td>0</td>\n",
              "      <td>2</td>\n",
              "      <td>0.0</td>\n",
              "      <td>0</td>\n",
              "      <td>0</td>\n",
              "      <td>0</td>\n",
              "      <td>4</td>\n",
              "      <td>0</td>\n",
              "      <td>0.00</td>\n",
              "      <td>0</td>\n",
              "      <td>0</td>\n",
              "    </tr>\n",
              "    <tr>\n",
              "      <th>2</th>\n",
              "      <td>7</td>\n",
              "      <td>27</td>\n",
              "      <td>0</td>\n",
              "      <td>0</td>\n",
              "      <td>1</td>\n",
              "      <td>0.0</td>\n",
              "      <td>0</td>\n",
              "      <td>0</td>\n",
              "      <td>0</td>\n",
              "      <td>0</td>\n",
              "      <td>0</td>\n",
              "      <td>75.00</td>\n",
              "      <td>0</td>\n",
              "      <td>0</td>\n",
              "    </tr>\n",
              "    <tr>\n",
              "      <th>3</th>\n",
              "      <td>13</td>\n",
              "      <td>27</td>\n",
              "      <td>0</td>\n",
              "      <td>0</td>\n",
              "      <td>1</td>\n",
              "      <td>0.0</td>\n",
              "      <td>0</td>\n",
              "      <td>0</td>\n",
              "      <td>0</td>\n",
              "      <td>0</td>\n",
              "      <td>0</td>\n",
              "      <td>75.00</td>\n",
              "      <td>0</td>\n",
              "      <td>0</td>\n",
              "    </tr>\n",
              "    <tr>\n",
              "      <th>4</th>\n",
              "      <td>14</td>\n",
              "      <td>27</td>\n",
              "      <td>0</td>\n",
              "      <td>0</td>\n",
              "      <td>2</td>\n",
              "      <td>0.0</td>\n",
              "      <td>0</td>\n",
              "      <td>0</td>\n",
              "      <td>0</td>\n",
              "      <td>0</td>\n",
              "      <td>0</td>\n",
              "      <td>98.00</td>\n",
              "      <td>0</td>\n",
              "      <td>1</td>\n",
              "    </tr>\n",
              "    <tr>\n",
              "      <th>...</th>\n",
              "      <td>...</td>\n",
              "      <td>...</td>\n",
              "      <td>...</td>\n",
              "      <td>...</td>\n",
              "      <td>...</td>\n",
              "      <td>...</td>\n",
              "      <td>...</td>\n",
              "      <td>...</td>\n",
              "      <td>...</td>\n",
              "      <td>...</td>\n",
              "      <td>...</td>\n",
              "      <td>...</td>\n",
              "      <td>...</td>\n",
              "      <td>...</td>\n",
              "    </tr>\n",
              "    <tr>\n",
              "      <th>119385</th>\n",
              "      <td>23</td>\n",
              "      <td>35</td>\n",
              "      <td>2</td>\n",
              "      <td>2</td>\n",
              "      <td>2</td>\n",
              "      <td>0.0</td>\n",
              "      <td>0</td>\n",
              "      <td>0</td>\n",
              "      <td>0</td>\n",
              "      <td>0</td>\n",
              "      <td>0</td>\n",
              "      <td>96.14</td>\n",
              "      <td>0</td>\n",
              "      <td>0</td>\n",
              "    </tr>\n",
              "    <tr>\n",
              "      <th>119386</th>\n",
              "      <td>102</td>\n",
              "      <td>35</td>\n",
              "      <td>2</td>\n",
              "      <td>2</td>\n",
              "      <td>3</td>\n",
              "      <td>0.0</td>\n",
              "      <td>0</td>\n",
              "      <td>0</td>\n",
              "      <td>0</td>\n",
              "      <td>0</td>\n",
              "      <td>0</td>\n",
              "      <td>225.43</td>\n",
              "      <td>0</td>\n",
              "      <td>2</td>\n",
              "    </tr>\n",
              "    <tr>\n",
              "      <th>119387</th>\n",
              "      <td>34</td>\n",
              "      <td>35</td>\n",
              "      <td>2</td>\n",
              "      <td>2</td>\n",
              "      <td>2</td>\n",
              "      <td>0.0</td>\n",
              "      <td>0</td>\n",
              "      <td>0</td>\n",
              "      <td>0</td>\n",
              "      <td>0</td>\n",
              "      <td>0</td>\n",
              "      <td>157.71</td>\n",
              "      <td>0</td>\n",
              "      <td>4</td>\n",
              "    </tr>\n",
              "    <tr>\n",
              "      <th>119388</th>\n",
              "      <td>109</td>\n",
              "      <td>35</td>\n",
              "      <td>2</td>\n",
              "      <td>2</td>\n",
              "      <td>2</td>\n",
              "      <td>0.0</td>\n",
              "      <td>0</td>\n",
              "      <td>0</td>\n",
              "      <td>0</td>\n",
              "      <td>0</td>\n",
              "      <td>0</td>\n",
              "      <td>104.40</td>\n",
              "      <td>0</td>\n",
              "      <td>0</td>\n",
              "    </tr>\n",
              "    <tr>\n",
              "      <th>119389</th>\n",
              "      <td>205</td>\n",
              "      <td>35</td>\n",
              "      <td>2</td>\n",
              "      <td>2</td>\n",
              "      <td>2</td>\n",
              "      <td>0.0</td>\n",
              "      <td>0</td>\n",
              "      <td>0</td>\n",
              "      <td>0</td>\n",
              "      <td>0</td>\n",
              "      <td>0</td>\n",
              "      <td>151.20</td>\n",
              "      <td>0</td>\n",
              "      <td>2</td>\n",
              "    </tr>\n",
              "  </tbody>\n",
              "</table>\n",
              "<p>119390 rows × 14 columns</p>\n",
              "</div>"
            ],
            "text/plain": [
              "        lead_time  arrival_date_week_number  stays_in_weekend_nights  stays_in_weekend_nights  adults  children  babies  previous_cancellations  previous_bookings_not_canceled  booking_changes  days_in_waiting_list     adr  required_car_parking_spaces  total_of_special_requests\n",
              "0             342                        27                        0                        0       2       0.0       0                       0                               0                3                     0    0.00                            0                          0\n",
              "1             737                        27                        0                        0       2       0.0       0                       0                               0                4                     0    0.00                            0                          0\n",
              "2               7                        27                        0                        0       1       0.0       0                       0                               0                0                     0   75.00                            0                          0\n",
              "3              13                        27                        0                        0       1       0.0       0                       0                               0                0                     0   75.00                            0                          0\n",
              "4              14                        27                        0                        0       2       0.0       0                       0                               0                0                     0   98.00                            0                          1\n",
              "...           ...                       ...                      ...                      ...     ...       ...     ...                     ...                             ...              ...                   ...     ...                          ...                        ...\n",
              "119385         23                        35                        2                        2       2       0.0       0                       0                               0                0                     0   96.14                            0                          0\n",
              "119386        102                        35                        2                        2       3       0.0       0                       0                               0                0                     0  225.43                            0                          2\n",
              "119387         34                        35                        2                        2       2       0.0       0                       0                               0                0                     0  157.71                            0                          4\n",
              "119388        109                        35                        2                        2       2       0.0       0                       0                               0                0                     0  104.40                            0                          0\n",
              "119389        205                        35                        2                        2       2       0.0       0                       0                               0                0                     0  151.20                            0                          2\n",
              "\n",
              "[119390 rows x 14 columns]"
            ]
          },
          "metadata": {
            "tags": []
          },
          "execution_count": 28
        }
      ]
    },
    {
      "cell_type": "markdown",
      "metadata": {
        "id": "PyLMhhW_iZWa",
        "colab_type": "text"
      },
      "source": [
        "Campos:\n",
        "\n",
        "*   **lead_time**: tiempo de espera desde la emisión hasta la confirmación de la orden.\n",
        "*   **arrival_date_week_number**: semana del año en la que llegarán al hotel.\n",
        "*   **stays_in_weekend_nights**: número de noches de fin de semana que se pasarán en el hotel.\n",
        "*   **stays_in_week_nights**: número de noches de semana que se pasarán en el hotel.\n",
        "*   **adults**: número de adultos que conforman la reserva.\n",
        "*   **children**: número de niños que conforman la reserva.\n",
        "*   **babies**: número de bebés que conforman la reserva.\n",
        "*   **previous_cancellations**: número de reservas previas que fueron canceladas.\n",
        "*   **previous_bookings_not_canceled**: número de reservas previas que no fueron canceladas.\n",
        "*   **booking_changes**: número de cambios en la reserva.\n",
        "*   **days_in_waiting_list**: número de días en lista de espera.\n",
        "*   **adr**: tarifa media diaria.\n",
        "*   **required_car_parking_spaces**: número de espacios para estacionar requeridos.\n",
        "*   **total_of_special_requests**: total de pedidos especiales."
      ]
    },
    {
      "cell_type": "markdown",
      "metadata": {
        "id": "6OC6z4ybijJI",
        "colab_type": "text"
      },
      "source": [
        "### ai.iii. Campos ordinales\n",
        "Pertenecen a este grupo las variables numéricas o no que son categorías (no pueden tomar cualquier valor) pero de las que es posible establecer un orden."
      ]
    },
    {
      "cell_type": "code",
      "metadata": {
        "id": "51jIG3Ptit5_",
        "colab_type": "code",
        "colab": {
          "base_uri": "https://localhost:8080/",
          "height": 406
        },
        "outputId": "e5ad183d-4ea5-4287-db29-cd3f826a4ad6"
      },
      "source": [
        "columnas_ordinales = [\n",
        "       'reserved_room_type', \n",
        "       'assigned_room_type'               \n",
        "]\n",
        "df_ordinales = bookings_df[columnas_ordinales]\n",
        "df_ordinales"
      ],
      "execution_count": 29,
      "outputs": [
        {
          "output_type": "execute_result",
          "data": {
            "text/html": [
              "<div>\n",
              "<style scoped>\n",
              "    .dataframe tbody tr th:only-of-type {\n",
              "        vertical-align: middle;\n",
              "    }\n",
              "\n",
              "    .dataframe tbody tr th {\n",
              "        vertical-align: top;\n",
              "    }\n",
              "\n",
              "    .dataframe thead th {\n",
              "        text-align: right;\n",
              "    }\n",
              "</style>\n",
              "<table border=\"1\" class=\"dataframe\">\n",
              "  <thead>\n",
              "    <tr style=\"text-align: right;\">\n",
              "      <th></th>\n",
              "      <th>reserved_room_type</th>\n",
              "      <th>assigned_room_type</th>\n",
              "    </tr>\n",
              "  </thead>\n",
              "  <tbody>\n",
              "    <tr>\n",
              "      <th>0</th>\n",
              "      <td>C</td>\n",
              "      <td>C</td>\n",
              "    </tr>\n",
              "    <tr>\n",
              "      <th>1</th>\n",
              "      <td>C</td>\n",
              "      <td>C</td>\n",
              "    </tr>\n",
              "    <tr>\n",
              "      <th>2</th>\n",
              "      <td>A</td>\n",
              "      <td>C</td>\n",
              "    </tr>\n",
              "    <tr>\n",
              "      <th>3</th>\n",
              "      <td>A</td>\n",
              "      <td>A</td>\n",
              "    </tr>\n",
              "    <tr>\n",
              "      <th>4</th>\n",
              "      <td>A</td>\n",
              "      <td>A</td>\n",
              "    </tr>\n",
              "    <tr>\n",
              "      <th>...</th>\n",
              "      <td>...</td>\n",
              "      <td>...</td>\n",
              "    </tr>\n",
              "    <tr>\n",
              "      <th>119385</th>\n",
              "      <td>A</td>\n",
              "      <td>A</td>\n",
              "    </tr>\n",
              "    <tr>\n",
              "      <th>119386</th>\n",
              "      <td>E</td>\n",
              "      <td>E</td>\n",
              "    </tr>\n",
              "    <tr>\n",
              "      <th>119387</th>\n",
              "      <td>D</td>\n",
              "      <td>D</td>\n",
              "    </tr>\n",
              "    <tr>\n",
              "      <th>119388</th>\n",
              "      <td>A</td>\n",
              "      <td>A</td>\n",
              "    </tr>\n",
              "    <tr>\n",
              "      <th>119389</th>\n",
              "      <td>A</td>\n",
              "      <td>A</td>\n",
              "    </tr>\n",
              "  </tbody>\n",
              "</table>\n",
              "<p>119390 rows × 2 columns</p>\n",
              "</div>"
            ],
            "text/plain": [
              "       reserved_room_type assigned_room_type\n",
              "0                       C                  C\n",
              "1                       C                  C\n",
              "2                       A                  C\n",
              "3                       A                  A\n",
              "4                       A                  A\n",
              "...                   ...                ...\n",
              "119385                  A                  A\n",
              "119386                  E                  E\n",
              "119387                  D                  D\n",
              "119388                  A                  A\n",
              "119389                  A                  A\n",
              "\n",
              "[119390 rows x 2 columns]"
            ]
          },
          "metadata": {
            "tags": []
          },
          "execution_count": 29
        }
      ]
    },
    {
      "cell_type": "markdown",
      "metadata": {
        "id": "okyfI5cUi_Bg",
        "colab_type": "text"
      },
      "source": [
        "Campos:\n",
        "\n",
        "*   **reserved_room_type**: tipo de habitación reservada.\n",
        "*   **assigned_room_type**: tipo de habitación asignada."
      ]
    },
    {
      "cell_type": "code",
      "metadata": {
        "id": "q8yxWDdVi_tk",
        "colab_type": "code",
        "colab": {
          "base_uri": "https://localhost:8080/",
          "height": 425
        },
        "outputId": "ac3009c9-1256-470a-cafa-211feb62cdda"
      },
      "source": [
        "ordinales = df_ordinales.apply(lambda x: x.value_counts()).T.stack()\n",
        "ordinales"
      ],
      "execution_count": 30,
      "outputs": [
        {
          "output_type": "execute_result",
          "data": {
            "text/plain": [
              "reserved_room_type  A    85994.0\n",
              "                    B     1118.0\n",
              "                    C      932.0\n",
              "                    D    19201.0\n",
              "                    E     6535.0\n",
              "                    F     2897.0\n",
              "                    G     2094.0\n",
              "                    H      601.0\n",
              "                    L        6.0\n",
              "                    P       12.0\n",
              "assigned_room_type  A    74053.0\n",
              "                    B     2163.0\n",
              "                    C     2375.0\n",
              "                    D    25322.0\n",
              "                    E     7806.0\n",
              "                    F     3751.0\n",
              "                    G     2553.0\n",
              "                    H      712.0\n",
              "                    I      363.0\n",
              "                    K      279.0\n",
              "                    L        1.0\n",
              "                    P       12.0\n",
              "dtype: float64"
            ]
          },
          "metadata": {
            "tags": []
          },
          "execution_count": 30
        }
      ]
    },
    {
      "cell_type": "markdown",
      "metadata": {
        "id": "FKRCxlDKT9Fd",
        "colab_type": "text"
      },
      "source": [
        "### ai.iii. Campos fecha/hora\n",
        "\n",
        "Estos campos son aquellos que hacen referencia a fechas y horas. Algunos estan expresados en varias columnas(variables categóricas y numéricas) y en formato ISO (arrival/check-in).\n",
        "\n",
        "En cambio el dato reservatin_status_date (ultima fecha de cambio de status de una reserva) está expresado como una fecha Gregoriana.\n",
        "\n",
        "Veremos de normalizar estos campos para luego permitirnos hacer un análisis mas profundo."
      ]
    },
    {
      "cell_type": "code",
      "metadata": {
        "id": "DDtv2-oJad77",
        "colab_type": "code",
        "colab": {}
      },
      "source": [
        "from datetime import date, datetime\n",
        "\n",
        "def get_month_number(month):\n",
        "  if month == \"January\":\n",
        "    return 1\n",
        "  elif month == \"February\":\n",
        "    return 2   \n",
        "  elif month == \"March\":\n",
        "    return 3   \n",
        "  elif month == \"April\":\n",
        "    return 4   \n",
        "  elif month == \"May\":\n",
        "    return 5   \n",
        "  elif month == \"June\":\n",
        "    return 6   \n",
        "  elif month == \"July\":\n",
        "    return 7   \n",
        "  elif month == \"August\":\n",
        "    return 8   \n",
        "  elif month == \"September\":\n",
        "    return 9   \n",
        "  elif month == \"October\":\n",
        "    return 10\n",
        "  elif month == \"November\":\n",
        "    return 11   \n",
        "  elif month == \"December\":\n",
        "    return 12\n",
        "  else:\n",
        "    return 0     \n",
        "\n",
        "def checkin(year, month_str, day):\n",
        "  month = get_month_number(month_str)\n",
        "  return date(year, month, day)"
      ],
      "execution_count": 0,
      "outputs": []
    },
    {
      "cell_type": "code",
      "metadata": {
        "id": "NOt2nKqIUEww",
        "colab_type": "code",
        "colab": {
          "base_uri": "https://localhost:8080/",
          "height": 123
        },
        "outputId": "f0040c45-abd2-4f2d-8400-0a6def860042"
      },
      "source": [
        "columnas_fecha_hora = [\n",
        "  'arrival_date_month', \n",
        "  'arrival_date_year',\n",
        "  'arrival_date_day_of_month',   \n",
        "  'reservation_status_date'               \n",
        "]\n",
        "df_fecha_hora = bookings_df[columnas_fecha_hora]\n",
        "df_fecha_hora['checkin_date'] = df_fecha_hora.apply(\n",
        "    lambda x: checkin(x['arrival_date_year'], x['arrival_date_month'], x['arrival_date_day_of_month']),\n",
        "    axis=1\n",
        ")"
      ],
      "execution_count": 32,
      "outputs": [
        {
          "output_type": "stream",
          "text": [
            "/usr/local/lib/python3.6/dist-packages/ipykernel_launcher.py:10: SettingWithCopyWarning: \n",
            "A value is trying to be set on a copy of a slice from a DataFrame.\n",
            "Try using .loc[row_indexer,col_indexer] = value instead\n",
            "\n",
            "See the caveats in the documentation: https://pandas.pydata.org/pandas-docs/stable/user_guide/indexing.html#returning-a-view-versus-a-copy\n",
            "  # Remove the CWD from sys.path while we load stuff.\n"
          ],
          "name": "stderr"
        }
      ]
    },
    {
      "cell_type": "markdown",
      "metadata": {
        "id": "bJGdA_UFUle9",
        "colab_type": "text"
      },
      "source": [
        "Campos:\n",
        "\n",
        "*   **arrival_date_day_of_month**: día del mes en el que llegarán al hotel.\n",
        "*   **arrival_date_year**: año de arribo al hotel.\n",
        "*   **arrival_date_month**: mes de arribo al hotel.\n",
        "*   **reservation_status_date**: fecha de ultimo status de la reserva."
      ]
    },
    {
      "cell_type": "markdown",
      "metadata": {
        "id": "045DUtyKjNGe",
        "colab_type": "text"
      },
      "source": [
        "## b. Valores faltantes"
      ]
    },
    {
      "cell_type": "code",
      "metadata": {
        "id": "N5CO3gGxjRn3",
        "colab_type": "code",
        "colab": {
          "base_uri": "https://localhost:8080/",
          "height": 603
        },
        "outputId": "8e22ff92-86f2-4216-b7bd-2621339a2286"
      },
      "source": [
        "bookings_df.isnull().sum()"
      ],
      "execution_count": 33,
      "outputs": [
        {
          "output_type": "execute_result",
          "data": {
            "text/plain": [
              "hotel                                  0\n",
              "is_canceled                            0\n",
              "lead_time                              0\n",
              "arrival_date_year                      0\n",
              "arrival_date_month                     0\n",
              "arrival_date_week_number               0\n",
              "arrival_date_day_of_month              0\n",
              "stays_in_weekend_nights                0\n",
              "stays_in_week_nights                   0\n",
              "adults                                 0\n",
              "children                               4\n",
              "babies                                 0\n",
              "meal                                   0\n",
              "country                              488\n",
              "market_segment                         0\n",
              "distribution_channel                   0\n",
              "is_repeated_guest                      0\n",
              "previous_cancellations                 0\n",
              "previous_bookings_not_canceled         0\n",
              "reserved_room_type                     0\n",
              "assigned_room_type                     0\n",
              "booking_changes                        0\n",
              "deposit_type                           0\n",
              "agent                              16340\n",
              "company                           112593\n",
              "days_in_waiting_list                   0\n",
              "customer_type                          0\n",
              "adr                                    0\n",
              "required_car_parking_spaces            0\n",
              "total_of_special_requests              0\n",
              "reservation_status                     0\n",
              "reservation_status_date                0\n",
              "dtype: int64"
            ]
          },
          "metadata": {
            "tags": []
          },
          "execution_count": 33
        }
      ]
    },
    {
      "cell_type": "markdown",
      "metadata": {
        "id": "sWEitV_GjSsw",
        "colab_type": "text"
      },
      "source": [
        "Contamos con faltantes en los siguientes atributos:\n",
        "* children: Son muy pocos casos, 4. \n",
        "* country: Pocos casos sería posible con alguna medida de cercanía.\n",
        "* agent: Relativamente grande número de faltantes, 15%.\n",
        "* company: Número demasiado grande de faltantes, aprox 90%.\n",
        "\n",
        "Es posible imputar el valor más común del atributo, el más común de la clasificación o asignar una probabilidad en base a las frecuencias observadas(este último no lo encuentro muy aplicable).\n",
        "\n",
        "##### Estrategias relleno\n",
        "* children: valor más común. \n",
        "* country: asignar valor por fuera del rango conocido (ejemplo: 'XXX').\n",
        "* agent: asignar valor por fuera del rango conocido.\n",
        "* company: utilizar una máscara que determine presencia del campo.\n"
      ]
    },
    {
      "cell_type": "markdown",
      "metadata": {
        "id": "QIFHpByt8tOq",
        "colab_type": "text"
      },
      "source": [
        "##### Aplico estrategias\n",
        "Analizo las modas de los atributos"
      ]
    },
    {
      "cell_type": "code",
      "metadata": {
        "id": "7WxukVx48Ut4",
        "colab_type": "code",
        "colab": {
          "base_uri": "https://localhost:8080/",
          "height": 114
        },
        "outputId": "973e2f96-22a4-440a-f24f-77da92e598aa"
      },
      "source": [
        "bookings_df.mode()"
      ],
      "execution_count": 34,
      "outputs": [
        {
          "output_type": "execute_result",
          "data": {
            "text/html": [
              "<div>\n",
              "<style scoped>\n",
              "    .dataframe tbody tr th:only-of-type {\n",
              "        vertical-align: middle;\n",
              "    }\n",
              "\n",
              "    .dataframe tbody tr th {\n",
              "        vertical-align: top;\n",
              "    }\n",
              "\n",
              "    .dataframe thead th {\n",
              "        text-align: right;\n",
              "    }\n",
              "</style>\n",
              "<table border=\"1\" class=\"dataframe\">\n",
              "  <thead>\n",
              "    <tr style=\"text-align: right;\">\n",
              "      <th></th>\n",
              "      <th>hotel</th>\n",
              "      <th>is_canceled</th>\n",
              "      <th>lead_time</th>\n",
              "      <th>arrival_date_year</th>\n",
              "      <th>arrival_date_month</th>\n",
              "      <th>arrival_date_week_number</th>\n",
              "      <th>arrival_date_day_of_month</th>\n",
              "      <th>stays_in_weekend_nights</th>\n",
              "      <th>stays_in_week_nights</th>\n",
              "      <th>adults</th>\n",
              "      <th>children</th>\n",
              "      <th>babies</th>\n",
              "      <th>meal</th>\n",
              "      <th>country</th>\n",
              "      <th>market_segment</th>\n",
              "      <th>distribution_channel</th>\n",
              "      <th>is_repeated_guest</th>\n",
              "      <th>previous_cancellations</th>\n",
              "      <th>previous_bookings_not_canceled</th>\n",
              "      <th>reserved_room_type</th>\n",
              "      <th>assigned_room_type</th>\n",
              "      <th>booking_changes</th>\n",
              "      <th>deposit_type</th>\n",
              "      <th>agent</th>\n",
              "      <th>company</th>\n",
              "      <th>days_in_waiting_list</th>\n",
              "      <th>customer_type</th>\n",
              "      <th>adr</th>\n",
              "      <th>required_car_parking_spaces</th>\n",
              "      <th>total_of_special_requests</th>\n",
              "      <th>reservation_status</th>\n",
              "      <th>reservation_status_date</th>\n",
              "    </tr>\n",
              "  </thead>\n",
              "  <tbody>\n",
              "    <tr>\n",
              "      <th>0</th>\n",
              "      <td>City Hotel</td>\n",
              "      <td>0</td>\n",
              "      <td>0</td>\n",
              "      <td>2016</td>\n",
              "      <td>August</td>\n",
              "      <td>33</td>\n",
              "      <td>17</td>\n",
              "      <td>0</td>\n",
              "      <td>2</td>\n",
              "      <td>2</td>\n",
              "      <td>0.0</td>\n",
              "      <td>0</td>\n",
              "      <td>BB</td>\n",
              "      <td>PRT</td>\n",
              "      <td>Online TA</td>\n",
              "      <td>TA/TO</td>\n",
              "      <td>0</td>\n",
              "      <td>0</td>\n",
              "      <td>0</td>\n",
              "      <td>A</td>\n",
              "      <td>A</td>\n",
              "      <td>0</td>\n",
              "      <td>No Deposit</td>\n",
              "      <td>9.0</td>\n",
              "      <td>40.0</td>\n",
              "      <td>0</td>\n",
              "      <td>Transient</td>\n",
              "      <td>62.0</td>\n",
              "      <td>0</td>\n",
              "      <td>0</td>\n",
              "      <td>Check-Out</td>\n",
              "      <td>2015-10-21</td>\n",
              "    </tr>\n",
              "  </tbody>\n",
              "</table>\n",
              "</div>"
            ],
            "text/plain": [
              "        hotel  is_canceled  lead_time  arrival_date_year arrival_date_month  arrival_date_week_number  arrival_date_day_of_month  stays_in_weekend_nights  stays_in_week_nights  adults  children  babies meal country market_segment distribution_channel  is_repeated_guest  previous_cancellations  previous_bookings_not_canceled reserved_room_type assigned_room_type  booking_changes deposit_type  agent  company  days_in_waiting_list customer_type   adr  required_car_parking_spaces  total_of_special_requests reservation_status reservation_status_date\n",
              "0  City Hotel            0          0               2016             August                        33                         17                        0                     2       2       0.0       0   BB     PRT      Online TA                TA/TO                  0                       0                               0                  A                  A                0   No Deposit    9.0     40.0                     0     Transient  62.0                            0                          0          Check-Out              2015-10-21"
            ]
          },
          "metadata": {
            "tags": []
          },
          "execution_count": 34
        }
      ]
    },
    {
      "cell_type": "code",
      "metadata": {
        "id": "kB6Nsr-w3LxX",
        "colab_type": "code",
        "colab": {
          "base_uri": "https://localhost:8080/",
          "height": 638
        },
        "outputId": "8b834da3-cde7-47db-b781-cb939c216d7a"
      },
      "source": [
        "bookings_df['children'].fillna(0.0, inplace = True)\n",
        "bookings_df['country'].fillna('XXX', inplace = True)\n",
        "bookings_df['has_agent'] = bookings_df['agent'].isnull()\n",
        "bookings_df['has_company'] = bookings_df['company'].isnull()\n",
        "\n",
        "bookings_df.isnull().sum()"
      ],
      "execution_count": 35,
      "outputs": [
        {
          "output_type": "execute_result",
          "data": {
            "text/plain": [
              "hotel                                  0\n",
              "is_canceled                            0\n",
              "lead_time                              0\n",
              "arrival_date_year                      0\n",
              "arrival_date_month                     0\n",
              "arrival_date_week_number               0\n",
              "arrival_date_day_of_month              0\n",
              "stays_in_weekend_nights                0\n",
              "stays_in_week_nights                   0\n",
              "adults                                 0\n",
              "children                               0\n",
              "babies                                 0\n",
              "meal                                   0\n",
              "country                                0\n",
              "market_segment                         0\n",
              "distribution_channel                   0\n",
              "is_repeated_guest                      0\n",
              "previous_cancellations                 0\n",
              "previous_bookings_not_canceled         0\n",
              "reserved_room_type                     0\n",
              "assigned_room_type                     0\n",
              "booking_changes                        0\n",
              "deposit_type                           0\n",
              "agent                              16340\n",
              "company                           112593\n",
              "days_in_waiting_list                   0\n",
              "customer_type                          0\n",
              "adr                                    0\n",
              "required_car_parking_spaces            0\n",
              "total_of_special_requests              0\n",
              "reservation_status                     0\n",
              "reservation_status_date                0\n",
              "has_agent                              0\n",
              "has_company                            0\n",
              "dtype: int64"
            ]
          },
          "metadata": {
            "tags": []
          },
          "execution_count": 35
        }
      ]
    },
    {
      "cell_type": "markdown",
      "metadata": {
        "id": "JDMRO3KUkNaB",
        "colab_type": "text"
      },
      "source": [
        "## c. Variables correlacionadas\n"
      ]
    },
    {
      "cell_type": "markdown",
      "metadata": {
        "id": "6kxZSILqqToV",
        "colab_type": "text"
      },
      "source": [
        "### c.i. Análisis general\n",
        "Iniciamos con un análisis general del dataframe"
      ]
    },
    {
      "cell_type": "code",
      "metadata": {
        "id": "jJFobHFhlR11",
        "colab_type": "code",
        "colab": {
          "base_uri": "https://localhost:8080/",
          "height": 425
        },
        "outputId": "307d0ad1-0d39-4a82-d330-334e3c503280"
      },
      "source": [
        "corr = bookings_df.corr()\n",
        "abs(corr.iloc[0,]).sort_values(ascending=False).head"
      ],
      "execution_count": 36,
      "outputs": [
        {
          "output_type": "execute_result",
          "data": {
            "text/plain": [
              "<bound method NDFrame.head of is_canceled                       1.000000\n",
              "lead_time                         0.293123\n",
              "total_of_special_requests         0.234658\n",
              "required_car_parking_spaces       0.195498\n",
              "booking_changes                   0.144381\n",
              "previous_cancellations            0.110133\n",
              "has_agent                         0.102068\n",
              "has_company                       0.099310\n",
              "is_repeated_guest                 0.084793\n",
              "agent                             0.083114\n",
              "adults                            0.060017\n",
              "previous_bookings_not_canceled    0.057358\n",
              "days_in_waiting_list              0.054186\n",
              "adr                               0.047557\n",
              "babies                            0.032491\n",
              "stays_in_week_nights              0.024765\n",
              "company                           0.020642\n",
              "arrival_date_year                 0.016660\n",
              "arrival_date_week_number          0.008148\n",
              "arrival_date_day_of_month         0.006130\n",
              "children                          0.005036\n",
              "stays_in_weekend_nights           0.001791\n",
              "Name: is_canceled, dtype: float64>"
            ]
          },
          "metadata": {
            "tags": []
          },
          "execution_count": 36
        }
      ]
    },
    {
      "cell_type": "markdown",
      "metadata": {
        "id": "bpqiOf6nlZmd",
        "colab_type": "text"
      },
      "source": [
        "Las cuatro variables más correlacionadas son:\n",
        "\n",
        "* **lead_time**                      0.293123\n",
        "* **total_of_special_requests**      0.234658\n",
        "* **required_car_parking_spaces**    0.195498\n",
        "* **booking_changes**                0.144381"
      ]
    },
    {
      "cell_type": "markdown",
      "metadata": {
        "id": "7T2WBLSkmF5Z",
        "colab_type": "text"
      },
      "source": [
        "### c.i. Cuantificación de Variables categóricas\n",
        "Luego probamos de hacer un análisis cuantificando las variables categóricas."
      ]
    },
    {
      "cell_type": "code",
      "metadata": {
        "id": "fmgz5H264HJz",
        "colab_type": "code",
        "colab": {}
      },
      "source": [
        "def quantify_room_type(room_type):\n",
        "    if room_type == 'A':\n",
        "        return 1\n",
        "    elif room_type == 'B':\n",
        "        return 2\n",
        "    elif room_type == 'C':\n",
        "        return 3\n",
        "    elif room_type == 'D':\n",
        "        return 4\n",
        "    elif room_type == 'E':\n",
        "        return 5\n",
        "    elif room_type == 'F':\n",
        "        return 6\n",
        "    elif room_type == 'G':\n",
        "        return 7\n",
        "    elif room_type == 'H':\n",
        "        return 8\n",
        "    elif room_type == 'I':\n",
        "        return 9\n",
        "    elif room_type == 'K':\n",
        "        return 10\n",
        "    elif room_type == 'L':\n",
        "        return 11\n",
        "    elif room_type == 'P':\n",
        "        return 12\n",
        "    else:\n",
        "        return 0\n",
        "\n",
        "def room_matches(this_room, other_room):\n",
        "  match = this_room.lower().replace('s/+',\"\") == other_room.lower().replace('s/+',\"\")\n",
        "  if(match):\n",
        "    return 1\n",
        "  else:\n",
        "    return 0"
      ],
      "execution_count": 0,
      "outputs": []
    },
    {
      "cell_type": "markdown",
      "metadata": {
        "id": "qHfG98cdv2jr",
        "colab_type": "text"
      },
      "source": [
        "Asignamos dummies a las variables que no cuantificamos previamente como room_types y month.\n",
        "Además previamente ya tenemos registrados que company y agent las usamos como dummies de está presente o no está presente."
      ]
    },
    {
      "cell_type": "code",
      "metadata": {
        "id": "r1SNj0FPllvv",
        "colab_type": "code",
        "outputId": "16a20ebb-ea1b-4c1e-a3eb-2d3863b7f5f8",
        "colab": {
          "base_uri": "https://localhost:8080/",
          "height": 230
        }
      },
      "source": [
        "# 1. Para las categóricas, construyo variables 0 y 1\n",
        "  # Mínimo de frecuencia para incluir la columna: 0.5% del total\n",
        "min_dummy = len(df_categoricas)*0.005\n",
        "\n",
        "# Evitamos incluir company y agent ya que las vamos a utilizar con el \n",
        "# has_company y has_agent\n",
        "df_categoricas['has_agent'] = bookings_df['agent'].isnull().astype(int)\n",
        "df_categoricas['has_company'] = bookings_df['company'].isnull().astype(int)\n",
        "\n",
        "dummies_cat = pd.get_dummies(\n",
        "    df_categoricas, \n",
        "    columns=[\n",
        "      'hotel',       \n",
        "      'market_segment', \n",
        "      'meal', \n",
        "      'is_repeated_guest', \n",
        "      'deposit_type', \n",
        "      'customer_type' \n",
        "    ], \n",
        "    drop_first=False\n",
        ")\n",
        "dummies_cat = dummies_cat.iloc[:, 8:]\n",
        "corr_cat = dummies_cat[dummies_cat.columns[dummies_cat.sum()>min_dummy]]"
      ],
      "execution_count": 38,
      "outputs": [
        {
          "output_type": "stream",
          "text": [
            "/usr/local/lib/python3.6/dist-packages/ipykernel_launcher.py:7: SettingWithCopyWarning: \n",
            "A value is trying to be set on a copy of a slice from a DataFrame.\n",
            "Try using .loc[row_indexer,col_indexer] = value instead\n",
            "\n",
            "See the caveats in the documentation: https://pandas.pydata.org/pandas-docs/stable/user_guide/indexing.html#returning-a-view-versus-a-copy\n",
            "  import sys\n",
            "/usr/local/lib/python3.6/dist-packages/ipykernel_launcher.py:8: SettingWithCopyWarning: \n",
            "A value is trying to be set on a copy of a slice from a DataFrame.\n",
            "Try using .loc[row_indexer,col_indexer] = value instead\n",
            "\n",
            "See the caveats in the documentation: https://pandas.pydata.org/pandas-docs/stable/user_guide/indexing.html#returning-a-view-versus-a-copy\n",
            "  \n"
          ],
          "name": "stderr"
        }
      ]
    },
    {
      "cell_type": "markdown",
      "metadata": {
        "id": "lL9R3PIOwdqq",
        "colab_type": "text"
      },
      "source": [
        "Ahora hacemos un transformación similar para nuestras variables ordinales"
      ]
    },
    {
      "cell_type": "code",
      "metadata": {
        "id": "8JbO8uZlwW-l",
        "colab_type": "code",
        "outputId": "8e57f45c-07d3-4ac8-d451-b17437b4f789",
        "colab": {
          "base_uri": "https://localhost:8080/",
          "height": 443
        }
      },
      "source": [
        "### 2. Para las ordinales, puedo construir variables numéricas asociadas. \n",
        "### Como una es el tipo de habitación pedido y otro es el tipo de habitación asignado, \n",
        "### voy a construir únicamente la numérica asociada al tipo de habitación asignado, \n",
        "### y luego voy a construir una columna dummy si el tipo de habitación pedida es el mismo o no que la asignada.\n",
        "df_ordinales['assigned_room_vl'] = df_ordinales.apply(lambda x: quantify_room_type(x['assigned_room_type']), axis=1)\n",
        "df_ordinales['requested_room_vl'] = df_ordinales.apply(lambda x: quantify_room_type(x['reserved_room_type']), axis=1)\n",
        "df_ordinales['did_room_match'] = df_ordinales.apply(lambda x: room_matches(x['reserved_room_type'],x['assigned_room_type']), axis=1)\n",
        "df_ordinales['booker_room_gain'] = df_ordinales.apply(lambda x: x['assigned_room_vl'] - x['requested_room_vl'], axis=1)\n",
        "\n",
        "corr_ord = df_ordinales[['assigned_room_vl', 'requested_room_vl','did_room_match', 'booker_room_gain']]\n"
      ],
      "execution_count": 39,
      "outputs": [
        {
          "output_type": "stream",
          "text": [
            "/usr/local/lib/python3.6/dist-packages/ipykernel_launcher.py:5: SettingWithCopyWarning: \n",
            "A value is trying to be set on a copy of a slice from a DataFrame.\n",
            "Try using .loc[row_indexer,col_indexer] = value instead\n",
            "\n",
            "See the caveats in the documentation: https://pandas.pydata.org/pandas-docs/stable/user_guide/indexing.html#returning-a-view-versus-a-copy\n",
            "  \"\"\"\n",
            "/usr/local/lib/python3.6/dist-packages/ipykernel_launcher.py:6: SettingWithCopyWarning: \n",
            "A value is trying to be set on a copy of a slice from a DataFrame.\n",
            "Try using .loc[row_indexer,col_indexer] = value instead\n",
            "\n",
            "See the caveats in the documentation: https://pandas.pydata.org/pandas-docs/stable/user_guide/indexing.html#returning-a-view-versus-a-copy\n",
            "  \n",
            "/usr/local/lib/python3.6/dist-packages/ipykernel_launcher.py:7: SettingWithCopyWarning: \n",
            "A value is trying to be set on a copy of a slice from a DataFrame.\n",
            "Try using .loc[row_indexer,col_indexer] = value instead\n",
            "\n",
            "See the caveats in the documentation: https://pandas.pydata.org/pandas-docs/stable/user_guide/indexing.html#returning-a-view-versus-a-copy\n",
            "  import sys\n",
            "/usr/local/lib/python3.6/dist-packages/ipykernel_launcher.py:8: SettingWithCopyWarning: \n",
            "A value is trying to be set on a copy of a slice from a DataFrame.\n",
            "Try using .loc[row_indexer,col_indexer] = value instead\n",
            "\n",
            "See the caveats in the documentation: https://pandas.pydata.org/pandas-docs/stable/user_guide/indexing.html#returning-a-view-versus-a-copy\n",
            "  \n"
          ],
          "name": "stderr"
        }
      ]
    },
    {
      "cell_type": "code",
      "metadata": {
        "id": "OAZ-6WLrwquP",
        "colab_type": "code",
        "colab": {}
      },
      "source": [
        "# 3. Para las numéricas traigo todas\n",
        "\n",
        "corr_num = df_numericas"
      ],
      "execution_count": 0,
      "outputs": []
    },
    {
      "cell_type": "markdown",
      "metadata": {
        "id": "jB40KGtVmlyD",
        "colab_type": "text"
      },
      "source": [
        "Ahora junto todo y calculo las correlaciones"
      ]
    },
    {
      "cell_type": "code",
      "metadata": {
        "id": "kQxFCiqTmmgr",
        "colab_type": "code",
        "outputId": "f17f2034-ad85-491b-db11-566f862ff54e",
        "colab": {
          "base_uri": "https://localhost:8080/",
          "height": 763
        }
      },
      "source": [
        "df_correlations = pd.concat([corr_num,corr_ord,corr_cat],axis=1)\n",
        "df_correlations\n",
        "df_correlations.loc[:,'is_canceled'] = df_categoricas['is_canceled'] \n",
        "corr = df_correlations[df_correlations.columns].corr()['is_canceled'][:-1]\n",
        "squaredCorrs = corr**2 # Elevo al cuadrado para quedarme con las primeras\n",
        "squaredCorrs.sort_values(ascending=False)"
      ],
      "execution_count": 41,
      "outputs": [
        {
          "output_type": "execute_result",
          "data": {
            "text/plain": [
              "deposit_type_Non Refund           0.231801\n",
              "deposit_type_No Deposit           0.228399\n",
              "lead_time                         0.085921\n",
              "did_room_match                    0.061390\n",
              "total_of_special_requests         0.055064\n",
              "market_segment_Groups             0.049222\n",
              "booker_room_gain                  0.042224\n",
              "required_car_parking_spaces       0.038219\n",
              "assigned_room_vl                  0.030986\n",
              "market_segment_Direct             0.023836\n",
              "booking_changes                   0.020846\n",
              "hotel_City Hotel                  0.018641\n",
              "hotel_Resort Hotel                0.018641\n",
              "customer_type_Transient           0.017711\n",
              "customer_type_Transient-Party     0.015409\n",
              "previous_cancellations            0.012129\n",
              "has_company                       0.009862\n",
              "is_repeated_guest_1               0.007190\n",
              "is_repeated_guest_0               0.007190\n",
              "market_segment_Corporate          0.006669\n",
              "requested_room_vl                 0.003730\n",
              "adults                            0.003602\n",
              "previous_bookings_not_canceled    0.003290\n",
              "days_in_waiting_list              0.002936\n",
              "adr                               0.002262\n",
              "market_segment_Complementary      0.001545\n",
              "meal_FB                           0.001508\n",
              "babies                            0.001056\n",
              "market_segment_Offline TA/TO      0.000811\n",
              "meal_Undefined                    0.000671\n",
              "customer_type_Contract            0.000560\n",
              "meal_HB                           0.000394\n",
              "meal_BB                           0.000172\n",
              "arrival_date_week_number          0.000066\n",
              "market_segment_Online TA          0.000040\n",
              "children                          0.000025\n",
              "stays_in_weekend_nights           0.000003\n",
              "stays_in_weekend_nights           0.000003\n",
              "stays_in_weekend_nights           0.000003\n",
              "stays_in_weekend_nights           0.000003\n",
              "meal_SC                           0.000002\n",
              "Name: is_canceled, dtype: float64"
            ]
          },
          "metadata": {
            "tags": []
          },
          "execution_count": 41
        }
      ]
    },
    {
      "cell_type": "markdown",
      "metadata": {
        "id": "Zz6yiICTmuYT",
        "colab_type": "text"
      },
      "source": [
        "Me quedo con las primeras cuatro"
      ]
    },
    {
      "cell_type": "code",
      "metadata": {
        "id": "6TICjXs6mzfH",
        "colab_type": "code",
        "colab": {}
      },
      "source": [
        "#import matplotlib.pyplot as plt\n",
        "#import numpy as np\n",
        "\n",
        "df_first4 = df_correlations[\n",
        "    [\n",
        "     'deposit_type_Non Refund', \n",
        "     'deposit_type_No Deposit', \n",
        "     'lead_time', \n",
        "     'did_room_match', \n",
        "     'is_canceled']\n",
        "    ]\n",
        "\n",
        "matriz_nonRefund = pd.crosstab(df_correlations['deposit_type_Non Refund'], bookings_df['is_canceled'], rownames=['Tipo de depósito Non Refund'], colnames=['Cancelacion'])\n",
        "matriz_noDeposit = pd.crosstab(df_correlations['deposit_type_No Deposit'], bookings_df['is_canceled'], rownames=['Tipo de depósito No Deposit'], colnames=['Cancelacion'])\n",
        "matriz_roomMatch = pd.crosstab(df_correlations['did_room_match'], bookings_df['is_canceled'], rownames=['Se les asignó lo que solicitaron'], colnames=['Cancelacion'])\n",
        "matriz_leadTime = pd.crosstab(df_correlations['lead_time'], bookings_df['is_canceled'], rownames=['Lead Time'], colnames=['Cancelacion'])\n"
      ],
      "execution_count": 0,
      "outputs": []
    },
    {
      "cell_type": "markdown",
      "metadata": {
        "id": "VB47rPDynY9P",
        "colab_type": "text"
      },
      "source": [
        "## d. Atributos a emplear como variables predictoras para cancelación, con antelación.\n",
        "\n",
        "(Fede)\n",
        "\n",
        "Las variables de mayor correlación que tenemos con antelación son:\n",
        "* **deposit_type_Non Refund** 0.231801\n",
        "* **deposit_type_Non Deposit** 0.228399\n",
        "* **lead_time** 0.085921\n",
        "* **did_room_match** 0.061390\n",
        "* **total_of_special_requests** 0.055064"
      ]
    },
    {
      "cell_type": "markdown",
      "metadata": {
        "id": "WxBwO9HE5FWI",
        "colab_type": "text"
      },
      "source": [
        "(Nico)\n",
        "\n",
        "Las variables de mayor correlación que tenemos con antelación son:\n",
        "* **lead_time**                      0.293123\n",
        "* **total_of_special_requests**      0.234658\n",
        "* **required_car_parking_spaces**    0.195498\n",
        "* **previous_cancellations**         0.110133\n",
        "* **is_repeated_guest**              0.084793\n",
        "\n",
        "\n",
        "La siguiente variable podríamos no tener información completa hasta que llegue el momento de check-in\n",
        "* **booking_changes**                0.144381"
      ]
    },
    {
      "cell_type": "code",
      "metadata": {
        "id": "nh3CO3uvnaP3",
        "colab_type": "code",
        "colab": {
          "base_uri": "https://localhost:8080/",
          "height": 34
        },
        "outputId": "ff000eed-d7ef-4e18-ce51-97035a8ed897"
      },
      "source": [
        "pip install info_gain"
      ],
      "execution_count": 43,
      "outputs": [
        {
          "output_type": "stream",
          "text": [
            "Requirement already satisfied: info_gain in /usr/local/lib/python3.6/dist-packages (1.0.1)\n"
          ],
          "name": "stdout"
        }
      ]
    },
    {
      "cell_type": "code",
      "metadata": {
        "id": "L2M6Ia4wozk0",
        "colab_type": "code",
        "colab": {
          "base_uri": "https://localhost:8080/",
          "height": 54
        },
        "outputId": "18811a9b-42e4-46bc-b9a0-ae99aea41fc5"
      },
      "source": [
        "'''\n",
        "from info_gain import info_gain\n",
        "ig=pd.DataFrame(columns=['Atributo', 'Information Gain ratio'])\n",
        "for i in range(len(bookings_df.columns)):\n",
        "  print(bookings_df.columns[i],info_gain.info_gain_ratio(bookings_df.iloc[0:31,1],bookings_df.iloc[0:31,i]))  \n",
        "  ig.iloc[i] = [bookings_df.columns[i]] + [info_gain.info_gain_ratio(bookings_df.iloc[0:31,1],bookings_df.iloc[0:31,i])]\n",
        "'''"
      ],
      "execution_count": 44,
      "outputs": [
        {
          "output_type": "execute_result",
          "data": {
            "text/plain": [
              "\"\\nfrom info_gain import info_gain\\nig=pd.DataFrame(columns=['Atributo', 'Information Gain ratio'])\\nfor i in range(len(bookings_df.columns)):\\n  print(bookings_df.columns[i],info_gain.info_gain_ratio(bookings_df.iloc[0:31,1],bookings_df.iloc[0:31,i]))  \\n  ig.iloc[i] = [bookings_df.columns[i]] + [info_gain.info_gain_ratio(bookings_df.iloc[0:31,1],bookings_df.iloc[0:31,i])]\\n\""
            ]
          },
          "metadata": {
            "tags": []
          },
          "execution_count": 44
        }
      ]
    },
    {
      "cell_type": "code",
      "metadata": {
        "id": "2OCjF5-cpX9c",
        "colab_type": "code",
        "colab": {
          "base_uri": "https://localhost:8080/",
          "height": 70
        },
        "outputId": "280c2232-4c08-4b0a-b612-b3d043400c51"
      },
      "source": [
        "ig=pd.DataFrame(columns=['Atributo', 'Information Gain ratio'])\n",
        "ig.append(['1','10'])\n",
        "print(ig)"
      ],
      "execution_count": 45,
      "outputs": [
        {
          "output_type": "stream",
          "text": [
            "Empty DataFrame\n",
            "Columns: [Atributo, Information Gain ratio]\n",
            "Index: []\n"
          ],
          "name": "stdout"
        }
      ]
    },
    {
      "cell_type": "markdown",
      "metadata": {
        "id": "p1NdKHJCoF2s",
        "colab_type": "text"
      },
      "source": [
        "## e. Se encuentra balanceado el set\n",
        "Hay casi el doble de reservas no canceladas frente a las canceladas.\n",
        "\n",
        "Todavía no lo vimos en clase.\n"
      ]
    },
    {
      "cell_type": "code",
      "metadata": {
        "id": "v7Us_OjBV0xU",
        "colab_type": "code",
        "outputId": "9e2042a3-9bf2-4433-82c0-59c4bbe56c3a",
        "colab": {
          "base_uri": "https://localhost:8080/",
          "height": 70
        }
      },
      "source": [
        "# Buscamos conocer que tan balanceado está nuestro dataset\n",
        "bookings_df['is_canceled'].value_counts(normalize=True)"
      ],
      "execution_count": 46,
      "outputs": [
        {
          "output_type": "execute_result",
          "data": {
            "text/plain": [
              "0    0.629584\n",
              "1    0.370416\n",
              "Name: is_canceled, dtype: float64"
            ]
          },
          "metadata": {
            "tags": []
          },
          "execution_count": 46
        }
      ]
    },
    {
      "cell_type": "markdown",
      "metadata": {
        "id": "xNM8u6B4qWQg",
        "colab_type": "text"
      },
      "source": [
        "## g. Implementación Árbol de decisión\n",
        "Implementaremos la lógica algoritmica que nos permita armar los árboles de decisión de forma programática\n",
        "Recordemos que nuestra solución debe analizar los datos acordes al criterio de **RESERVA CANCELADA**"
      ]
    },
    {
      "cell_type": "markdown",
      "metadata": {
        "id": "kn9Vu-QeWOy2",
        "colab_type": "text"
      },
      "source": [
        "#### Armado y Ejecución"
      ]
    },
    {
      "cell_type": "code",
      "metadata": {
        "id": "R7FKjZ91FlWb",
        "colab_type": "code",
        "colab": {
          "base_uri": "https://localhost:8080/",
          "height": 727
        },
        "outputId": "92bb5db0-3263-4b3f-ccf3-0b012b2ae9ef"
      },
      "source": [
        "features = df_correlations.columns\n",
        "for feature in features:\n",
        "  print(feature)"
      ],
      "execution_count": 47,
      "outputs": [
        {
          "output_type": "stream",
          "text": [
            "lead_time\n",
            "arrival_date_week_number\n",
            "stays_in_weekend_nights\n",
            "stays_in_weekend_nights\n",
            "adults\n",
            "children\n",
            "babies\n",
            "previous_cancellations\n",
            "previous_bookings_not_canceled\n",
            "booking_changes\n",
            "days_in_waiting_list\n",
            "adr\n",
            "required_car_parking_spaces\n",
            "total_of_special_requests\n",
            "assigned_room_vl\n",
            "requested_room_vl\n",
            "did_room_match\n",
            "booker_room_gain\n",
            "has_company\n",
            "hotel_City Hotel\n",
            "hotel_Resort Hotel\n",
            "market_segment_Complementary\n",
            "market_segment_Corporate\n",
            "market_segment_Direct\n",
            "market_segment_Groups\n",
            "market_segment_Offline TA/TO\n",
            "market_segment_Online TA\n",
            "meal_BB\n",
            "meal_FB\n",
            "meal_HB\n",
            "meal_SC\n",
            "meal_Undefined\n",
            "is_repeated_guest_0\n",
            "is_repeated_guest_1\n",
            "deposit_type_No Deposit\n",
            "deposit_type_Non Refund\n",
            "customer_type_Contract\n",
            "customer_type_Transient\n",
            "customer_type_Transient-Party\n",
            "is_canceled\n"
          ],
          "name": "stdout"
        }
      ]
    },
    {
      "cell_type": "code",
      "metadata": {
        "id": "tRwXoRN2WTTH",
        "colab_type": "code",
        "colab": {}
      },
      "source": [
        "#Con sklearn podemos dividir nuestros datos en conjuntos de entrenamiento, validación y prueba.\n",
        "\n",
        "from sklearn import tree\n",
        "from sklearn.metrics import accuracy_score\n",
        "from sklearn.model_selection import train_test_split\n",
        "\n",
        "# Para el análisis deberiamos utilizar un DF con las variables dummies cargadas\n",
        "# Lo unico que tengo dudas es si en features no hay que dropear la columna 'is_canceled'\n",
        "features = df_correlations.columns\n",
        "target = 'is_canceled'\n",
        "\n",
        "# Armamos 2 sets de datos\n",
        "# X (tanto train como)\n",
        "x_train, x_test, y_train, y_test = train_test_split(\n",
        "    df_correlations[features].values, \n",
        "    df_correlations[target].values, \n",
        "    test_size=0.2, \n",
        "    random_state=42\n",
        ")\n",
        "\n",
        "x_val, x_test, y_val, y_test = train_test_split(\n",
        "    x_test,\n",
        "    y_test,\n",
        "    test_size=0.2\n",
        ")"
      ],
      "execution_count": 0,
      "outputs": []
    },
    {
      "cell_type": "code",
      "metadata": {
        "id": "j13r43WNXRwk",
        "colab_type": "code",
        "colab": {
          "base_uri": "https://localhost:8080/",
          "height": 70
        },
        "outputId": "54a9b9b6-be6c-4b4f-faa0-dcc7d8d70f94"
      },
      "source": [
        "print('Entrenamiento: {}'.format(len(x_train)))\n",
        "print('Validacion: {}'.format(len(x_val)))\n",
        "print('Prueba: {}'.format(len(x_test)))"
      ],
      "execution_count": 49,
      "outputs": [
        {
          "output_type": "stream",
          "text": [
            "Entrenamiento: 95512\n",
            "Validacion: 19102\n",
            "Prueba: 4776\n"
          ],
          "name": "stdout"
        }
      ]
    },
    {
      "cell_type": "code",
      "metadata": {
        "id": "E6BKmSfyOKH-",
        "colab_type": "code",
        "colab": {
          "base_uri": "https://localhost:8080/",
          "height": 387
        },
        "outputId": "c7edaefc-91ba-494e-f382-9f1bca2a5b4e"
      },
      "source": [
        "from sklearn.tree import DecisionTreeClassifier\n",
        "\n",
        "# hacemos n_seeds particiones para entrenar nuestro algoritmo\n",
        "n_seeds = 100\n",
        "accs = []\n",
        "precisions = []\n",
        "recalls = []\n",
        "f1s = []\n",
        "\n",
        "for seed in range(n_seeds):\n",
        "  # Arbol de decisión\n",
        "  arbol_sklearn = DecisionTreeClassifier(\n",
        "      criterion='entropy',\n",
        "      max_depth=5,\n",
        "      min_samples_leaf=10, \n",
        "      ccp_alpha=0.01\n",
        "  )\n",
        "  # División train-validation (requiere x_train y y_train previos)\n",
        "  x_train_, x_val, y_train_, y_val = train_test_split(\n",
        "      x_train, \n",
        "      y_train, \n",
        "      test_size=0.2, \n",
        "      random_state=seed,\n",
        "      stratify=y_train\n",
        "  )\n",
        "  # Entrenamos al arbol\n",
        "  arbol_sklearn.fit(x_train_,y_train_)\n",
        "\n",
        "  # Ejecutamos nuestra predicción\n",
        "  y_pred_val = arbol_sklearn.predict(x_val)\n",
        "\n",
        "  # Medimos (accuracy, precision, recall y f1Score) de nuestra predicción\n",
        "  accs.append(accuracy_score(y_val,y_pred_val))\n",
        "  precisions.append(precision_score(y_val,y_pred_val))\n",
        "  recalls.append(recall_score(y_val,y_pred_val))\n",
        "  f1s.append(f1_score(y_val,y_pred_val))"
      ],
      "execution_count": 51,
      "outputs": [
        {
          "output_type": "error",
          "ename": "ValueError",
          "evalue": "ignored",
          "traceback": [
            "\u001b[0;31m---------------------------------------------------------------------------\u001b[0m",
            "\u001b[0;31mValueError\u001b[0m                                Traceback (most recent call last)",
            "\u001b[0;32m<ipython-input-51-3d24e984eee8>\u001b[0m in \u001b[0;36m<module>\u001b[0;34m()\u001b[0m\n\u001b[1;32m     25\u001b[0m   )\n\u001b[1;32m     26\u001b[0m   \u001b[0;31m# Entrenamos al arbol\u001b[0m\u001b[0;34m\u001b[0m\u001b[0;34m\u001b[0m\u001b[0;34m\u001b[0m\u001b[0m\n\u001b[0;32m---> 27\u001b[0;31m   \u001b[0marbol_sklearn\u001b[0m\u001b[0;34m.\u001b[0m\u001b[0mfit\u001b[0m\u001b[0;34m(\u001b[0m\u001b[0mx_train_\u001b[0m\u001b[0;34m,\u001b[0m\u001b[0my_train_\u001b[0m\u001b[0;34m)\u001b[0m\u001b[0;34m\u001b[0m\u001b[0;34m\u001b[0m\u001b[0m\n\u001b[0m\u001b[1;32m     28\u001b[0m \u001b[0;34m\u001b[0m\u001b[0m\n\u001b[1;32m     29\u001b[0m   \u001b[0;31m# Ejecutamos nuestra predicción\u001b[0m\u001b[0;34m\u001b[0m\u001b[0;34m\u001b[0m\u001b[0;34m\u001b[0m\u001b[0m\n",
            "\u001b[0;32m/usr/local/lib/python3.6/dist-packages/sklearn/tree/_classes.py\u001b[0m in \u001b[0;36mfit\u001b[0;34m(self, X, y, sample_weight, check_input, X_idx_sorted)\u001b[0m\n\u001b[1;32m    875\u001b[0m             \u001b[0msample_weight\u001b[0m\u001b[0;34m=\u001b[0m\u001b[0msample_weight\u001b[0m\u001b[0;34m,\u001b[0m\u001b[0;34m\u001b[0m\u001b[0;34m\u001b[0m\u001b[0m\n\u001b[1;32m    876\u001b[0m             \u001b[0mcheck_input\u001b[0m\u001b[0;34m=\u001b[0m\u001b[0mcheck_input\u001b[0m\u001b[0;34m,\u001b[0m\u001b[0;34m\u001b[0m\u001b[0;34m\u001b[0m\u001b[0m\n\u001b[0;32m--> 877\u001b[0;31m             X_idx_sorted=X_idx_sorted)\n\u001b[0m\u001b[1;32m    878\u001b[0m         \u001b[0;32mreturn\u001b[0m \u001b[0mself\u001b[0m\u001b[0;34m\u001b[0m\u001b[0;34m\u001b[0m\u001b[0m\n\u001b[1;32m    879\u001b[0m \u001b[0;34m\u001b[0m\u001b[0m\n",
            "\u001b[0;32m/usr/local/lib/python3.6/dist-packages/sklearn/tree/_classes.py\u001b[0m in \u001b[0;36mfit\u001b[0;34m(self, X, y, sample_weight, check_input, X_idx_sorted)\u001b[0m\n\u001b[1;32m    147\u001b[0m \u001b[0;34m\u001b[0m\u001b[0m\n\u001b[1;32m    148\u001b[0m         \u001b[0;32mif\u001b[0m \u001b[0mcheck_input\u001b[0m\u001b[0;34m:\u001b[0m\u001b[0;34m\u001b[0m\u001b[0;34m\u001b[0m\u001b[0m\n\u001b[0;32m--> 149\u001b[0;31m             \u001b[0mX\u001b[0m \u001b[0;34m=\u001b[0m \u001b[0mcheck_array\u001b[0m\u001b[0;34m(\u001b[0m\u001b[0mX\u001b[0m\u001b[0;34m,\u001b[0m \u001b[0mdtype\u001b[0m\u001b[0;34m=\u001b[0m\u001b[0mDTYPE\u001b[0m\u001b[0;34m,\u001b[0m \u001b[0maccept_sparse\u001b[0m\u001b[0;34m=\u001b[0m\u001b[0;34m\"csc\"\u001b[0m\u001b[0;34m)\u001b[0m\u001b[0;34m\u001b[0m\u001b[0;34m\u001b[0m\u001b[0m\n\u001b[0m\u001b[1;32m    150\u001b[0m             \u001b[0my\u001b[0m \u001b[0;34m=\u001b[0m \u001b[0mcheck_array\u001b[0m\u001b[0;34m(\u001b[0m\u001b[0my\u001b[0m\u001b[0;34m,\u001b[0m \u001b[0mensure_2d\u001b[0m\u001b[0;34m=\u001b[0m\u001b[0;32mFalse\u001b[0m\u001b[0;34m,\u001b[0m \u001b[0mdtype\u001b[0m\u001b[0;34m=\u001b[0m\u001b[0;32mNone\u001b[0m\u001b[0;34m)\u001b[0m\u001b[0;34m\u001b[0m\u001b[0;34m\u001b[0m\u001b[0m\n\u001b[1;32m    151\u001b[0m             \u001b[0;32mif\u001b[0m \u001b[0missparse\u001b[0m\u001b[0;34m(\u001b[0m\u001b[0mX\u001b[0m\u001b[0;34m)\u001b[0m\u001b[0;34m:\u001b[0m\u001b[0;34m\u001b[0m\u001b[0;34m\u001b[0m\u001b[0m\n",
            "\u001b[0;32m/usr/local/lib/python3.6/dist-packages/sklearn/utils/validation.py\u001b[0m in \u001b[0;36mcheck_array\u001b[0;34m(array, accept_sparse, accept_large_sparse, dtype, order, copy, force_all_finite, ensure_2d, allow_nd, ensure_min_samples, ensure_min_features, warn_on_dtype, estimator)\u001b[0m\n\u001b[1;32m    576\u001b[0m         \u001b[0;32mif\u001b[0m \u001b[0mforce_all_finite\u001b[0m\u001b[0;34m:\u001b[0m\u001b[0;34m\u001b[0m\u001b[0;34m\u001b[0m\u001b[0m\n\u001b[1;32m    577\u001b[0m             _assert_all_finite(array,\n\u001b[0;32m--> 578\u001b[0;31m                                allow_nan=force_all_finite == 'allow-nan')\n\u001b[0m\u001b[1;32m    579\u001b[0m \u001b[0;34m\u001b[0m\u001b[0m\n\u001b[1;32m    580\u001b[0m     \u001b[0;32mif\u001b[0m \u001b[0mensure_min_samples\u001b[0m \u001b[0;34m>\u001b[0m \u001b[0;36m0\u001b[0m\u001b[0;34m:\u001b[0m\u001b[0;34m\u001b[0m\u001b[0;34m\u001b[0m\u001b[0m\n",
            "\u001b[0;32m/usr/local/lib/python3.6/dist-packages/sklearn/utils/validation.py\u001b[0m in \u001b[0;36m_assert_all_finite\u001b[0;34m(X, allow_nan, msg_dtype)\u001b[0m\n\u001b[1;32m     58\u001b[0m                     \u001b[0mmsg_err\u001b[0m\u001b[0;34m.\u001b[0m\u001b[0mformat\u001b[0m\u001b[0;34m\u001b[0m\u001b[0;34m\u001b[0m\u001b[0m\n\u001b[1;32m     59\u001b[0m                     (type_err,\n\u001b[0;32m---> 60\u001b[0;31m                      msg_dtype if msg_dtype is not None else X.dtype)\n\u001b[0m\u001b[1;32m     61\u001b[0m             )\n\u001b[1;32m     62\u001b[0m     \u001b[0;31m# for object dtype data, we only check for NaNs (GH-13254)\u001b[0m\u001b[0;34m\u001b[0m\u001b[0;34m\u001b[0m\u001b[0;34m\u001b[0m\u001b[0m\n",
            "\u001b[0;31mValueError\u001b[0m: Input contains NaN, infinity or a value too large for dtype('float32')."
          ]
        }
      ]
    },
    {
      "cell_type": "code",
      "metadata": {
        "id": "eW02n08nP3_O",
        "colab_type": "code",
        "colab": {}
      },
      "source": [
        "# Visualizamos la performance de nuestro arbol\n",
        "all_metrics = accs + precisions + recalls + f1s\n",
        "metric_labels = ['Accuracy']*len(accs) + ['Precision']*len(precisions) + ['Recall']*len(recalls) + ['F1 Score']*len(f1s)\n",
        "\n",
        "sns.set_context('talk')\n",
        "plt.figure(figsize=(15,8))\n",
        "sns.boxplot(metric_labels,all_metrics)"
      ],
      "execution_count": 0,
      "outputs": []
    },
    {
      "cell_type": "code",
      "metadata": {
        "id": "UMsS4PCbJlO4",
        "colab_type": "code",
        "colab": {}
      },
      "source": [
        "# Visualizamos como quedó nuestro arbol\n",
        "plt.figure(figsize=(20,10))\n",
        "plot_tree(arbol_sklearn,filled=True);"
      ],
      "execution_count": 0,
      "outputs": []
    },
    {
      "cell_type": "markdown",
      "metadata": {
        "id": "j4b7SrWqQ7jw",
        "colab_type": "text"
      },
      "source": [
        "#### Búsqueda de Hiperparámetros y Cross-Validation"
      ]
    },
    {
      "cell_type": "code",
      "metadata": {
        "id": "66TdUjsMJlww",
        "colab_type": "code",
        "colab": {}
      },
      "source": [
        "# Para validar hiperparámetros (profundidad, función de costo, numero de hojas)\n",
        "# Aplicamos K-fold validation para analizar y comparar las distintas combinaciones de hiperparámetros\n",
        "from sklearn.model_selection import StratifiedKFold, KFold, GridSearchCV, RandomizedSearchCV\n",
        "from sklearn.metrics import make_scorer\n",
        "import numpy as np\n",
        "\n",
        "params_grid = {'criterion':['gini','entropy'],\n",
        "               'max_depth':list(range(1,30)),\n",
        "               'ccp_alpha':np.linspace(0,0.5,100)}\n",
        "\n",
        "kfoldcv = StratifiedKFold(n_splits=10)\n",
        "base_tree = DecisionTreeClassifier()\n",
        "scorer_fn = make_scorer(f1_score)\n",
        "randomcv = RandomizedSearchCV(\n",
        "    estimator=base_tree,\n",
        "    param_distributions = params_grid,\n",
        "    scoring=scorer_fn,\n",
        "    cv=kfoldcv,\n",
        "    n_iter=100\n",
        ")\n",
        "randomcv.fit(x_train,y_train);"
      ],
      "execution_count": 0,
      "outputs": []
    },
    {
      "cell_type": "code",
      "metadata": {
        "id": "bgwFGvklRDaU",
        "colab_type": "code",
        "colab": {}
      },
      "source": [
        "# Ver combinaciones\n",
        "pd.DataFrame(randomcv.cv_results_).head()"
      ],
      "execution_count": 0,
      "outputs": []
    },
    {
      "cell_type": "code",
      "metadata": {
        "id": "1ww1w1XaRDg8",
        "colab_type": "code",
        "colab": {}
      },
      "source": [
        "# Ver cuál fue la mejor\n",
        "randomcv.best_params_"
      ],
      "execution_count": 0,
      "outputs": []
    },
    {
      "cell_type": "code",
      "metadata": {
        "id": "-O_AGLaVRDo7",
        "colab_type": "code",
        "colab": {}
      },
      "source": [
        "# Vemos el nivel de importancia de cada parametro en el arbol entrenado\n",
        "best_tree = randomcv.best_estimator_\n",
        "feat_imps = best_tree.feature_importances_\n",
        "feat_imps"
      ],
      "execution_count": 0,
      "outputs": []
    },
    {
      "cell_type": "code",
      "metadata": {
        "id": "Bzdb98mfRDy-",
        "colab_type": "code",
        "colab": {}
      },
      "source": [
        "# Vemos que parámetro uso el árbol para tomar decisiones (importancia mayor a 0)\n",
        "for feat_imp,feat in sorted(zip(feat_imps,features)):\n",
        "  if feat_imp>0:\n",
        "    print('{}: {}'.format(feat,feat_imp))"
      ],
      "execution_count": 0,
      "outputs": []
    },
    {
      "cell_type": "markdown",
      "metadata": {
        "id": "g5342mwZTT7r",
        "colab_type": "text"
      },
      "source": [
        "#### Métricas de Arbol Predictor"
      ]
    },
    {
      "cell_type": "code",
      "metadata": {
        "id": "ittyQ6APS0Ji",
        "colab_type": "code",
        "colab": {}
      },
      "source": [
        ""
      ],
      "execution_count": 0,
      "outputs": []
    },
    {
      "cell_type": "code",
      "metadata": {
        "id": "1NEs0Y0oS0QD",
        "colab_type": "code",
        "colab": {}
      },
      "source": [
        ""
      ],
      "execution_count": 0,
      "outputs": []
    },
    {
      "cell_type": "code",
      "metadata": {
        "id": "X-iAawwCS0OA",
        "colab_type": "code",
        "colab": {}
      },
      "source": [
        ""
      ],
      "execution_count": 0,
      "outputs": []
    },
    {
      "cell_type": "markdown",
      "metadata": {
        "id": "-JOyg_GFnQyv",
        "colab_type": "text"
      },
      "source": [
        "# Extras & Ayuda Gráfica\n"
      ]
    },
    {
      "cell_type": "code",
      "metadata": {
        "id": "0XlXMZmxVvwu",
        "colab_type": "code",
        "colab": {}
      },
      "source": [
        "# Macros para ayudar a graficar distintos datos\n",
        "from palettable.colorbrewer.qualitative import Pastel1_9\n",
        "import matplotlib.pyplot as plt\n",
        "import matplotlib.patches\n",
        "import seaborn as sns\n",
        "\n",
        "def plot_donut(dataframe, column, title):\n",
        "  donut = plt.Circle( (0,0), 0.7, color='white')\n",
        "\n",
        "  data = dataframe[column].value_counts(normalize=True)\n",
        "  labels = data.index.values.tolist()\n",
        "  legend_labels = ['%s - %2.2f %%' % (l, s*100) for l, s in zip(labels, data)]\n",
        "\n",
        "  plt.title(title)\n",
        "  plt.gca().axis(\"equal\")\n",
        "  plt.gca().add_artist(donut)\n",
        "  plt.pie(\n",
        "    data, \n",
        "    startangle=90, \n",
        "    colors=Pastel1_9.hex_colors,\n",
        "    wedgeprops = { 'linewidth': 2, \"edgecolor\" :\"white\" }\n",
        "  )\n",
        "\n",
        "  handles = []\n",
        "  for i, l in enumerate(labels):\n",
        "      handles.append(matplotlib.patches.Patch(color=Pastel1_9.hex_colors[i], label=l))\n",
        "  \n",
        "  plt.legend(handles,legend_labels, bbox_to_anchor=(0.85,1.025), loc=\"upper left\")\n",
        "  plt.subplots_adjust(left=0.1, bottom=0.1, right=0.75)\n",
        "  plt.show()\n",
        "\n",
        "def plot_bar_counts(dataframe, column, title):\n",
        "  data = dataframe[column].value_counts()\n",
        "  labels = data.index.values.tolist()\n",
        "  legend_labels = ['%s - %s' % (l, s) for l, s in zip(labels, data)]\n",
        "\n",
        "  y_pos = np.arange(len(labels))\n",
        "\n",
        "  plt.bar(y_pos, data)\n",
        "\n",
        "  plt.xticks(y_pos, legend_labels, color='orange')\n",
        "  plt.yticks(color='orange')\n",
        "\n",
        "  plt.show()\n",
        "\n",
        "def histogram(dataframe, column, title):\n",
        "  f, (ax_box, ax_hist) = plt.subplots(\n",
        "    2, \n",
        "    sharex=True, \n",
        "    gridspec_kw={\"height_ratios\": (.15, .85)}\n",
        "  )\n",
        "\n",
        "  # Add a graph in each part\n",
        "  sns.boxplot(dataframe[column], ax=ax_box)\n",
        "  sns.distplot(dataframe[column], ax=ax_hist)\n",
        "  \n",
        "  # Remove x axis name for the boxplot\n",
        "  ax_box.set(xlabel='')"
      ],
      "execution_count": 0,
      "outputs": []
    },
    {
      "cell_type": "markdown",
      "metadata": {
        "id": "wY6X3ctNqlfc",
        "colab_type": "text"
      },
      "source": [
        "## Segmentación Reservas Canceladas & Confirmadas"
      ]
    },
    {
      "cell_type": "code",
      "metadata": {
        "id": "266jZJUDp7RF",
        "colab_type": "code",
        "colab": {}
      },
      "source": [
        "# Segmentar en canceladas & confirmadas\n",
        "canceled_df = bookings_df[bookings_df['is_canceled'] == 1]\n",
        "confirmed_df = bookings_df[bookings_df['is_canceled'] == 0]"
      ],
      "execution_count": 0,
      "outputs": []
    },
    {
      "cell_type": "markdown",
      "metadata": {
        "id": "BPAiYm08quI4",
        "colab_type": "text"
      },
      "source": [
        "## Gráficos"
      ]
    },
    {
      "cell_type": "markdown",
      "metadata": {
        "id": "Vc4TMipuqwfG",
        "colab_type": "text"
      },
      "source": [
        "### Status de las reservas"
      ]
    },
    {
      "cell_type": "code",
      "metadata": {
        "id": "pFhNSgx8Y8f0",
        "colab_type": "code",
        "colab": {}
      },
      "source": [
        "import numpy as np\n",
        "# Status de reservas\n",
        "plot_donut(bookings_df, 'reservation_status', 'Reservas totales por status')\n",
        "plot_donut(canceled_df, 'reservation_status', 'Reservas canceladas por status')\n",
        "\n",
        "plot_bar_counts(canceled_df, 'reservation_status', 'Reservas canceladas por status')\n"
      ],
      "execution_count": 0,
      "outputs": []
    },
    {
      "cell_type": "markdown",
      "metadata": {
        "id": "nb8885X7q1vW",
        "colab_type": "text"
      },
      "source": [
        "### Reservas por Tipo de Hotel"
      ]
    },
    {
      "cell_type": "code",
      "metadata": {
        "id": "lQVgQlQ9YayF",
        "colab_type": "code",
        "colab": {}
      },
      "source": [
        "# Tipo de hotel por reservas \n",
        "plot_donut(bookings_df, 'hotel', 'Reservas totales por hotel')\n",
        "plot_donut(canceled_df, 'hotel', 'Reservas canceladas por hotel')\n",
        "plot_donut(confirmed_df, 'hotel', 'Reservas confirmadas por hotel')"
      ],
      "execution_count": 0,
      "outputs": []
    },
    {
      "cell_type": "markdown",
      "metadata": {
        "id": "8E87NHW6q6c5",
        "colab_type": "text"
      },
      "source": [
        "### Reservas por Tipo de Cliente"
      ]
    },
    {
      "cell_type": "code",
      "metadata": {
        "id": "VXQ2sKPRafyl",
        "colab_type": "code",
        "colab": {}
      },
      "source": [
        "# Tipo de cliente de reservas\n",
        "plot_donut(bookings_df, 'customer_type', 'Reservas totales por tipo de cliente')\n",
        "plot_donut(canceled_df, 'customer_type', 'Reservas canceladas por tipo de cliente')\n",
        "\n",
        "\n",
        "plot_donut(canceled_df, 'is_repeated_guest', 'Reservas canceladas: clientes repetidos')\n",
        "\n",
        "histogram(canceled_df, 'previous_cancellations', 'Reservas canceladas: cancelaciones previas')\n",
        "histogram(canceled_df, 'previous_bookings_not_canceled', 'Reservas canceladas: confirmaciones previas a la primer cancelación')\n",
        "histogram(canceled_df, 'total_of_special_requests', 'Reservas canceladas: pedidos extras')\n",
        "\n",
        "\n"
      ],
      "execution_count": 0,
      "outputs": []
    },
    {
      "cell_type": "markdown",
      "metadata": {
        "id": "OGCfvB9LrCMd",
        "colab_type": "text"
      },
      "source": [
        "### Segmento de Mercado y Canales de Distribución"
      ]
    },
    {
      "cell_type": "code",
      "metadata": {
        "id": "7MMoe13cavFq",
        "colab_type": "code",
        "colab": {}
      },
      "source": [
        "# Segmento de mercado de reservas\n",
        "plot_donut(bookings_df, 'market_segment', 'Reservas totales por segmento de mercado')\n",
        "plot_donut(canceled_df, 'market_segment', 'Reservas canceladas por segmento de mercado')\n",
        "plot_donut(confirmed_df, 'market_segment', 'Reservas confirmadas por segmento de mercado')\n",
        "\n",
        "# canal de distribución de reservas\n",
        "plot_donut(bookings_df, 'distribution_channel', 'Reservas totales por canal de distribución')\n",
        "plot_donut(canceled_df, 'distribution_channel', 'Reservas canceladas por canal de distribución')\n",
        "plot_donut(confirmed_df, 'distribution_channel', 'Reservas confirmadas por canal de distribución')"
      ],
      "execution_count": 0,
      "outputs": []
    },
    {
      "cell_type": "markdown",
      "metadata": {
        "id": "j50o2zZQB0bk",
        "colab_type": "text"
      },
      "source": [
        "### Tipo de Depósito"
      ]
    },
    {
      "cell_type": "code",
      "metadata": {
        "id": "ljWOzlYDB3a4",
        "colab_type": "code",
        "colab": {}
      },
      "source": [
        "# Tipo de Depósito\n",
        "plot_donut(bookings_df, 'deposit_type', 'Reservas totales por tipo de depósito')\n",
        "plot_donut(canceled_df, 'deposit_type', 'Reservas canceladas por tipo de depósito')\n",
        "plot_donut(confirmed_df, 'deposit_type', 'Reservas confirmadas por tipo de depósito')"
      ],
      "execution_count": 0,
      "outputs": []
    }
  ]
}