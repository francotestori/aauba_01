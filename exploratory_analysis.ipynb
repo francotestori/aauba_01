{
  "nbformat": 4,
  "nbformat_minor": 0,
  "metadata": {
    "colab": {
      "name": "exploratory_analysis.ipynb",
      "provenance": [],
      "collapsed_sections": [],
      "toc_visible": true,
      "include_colab_link": true
    },
    "kernelspec": {
      "name": "python3",
      "display_name": "Python 3"
    }
  },
  "cells": [
    {
      "cell_type": "markdown",
      "metadata": {
        "id": "view-in-github",
        "colab_type": "text"
      },
      "source": [
        "<a href=\"https://colab.research.google.com/github/francotestori/aauba_01/blob/master/exploratory_analysis.ipynb\" target=\"_parent\"><img src=\"https://colab.research.google.com/assets/colab-badge.svg\" alt=\"Open In Colab\"/></a>"
      ]
    },
    {
      "cell_type": "markdown",
      "metadata": {
        "id": "RVZwUPgjLVof",
        "colab_type": "text"
      },
      "source": [
        "# Aprendizaje Automático\n",
        "## Trabajo Práctico 1\n",
        "\n",
        "El objetivo de este trabajo práctico es el desarrollo de una solución que permita predecir la cancelación de una reserva utilizando como dataset el archivo provisto por la catedra ***'hotel_bookins.csv'***."
      ]
    },
    {
      "cell_type": "code",
      "metadata": {
        "id": "pEJF2ExIS-lM",
        "colab_type": "code",
        "outputId": "805abe41-30b1-458b-aa39-62a8361f8e14",
        "colab": {
          "base_uri": "https://localhost:8080/",
          "height": 204
        }
      },
      "source": [
        "# Cargar el archivo original de bookings\n",
        "!wget https://raw.githubusercontent.com/francotestori/aauba_01/master/resources/hotel_bookings.csv"
      ],
      "execution_count": 1,
      "outputs": [
        {
          "output_type": "stream",
          "text": [
            "--2020-05-26 16:53:00--  https://raw.githubusercontent.com/francotestori/aauba_01/master/resources/hotel_bookings.csv\n",
            "Resolving raw.githubusercontent.com (raw.githubusercontent.com)... 151.101.0.133, 151.101.64.133, 151.101.128.133, ...\n",
            "Connecting to raw.githubusercontent.com (raw.githubusercontent.com)|151.101.0.133|:443... connected.\n",
            "HTTP request sent, awaiting response... 200 OK\n",
            "Length: 16855599 (16M) [text/plain]\n",
            "Saving to: ‘hotel_bookings.csv’\n",
            "\n",
            "hotel_bookings.csv  100%[===================>]  16.07M  26.5MB/s    in 0.6s    \n",
            "\n",
            "2020-05-26 16:53:01 (26.5 MB/s) - ‘hotel_bookings.csv’ saved [16855599/16855599]\n",
            "\n"
          ],
          "name": "stdout"
        }
      ]
    },
    {
      "cell_type": "code",
      "metadata": {
        "id": "oW-x3hPsJje1",
        "colab_type": "code",
        "colab": {}
      },
      "source": [
        "# Utilizar pandas para hacer la carga del dataframe de bookings\n",
        "import pandas as pd\n",
        "\n",
        "pd.set_option('display.max_columns', 35)\n",
        "pd.set_option('display.max_rows', 500)\n",
        "pd.set_option('display.width', 10000)\n",
        "\n",
        "bookings_df = pd.read_csv('hotel_bookings.csv')"
      ],
      "execution_count": 0,
      "outputs": []
    },
    {
      "cell_type": "markdown",
      "metadata": {
        "id": "BRK6Pu8Efatk",
        "colab_type": "text"
      },
      "source": [
        "## a. Descripción de los atributos\n",
        "\n",
        "---"
      ]
    },
    {
      "cell_type": "markdown",
      "metadata": {
        "id": "XhwYp9fQqbzh",
        "colab_type": "text"
      },
      "source": [
        "### a.i. Campos categóricos\n",
        "Pertenecen a este grupo los campos numéricos o no cuyos valores representen categorías en las que la reserva de hoteles se asignará, siempre y cuando estas categorías no puedan ordenarse en forma inmediata. Pertenecen a este grupo los campos que pueden tomar valores 0 y 1, entre otros. Se agregan también el campo AÑO y el campo MES, para que no tomen valores numéricos."
      ]
    },
    {
      "cell_type": "code",
      "metadata": {
        "id": "PGtUgzFiftB7",
        "colab_type": "code",
        "colab": {
          "base_uri": "https://localhost:8080/",
          "height": 609
        },
        "outputId": "81d4de44-ae61-4d21-ad21-5e618682cf56"
      },
      "source": [
        "columnas_categoricas = [\n",
        "  'hotel', \n",
        "  'is_canceled', \n",
        "  'meal', \n",
        "  'country', \n",
        "  'market_segment', \n",
        "  'distribution_channel', \n",
        "  'is_repeated_guest', \n",
        "  'deposit_type', \n",
        "  'agent', \n",
        "  'company', \n",
        "  'customer_type', \n",
        "  'reservation_status', \n",
        "  'arrival_date_month', \n",
        "  'arrival_date_year'\n",
        "]\n",
        "df_categoricas = bookings_df[columnas_categoricas]\n",
        "df_categoricas"
      ],
      "execution_count": 4,
      "outputs": [
        {
          "output_type": "execute_result",
          "data": {
            "text/html": [
              "<div>\n",
              "<style scoped>\n",
              "    .dataframe tbody tr th:only-of-type {\n",
              "        vertical-align: middle;\n",
              "    }\n",
              "\n",
              "    .dataframe tbody tr th {\n",
              "        vertical-align: top;\n",
              "    }\n",
              "\n",
              "    .dataframe thead th {\n",
              "        text-align: right;\n",
              "    }\n",
              "</style>\n",
              "<table border=\"1\" class=\"dataframe\">\n",
              "  <thead>\n",
              "    <tr style=\"text-align: right;\">\n",
              "      <th></th>\n",
              "      <th>hotel</th>\n",
              "      <th>is_canceled</th>\n",
              "      <th>meal</th>\n",
              "      <th>country</th>\n",
              "      <th>market_segment</th>\n",
              "      <th>distribution_channel</th>\n",
              "      <th>is_repeated_guest</th>\n",
              "      <th>deposit_type</th>\n",
              "      <th>agent</th>\n",
              "      <th>company</th>\n",
              "      <th>customer_type</th>\n",
              "      <th>reservation_status</th>\n",
              "      <th>arrival_date_month</th>\n",
              "      <th>arrival_date_year</th>\n",
              "    </tr>\n",
              "  </thead>\n",
              "  <tbody>\n",
              "    <tr>\n",
              "      <th>0</th>\n",
              "      <td>Resort Hotel</td>\n",
              "      <td>0</td>\n",
              "      <td>BB</td>\n",
              "      <td>PRT</td>\n",
              "      <td>Direct</td>\n",
              "      <td>Direct</td>\n",
              "      <td>0</td>\n",
              "      <td>No Deposit</td>\n",
              "      <td>NaN</td>\n",
              "      <td>NaN</td>\n",
              "      <td>Transient</td>\n",
              "      <td>Check-Out</td>\n",
              "      <td>July</td>\n",
              "      <td>2015</td>\n",
              "    </tr>\n",
              "    <tr>\n",
              "      <th>1</th>\n",
              "      <td>Resort Hotel</td>\n",
              "      <td>0</td>\n",
              "      <td>BB</td>\n",
              "      <td>PRT</td>\n",
              "      <td>Direct</td>\n",
              "      <td>Direct</td>\n",
              "      <td>0</td>\n",
              "      <td>No Deposit</td>\n",
              "      <td>NaN</td>\n",
              "      <td>NaN</td>\n",
              "      <td>Transient</td>\n",
              "      <td>Check-Out</td>\n",
              "      <td>July</td>\n",
              "      <td>2015</td>\n",
              "    </tr>\n",
              "    <tr>\n",
              "      <th>2</th>\n",
              "      <td>Resort Hotel</td>\n",
              "      <td>0</td>\n",
              "      <td>BB</td>\n",
              "      <td>GBR</td>\n",
              "      <td>Direct</td>\n",
              "      <td>Direct</td>\n",
              "      <td>0</td>\n",
              "      <td>No Deposit</td>\n",
              "      <td>NaN</td>\n",
              "      <td>NaN</td>\n",
              "      <td>Transient</td>\n",
              "      <td>Check-Out</td>\n",
              "      <td>July</td>\n",
              "      <td>2015</td>\n",
              "    </tr>\n",
              "    <tr>\n",
              "      <th>3</th>\n",
              "      <td>Resort Hotel</td>\n",
              "      <td>0</td>\n",
              "      <td>BB</td>\n",
              "      <td>GBR</td>\n",
              "      <td>Corporate</td>\n",
              "      <td>Corporate</td>\n",
              "      <td>0</td>\n",
              "      <td>No Deposit</td>\n",
              "      <td>304.0</td>\n",
              "      <td>NaN</td>\n",
              "      <td>Transient</td>\n",
              "      <td>Check-Out</td>\n",
              "      <td>July</td>\n",
              "      <td>2015</td>\n",
              "    </tr>\n",
              "    <tr>\n",
              "      <th>4</th>\n",
              "      <td>Resort Hotel</td>\n",
              "      <td>0</td>\n",
              "      <td>BB</td>\n",
              "      <td>GBR</td>\n",
              "      <td>Online TA</td>\n",
              "      <td>TA/TO</td>\n",
              "      <td>0</td>\n",
              "      <td>No Deposit</td>\n",
              "      <td>240.0</td>\n",
              "      <td>NaN</td>\n",
              "      <td>Transient</td>\n",
              "      <td>Check-Out</td>\n",
              "      <td>July</td>\n",
              "      <td>2015</td>\n",
              "    </tr>\n",
              "    <tr>\n",
              "      <th>...</th>\n",
              "      <td>...</td>\n",
              "      <td>...</td>\n",
              "      <td>...</td>\n",
              "      <td>...</td>\n",
              "      <td>...</td>\n",
              "      <td>...</td>\n",
              "      <td>...</td>\n",
              "      <td>...</td>\n",
              "      <td>...</td>\n",
              "      <td>...</td>\n",
              "      <td>...</td>\n",
              "      <td>...</td>\n",
              "      <td>...</td>\n",
              "      <td>...</td>\n",
              "    </tr>\n",
              "    <tr>\n",
              "      <th>119385</th>\n",
              "      <td>City Hotel</td>\n",
              "      <td>0</td>\n",
              "      <td>BB</td>\n",
              "      <td>BEL</td>\n",
              "      <td>Offline TA/TO</td>\n",
              "      <td>TA/TO</td>\n",
              "      <td>0</td>\n",
              "      <td>No Deposit</td>\n",
              "      <td>394.0</td>\n",
              "      <td>NaN</td>\n",
              "      <td>Transient</td>\n",
              "      <td>Check-Out</td>\n",
              "      <td>August</td>\n",
              "      <td>2017</td>\n",
              "    </tr>\n",
              "    <tr>\n",
              "      <th>119386</th>\n",
              "      <td>City Hotel</td>\n",
              "      <td>0</td>\n",
              "      <td>BB</td>\n",
              "      <td>FRA</td>\n",
              "      <td>Online TA</td>\n",
              "      <td>TA/TO</td>\n",
              "      <td>0</td>\n",
              "      <td>No Deposit</td>\n",
              "      <td>9.0</td>\n",
              "      <td>NaN</td>\n",
              "      <td>Transient</td>\n",
              "      <td>Check-Out</td>\n",
              "      <td>August</td>\n",
              "      <td>2017</td>\n",
              "    </tr>\n",
              "    <tr>\n",
              "      <th>119387</th>\n",
              "      <td>City Hotel</td>\n",
              "      <td>0</td>\n",
              "      <td>BB</td>\n",
              "      <td>DEU</td>\n",
              "      <td>Online TA</td>\n",
              "      <td>TA/TO</td>\n",
              "      <td>0</td>\n",
              "      <td>No Deposit</td>\n",
              "      <td>9.0</td>\n",
              "      <td>NaN</td>\n",
              "      <td>Transient</td>\n",
              "      <td>Check-Out</td>\n",
              "      <td>August</td>\n",
              "      <td>2017</td>\n",
              "    </tr>\n",
              "    <tr>\n",
              "      <th>119388</th>\n",
              "      <td>City Hotel</td>\n",
              "      <td>0</td>\n",
              "      <td>BB</td>\n",
              "      <td>GBR</td>\n",
              "      <td>Online TA</td>\n",
              "      <td>TA/TO</td>\n",
              "      <td>0</td>\n",
              "      <td>No Deposit</td>\n",
              "      <td>89.0</td>\n",
              "      <td>NaN</td>\n",
              "      <td>Transient</td>\n",
              "      <td>Check-Out</td>\n",
              "      <td>August</td>\n",
              "      <td>2017</td>\n",
              "    </tr>\n",
              "    <tr>\n",
              "      <th>119389</th>\n",
              "      <td>City Hotel</td>\n",
              "      <td>0</td>\n",
              "      <td>HB</td>\n",
              "      <td>DEU</td>\n",
              "      <td>Online TA</td>\n",
              "      <td>TA/TO</td>\n",
              "      <td>0</td>\n",
              "      <td>No Deposit</td>\n",
              "      <td>9.0</td>\n",
              "      <td>NaN</td>\n",
              "      <td>Transient</td>\n",
              "      <td>Check-Out</td>\n",
              "      <td>August</td>\n",
              "      <td>2017</td>\n",
              "    </tr>\n",
              "  </tbody>\n",
              "</table>\n",
              "<p>119390 rows × 14 columns</p>\n",
              "</div>"
            ],
            "text/plain": [
              "               hotel  is_canceled meal country market_segment distribution_channel  is_repeated_guest deposit_type  agent  company customer_type reservation_status arrival_date_month  arrival_date_year\n",
              "0       Resort Hotel            0   BB     PRT         Direct               Direct                  0   No Deposit    NaN      NaN     Transient          Check-Out               July               2015\n",
              "1       Resort Hotel            0   BB     PRT         Direct               Direct                  0   No Deposit    NaN      NaN     Transient          Check-Out               July               2015\n",
              "2       Resort Hotel            0   BB     GBR         Direct               Direct                  0   No Deposit    NaN      NaN     Transient          Check-Out               July               2015\n",
              "3       Resort Hotel            0   BB     GBR      Corporate            Corporate                  0   No Deposit  304.0      NaN     Transient          Check-Out               July               2015\n",
              "4       Resort Hotel            0   BB     GBR      Online TA                TA/TO                  0   No Deposit  240.0      NaN     Transient          Check-Out               July               2015\n",
              "...              ...          ...  ...     ...            ...                  ...                ...          ...    ...      ...           ...                ...                ...                ...\n",
              "119385    City Hotel            0   BB     BEL  Offline TA/TO                TA/TO                  0   No Deposit  394.0      NaN     Transient          Check-Out             August               2017\n",
              "119386    City Hotel            0   BB     FRA      Online TA                TA/TO                  0   No Deposit    9.0      NaN     Transient          Check-Out             August               2017\n",
              "119387    City Hotel            0   BB     DEU      Online TA                TA/TO                  0   No Deposit    9.0      NaN     Transient          Check-Out             August               2017\n",
              "119388    City Hotel            0   BB     GBR      Online TA                TA/TO                  0   No Deposit   89.0      NaN     Transient          Check-Out             August               2017\n",
              "119389    City Hotel            0   HB     DEU      Online TA                TA/TO                  0   No Deposit    9.0      NaN     Transient          Check-Out             August               2017\n",
              "\n",
              "[119390 rows x 14 columns]"
            ]
          },
          "metadata": {
            "tags": []
          },
          "execution_count": 4
        }
      ]
    },
    {
      "cell_type": "markdown",
      "metadata": {
        "id": "t-DNINyvgFFY",
        "colab_type": "text"
      },
      "source": [
        "Campos:\n",
        "\n",
        "*   **hotel**: tipo de hotel (si es Resort o es City)\n",
        "*   **is_cancelled**: variable que toma 1 cuando la reserva fue cancelada\n",
        "*   **meal**: tipo de reserva elegida. FB (Full Board), HB (Half Board), SC (self-catering), BB (Bed & Breakfast). Esta variable toma valores indefinidos.\n",
        "*   **country**: siglas del país de origen de quienes reservan.\n",
        "*   **market_segment**: segmento de mercado.\n",
        "*   **distribution_channel**: canal de distribución.\n",
        "*   **is_repeated_guest**: variable que toma uno cuando se trata de una reserva repetida.\n",
        "*   **deposit_type**: tipo de depósito, según su condición de reembolsable o no.\n",
        "*   **agent**: código del agente responsable de la reserva.\n",
        "*   **company**: código de la empresa responsable de la reserva.\n",
        "*   **customer_type**: tipo de consumidor.\n",
        "*   **customer_type**: estado actual de la reserva.\n",
        "*   **arrival_date_year**: año de arribo al hotel.\n",
        "*   **arrival_date_month**: mes de arribo al hotel.\n"
      ]
    },
    {
      "cell_type": "code",
      "metadata": {
        "id": "POHjM4pjgpfu",
        "colab_type": "code",
        "colab": {}
      },
      "source": [
        "pd.set_option('display.max_rows', 1000)\n",
        "\n",
        "for i in range(len(df_categoricas.columns)):\n",
        "  print(df_categoricas[df_categoricas.columns[i]].value_counts())\n"
      ],
      "execution_count": 0,
      "outputs": []
    },
    {
      "cell_type": "markdown",
      "metadata": {
        "id": "BAYNV90EhfSC",
        "colab_type": "text"
      },
      "source": [
        "### a.ii. Campos numéricos\n",
        "Pertenecen a este grupo los campos numéricos continuos, cuyo valor represente una magnitud y no una categoría. En los casos "
      ]
    },
    {
      "cell_type": "code",
      "metadata": {
        "id": "4rG8kGX1hqPP",
        "colab_type": "code",
        "colab": {
          "base_uri": "https://localhost:8080/",
          "height": 439
        },
        "outputId": "438a1aa5-a5fd-49b5-e78f-5439aa914281"
      },
      "source": [
        "columnas_numericas = [\n",
        "'lead_time', \n",
        "'arrival_date_week_number', \n",
        "'arrival_date_day_of_month', \n",
        "'stays_in_weekend_nights', \n",
        "'stays_in_weekend_nights', \n",
        "'adults', 'children', \n",
        "'babies', \n",
        "'previous_cancellations', \n",
        "'previous_bookings_not_canceled', \n",
        "'booking_changes', \n",
        "'days_in_waiting_list', \n",
        "'adr', \n",
        "'required_car_parking_spaces', \n",
        "'total_of_special_requests'                      \n",
        "]\n",
        "df_numericas = bookings_df[columnas_numericas]\n",
        "df_numericas"
      ],
      "execution_count": 6,
      "outputs": [
        {
          "output_type": "execute_result",
          "data": {
            "text/html": [
              "<div>\n",
              "<style scoped>\n",
              "    .dataframe tbody tr th:only-of-type {\n",
              "        vertical-align: middle;\n",
              "    }\n",
              "\n",
              "    .dataframe tbody tr th {\n",
              "        vertical-align: top;\n",
              "    }\n",
              "\n",
              "    .dataframe thead th {\n",
              "        text-align: right;\n",
              "    }\n",
              "</style>\n",
              "<table border=\"1\" class=\"dataframe\">\n",
              "  <thead>\n",
              "    <tr style=\"text-align: right;\">\n",
              "      <th></th>\n",
              "      <th>lead_time</th>\n",
              "      <th>arrival_date_week_number</th>\n",
              "      <th>arrival_date_day_of_month</th>\n",
              "      <th>stays_in_weekend_nights</th>\n",
              "      <th>stays_in_weekend_nights</th>\n",
              "      <th>adults</th>\n",
              "      <th>children</th>\n",
              "      <th>babies</th>\n",
              "      <th>previous_cancellations</th>\n",
              "      <th>previous_bookings_not_canceled</th>\n",
              "      <th>booking_changes</th>\n",
              "      <th>days_in_waiting_list</th>\n",
              "      <th>adr</th>\n",
              "      <th>required_car_parking_spaces</th>\n",
              "      <th>total_of_special_requests</th>\n",
              "    </tr>\n",
              "  </thead>\n",
              "  <tbody>\n",
              "    <tr>\n",
              "      <th>0</th>\n",
              "      <td>342</td>\n",
              "      <td>27</td>\n",
              "      <td>1</td>\n",
              "      <td>0</td>\n",
              "      <td>0</td>\n",
              "      <td>2</td>\n",
              "      <td>0.0</td>\n",
              "      <td>0</td>\n",
              "      <td>0</td>\n",
              "      <td>0</td>\n",
              "      <td>3</td>\n",
              "      <td>0</td>\n",
              "      <td>0.00</td>\n",
              "      <td>0</td>\n",
              "      <td>0</td>\n",
              "    </tr>\n",
              "    <tr>\n",
              "      <th>1</th>\n",
              "      <td>737</td>\n",
              "      <td>27</td>\n",
              "      <td>1</td>\n",
              "      <td>0</td>\n",
              "      <td>0</td>\n",
              "      <td>2</td>\n",
              "      <td>0.0</td>\n",
              "      <td>0</td>\n",
              "      <td>0</td>\n",
              "      <td>0</td>\n",
              "      <td>4</td>\n",
              "      <td>0</td>\n",
              "      <td>0.00</td>\n",
              "      <td>0</td>\n",
              "      <td>0</td>\n",
              "    </tr>\n",
              "    <tr>\n",
              "      <th>2</th>\n",
              "      <td>7</td>\n",
              "      <td>27</td>\n",
              "      <td>1</td>\n",
              "      <td>0</td>\n",
              "      <td>0</td>\n",
              "      <td>1</td>\n",
              "      <td>0.0</td>\n",
              "      <td>0</td>\n",
              "      <td>0</td>\n",
              "      <td>0</td>\n",
              "      <td>0</td>\n",
              "      <td>0</td>\n",
              "      <td>75.00</td>\n",
              "      <td>0</td>\n",
              "      <td>0</td>\n",
              "    </tr>\n",
              "    <tr>\n",
              "      <th>3</th>\n",
              "      <td>13</td>\n",
              "      <td>27</td>\n",
              "      <td>1</td>\n",
              "      <td>0</td>\n",
              "      <td>0</td>\n",
              "      <td>1</td>\n",
              "      <td>0.0</td>\n",
              "      <td>0</td>\n",
              "      <td>0</td>\n",
              "      <td>0</td>\n",
              "      <td>0</td>\n",
              "      <td>0</td>\n",
              "      <td>75.00</td>\n",
              "      <td>0</td>\n",
              "      <td>0</td>\n",
              "    </tr>\n",
              "    <tr>\n",
              "      <th>4</th>\n",
              "      <td>14</td>\n",
              "      <td>27</td>\n",
              "      <td>1</td>\n",
              "      <td>0</td>\n",
              "      <td>0</td>\n",
              "      <td>2</td>\n",
              "      <td>0.0</td>\n",
              "      <td>0</td>\n",
              "      <td>0</td>\n",
              "      <td>0</td>\n",
              "      <td>0</td>\n",
              "      <td>0</td>\n",
              "      <td>98.00</td>\n",
              "      <td>0</td>\n",
              "      <td>1</td>\n",
              "    </tr>\n",
              "    <tr>\n",
              "      <th>...</th>\n",
              "      <td>...</td>\n",
              "      <td>...</td>\n",
              "      <td>...</td>\n",
              "      <td>...</td>\n",
              "      <td>...</td>\n",
              "      <td>...</td>\n",
              "      <td>...</td>\n",
              "      <td>...</td>\n",
              "      <td>...</td>\n",
              "      <td>...</td>\n",
              "      <td>...</td>\n",
              "      <td>...</td>\n",
              "      <td>...</td>\n",
              "      <td>...</td>\n",
              "      <td>...</td>\n",
              "    </tr>\n",
              "    <tr>\n",
              "      <th>119385</th>\n",
              "      <td>23</td>\n",
              "      <td>35</td>\n",
              "      <td>30</td>\n",
              "      <td>2</td>\n",
              "      <td>2</td>\n",
              "      <td>2</td>\n",
              "      <td>0.0</td>\n",
              "      <td>0</td>\n",
              "      <td>0</td>\n",
              "      <td>0</td>\n",
              "      <td>0</td>\n",
              "      <td>0</td>\n",
              "      <td>96.14</td>\n",
              "      <td>0</td>\n",
              "      <td>0</td>\n",
              "    </tr>\n",
              "    <tr>\n",
              "      <th>119386</th>\n",
              "      <td>102</td>\n",
              "      <td>35</td>\n",
              "      <td>31</td>\n",
              "      <td>2</td>\n",
              "      <td>2</td>\n",
              "      <td>3</td>\n",
              "      <td>0.0</td>\n",
              "      <td>0</td>\n",
              "      <td>0</td>\n",
              "      <td>0</td>\n",
              "      <td>0</td>\n",
              "      <td>0</td>\n",
              "      <td>225.43</td>\n",
              "      <td>0</td>\n",
              "      <td>2</td>\n",
              "    </tr>\n",
              "    <tr>\n",
              "      <th>119387</th>\n",
              "      <td>34</td>\n",
              "      <td>35</td>\n",
              "      <td>31</td>\n",
              "      <td>2</td>\n",
              "      <td>2</td>\n",
              "      <td>2</td>\n",
              "      <td>0.0</td>\n",
              "      <td>0</td>\n",
              "      <td>0</td>\n",
              "      <td>0</td>\n",
              "      <td>0</td>\n",
              "      <td>0</td>\n",
              "      <td>157.71</td>\n",
              "      <td>0</td>\n",
              "      <td>4</td>\n",
              "    </tr>\n",
              "    <tr>\n",
              "      <th>119388</th>\n",
              "      <td>109</td>\n",
              "      <td>35</td>\n",
              "      <td>31</td>\n",
              "      <td>2</td>\n",
              "      <td>2</td>\n",
              "      <td>2</td>\n",
              "      <td>0.0</td>\n",
              "      <td>0</td>\n",
              "      <td>0</td>\n",
              "      <td>0</td>\n",
              "      <td>0</td>\n",
              "      <td>0</td>\n",
              "      <td>104.40</td>\n",
              "      <td>0</td>\n",
              "      <td>0</td>\n",
              "    </tr>\n",
              "    <tr>\n",
              "      <th>119389</th>\n",
              "      <td>205</td>\n",
              "      <td>35</td>\n",
              "      <td>29</td>\n",
              "      <td>2</td>\n",
              "      <td>2</td>\n",
              "      <td>2</td>\n",
              "      <td>0.0</td>\n",
              "      <td>0</td>\n",
              "      <td>0</td>\n",
              "      <td>0</td>\n",
              "      <td>0</td>\n",
              "      <td>0</td>\n",
              "      <td>151.20</td>\n",
              "      <td>0</td>\n",
              "      <td>2</td>\n",
              "    </tr>\n",
              "  </tbody>\n",
              "</table>\n",
              "<p>119390 rows × 15 columns</p>\n",
              "</div>"
            ],
            "text/plain": [
              "        lead_time  arrival_date_week_number  arrival_date_day_of_month  stays_in_weekend_nights  stays_in_weekend_nights  adults  children  babies  previous_cancellations  previous_bookings_not_canceled  booking_changes  days_in_waiting_list     adr  required_car_parking_spaces  total_of_special_requests\n",
              "0             342                        27                          1                        0                        0       2       0.0       0                       0                               0                3                     0    0.00                            0                          0\n",
              "1             737                        27                          1                        0                        0       2       0.0       0                       0                               0                4                     0    0.00                            0                          0\n",
              "2               7                        27                          1                        0                        0       1       0.0       0                       0                               0                0                     0   75.00                            0                          0\n",
              "3              13                        27                          1                        0                        0       1       0.0       0                       0                               0                0                     0   75.00                            0                          0\n",
              "4              14                        27                          1                        0                        0       2       0.0       0                       0                               0                0                     0   98.00                            0                          1\n",
              "...           ...                       ...                        ...                      ...                      ...     ...       ...     ...                     ...                             ...              ...                   ...     ...                          ...                        ...\n",
              "119385         23                        35                         30                        2                        2       2       0.0       0                       0                               0                0                     0   96.14                            0                          0\n",
              "119386        102                        35                         31                        2                        2       3       0.0       0                       0                               0                0                     0  225.43                            0                          2\n",
              "119387         34                        35                         31                        2                        2       2       0.0       0                       0                               0                0                     0  157.71                            0                          4\n",
              "119388        109                        35                         31                        2                        2       2       0.0       0                       0                               0                0                     0  104.40                            0                          0\n",
              "119389        205                        35                         29                        2                        2       2       0.0       0                       0                               0                0                     0  151.20                            0                          2\n",
              "\n",
              "[119390 rows x 15 columns]"
            ]
          },
          "metadata": {
            "tags": []
          },
          "execution_count": 6
        }
      ]
    },
    {
      "cell_type": "markdown",
      "metadata": {
        "id": "PyLMhhW_iZWa",
        "colab_type": "text"
      },
      "source": [
        "Campos:\n",
        "\n",
        "*   **lead_time**: tiempo de espera desde la emisión hasta la confirmación de la orden.\n",
        "*   **arrival_date_week_number**: semana del año en la que llegarán al hotel.\n",
        "*   **arrival_date_day_of_month**: día del mes en el que llegarán al hotel.\n",
        "*   **stays_in_weekend_nights**: número de noches de fin de semana que se pasarán en el hotel.\n",
        "*   **stays_in_week_nights**: número de noches de semana que se pasarán en el hotel.\n",
        "*   **adults**: número de adultos que conforman la reserva.\n",
        "*   **children**: número de niños que conforman la reserva.\n",
        "*   **babies**: número de bebés que conforman la reserva.\n",
        "*   **previous_cancellations**: número de reservas previas que fueron canceladas.\n",
        "*   **previous_bookings_not_canceled**: número de reservas previas que no fueron canceladas.\n",
        "*   **booking_changes**: número de cambios en la reserva.\n",
        "*   **days_in_waiting_list**: número de días en lista de espera.\n",
        "*   **adr**: tarifa media diaria.\n",
        "*   **required_car_parking_spaces**: número de espacios para estacionar requeridos.\n",
        "*   **total_of_special_requests**: total de pedidos especiales."
      ]
    },
    {
      "cell_type": "markdown",
      "metadata": {
        "id": "6OC6z4ybijJI",
        "colab_type": "text"
      },
      "source": [
        "### ai.iii. Campos ordinales\n",
        "Pertenecen a este grupo las variables numéricas o no que son categorías (no pueden tomar cualquier valor) pero de las que es posible establecer un orden."
      ]
    },
    {
      "cell_type": "code",
      "metadata": {
        "id": "51jIG3Ptit5_",
        "colab_type": "code",
        "colab": {
          "base_uri": "https://localhost:8080/",
          "height": 419
        },
        "outputId": "688bc316-2e69-4585-ce73-ef9b6cf175d4"
      },
      "source": [
        "columnas_ordinales = [\n",
        "       'reserved_room_type', \n",
        "       'assigned_room_type'               \n",
        "]\n",
        "df_ordinales = bookings_df[columnas_ordinales]\n",
        "df_ordinales"
      ],
      "execution_count": 7,
      "outputs": [
        {
          "output_type": "execute_result",
          "data": {
            "text/html": [
              "<div>\n",
              "<style scoped>\n",
              "    .dataframe tbody tr th:only-of-type {\n",
              "        vertical-align: middle;\n",
              "    }\n",
              "\n",
              "    .dataframe tbody tr th {\n",
              "        vertical-align: top;\n",
              "    }\n",
              "\n",
              "    .dataframe thead th {\n",
              "        text-align: right;\n",
              "    }\n",
              "</style>\n",
              "<table border=\"1\" class=\"dataframe\">\n",
              "  <thead>\n",
              "    <tr style=\"text-align: right;\">\n",
              "      <th></th>\n",
              "      <th>reserved_room_type</th>\n",
              "      <th>assigned_room_type</th>\n",
              "    </tr>\n",
              "  </thead>\n",
              "  <tbody>\n",
              "    <tr>\n",
              "      <th>0</th>\n",
              "      <td>C</td>\n",
              "      <td>C</td>\n",
              "    </tr>\n",
              "    <tr>\n",
              "      <th>1</th>\n",
              "      <td>C</td>\n",
              "      <td>C</td>\n",
              "    </tr>\n",
              "    <tr>\n",
              "      <th>2</th>\n",
              "      <td>A</td>\n",
              "      <td>C</td>\n",
              "    </tr>\n",
              "    <tr>\n",
              "      <th>3</th>\n",
              "      <td>A</td>\n",
              "      <td>A</td>\n",
              "    </tr>\n",
              "    <tr>\n",
              "      <th>4</th>\n",
              "      <td>A</td>\n",
              "      <td>A</td>\n",
              "    </tr>\n",
              "    <tr>\n",
              "      <th>...</th>\n",
              "      <td>...</td>\n",
              "      <td>...</td>\n",
              "    </tr>\n",
              "    <tr>\n",
              "      <th>119385</th>\n",
              "      <td>A</td>\n",
              "      <td>A</td>\n",
              "    </tr>\n",
              "    <tr>\n",
              "      <th>119386</th>\n",
              "      <td>E</td>\n",
              "      <td>E</td>\n",
              "    </tr>\n",
              "    <tr>\n",
              "      <th>119387</th>\n",
              "      <td>D</td>\n",
              "      <td>D</td>\n",
              "    </tr>\n",
              "    <tr>\n",
              "      <th>119388</th>\n",
              "      <td>A</td>\n",
              "      <td>A</td>\n",
              "    </tr>\n",
              "    <tr>\n",
              "      <th>119389</th>\n",
              "      <td>A</td>\n",
              "      <td>A</td>\n",
              "    </tr>\n",
              "  </tbody>\n",
              "</table>\n",
              "<p>119390 rows × 2 columns</p>\n",
              "</div>"
            ],
            "text/plain": [
              "       reserved_room_type assigned_room_type\n",
              "0                       C                  C\n",
              "1                       C                  C\n",
              "2                       A                  C\n",
              "3                       A                  A\n",
              "4                       A                  A\n",
              "...                   ...                ...\n",
              "119385                  A                  A\n",
              "119386                  E                  E\n",
              "119387                  D                  D\n",
              "119388                  A                  A\n",
              "119389                  A                  A\n",
              "\n",
              "[119390 rows x 2 columns]"
            ]
          },
          "metadata": {
            "tags": []
          },
          "execution_count": 7
        }
      ]
    },
    {
      "cell_type": "markdown",
      "metadata": {
        "id": "okyfI5cUi_Bg",
        "colab_type": "text"
      },
      "source": [
        "Campos:\n",
        "\n",
        "*   **reserved_room_type**: tipo de habitación reservada.\n",
        "*   **assigned_room_type**: tipo de habitación asignada."
      ]
    },
    {
      "cell_type": "code",
      "metadata": {
        "id": "q8yxWDdVi_tk",
        "colab_type": "code",
        "colab": {
          "base_uri": "https://localhost:8080/",
          "height": 408
        },
        "outputId": "b20338fd-1d65-40e4-b638-1959b9afe1f0"
      },
      "source": [
        "ordinales = df_ordinales.apply(lambda x: x.value_counts()).T.stack()\n",
        "ordinales"
      ],
      "execution_count": 8,
      "outputs": [
        {
          "output_type": "execute_result",
          "data": {
            "text/plain": [
              "reserved_room_type  A    85994.0\n",
              "                    B     1118.0\n",
              "                    C      932.0\n",
              "                    D    19201.0\n",
              "                    E     6535.0\n",
              "                    F     2897.0\n",
              "                    G     2094.0\n",
              "                    H      601.0\n",
              "                    L        6.0\n",
              "                    P       12.0\n",
              "assigned_room_type  A    74053.0\n",
              "                    B     2163.0\n",
              "                    C     2375.0\n",
              "                    D    25322.0\n",
              "                    E     7806.0\n",
              "                    F     3751.0\n",
              "                    G     2553.0\n",
              "                    H      712.0\n",
              "                    I      363.0\n",
              "                    K      279.0\n",
              "                    L        1.0\n",
              "                    P       12.0\n",
              "dtype: float64"
            ]
          },
          "metadata": {
            "tags": []
          },
          "execution_count": 8
        }
      ]
    },
    {
      "cell_type": "markdown",
      "metadata": {
        "id": "045DUtyKjNGe",
        "colab_type": "text"
      },
      "source": [
        "## b. Valores faltantes"
      ]
    },
    {
      "cell_type": "code",
      "metadata": {
        "id": "N5CO3gGxjRn3",
        "colab_type": "code",
        "colab": {}
      },
      "source": [
        "bookings_df.isnull().sum()"
      ],
      "execution_count": 0,
      "outputs": []
    },
    {
      "cell_type": "markdown",
      "metadata": {
        "id": "sWEitV_GjSsw",
        "colab_type": "text"
      },
      "source": [
        "Contamos con faltantes en los siguientes atributos:\n",
        "* children: Son muy pocos casos, 4. \n",
        "* country: Pocos casos sería posible con alguna medida de cercanía.\n",
        "* agent: Relativamente grande número de faltantes, 15%.\n",
        "* company: Número demasiado grande de faltantes, aprox 90%.\n",
        "\n",
        "Es posible imputar el valor más común del atributo, el más común de la clasificación o asignar una probabilidad en base a las frecuencias observadas(este último no lo encuentro muy aplicable).\n",
        "\n",
        "##### Estrategias relleno\n",
        "* children: valor más común. \n",
        "* country: asignar valor por fuera del rango conocido (ejemplo: 'XXX').\n",
        "* agent: asignar valor por fuera del rango conocido.\n",
        "* company: utilizar una máscara que determine presencia del campo."
      ]
    },
    {
      "cell_type": "markdown",
      "metadata": {
        "id": "JDMRO3KUkNaB",
        "colab_type": "text"
      },
      "source": [
        "## c. Variables correlacionadas\n"
      ]
    },
    {
      "cell_type": "markdown",
      "metadata": {
        "id": "6kxZSILqqToV",
        "colab_type": "text"
      },
      "source": [
        "### c.i. Análisis general\n",
        "Iniciamos con un análisis general del dataframe"
      ]
    },
    {
      "cell_type": "code",
      "metadata": {
        "id": "jJFobHFhlR11",
        "colab_type": "code",
        "colab": {
          "base_uri": "https://localhost:8080/",
          "height": 374
        },
        "outputId": "ffc6bc46-f9d2-4b58-cb5a-f846e8801cf4"
      },
      "source": [
        "corr = bookings_df.corr()\n",
        "abs(corr.iloc[0,]).sort_values(ascending=False).head"
      ],
      "execution_count": 25,
      "outputs": [
        {
          "output_type": "execute_result",
          "data": {
            "text/plain": [
              "<bound method NDFrame.head of is_canceled                       1.000000\n",
              "lead_time                         0.293123\n",
              "total_of_special_requests         0.234658\n",
              "required_car_parking_spaces       0.195498\n",
              "booking_changes                   0.144381\n",
              "previous_cancellations            0.110133\n",
              "is_repeated_guest                 0.084793\n",
              "agent                             0.083114\n",
              "adults                            0.060017\n",
              "previous_bookings_not_canceled    0.057358\n",
              "days_in_waiting_list              0.054186\n",
              "adr                               0.047557\n",
              "babies                            0.032491\n",
              "stays_in_week_nights              0.024765\n",
              "company                           0.020642\n",
              "arrival_date_year                 0.016660\n",
              "arrival_date_week_number          0.008148\n",
              "arrival_date_day_of_month         0.006130\n",
              "children                          0.005048\n",
              "stays_in_weekend_nights           0.001791\n",
              "Name: is_canceled, dtype: float64>"
            ]
          },
          "metadata": {
            "tags": []
          },
          "execution_count": 25
        }
      ]
    },
    {
      "cell_type": "markdown",
      "metadata": {
        "id": "bpqiOf6nlZmd",
        "colab_type": "text"
      },
      "source": [
        "Las cuatro variables más correlacionadas son:\n",
        "\n",
        "* lead_time                      0.293123\n",
        "* total_of_special_requests      0.234658\n",
        "* required_car_parking_spaces    0.195498\n",
        "* booking_changes                0.144381"
      ]
    },
    {
      "cell_type": "markdown",
      "metadata": {
        "id": "7T2WBLSkmF5Z",
        "colab_type": "text"
      },
      "source": [
        "### c.i. Cuantificación de Variables categóricas\n",
        "Luego probamos de hacer un análisis cuantificando las variables categóricas."
      ]
    },
    {
      "cell_type": "code",
      "metadata": {
        "id": "fmgz5H264HJz",
        "colab_type": "code",
        "colab": {}
      },
      "source": [
        "def quantify_room_type(room_type):\n",
        "    if room_type == 'A':\n",
        "        return 1\n",
        "    elif room_type == 'B':\n",
        "        return 2\n",
        "    elif room_type == 'C':\n",
        "        return 3\n",
        "    elif room_type == 'D':\n",
        "        return 4\n",
        "    elif room_type == 'E':\n",
        "        return 5\n",
        "    elif room_type == 'F':\n",
        "        return 6\n",
        "    elif room_type == 'G':\n",
        "        return 7\n",
        "    elif room_type == 'H':\n",
        "        return 8\n",
        "    elif room_type == 'I':\n",
        "        return 9\n",
        "    elif room_type == 'K':\n",
        "        return 10\n",
        "    elif room_type == 'L':\n",
        "        return 11\n",
        "    elif room_type == 'P':\n",
        "        return 12\n",
        "    else:\n",
        "        return 0\n",
        "\n",
        "def room_matches(this_room, other_room):\n",
        "  match = this_room.lower().replace('s/+',\"\") == other_room.lower().replace('s/+',\"\")\n",
        "  if(match):\n",
        "    return 1\n",
        "  else:\n",
        "    return 0\n",
        "\n",
        "  \n"
      ],
      "execution_count": 0,
      "outputs": []
    },
    {
      "cell_type": "code",
      "metadata": {
        "id": "h6Opu2bSkqmt",
        "colab_type": "code",
        "colab": {
          "base_uri": "https://localhost:8080/",
          "height": 377
        },
        "outputId": "e7c9ea13-98b6-49bb-c98f-99fc89669ed0"
      },
      "source": [
        "\n",
        "# 1. Para las categóricas, construyo variables 0 y 1\n",
        "  # Mínimo de frecuencia para incluir la columna: 0.5% del total\n",
        "min_dummy = len(df_categoricas)*0.005\n",
        "dummies_cat = pd.get_dummies(\n",
        "    df_categoricas, \n",
        "    columns=[\n",
        "      'market_segment', \n",
        "      'meal', \n",
        "      'agent', \n",
        "      'company', \n",
        "      'is_repeated_guest', \n",
        "      'deposit_type', \n",
        "      'customer_type', \n",
        "      'arrival_date_month'\n",
        "    ], \n",
        "    drop_first=False\n",
        ")\n",
        "dummies_cat = dummies_cat.iloc[:, 6:]\n",
        "corr_cat = dummies_cat[dummies_cat.columns[dummies_cat.sum()>min_dummy]]\n",
        "\n",
        "### 2. Para las ordinales, puedo construir variables numéricas asociadas. \n",
        "### Como una es el tipo de habitación pedido y otro es el tipo de habitación asignado, \n",
        "### voy a construir únicamente la numérica asociada al tipo de habitación asignado, \n",
        "### y luego voy a construir una columna dummy si el tipo de habitación pedida es el mismo o no que la asignada.\n",
        "df_ordinales['assigned_room_vl'] = df_ordinales.apply(lambda x: quantify_room_type(x['assigned_room_type']), axis=1)\n",
        "df_ordinales['requested_room_vl'] = df_ordinales.apply(lambda x: quantify_room_type(x['reserved_room_type']), axis=1)\n",
        "df_ordinales['did_room_match'] = df_ordinales.apply(lambda x: room_matches(x['reserved_room_type'],x['assigned_room_type']), axis=1)\n",
        "df_ordinales['booker_room_gain'] = df_ordinales.apply(lambda x: x['assigned_room_vl'] - x['requested_room_vl'], axis=1)\n",
        "\n",
        "corr_ord = df_ordinales[['assigned_room_vl', 'requested_room_vl','did_room_match', 'booker_room_gain']]\n",
        "\n",
        "# 3. Para las numéricas traigo todas\n",
        "\n",
        "corr_num = df_numericas"
      ],
      "execution_count": 22,
      "outputs": [
        {
          "output_type": "stream",
          "text": [
            "/usr/local/lib/python3.6/dist-packages/ipykernel_launcher.py:26: SettingWithCopyWarning: \n",
            "A value is trying to be set on a copy of a slice from a DataFrame.\n",
            "Try using .loc[row_indexer,col_indexer] = value instead\n",
            "\n",
            "See the caveats in the documentation: https://pandas.pydata.org/pandas-docs/stable/user_guide/indexing.html#returning-a-view-versus-a-copy\n",
            "/usr/local/lib/python3.6/dist-packages/ipykernel_launcher.py:27: SettingWithCopyWarning: \n",
            "A value is trying to be set on a copy of a slice from a DataFrame.\n",
            "Try using .loc[row_indexer,col_indexer] = value instead\n",
            "\n",
            "See the caveats in the documentation: https://pandas.pydata.org/pandas-docs/stable/user_guide/indexing.html#returning-a-view-versus-a-copy\n",
            "/usr/local/lib/python3.6/dist-packages/ipykernel_launcher.py:28: SettingWithCopyWarning: \n",
            "A value is trying to be set on a copy of a slice from a DataFrame.\n",
            "Try using .loc[row_indexer,col_indexer] = value instead\n",
            "\n",
            "See the caveats in the documentation: https://pandas.pydata.org/pandas-docs/stable/user_guide/indexing.html#returning-a-view-versus-a-copy\n",
            "/usr/local/lib/python3.6/dist-packages/ipykernel_launcher.py:29: SettingWithCopyWarning: \n",
            "A value is trying to be set on a copy of a slice from a DataFrame.\n",
            "Try using .loc[row_indexer,col_indexer] = value instead\n",
            "\n",
            "See the caveats in the documentation: https://pandas.pydata.org/pandas-docs/stable/user_guide/indexing.html#returning-a-view-versus-a-copy\n"
          ],
          "name": "stderr"
        }
      ]
    },
    {
      "cell_type": "code",
      "metadata": {
        "id": "umEKGJgyAEaq",
        "colab_type": "code",
        "colab": {
          "base_uri": "https://localhost:8080/",
          "height": 419
        },
        "outputId": "e7a2744f-cab2-4d98-c93a-574cf96f4034"
      },
      "source": [
        "corr_ord"
      ],
      "execution_count": 23,
      "outputs": [
        {
          "output_type": "execute_result",
          "data": {
            "text/html": [
              "<div>\n",
              "<style scoped>\n",
              "    .dataframe tbody tr th:only-of-type {\n",
              "        vertical-align: middle;\n",
              "    }\n",
              "\n",
              "    .dataframe tbody tr th {\n",
              "        vertical-align: top;\n",
              "    }\n",
              "\n",
              "    .dataframe thead th {\n",
              "        text-align: right;\n",
              "    }\n",
              "</style>\n",
              "<table border=\"1\" class=\"dataframe\">\n",
              "  <thead>\n",
              "    <tr style=\"text-align: right;\">\n",
              "      <th></th>\n",
              "      <th>assigned_room_vl</th>\n",
              "      <th>requested_room_vl</th>\n",
              "      <th>room_match</th>\n",
              "      <th>booker_room_gain</th>\n",
              "    </tr>\n",
              "  </thead>\n",
              "  <tbody>\n",
              "    <tr>\n",
              "      <th>0</th>\n",
              "      <td>3</td>\n",
              "      <td>3</td>\n",
              "      <td>1</td>\n",
              "      <td>0</td>\n",
              "    </tr>\n",
              "    <tr>\n",
              "      <th>1</th>\n",
              "      <td>3</td>\n",
              "      <td>3</td>\n",
              "      <td>1</td>\n",
              "      <td>0</td>\n",
              "    </tr>\n",
              "    <tr>\n",
              "      <th>2</th>\n",
              "      <td>3</td>\n",
              "      <td>1</td>\n",
              "      <td>0</td>\n",
              "      <td>2</td>\n",
              "    </tr>\n",
              "    <tr>\n",
              "      <th>3</th>\n",
              "      <td>1</td>\n",
              "      <td>1</td>\n",
              "      <td>1</td>\n",
              "      <td>0</td>\n",
              "    </tr>\n",
              "    <tr>\n",
              "      <th>4</th>\n",
              "      <td>1</td>\n",
              "      <td>1</td>\n",
              "      <td>1</td>\n",
              "      <td>0</td>\n",
              "    </tr>\n",
              "    <tr>\n",
              "      <th>...</th>\n",
              "      <td>...</td>\n",
              "      <td>...</td>\n",
              "      <td>...</td>\n",
              "      <td>...</td>\n",
              "    </tr>\n",
              "    <tr>\n",
              "      <th>119385</th>\n",
              "      <td>1</td>\n",
              "      <td>1</td>\n",
              "      <td>1</td>\n",
              "      <td>0</td>\n",
              "    </tr>\n",
              "    <tr>\n",
              "      <th>119386</th>\n",
              "      <td>5</td>\n",
              "      <td>5</td>\n",
              "      <td>1</td>\n",
              "      <td>0</td>\n",
              "    </tr>\n",
              "    <tr>\n",
              "      <th>119387</th>\n",
              "      <td>4</td>\n",
              "      <td>4</td>\n",
              "      <td>1</td>\n",
              "      <td>0</td>\n",
              "    </tr>\n",
              "    <tr>\n",
              "      <th>119388</th>\n",
              "      <td>1</td>\n",
              "      <td>1</td>\n",
              "      <td>1</td>\n",
              "      <td>0</td>\n",
              "    </tr>\n",
              "    <tr>\n",
              "      <th>119389</th>\n",
              "      <td>1</td>\n",
              "      <td>1</td>\n",
              "      <td>1</td>\n",
              "      <td>0</td>\n",
              "    </tr>\n",
              "  </tbody>\n",
              "</table>\n",
              "<p>119390 rows × 4 columns</p>\n",
              "</div>"
            ],
            "text/plain": [
              "        assigned_room_vl  requested_room_vl  room_match  booker_room_gain\n",
              "0                      3                  3           1                 0\n",
              "1                      3                  3           1                 0\n",
              "2                      3                  1           0                 2\n",
              "3                      1                  1           1                 0\n",
              "4                      1                  1           1                 0\n",
              "...                  ...                ...         ...               ...\n",
              "119385                 1                  1           1                 0\n",
              "119386                 5                  5           1                 0\n",
              "119387                 4                  4           1                 0\n",
              "119388                 1                  1           1                 0\n",
              "119389                 1                  1           1                 0\n",
              "\n",
              "[119390 rows x 4 columns]"
            ]
          },
          "metadata": {
            "tags": []
          },
          "execution_count": 23
        }
      ]
    },
    {
      "cell_type": "markdown",
      "metadata": {
        "id": "jB40KGtVmlyD",
        "colab_type": "text"
      },
      "source": [
        "Ahora junto todo y calculo las correlaciones"
      ]
    },
    {
      "cell_type": "code",
      "metadata": {
        "id": "kQxFCiqTmmgr",
        "colab_type": "code",
        "colab": {
          "base_uri": "https://localhost:8080/",
          "height": 102
        },
        "outputId": "6349be4c-4094-44c4-c98d-d2e0f658f850"
      },
      "source": [
        "df_correlations = pd.concat([corr_num,corr_ord,corr_cat],axis=1)\n",
        "df_correlations\n",
        "df_correlations.loc[:,'is_canceled'] = df_categoricas['is_canceled'] \n",
        "corr = df_correlations[df_correlations.columns[1:]].corr()['is_canceled'][:-1]\n",
        "squaredCorrs = corr**2 # Elevo al cuadrado para quedarme con las primeras\n",
        "squaredCorrs.sort_values(ascending=False)[0:4]"
      ],
      "execution_count": 24,
      "outputs": [
        {
          "output_type": "execute_result",
          "data": {
            "text/plain": [
              "deposit_type_Non Refund      0.231801\n",
              "deposit_type_No Deposit      0.228399\n",
              "room_match                   0.061390\n",
              "total_of_special_requests    0.055064\n",
              "Name: is_canceled, dtype: float64"
            ]
          },
          "metadata": {
            "tags": []
          },
          "execution_count": 24
        }
      ]
    },
    {
      "cell_type": "markdown",
      "metadata": {
        "id": "Zz6yiICTmuYT",
        "colab_type": "text"
      },
      "source": [
        "Me quedo con las primeras cuatro"
      ]
    },
    {
      "cell_type": "code",
      "metadata": {
        "id": "6TICjXs6mzfH",
        "colab_type": "code",
        "colab": {}
      },
      "source": [
        "#import matplotlib.pyplot as plt\n",
        "#import numpy as np\n",
        "\n",
        "df_first4 = df_correlations[['deposit_type_Non Refund', 'deposit_type_No Deposit', 'assignedWhichReserved', 'total_of_special_requests', 'is_canceled']]\n",
        "\n",
        "matriz_nonRefund = pd.crosstab(df_correlations['deposit_type_Non Refund'], bookings_df['is_canceled'], rownames=['Tipo de depósito Non Refund'], colnames=['Cancelacion'])\n",
        "matriz_noDeposit = pd.crosstab(df_correlations['deposit_type_No Deposit'], bookings_df['is_canceled'], rownames=['Tipo de depósito No Deposit'], colnames=['Cancelacion'])\n",
        "matriz_assignedWhich = pd.crosstab(df_correlations['assignedWhichReserved'], bookings_df['is_canceled'], rownames=['Se les asignó lo que solicitaron'], colnames=['Cancelacion'])\n",
        "matriz_specialRequest = pd.crosstab(df_correlations['total_of_special_requests'], bookings_df['is_canceled'], rownames=['Pedidos especiales'], colnames=['Cancelacion'])\n",
        "matriz_specialRequest"
      ],
      "execution_count": 0,
      "outputs": []
    },
    {
      "cell_type": "markdown",
      "metadata": {
        "id": "VB47rPDynY9P",
        "colab_type": "text"
      },
      "source": [
        "## d. Atributos a emplear como variables predictoras para cancelación, con antelación.\n",
        "\n",
        "Las variables de mayor correlación que tenemos con antelación son:\n",
        "* lead_time                      0.293123\n",
        "* total_of_special_requests      0.234658\n",
        "* required_car_parking_spaces    0.195498\n",
        "* previous_cancellations         0.110133\n",
        "* is_repeated_guest              0.084793\n",
        "\n",
        "\n",
        "La siguiente variable podríamos no tener información completa hasta que llegue el momento de check-in\n",
        "* booking_changes                0.144381\n",
        "\n",
        "\n",
        "\n",
        "\n",
        "Por ver las categóricas con la teoría de árboles."
      ]
    },
    {
      "cell_type": "code",
      "metadata": {
        "id": "nh3CO3uvnaP3",
        "colab_type": "code",
        "colab": {}
      },
      "source": [
        "pip install info_gain"
      ],
      "execution_count": 0,
      "outputs": []
    },
    {
      "cell_type": "code",
      "metadata": {
        "id": "L2M6Ia4wozk0",
        "colab_type": "code",
        "colab": {}
      },
      "source": [
        "from info_gain import info_gain\n",
        "ig=pd.DataFrame(columns=['Atributo', 'Information Gain ratio'])\n",
        "for i in range(len(bookings_df.columns)):\n",
        "  print(bookings_df.columns[i],info_gain.info_gain_ratio(bookings_df.iloc[0:31,1],bookings_df.iloc[0:31,i]))  \n",
        "  ig.iloc[i] = [bookings_df.columns[i]] + [info_gain.info_gain_ratio(bookings_df.iloc[0:31,1],bookings_df.iloc[0:31,i])]"
      ],
      "execution_count": 0,
      "outputs": []
    },
    {
      "cell_type": "code",
      "metadata": {
        "id": "2OCjF5-cpX9c",
        "colab_type": "code",
        "colab": {}
      },
      "source": [
        "ig=pd.DataFrame(columns=['Atributo', 'Information Gain ratio'])\n",
        "ig.append(['1','10'])\n",
        "print(ig)"
      ],
      "execution_count": 0,
      "outputs": []
    },
    {
      "cell_type": "markdown",
      "metadata": {
        "id": "p1NdKHJCoF2s",
        "colab_type": "text"
      },
      "source": [
        "## e. Se encuentra balanceado el set\n",
        "Hay casi el doble de reservas no canceladas frente a las canceladas.\n",
        "\n",
        "Todavía no lo vimos en clase.\n"
      ]
    },
    {
      "cell_type": "markdown",
      "metadata": {
        "id": "-JOyg_GFnQyv",
        "colab_type": "text"
      },
      "source": [
        "# Extras & Ayuda Gráfica"
      ]
    },
    {
      "cell_type": "code",
      "metadata": {
        "id": "0XlXMZmxVvwu",
        "colab_type": "code",
        "outputId": "a5752c10-134f-4922-c416-2cfce205b39d",
        "colab": {
          "base_uri": "https://localhost:8080/",
          "height": 71
        }
      },
      "source": [
        "# Macros para ayudar a graficar distintos datos\n",
        "from palettable.colorbrewer.qualitative import Pastel1_9\n",
        "import matplotlib.pyplot as plt\n",
        "import matplotlib.patches\n",
        "import seaborn as sns\n",
        "\n",
        "def plot_donut(dataframe, column, title):\n",
        "  donut = plt.Circle( (0,0), 0.7, color='white')\n",
        "\n",
        "  data = dataframe[column].value_counts(normalize=True)\n",
        "  labels = data.index.values.tolist()\n",
        "  legend_labels = ['%s - %2.2f %%' % (l, s*100) for l, s in zip(labels, data)]\n",
        "\n",
        "  plt.title(title)\n",
        "  plt.gca().axis(\"equal\")\n",
        "  plt.gca().add_artist(donut)\n",
        "  plt.pie(\n",
        "    data, \n",
        "    startangle=90, \n",
        "    colors=Pastel1_9.hex_colors,\n",
        "    wedgeprops = { 'linewidth': 2, \"edgecolor\" :\"white\" }\n",
        "  )\n",
        "\n",
        "  handles = []\n",
        "  for i, l in enumerate(labels):\n",
        "      handles.append(matplotlib.patches.Patch(color=Pastel1_9.hex_colors[i], label=l))\n",
        "  \n",
        "  plt.legend(handles,legend_labels, bbox_to_anchor=(0.85,1.025), loc=\"upper left\")\n",
        "  plt.subplots_adjust(left=0.1, bottom=0.1, right=0.75)\n",
        "  plt.show()\n",
        "\n",
        "def plot_bar_counts(dataframe, column, title):\n",
        "  data = dataframe[column].value_counts()\n",
        "  labels = data.index.values.tolist()\n",
        "  legend_labels = ['%s - %s' % (l, s) for l, s in zip(labels, data)]\n",
        "\n",
        "  y_pos = np.arange(len(labels))\n",
        "\n",
        "  plt.bar(y_pos, data)\n",
        "\n",
        "  plt.xticks(y_pos, legend_labels, color='orange')\n",
        "  plt.yticks(color='orange')\n",
        "\n",
        "  plt.show()\n",
        "\n",
        "def histogram(dataframe, column, title):\n",
        "  f, (ax_box, ax_hist) = plt.subplots(\n",
        "    2, \n",
        "    sharex=True, \n",
        "    gridspec_kw={\"height_ratios\": (.15, .85)}\n",
        "  )\n",
        "\n",
        "  # Add a graph in each part\n",
        "  sns.boxplot(dataframe[column], ax=ax_box)\n",
        "  sns.distplot(dataframe[column], ax=ax_hist)\n",
        "  \n",
        "  # Remove x axis name for the boxplot\n",
        "  ax_box.set(xlabel='')"
      ],
      "execution_count": 26,
      "outputs": [
        {
          "output_type": "stream",
          "text": [
            "/usr/local/lib/python3.6/dist-packages/statsmodels/tools/_testing.py:19: FutureWarning: pandas.util.testing is deprecated. Use the functions in the public API at pandas.testing instead.\n",
            "  import pandas.util.testing as tm\n"
          ],
          "name": "stderr"
        }
      ]
    },
    {
      "cell_type": "markdown",
      "metadata": {
        "id": "wY6X3ctNqlfc",
        "colab_type": "text"
      },
      "source": [
        "## Segmentación Reservas Canceladas & Confirmadas"
      ]
    },
    {
      "cell_type": "code",
      "metadata": {
        "id": "266jZJUDp7RF",
        "colab_type": "code",
        "colab": {}
      },
      "source": [
        "# Segmentar en canceladas & confirmadas\n",
        "canceled_df = bookings_df[bookings_df['is_canceled'] == 1]\n",
        "confirmed_df = bookings_df[bookings_df['is_canceled'] == 0]"
      ],
      "execution_count": 0,
      "outputs": []
    },
    {
      "cell_type": "markdown",
      "metadata": {
        "id": "BPAiYm08quI4",
        "colab_type": "text"
      },
      "source": [
        "## Gráficos"
      ]
    },
    {
      "cell_type": "markdown",
      "metadata": {
        "id": "Vc4TMipuqwfG",
        "colab_type": "text"
      },
      "source": [
        "### Status de las reservas"
      ]
    },
    {
      "cell_type": "code",
      "metadata": {
        "id": "pFhNSgx8Y8f0",
        "colab_type": "code",
        "colab": {}
      },
      "source": [
        "# Status de reservas\n",
        "plot_donut(bookings_df, 'reservation_status', 'Reservas totales por status')\n",
        "plot_donut(canceled_df, 'reservation_status', 'Reservas canceladas por status')\n",
        "\n",
        "plot_bar_counts(canceled_df, 'reservation_status', 'Reservas canceladas por status')\n"
      ],
      "execution_count": 0,
      "outputs": []
    },
    {
      "cell_type": "markdown",
      "metadata": {
        "id": "nb8885X7q1vW",
        "colab_type": "text"
      },
      "source": [
        "### Reservas por Tipo de Hotel"
      ]
    },
    {
      "cell_type": "code",
      "metadata": {
        "id": "lQVgQlQ9YayF",
        "colab_type": "code",
        "colab": {}
      },
      "source": [
        "# Tipo de hotel por reservas \n",
        "plot_donut(bookings_df, 'hotel', 'Reservas totales por hotel')\n",
        "plot_donut(canceled_df, 'hotel', 'Reservas canceladas por hotel')\n",
        "plot_donut(confirmed_df, 'hotel', 'Reservas confirmadas por hotel')"
      ],
      "execution_count": 0,
      "outputs": []
    },
    {
      "cell_type": "markdown",
      "metadata": {
        "id": "8E87NHW6q6c5",
        "colab_type": "text"
      },
      "source": [
        "### Reservas por Tipo de Cliente"
      ]
    },
    {
      "cell_type": "code",
      "metadata": {
        "id": "VXQ2sKPRafyl",
        "colab_type": "code",
        "colab": {}
      },
      "source": [
        "# Tipo de cliente de reservas\n",
        "plot_donut(bookings_df, 'customer_type', 'Reservas totales por tipo de cliente')\n",
        "plot_donut(canceled_df, 'customer_type', 'Reservas canceladas por tipo de cliente')\n",
        "\n",
        "\n",
        "plot_donut(canceled_df, 'is_repeated_guest', 'Reservas canceladas: clientes repetidos')\n",
        "plot_donut(canceled_df, 'requested_room_success', 'Reservas canceladas: exito en conseguir la misma habitación')\n",
        "\n",
        "histogram(canceled_df, 'previous_cancellations', 'Reservas canceladas: cancelaciones previas')\n",
        "histogram(canceled_df, 'previous_bookings_not_canceled', 'Reservas canceladas: confirmaciones previas a la primer cancelación')\n",
        "histogram(canceled_df, 'total_of_special_requests', 'Reservas canceladas: pedidos extras')\n",
        "\n",
        "\n"
      ],
      "execution_count": 0,
      "outputs": []
    },
    {
      "cell_type": "markdown",
      "metadata": {
        "id": "OGCfvB9LrCMd",
        "colab_type": "text"
      },
      "source": [
        "### Segmento de Mercado y Canales de Distribución"
      ]
    },
    {
      "cell_type": "code",
      "metadata": {
        "id": "7MMoe13cavFq",
        "colab_type": "code",
        "colab": {}
      },
      "source": [
        "# Segmento de mercado de reservas\n",
        "plot_donut(bookings_df, 'market_segment', 'Reservas totales por segmento de mercado')\n",
        "plot_donut(canceled_df, 'market_segment', 'Reservas canceladas por segmento de mercado')\n",
        "plot_donut(confirmed_df, 'market_segment', 'Reservas confirmadas por segmento de mercado')\n",
        "\n",
        "# canal de distribución de reservas\n",
        "plot_donut(bookings_df, 'distribution_channel', 'Reservas totales por canal de distribución')\n",
        "plot_donut(canceled_df, 'distribution_channel', 'Reservas canceladas por canal de distribución')\n",
        "plot_donut(confirmed_df, 'distribution_channel', 'Reservas confirmadas por canal de distribución')"
      ],
      "execution_count": 0,
      "outputs": []
    },
    {
      "cell_type": "markdown",
      "metadata": {
        "id": "j50o2zZQB0bk",
        "colab_type": "text"
      },
      "source": [
        "### Tipo de Depósito"
      ]
    },
    {
      "cell_type": "code",
      "metadata": {
        "id": "ljWOzlYDB3a4",
        "colab_type": "code",
        "colab": {
          "base_uri": "https://localhost:8080/",
          "height": 782
        },
        "outputId": "546f8fe9-d9d7-4818-9ae4-c0f982a95556"
      },
      "source": [
        "# Tipo de Depósito\n",
        "plot_donut(bookings_df, 'deposit_type', 'Reservas totales por tipo de depósito')\n",
        "plot_donut(canceled_df, 'deposit_type', 'Reservas canceladas por tipo de depósito')\n",
        "plot_donut(confirmed_df, 'deposit_type', 'Reservas confirmadas por tipo de depósito')"
      ],
      "execution_count": 28,
      "outputs": [
        {
          "output_type": "display_data",
          "data": {
            "image/png": "[encoded data removed]",
            "text/plain": [
              "<Figure size 432x288 with 1 Axes>"
            ]
          },
          "metadata": {
            "tags": []
          }
        },
        {
          "output_type": "display_data",
          "data": {
            "image/png": "[encoded data removed]",
            "text/plain": [
              "<Figure size 432x288 with 1 Axes>"
            ]
          },
          "metadata": {
            "tags": []
          }
        },
        {
          "output_type": "display_data",
          "data": {
            "image/png": "[encoded data removed]",
            "text/plain": [
              "<Figure size 432x288 with 1 Axes>"
            ]
          },
          "metadata": {
            "tags": []
          }
        }
      ]
    }
  ]
}